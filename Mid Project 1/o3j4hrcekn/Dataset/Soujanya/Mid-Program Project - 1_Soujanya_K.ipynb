{
 "cells": [
  {
   "cell_type": "code",
   "execution_count": 1,
   "metadata": {},
   "outputs": [],
   "source": [
    "import pandas as pd\n",
    "import numpy as np\n",
    "\n",
    "import calendar\n",
    "import datetime\n",
    "\n",
    "import matplotlib.pyplot as plt\n",
    "import seaborn as sns\n",
    "\n",
    "from sklearn.preprocessing import LabelEncoder\n",
    "\n",
    "from sklearn.linear_model import LinearRegression\n",
    "from sklearn.linear_model import LogisticRegression\n",
    "from sklearn.tree import DecisionTreeClassifier\n",
    "from sklearn.neighbors import KNeighborsClassifier\n",
    "from sklearn.discriminant_analysis import LinearDiscriminantAnalysis\n",
    "from sklearn.naive_bayes import GaussianNB\n",
    "from sklearn.svm import SVC\n",
    "\n",
    "from sklearn import model_selection\n",
    "from sklearn.model_selection import GridSearchCV,KFold,train_test_split,cross_val_score,cross_validate\n",
    "\n",
    "from sklearn.ensemble import AdaBoostClassifier\n",
    "from sklearn.ensemble import RandomForestRegressor\n",
    "from sklearn.ensemble import ExtraTreesClassifier\n",
    "from sklearn.ensemble import RandomForestClassifier\n",
    "\n",
    "from sklearn.preprocessing import PolynomialFeatures\n",
    "\n",
    "from sklearn.metrics import mean_squared_error, r2_score,recall_score,mean_squared_error\n",
    "\n",
    "%matplotlib inline \n",
    "import warnings\n",
    "from sklearn.exceptions import DataConversionWarning\n",
    "warnings.filterwarnings(action='ignore', category=DataConversionWarning)\n",
    "warnings.filterwarnings('ignore')"
   ]
  },
  {
   "cell_type": "code",
   "execution_count": 2,
   "metadata": {},
   "outputs": [],
   "source": [
    "train=pd.read_csv(r\"Dataset/train.csv\")\n",
    "train_target=pd.read_csv(r\"Dataset/train_label.csv\",header=None)\n",
    "train['Total_booking']=train_target"
   ]
  },
  {
   "cell_type": "code",
   "execution_count": 3,
   "metadata": {},
   "outputs": [
    {
     "data": {
      "text/html": [
       "<div>\n",
       "<style scoped>\n",
       "    .dataframe tbody tr th:only-of-type {\n",
       "        vertical-align: middle;\n",
       "    }\n",
       "\n",
       "    .dataframe tbody tr th {\n",
       "        vertical-align: top;\n",
       "    }\n",
       "\n",
       "    .dataframe thead th {\n",
       "        text-align: right;\n",
       "    }\n",
       "</style>\n",
       "<table border=\"1\" class=\"dataframe\">\n",
       "  <thead>\n",
       "    <tr style=\"text-align: right;\">\n",
       "      <th></th>\n",
       "      <th>datetime</th>\n",
       "      <th>season</th>\n",
       "      <th>holiday</th>\n",
       "      <th>workingday</th>\n",
       "      <th>weather</th>\n",
       "      <th>temp</th>\n",
       "      <th>atemp</th>\n",
       "      <th>humidity</th>\n",
       "      <th>windspeed</th>\n",
       "      <th>Total_booking</th>\n",
       "    </tr>\n",
       "  </thead>\n",
       "  <tbody>\n",
       "    <tr>\n",
       "      <th>0</th>\n",
       "      <td>5/2/2012 19:00</td>\n",
       "      <td>Summer</td>\n",
       "      <td>0</td>\n",
       "      <td>1</td>\n",
       "      <td>Clear + Few clouds</td>\n",
       "      <td>22.14</td>\n",
       "      <td>25.76</td>\n",
       "      <td>77</td>\n",
       "      <td>16.9979</td>\n",
       "      <td>504</td>\n",
       "    </tr>\n",
       "  </tbody>\n",
       "</table>\n",
       "</div>"
      ],
      "text/plain": [
       "         datetime  season  holiday  workingday              weather   temp  \\\n",
       "0  5/2/2012 19:00  Summer        0           1   Clear + Few clouds  22.14   \n",
       "\n",
       "   atemp  humidity  windspeed  Total_booking  \n",
       "0  25.76        77    16.9979            504  "
      ]
     },
     "execution_count": 3,
     "metadata": {},
     "output_type": "execute_result"
    }
   ],
   "source": [
    "train.head(1)"
   ]
  },
  {
   "cell_type": "code",
   "execution_count": 4,
   "metadata": {},
   "outputs": [
    {
     "data": {
      "text/html": [
       "<div>\n",
       "<style scoped>\n",
       "    .dataframe tbody tr th:only-of-type {\n",
       "        vertical-align: middle;\n",
       "    }\n",
       "\n",
       "    .dataframe tbody tr th {\n",
       "        vertical-align: top;\n",
       "    }\n",
       "\n",
       "    .dataframe thead th {\n",
       "        text-align: right;\n",
       "    }\n",
       "</style>\n",
       "<table border=\"1\" class=\"dataframe\">\n",
       "  <thead>\n",
       "    <tr style=\"text-align: right;\">\n",
       "      <th></th>\n",
       "      <th>holiday</th>\n",
       "      <th>workingday</th>\n",
       "      <th>temp</th>\n",
       "      <th>atemp</th>\n",
       "      <th>humidity</th>\n",
       "      <th>windspeed</th>\n",
       "      <th>Total_booking</th>\n",
       "    </tr>\n",
       "  </thead>\n",
       "  <tbody>\n",
       "    <tr>\n",
       "      <th>count</th>\n",
       "      <td>8708.000000</td>\n",
       "      <td>8708.000000</td>\n",
       "      <td>8708.000000</td>\n",
       "      <td>8708.000000</td>\n",
       "      <td>8708.000000</td>\n",
       "      <td>8708.000000</td>\n",
       "      <td>8708.000000</td>\n",
       "    </tr>\n",
       "    <tr>\n",
       "      <th>mean</th>\n",
       "      <td>0.028480</td>\n",
       "      <td>0.680294</td>\n",
       "      <td>20.243020</td>\n",
       "      <td>23.655552</td>\n",
       "      <td>61.649173</td>\n",
       "      <td>12.843891</td>\n",
       "      <td>193.007005</td>\n",
       "    </tr>\n",
       "    <tr>\n",
       "      <th>std</th>\n",
       "      <td>0.166348</td>\n",
       "      <td>0.466389</td>\n",
       "      <td>7.813494</td>\n",
       "      <td>8.501107</td>\n",
       "      <td>19.199578</td>\n",
       "      <td>8.190314</td>\n",
       "      <td>181.552211</td>\n",
       "    </tr>\n",
       "    <tr>\n",
       "      <th>min</th>\n",
       "      <td>0.000000</td>\n",
       "      <td>0.000000</td>\n",
       "      <td>0.820000</td>\n",
       "      <td>0.760000</td>\n",
       "      <td>0.000000</td>\n",
       "      <td>0.000000</td>\n",
       "      <td>1.000000</td>\n",
       "    </tr>\n",
       "    <tr>\n",
       "      <th>25%</th>\n",
       "      <td>0.000000</td>\n",
       "      <td>0.000000</td>\n",
       "      <td>13.940000</td>\n",
       "      <td>16.665000</td>\n",
       "      <td>46.000000</td>\n",
       "      <td>7.001500</td>\n",
       "      <td>43.000000</td>\n",
       "    </tr>\n",
       "    <tr>\n",
       "      <th>50%</th>\n",
       "      <td>0.000000</td>\n",
       "      <td>1.000000</td>\n",
       "      <td>20.500000</td>\n",
       "      <td>24.240000</td>\n",
       "      <td>61.000000</td>\n",
       "      <td>12.998000</td>\n",
       "      <td>148.000000</td>\n",
       "    </tr>\n",
       "    <tr>\n",
       "      <th>75%</th>\n",
       "      <td>0.000000</td>\n",
       "      <td>1.000000</td>\n",
       "      <td>26.240000</td>\n",
       "      <td>31.060000</td>\n",
       "      <td>77.000000</td>\n",
       "      <td>16.997900</td>\n",
       "      <td>286.000000</td>\n",
       "    </tr>\n",
       "    <tr>\n",
       "      <th>max</th>\n",
       "      <td>1.000000</td>\n",
       "      <td>1.000000</td>\n",
       "      <td>41.000000</td>\n",
       "      <td>45.455000</td>\n",
       "      <td>100.000000</td>\n",
       "      <td>56.996900</td>\n",
       "      <td>977.000000</td>\n",
       "    </tr>\n",
       "  </tbody>\n",
       "</table>\n",
       "</div>"
      ],
      "text/plain": [
       "           holiday   workingday         temp        atemp     humidity  \\\n",
       "count  8708.000000  8708.000000  8708.000000  8708.000000  8708.000000   \n",
       "mean      0.028480     0.680294    20.243020    23.655552    61.649173   \n",
       "std       0.166348     0.466389     7.813494     8.501107    19.199578   \n",
       "min       0.000000     0.000000     0.820000     0.760000     0.000000   \n",
       "25%       0.000000     0.000000    13.940000    16.665000    46.000000   \n",
       "50%       0.000000     1.000000    20.500000    24.240000    61.000000   \n",
       "75%       0.000000     1.000000    26.240000    31.060000    77.000000   \n",
       "max       1.000000     1.000000    41.000000    45.455000   100.000000   \n",
       "\n",
       "         windspeed  Total_booking  \n",
       "count  8708.000000    8708.000000  \n",
       "mean     12.843891     193.007005  \n",
       "std       8.190314     181.552211  \n",
       "min       0.000000       1.000000  \n",
       "25%       7.001500      43.000000  \n",
       "50%      12.998000     148.000000  \n",
       "75%      16.997900     286.000000  \n",
       "max      56.996900     977.000000  "
      ]
     },
     "execution_count": 4,
     "metadata": {},
     "output_type": "execute_result"
    }
   ],
   "source": [
    "train.describe()"
   ]
  },
  {
   "cell_type": "code",
   "execution_count": 5,
   "metadata": {},
   "outputs": [
    {
     "data": {
      "text/plain": [
       "datetime          object\n",
       "season            object\n",
       "holiday            int64\n",
       "workingday         int64\n",
       "weather           object\n",
       "temp             float64\n",
       "atemp            float64\n",
       "humidity           int64\n",
       "windspeed        float64\n",
       "Total_booking      int64\n",
       "dtype: object"
      ]
     },
     "execution_count": 5,
     "metadata": {},
     "output_type": "execute_result"
    }
   ],
   "source": [
    "train.dtypes"
   ]
  },
  {
   "cell_type": "markdown",
   "metadata": {},
   "source": [
    "# 1.Removing Outliers using standard Deviation only target variable"
   ]
  },
  {
   "cell_type": "code",
   "execution_count": 6,
   "metadata": {},
   "outputs": [
    {
     "name": "stdout",
     "output_type": "stream",
     "text": [
      "atemp column outliers : 0\n",
      "temp column outliers : 0\n",
      "humidity column outliers : 18\n",
      "windspeed column outliers : 48\n"
     ]
    }
   ],
   "source": [
    "import numpy as np\n",
    "import pandas as pd\n",
    "outliers=[]\n",
    "\n",
    "def detect_outlier(data,column_name):\n",
    "    data_std = data[column_name].std()\n",
    "    data_mean = np.mean(data[column_name])\n",
    "    outliers_cut_off = data_std * 3\n",
    "    \n",
    "    lower_limit  = data_mean - outliers_cut_off \n",
    "    upper_limit = data_mean + outliers_cut_off \n",
    "    \n",
    "    \n",
    "    # Generate outliers\n",
    "    outliers=[]\n",
    "    index_outliers=[]\n",
    "    for outlier in data[column_name]:\n",
    "        if outlier > upper_limit or outlier < lower_limit:\n",
    "            outliers.append(outlier)\n",
    "    \n",
    "    return outliers\n",
    "\n",
    "print(\"atemp column outliers :\",len(detect_outlier(train,'atemp')))\n",
    "print(\"temp column outliers :\",len(detect_outlier(train,'temp')))\n",
    "print(\"humidity column outliers :\",len(detect_outlier(train,'humidity')))\n",
    "print(\"windspeed column outliers :\",len(detect_outlier(train,'windspeed')))"
   ]
  },
  {
   "cell_type": "markdown",
   "metadata": {},
   "source": [
    "### Replacing outliers with mean"
   ]
  },
  {
   "cell_type": "code",
   "execution_count": 7,
   "metadata": {},
   "outputs": [],
   "source": [
    "humidity_mean=np.mean(train['humidity'])\n",
    "humidity_std = train['humidity'].std()\n",
    "outliers_cut_off=humidity_std * 3\n",
    "lower_limit  = humidity_mean - outliers_cut_off \n",
    "upper_limit = humidity_mean + outliers_cut_off\n",
    "\n",
    "train['humidity'] = train['humidity'].apply(lambda x : humidity_mean if x > upper_limit or x < lower_limit else x )\n",
    "\n",
    "windspeed_mean=np.mean(train['windspeed'])\n",
    "windspeed_std = train['windspeed'].std()\n",
    "outliers_cut_off=windspeed_std * 3\n",
    "lower_limit  = windspeed_mean - outliers_cut_off \n",
    "upper_limit = windspeed_mean + outliers_cut_off\n",
    "\n",
    "train['windspeed'] = train['windspeed'].apply(lambda x : windspeed_mean if x > upper_limit or x < lower_limit else x )"
   ]
  },
  {
   "cell_type": "markdown",
   "metadata": {},
   "source": [
    "."
   ]
  },
  {
   "cell_type": "markdown",
   "metadata": {},
   "source": [
    "# 2.Missing Value Analysis"
   ]
  },
  {
   "cell_type": "code",
   "execution_count": 8,
   "metadata": {},
   "outputs": [
    {
     "data": {
      "text/plain": [
       "datetime         0\n",
       "season           0\n",
       "holiday          0\n",
       "workingday       0\n",
       "weather          0\n",
       "temp             0\n",
       "atemp            0\n",
       "humidity         0\n",
       "windspeed        0\n",
       "Total_booking    0\n",
       "dtype: int64"
      ]
     },
     "execution_count": 8,
     "metadata": {},
     "output_type": "execute_result"
    }
   ],
   "source": [
    "train.isnull().sum()"
   ]
  },
  {
   "cell_type": "markdown",
   "metadata": {},
   "source": [
    "#### AS there are no missing values, the data remains same. "
   ]
  },
  {
   "cell_type": "markdown",
   "metadata": {},
   "source": [
    "# 3.Correlation Analysis"
   ]
  },
  {
   "cell_type": "code",
   "execution_count": 9,
   "metadata": {},
   "outputs": [
    {
     "data": {
      "image/png": "[encoded data removed]",
      "text/plain": [
       "<Figure size 864x720 with 2 Axes>"
      ]
     },
     "metadata": {
      "needs_background": "light"
     },
     "output_type": "display_data"
    }
   ],
   "source": [
    "plt.figure(figsize=(12,10))\n",
    "cor = train.corr()\n",
    "sns.heatmap(cor, annot=True, cmap=plt.cm.Reds)\n",
    "plt.show()"
   ]
  },
  {
   "cell_type": "code",
   "execution_count": 10,
   "metadata": {},
   "outputs": [
    {
     "data": {
      "text/html": [
       "<div>\n",
       "<style scoped>\n",
       "    .dataframe tbody tr th:only-of-type {\n",
       "        vertical-align: middle;\n",
       "    }\n",
       "\n",
       "    .dataframe tbody tr th {\n",
       "        vertical-align: top;\n",
       "    }\n",
       "\n",
       "    .dataframe thead th {\n",
       "        text-align: right;\n",
       "    }\n",
       "</style>\n",
       "<table border=\"1\" class=\"dataframe\">\n",
       "  <thead>\n",
       "    <tr style=\"text-align: right;\">\n",
       "      <th></th>\n",
       "      <th>holiday</th>\n",
       "      <th>workingday</th>\n",
       "      <th>temp</th>\n",
       "      <th>atemp</th>\n",
       "      <th>humidity</th>\n",
       "      <th>windspeed</th>\n",
       "      <th>Total_booking</th>\n",
       "    </tr>\n",
       "  </thead>\n",
       "  <tbody>\n",
       "    <tr>\n",
       "      <th>holiday</th>\n",
       "      <td>1.000000</td>\n",
       "      <td>-0.249755</td>\n",
       "      <td>-0.000165</td>\n",
       "      <td>-0.005526</td>\n",
       "      <td>-0.005765</td>\n",
       "      <td>0.011886</td>\n",
       "      <td>-0.004391</td>\n",
       "    </tr>\n",
       "    <tr>\n",
       "      <th>workingday</th>\n",
       "      <td>-0.249755</td>\n",
       "      <td>1.000000</td>\n",
       "      <td>0.032189</td>\n",
       "      <td>0.026168</td>\n",
       "      <td>-0.004783</td>\n",
       "      <td>0.015633</td>\n",
       "      <td>0.012285</td>\n",
       "    </tr>\n",
       "    <tr>\n",
       "      <th>temp</th>\n",
       "      <td>-0.000165</td>\n",
       "      <td>0.032189</td>\n",
       "      <td>1.000000</td>\n",
       "      <td>0.984035</td>\n",
       "      <td>-0.070518</td>\n",
       "      <td>-0.019887</td>\n",
       "      <td>0.397456</td>\n",
       "    </tr>\n",
       "    <tr>\n",
       "      <th>atemp</th>\n",
       "      <td>-0.005526</td>\n",
       "      <td>0.026168</td>\n",
       "      <td>0.984035</td>\n",
       "      <td>1.000000</td>\n",
       "      <td>-0.047711</td>\n",
       "      <td>-0.060410</td>\n",
       "      <td>0.392754</td>\n",
       "    </tr>\n",
       "    <tr>\n",
       "      <th>humidity</th>\n",
       "      <td>-0.005765</td>\n",
       "      <td>-0.004783</td>\n",
       "      <td>-0.070518</td>\n",
       "      <td>-0.047711</td>\n",
       "      <td>1.000000</td>\n",
       "      <td>-0.314909</td>\n",
       "      <td>-0.317318</td>\n",
       "    </tr>\n",
       "    <tr>\n",
       "      <th>windspeed</th>\n",
       "      <td>0.011886</td>\n",
       "      <td>0.015633</td>\n",
       "      <td>-0.019887</td>\n",
       "      <td>-0.060410</td>\n",
       "      <td>-0.314909</td>\n",
       "      <td>1.000000</td>\n",
       "      <td>0.099752</td>\n",
       "    </tr>\n",
       "    <tr>\n",
       "      <th>Total_booking</th>\n",
       "      <td>-0.004391</td>\n",
       "      <td>0.012285</td>\n",
       "      <td>0.397456</td>\n",
       "      <td>0.392754</td>\n",
       "      <td>-0.317318</td>\n",
       "      <td>0.099752</td>\n",
       "      <td>1.000000</td>\n",
       "    </tr>\n",
       "  </tbody>\n",
       "</table>\n",
       "</div>"
      ],
      "text/plain": [
       "                holiday  workingday      temp     atemp  humidity  windspeed  \\\n",
       "holiday        1.000000   -0.249755 -0.000165 -0.005526 -0.005765   0.011886   \n",
       "workingday    -0.249755    1.000000  0.032189  0.026168 -0.004783   0.015633   \n",
       "temp          -0.000165    0.032189  1.000000  0.984035 -0.070518  -0.019887   \n",
       "atemp         -0.005526    0.026168  0.984035  1.000000 -0.047711  -0.060410   \n",
       "humidity      -0.005765   -0.004783 -0.070518 -0.047711  1.000000  -0.314909   \n",
       "windspeed      0.011886    0.015633 -0.019887 -0.060410 -0.314909   1.000000   \n",
       "Total_booking -0.004391    0.012285  0.397456  0.392754 -0.317318   0.099752   \n",
       "\n",
       "               Total_booking  \n",
       "holiday            -0.004391  \n",
       "workingday          0.012285  \n",
       "temp                0.397456  \n",
       "atemp               0.392754  \n",
       "humidity           -0.317318  \n",
       "windspeed           0.099752  \n",
       "Total_booking       1.000000  "
      ]
     },
     "execution_count": 10,
     "metadata": {},
     "output_type": "execute_result"
    }
   ],
   "source": [
    "train.corr()"
   ]
  },
  {
   "cell_type": "markdown",
   "metadata": {},
   "source": [
    "#### 1. We can observe that humidity has negative co-relation with total booking which tells us that if humidity increase cab bookings decreases. \n",
    "#### 2. The columns \"temp\" and \"atemp\" has highest posive co-relation with total booking.\n",
    "#### 3. Windspeed also has a positive co-relation with total_booking.\n",
    "#### 4. \"Workingday\" and \"holiday\" has negative co-relation which tell us that there not many holidays during the week. \n",
    "#### 5. The columns \"temp\" and \"atemp\" are highly co-related with each other aswell.\n",
    "#### 6. There is a negative co-relation between windspeed and humidity."
   ]
  },
  {
   "cell_type": "markdown",
   "metadata": {},
   "source": [
    "# 4.Feature Engineering and extracting insights of every column with repest to target column."
   ]
  },
  {
   "cell_type": "code",
   "execution_count": 11,
   "metadata": {},
   "outputs": [
    {
     "data": {
      "text/plain": [
       "datetime          object\n",
       "season            object\n",
       "holiday            int64\n",
       "workingday         int64\n",
       "weather           object\n",
       "temp             float64\n",
       "atemp            float64\n",
       "humidity         float64\n",
       "windspeed        float64\n",
       "Total_booking      int64\n",
       "dtype: object"
      ]
     },
     "execution_count": 11,
     "metadata": {},
     "output_type": "execute_result"
    }
   ],
   "source": [
    "train.dtypes"
   ]
  },
  {
   "cell_type": "markdown",
   "metadata": {},
   "source": [
    "# Date Column\n",
    "#### Extracting Day of the week and month from date column for better visualization analysis. Creating 2 new columns with month and time from the date column"
   ]
  },
  {
   "cell_type": "code",
   "execution_count": 12,
   "metadata": {},
   "outputs": [],
   "source": [
    "train['date']=train.datetime.apply(lambda x:x.split()[0])\n",
    "train['day']=train.date.apply(lambda x:calendar.day_name[datetime.datetime.strptime(x, \"%m/%d/%Y\").weekday()])\n",
    "train['month']=train.date.apply(lambda x:calendar.month_name[datetime.datetime.strptime(x, \"%m/%d/%Y\").month])\n",
    "train['time']=train.datetime.apply(lambda x:x.split()[1].split(\":\")[0])\n",
    "train['year']=train.date.apply(lambda x:x.split(\"/\")[2])\n"
   ]
  },
  {
   "cell_type": "markdown",
   "metadata": {},
   "source": [
    "### Year vs Total_booking"
   ]
  },
  {
   "cell_type": "code",
   "execution_count": 13,
   "metadata": {},
   "outputs": [
    {
     "data": {
      "text/plain": [
       "<matplotlib.axes._subplots.AxesSubplot at 0x1ea168bc278>"
      ]
     },
     "execution_count": 13,
     "metadata": {},
     "output_type": "execute_result"
    },
    {
     "data": {
      "image/png": "[encoded data removed]",
      "text/plain": [
       "<Figure size 432x288 with 1 Axes>"
      ]
     },
     "metadata": {
      "needs_background": "light"
     },
     "output_type": "display_data"
    }
   ],
   "source": [
    "var = train.groupby(['year']).Total_booking.sum() #grouped sum of sales at Gender level\n",
    "fig = plt.figure()\n",
    "ax1 = fig.add_subplot(1,1,1)\n",
    "ax1.set_xlabel('Year')\n",
    "ax1.set_ylabel('Total Count of bookings')\n",
    "ax1.set_title(\"Year wise Count of Total Cab bookings\")\n",
    "var.plot(kind='bar')"
   ]
  },
  {
   "cell_type": "markdown",
   "metadata": {},
   "source": [
    "#### 2012 has more booking count than 2011 which can be due to many reasons like good marketing strategy , popularity, price drop etc"
   ]
  },
  {
   "cell_type": "code",
   "execution_count": 14,
   "metadata": {},
   "outputs": [],
   "source": [
    "train['year']=train['year'].astype('str').astype('int')"
   ]
  },
  {
   "cell_type": "markdown",
   "metadata": {},
   "source": [
    "### Day vs Total_booking"
   ]
  },
  {
   "cell_type": "code",
   "execution_count": 15,
   "metadata": {},
   "outputs": [
    {
     "data": {
      "text/plain": [
       "<matplotlib.axes._subplots.AxesSubplot at 0x1ea16b5e278>"
      ]
     },
     "execution_count": 15,
     "metadata": {},
     "output_type": "execute_result"
    },
    {
     "data": {
      "image/png": "[encoded data removed]",
      "text/plain": [
       "<Figure size 432x288 with 1 Axes>"
      ]
     },
     "metadata": {
      "needs_background": "light"
     },
     "output_type": "display_data"
    }
   ],
   "source": [
    "week=['Monday','Tuesday','Wednesday','Thursday','Friday','Saturday','Sunday']\n",
    "var = train.groupby(pd.Categorical(train['day'], categories=week, ordered=True)).Total_booking.sum()\n",
    "fig = plt.figure()\n",
    "ax1 = fig.add_subplot(1,1,1)\n",
    "ax1.set_ylabel('Total Count of bookings')\n",
    "ax1.set_xlabel('Workingday')\n",
    "ax1.set_title(\"Season wise Count of Total Cab bookings\")\n",
    "var.plot(kind='bar')"
   ]
  },
  {
   "cell_type": "markdown",
   "metadata": {},
   "source": [
    "#### There is no significance difference in the total bookings count over the week. We can remove this column."
   ]
  },
  {
   "cell_type": "code",
   "execution_count": 16,
   "metadata": {},
   "outputs": [],
   "source": [
    "train['day']=train.datetime.apply(lambda x:x.split(' ')[0].split(\"/\")[1])\n",
    "train['day']=train['day'].astype('str').astype('int')"
   ]
  },
  {
   "cell_type": "markdown",
   "metadata": {},
   "source": [
    "### Month vs Total_booking"
   ]
  },
  {
   "cell_type": "code",
   "execution_count": 17,
   "metadata": {},
   "outputs": [
    {
     "data": {
      "text/plain": [
       "<matplotlib.axes._subplots.AxesSubplot at 0x1ea16d19b38>"
      ]
     },
     "execution_count": 17,
     "metadata": {},
     "output_type": "execute_result"
    },
    {
     "data": {
      "image/png": "[encoded data removed]",
      "text/plain": [
       "<Figure size 432x288 with 1 Axes>"
      ]
     },
     "metadata": {
      "needs_background": "light"
     },
     "output_type": "display_data"
    }
   ],
   "source": [
    "month=['January','February','March','April','May','June','July','August','September','October','November','December']\n",
    "var = train.groupby(pd.Categorical(train['month'], categories=month, ordered=True)).Total_booking.sum()\n",
    "fig = plt.figure()\n",
    "ax1 = fig.add_subplot(1,1,1)\n",
    "ax1.set_ylabel('Total Count of bookings')\n",
    "ax1.set_xlabel('month')\n",
    "ax1.set_title(\"Month wise Count of Total Cab bookings\")\n",
    "var.plot(kind='bar')"
   ]
  },
  {
   "cell_type": "markdown",
   "metadata": {},
   "source": [
    "#### We can observe that total bookings count increase from the starting of the year to mid year and and there is only small decline as the year ends.  "
   ]
  },
  {
   "cell_type": "code",
   "execution_count": 18,
   "metadata": {},
   "outputs": [],
   "source": [
    "train['month']=train.datetime.apply(lambda x:x.split(\" \")[0].split(\"/\")[0])\n",
    "train['month']=train['month'].astype('str').astype('int')"
   ]
  },
  {
   "cell_type": "markdown",
   "metadata": {},
   "source": [
    "### Time vs Total Booking"
   ]
  },
  {
   "cell_type": "code",
   "execution_count": 19,
   "metadata": {},
   "outputs": [
    {
     "data": {
      "text/plain": [
       "<matplotlib.axes._subplots.AxesSubplot at 0x1ea168bc080>"
      ]
     },
     "execution_count": 19,
     "metadata": {},
     "output_type": "execute_result"
    },
    {
     "data": {
      "image/png": "[encoded data removed]",
      "text/plain": [
       "<Figure size 432x288 with 1 Axes>"
      ]
     },
     "metadata": {
      "needs_background": "light"
     },
     "output_type": "display_data"
    }
   ],
   "source": [
    "time=['0','1','2','3','4','5','6','7','8','9','10','11','12','13','14','15','16','17','18','19','20','21','22','23']\n",
    "var = train.groupby(pd.Categorical(train['time'], categories=time, ordered=True)).Total_booking.sum()\n",
    "fig = plt.figure()\n",
    "ax1 = fig.add_subplot(1,1,1)\n",
    "ax1.set_ylabel('Total Count of bookings')\n",
    "ax1.set_xlabel('time')\n",
    "ax1.set_title(\"Month wise Count of Total Cab bookings\")\n",
    "var.plot(kind='bar')"
   ]
  },
  {
   "cell_type": "markdown",
   "metadata": {},
   "source": [
    "#### We can observe that bookings are high during morning 8 which we can assume as office start time for various people and bookings are again high during evening 6 to 8 PM . The extremely low booking count at 4 AM tells us that people travel very less during that time."
   ]
  },
  {
   "cell_type": "code",
   "execution_count": 20,
   "metadata": {},
   "outputs": [],
   "source": [
    "train['time']=train['time'].astype('str').astype('int')\n",
    "train['datetime']=train['datetime'].apply(lambda x:datetime.datetime.strptime(x,'%m/%d/%Y %H:%M'))"
   ]
  },
  {
   "cell_type": "code",
   "execution_count": 21,
   "metadata": {},
   "outputs": [
    {
     "data": {
      "text/plain": [
       "datetime         datetime64[ns]\n",
       "season                   object\n",
       "holiday                   int64\n",
       "workingday                int64\n",
       "weather                  object\n",
       "temp                    float64\n",
       "atemp                   float64\n",
       "humidity                float64\n",
       "windspeed               float64\n",
       "Total_booking             int64\n",
       "date                     object\n",
       "day                       int32\n",
       "month                     int32\n",
       "time                      int32\n",
       "year                      int32\n",
       "dtype: object"
      ]
     },
     "execution_count": 21,
     "metadata": {},
     "output_type": "execute_result"
    }
   ],
   "source": [
    "train.dtypes"
   ]
  },
  {
   "cell_type": "markdown",
   "metadata": {},
   "source": [
    "### Deleting Column Datetime and date as all the information is extracted from it"
   ]
  },
  {
   "cell_type": "markdown",
   "metadata": {},
   "source": [
    "#### As no insights can be drawn from datetime column and necessary data is already extracted from, we are removing that column."
   ]
  },
  {
   "cell_type": "code",
   "execution_count": 22,
   "metadata": {},
   "outputs": [
    {
     "data": {
      "text/plain": [
       "season            object\n",
       "holiday            int64\n",
       "workingday         int64\n",
       "weather           object\n",
       "temp             float64\n",
       "atemp            float64\n",
       "humidity         float64\n",
       "windspeed        float64\n",
       "Total_booking      int64\n",
       "day                int32\n",
       "month              int32\n",
       "time               int32\n",
       "year               int32\n",
       "dtype: object"
      ]
     },
     "execution_count": 22,
     "metadata": {},
     "output_type": "execute_result"
    }
   ],
   "source": [
    "train.drop(['datetime','date'],axis=1,inplace=True)\n",
    "train.dtypes"
   ]
  },
  {
   "cell_type": "markdown",
   "metadata": {},
   "source": [
    "# Season Column"
   ]
  },
  {
   "cell_type": "code",
   "execution_count": 23,
   "metadata": {},
   "outputs": [
    {
     "data": {
      "text/plain": [
       "<matplotlib.axes._subplots.AxesSubplot at 0x1ea16b11f28>"
      ]
     },
     "execution_count": 23,
     "metadata": {},
     "output_type": "execute_result"
    },
    {
     "data": {
      "image/png": "[encoded data removed]",
      "text/plain": [
       "<Figure size 432x288 with 1 Axes>"
      ]
     },
     "metadata": {
      "needs_background": "light"
     },
     "output_type": "display_data"
    }
   ],
   "source": [
    "var = train.groupby(['season']).Total_booking.sum() #grouped sum of sales at Gender level\n",
    "fig = plt.figure()\n",
    "ax1 = fig.add_subplot(1,1,1)\n",
    "ax1.set_xlabel('Weather')\n",
    "ax1.set_ylabel('Total Count of bookings')\n",
    "ax1.set_title(\"Season wise Count of Total Cab bookings\")\n",
    "var.plot(kind='bar')"
   ]
  },
  {
   "cell_type": "markdown",
   "metadata": {},
   "source": [
    "#### We have noticed that spring has low count of bookings when compared to other seasons because of the nice weather.  "
   ]
  },
  {
   "cell_type": "markdown",
   "metadata": {},
   "source": [
    "# Weather Column"
   ]
  },
  {
   "cell_type": "code",
   "execution_count": 24,
   "metadata": {},
   "outputs": [
    {
     "data": {
      "text/plain": [
       "<matplotlib.axes._subplots.AxesSubplot at 0x1ea1666eba8>"
      ]
     },
     "execution_count": 24,
     "metadata": {},
     "output_type": "execute_result"
    },
    {
     "data": {
      "image/png": "[encoded data removed]",
      "text/plain": [
       "<Figure size 432x288 with 1 Axes>"
      ]
     },
     "metadata": {
      "needs_background": "light"
     },
     "output_type": "display_data"
    }
   ],
   "source": [
    "var = train.groupby(['weather']).Total_booking.sum() #grouped sum of sales at Gender level\n",
    "fig = plt.figure()\n",
    "ax1 = fig.add_subplot(1,1,1)\n",
    "ax1.set_xlabel('Weather')\n",
    "ax1.set_ylabel('Total Count of bookings')\n",
    "ax1.set_title(\"Season wise Count of Total Cab bookings\")\n",
    "var.plot(kind='bar')"
   ]
  },
  {
   "cell_type": "markdown",
   "metadata": {},
   "source": [
    "#### We can observe that heavy rain+thunderstorm has very few cabs booked and clear + few clouds has maximum cabs booked. \n",
    "\n",
    "#### The interesting point is even when there is light snow + light rain, the bookings are very low.  "
   ]
  },
  {
   "cell_type": "markdown",
   "metadata": {},
   "source": [
    "# atemp & temp column"
   ]
  },
  {
   "cell_type": "code",
   "execution_count": 25,
   "metadata": {},
   "outputs": [
    {
     "data": {
      "image/png": "[encoded data removed]",
      "text/plain": [
       "<Figure size 432x288 with 1 Axes>"
      ]
     },
     "metadata": {
      "needs_background": "light"
     },
     "output_type": "display_data"
    }
   ],
   "source": [
    "import numpy, matplotlib.pyplot as plt\n",
    "plt.plot(train.temp, label='Actual')\n",
    "plt.plot(train.atemp, label='Feels like')\n",
    "plt.xlabel('Day')\n",
    "plt.ylabel('Temperature')\n",
    "plt.axis([1,7,0,50])\n",
    "plt.legend()\n",
    "plt.show()"
   ]
  },
  {
   "cell_type": "markdown",
   "metadata": {},
   "source": [
    "#### The Actual temperature and feels like are close by to each other."
   ]
  },
  {
   "cell_type": "markdown",
   "metadata": {},
   "source": [
    "#### We have created another column by takeing average of temp and atemp , named it temperature."
   ]
  },
  {
   "cell_type": "code",
   "execution_count": 26,
   "metadata": {},
   "outputs": [],
   "source": [
    "train['temperature']=(train['temp']+train['atemp'])/2"
   ]
  },
  {
   "cell_type": "code",
   "execution_count": 27,
   "metadata": {},
   "outputs": [
    {
     "data": {
      "image/png": "[encoded data removed]",
      "text/plain": [
       "<Figure size 432x288 with 1 Axes>"
      ]
     },
     "metadata": {
      "needs_background": "light"
     },
     "output_type": "display_data"
    }
   ],
   "source": [
    "import numpy, matplotlib.pyplot as plt\n",
    "plt.plot(train.temp, label='Actual')\n",
    "plt.plot(train.atemp, label='Feels like')\n",
    "plt.plot(train.temperature, label='Average of temp and feels like')\n",
    "plt.xlabel('Day')\n",
    "plt.ylabel('Temperature')\n",
    "plt.axis([1,7,0,50])\n",
    "plt.legend()\n",
    "plt.show()"
   ]
  },
  {
   "cell_type": "markdown",
   "metadata": {},
   "source": [
    "#### Here , we took the average of temp and atemp and created a new columnn. From the above plot, we can observe that it follows similar trend as other two. We can use the column temperature and remove \"temp\" and \"atemp\"."
   ]
  },
  {
   "cell_type": "markdown",
   "metadata": {},
   "source": [
    "# Generating get_dummies for the training data"
   ]
  },
  {
   "cell_type": "code",
   "execution_count": 28,
   "metadata": {},
   "outputs": [
    {
     "data": {
      "text/html": [
       "<div>\n",
       "<style scoped>\n",
       "    .dataframe tbody tr th:only-of-type {\n",
       "        vertical-align: middle;\n",
       "    }\n",
       "\n",
       "    .dataframe tbody tr th {\n",
       "        vertical-align: top;\n",
       "    }\n",
       "\n",
       "    .dataframe thead th {\n",
       "        text-align: right;\n",
       "    }\n",
       "</style>\n",
       "<table border=\"1\" class=\"dataframe\">\n",
       "  <thead>\n",
       "    <tr style=\"text-align: right;\">\n",
       "      <th></th>\n",
       "      <th>holiday</th>\n",
       "      <th>workingday</th>\n",
       "      <th>temp</th>\n",
       "      <th>atemp</th>\n",
       "      <th>humidity</th>\n",
       "      <th>windspeed</th>\n",
       "      <th>Total_booking</th>\n",
       "      <th>day</th>\n",
       "      <th>month</th>\n",
       "      <th>time</th>\n",
       "      <th>year</th>\n",
       "      <th>temperature</th>\n",
       "      <th>season_Fall</th>\n",
       "      <th>season_Spring</th>\n",
       "      <th>season_Summer</th>\n",
       "      <th>season_Winter</th>\n",
       "      <th>weather_ Clear + Few clouds</th>\n",
       "      <th>weather_ Heavy Rain + Thunderstorm</th>\n",
       "      <th>weather_ Light Snow, Light Rain</th>\n",
       "      <th>weather_ Mist + Cloudy</th>\n",
       "    </tr>\n",
       "  </thead>\n",
       "  <tbody>\n",
       "    <tr>\n",
       "      <th>0</th>\n",
       "      <td>0</td>\n",
       "      <td>1</td>\n",
       "      <td>22.14</td>\n",
       "      <td>25.760</td>\n",
       "      <td>77.0</td>\n",
       "      <td>16.9979</td>\n",
       "      <td>504</td>\n",
       "      <td>2</td>\n",
       "      <td>5</td>\n",
       "      <td>19</td>\n",
       "      <td>2012</td>\n",
       "      <td>23.9500</td>\n",
       "      <td>0</td>\n",
       "      <td>0</td>\n",
       "      <td>1</td>\n",
       "      <td>0</td>\n",
       "      <td>1</td>\n",
       "      <td>0</td>\n",
       "      <td>0</td>\n",
       "      <td>0</td>\n",
       "    </tr>\n",
       "    <tr>\n",
       "      <th>1</th>\n",
       "      <td>0</td>\n",
       "      <td>1</td>\n",
       "      <td>28.70</td>\n",
       "      <td>33.335</td>\n",
       "      <td>79.0</td>\n",
       "      <td>19.0012</td>\n",
       "      <td>5</td>\n",
       "      <td>5</td>\n",
       "      <td>9</td>\n",
       "      <td>4</td>\n",
       "      <td>2012</td>\n",
       "      <td>31.0175</td>\n",
       "      <td>1</td>\n",
       "      <td>0</td>\n",
       "      <td>0</td>\n",
       "      <td>0</td>\n",
       "      <td>1</td>\n",
       "      <td>0</td>\n",
       "      <td>0</td>\n",
       "      <td>0</td>\n",
       "    </tr>\n",
       "  </tbody>\n",
       "</table>\n",
       "</div>"
      ],
      "text/plain": [
       "   holiday  workingday   temp   atemp  humidity  windspeed  Total_booking  \\\n",
       "0        0           1  22.14  25.760      77.0    16.9979            504   \n",
       "1        0           1  28.70  33.335      79.0    19.0012              5   \n",
       "\n",
       "   day  month  time  year  temperature  season_Fall  season_Spring  \\\n",
       "0    2      5    19  2012      23.9500            0              0   \n",
       "1    5      9     4  2012      31.0175            1              0   \n",
       "\n",
       "   season_Summer  season_Winter  weather_ Clear + Few clouds  \\\n",
       "0              1              0                            1   \n",
       "1              0              0                            1   \n",
       "\n",
       "   weather_ Heavy Rain + Thunderstorm   weather_ Light Snow, Light Rain  \\\n",
       "0                                    0                                0   \n",
       "1                                    0                                0   \n",
       "\n",
       "   weather_ Mist + Cloudy   \n",
       "0                        0  \n",
       "1                        0  "
      ]
     },
     "execution_count": 28,
     "metadata": {},
     "output_type": "execute_result"
    }
   ],
   "source": [
    "train=pd.get_dummies(train)\n",
    "train.head(2)"
   ]
  },
  {
   "cell_type": "code",
   "execution_count": 29,
   "metadata": {},
   "outputs": [
    {
     "data": {
      "text/html": [
       "<div>\n",
       "<style scoped>\n",
       "    .dataframe tbody tr th:only-of-type {\n",
       "        vertical-align: middle;\n",
       "    }\n",
       "\n",
       "    .dataframe tbody tr th {\n",
       "        vertical-align: top;\n",
       "    }\n",
       "\n",
       "    .dataframe thead th {\n",
       "        text-align: right;\n",
       "    }\n",
       "</style>\n",
       "<table border=\"1\" class=\"dataframe\">\n",
       "  <thead>\n",
       "    <tr style=\"text-align: right;\">\n",
       "      <th></th>\n",
       "      <th>holiday</th>\n",
       "      <th>workingday</th>\n",
       "      <th>temp</th>\n",
       "      <th>atemp</th>\n",
       "      <th>humidity</th>\n",
       "      <th>windspeed</th>\n",
       "      <th>Total_booking</th>\n",
       "      <th>day</th>\n",
       "      <th>month</th>\n",
       "      <th>time</th>\n",
       "      <th>year</th>\n",
       "      <th>temperature</th>\n",
       "      <th>season_Fall</th>\n",
       "      <th>season_Spring</th>\n",
       "      <th>season_Summer</th>\n",
       "      <th>season_Winter</th>\n",
       "      <th>weather_ Clear + Few clouds</th>\n",
       "      <th>weather_ Heavy Rain + Thunderstorm</th>\n",
       "      <th>weather_ Light Snow, Light Rain</th>\n",
       "      <th>weather_ Mist + Cloudy</th>\n",
       "    </tr>\n",
       "  </thead>\n",
       "  <tbody>\n",
       "    <tr>\n",
       "      <th>holiday</th>\n",
       "      <td>1.000000</td>\n",
       "      <td>-0.249755</td>\n",
       "      <td>-0.000165</td>\n",
       "      <td>-0.005526</td>\n",
       "      <td>-0.005765</td>\n",
       "      <td>0.011886</td>\n",
       "      <td>-0.004391</td>\n",
       "      <td>-0.019824</td>\n",
       "      <td>0.000578</td>\n",
       "      <td>0.003794</td>\n",
       "      <td>0.012039</td>\n",
       "      <td>-0.002970</td>\n",
       "      <td>0.023328</td>\n",
       "      <td>-0.006149</td>\n",
       "      <td>-0.039054</td>\n",
       "      <td>0.021882</td>\n",
       "      <td>-0.001229</td>\n",
       "      <td>-0.001835</td>\n",
       "      <td>-0.016256</td>\n",
       "      <td>0.011282</td>\n",
       "    </tr>\n",
       "    <tr>\n",
       "      <th>workingday</th>\n",
       "      <td>-0.249755</td>\n",
       "      <td>1.000000</td>\n",
       "      <td>0.032189</td>\n",
       "      <td>0.026168</td>\n",
       "      <td>-0.004783</td>\n",
       "      <td>0.015633</td>\n",
       "      <td>0.012285</td>\n",
       "      <td>0.016290</td>\n",
       "      <td>-0.001437</td>\n",
       "      <td>0.001717</td>\n",
       "      <td>-0.006705</td>\n",
       "      <td>0.029168</td>\n",
       "      <td>-0.007472</td>\n",
       "      <td>-0.005785</td>\n",
       "      <td>0.018932</td>\n",
       "      <td>-0.005749</td>\n",
       "      <td>-0.021183</td>\n",
       "      <td>0.007347</td>\n",
       "      <td>0.036539</td>\n",
       "      <td>0.000365</td>\n",
       "    </tr>\n",
       "    <tr>\n",
       "      <th>temp</th>\n",
       "      <td>-0.000165</td>\n",
       "      <td>0.032189</td>\n",
       "      <td>1.000000</td>\n",
       "      <td>0.984035</td>\n",
       "      <td>-0.070518</td>\n",
       "      <td>-0.019887</td>\n",
       "      <td>0.397456</td>\n",
       "      <td>0.024511</td>\n",
       "      <td>0.255916</td>\n",
       "      <td>0.146668</td>\n",
       "      <td>0.066451</td>\n",
       "      <td>0.995656</td>\n",
       "      <td>0.637149</td>\n",
       "      <td>-0.565047</td>\n",
       "      <td>0.190820</td>\n",
       "      <td>-0.267893</td>\n",
       "      <td>0.059766</td>\n",
       "      <td>-0.016519</td>\n",
       "      <td>-0.025797</td>\n",
       "      <td>-0.048270</td>\n",
       "    </tr>\n",
       "    <tr>\n",
       "      <th>atemp</th>\n",
       "      <td>-0.005526</td>\n",
       "      <td>0.026168</td>\n",
       "      <td>0.984035</td>\n",
       "      <td>1.000000</td>\n",
       "      <td>-0.047711</td>\n",
       "      <td>-0.060410</td>\n",
       "      <td>0.392754</td>\n",
       "      <td>0.020484</td>\n",
       "      <td>0.263176</td>\n",
       "      <td>0.141578</td>\n",
       "      <td>0.063042</td>\n",
       "      <td>0.996331</td>\n",
       "      <td>0.607166</td>\n",
       "      <td>-0.569505</td>\n",
       "      <td>0.203892</td>\n",
       "      <td>-0.246567</td>\n",
       "      <td>0.056922</td>\n",
       "      <td>-0.015495</td>\n",
       "      <td>-0.032296</td>\n",
       "      <td>-0.041268</td>\n",
       "    </tr>\n",
       "    <tr>\n",
       "      <th>humidity</th>\n",
       "      <td>-0.005765</td>\n",
       "      <td>-0.004783</td>\n",
       "      <td>-0.070518</td>\n",
       "      <td>-0.047711</td>\n",
       "      <td>1.000000</td>\n",
       "      <td>-0.314909</td>\n",
       "      <td>-0.317318</td>\n",
       "      <td>-0.015140</td>\n",
       "      <td>0.198341</td>\n",
       "      <td>-0.275681</td>\n",
       "      <td>-0.083208</td>\n",
       "      <td>-0.058869</td>\n",
       "      <td>0.063754</td>\n",
       "      <td>-0.158647</td>\n",
       "      <td>-0.029516</td>\n",
       "      <td>0.123205</td>\n",
       "      <td>-0.384558</td>\n",
       "      <td>0.013669</td>\n",
       "      <td>0.316089</td>\n",
       "      <td>0.221312</td>\n",
       "    </tr>\n",
       "    <tr>\n",
       "      <th>windspeed</th>\n",
       "      <td>0.011886</td>\n",
       "      <td>0.015633</td>\n",
       "      <td>-0.019887</td>\n",
       "      <td>-0.060410</td>\n",
       "      <td>-0.314909</td>\n",
       "      <td>1.000000</td>\n",
       "      <td>0.099752</td>\n",
       "      <td>0.029296</td>\n",
       "      <td>-0.147137</td>\n",
       "      <td>0.132997</td>\n",
       "      <td>-0.016614</td>\n",
       "      <td>-0.041167</td>\n",
       "      <td>-0.096909</td>\n",
       "      <td>0.121756</td>\n",
       "      <td>0.053082</td>\n",
       "      <td>-0.077034</td>\n",
       "      <td>0.022413</td>\n",
       "      <td>-0.009074</td>\n",
       "      <td>0.036818</td>\n",
       "      <td>-0.046385</td>\n",
       "    </tr>\n",
       "    <tr>\n",
       "      <th>Total_booking</th>\n",
       "      <td>-0.004391</td>\n",
       "      <td>0.012285</td>\n",
       "      <td>0.397456</td>\n",
       "      <td>0.392754</td>\n",
       "      <td>-0.317318</td>\n",
       "      <td>0.099752</td>\n",
       "      <td>1.000000</td>\n",
       "      <td>0.022549</td>\n",
       "      <td>0.170355</td>\n",
       "      <td>0.399947</td>\n",
       "      <td>0.266228</td>\n",
       "      <td>0.396589</td>\n",
       "      <td>0.141524</td>\n",
       "      <td>-0.238625</td>\n",
       "      <td>0.070649</td>\n",
       "      <td>0.024428</td>\n",
       "      <td>0.099981</td>\n",
       "      <td>-0.001712</td>\n",
       "      <td>-0.119645</td>\n",
       "      <td>-0.034736</td>\n",
       "    </tr>\n",
       "    <tr>\n",
       "      <th>day</th>\n",
       "      <td>-0.019824</td>\n",
       "      <td>0.016290</td>\n",
       "      <td>0.024511</td>\n",
       "      <td>0.020484</td>\n",
       "      <td>-0.015140</td>\n",
       "      <td>0.029296</td>\n",
       "      <td>0.022549</td>\n",
       "      <td>1.000000</td>\n",
       "      <td>0.004666</td>\n",
       "      <td>0.006313</td>\n",
       "      <td>-0.001171</td>\n",
       "      <td>0.022502</td>\n",
       "      <td>0.005610</td>\n",
       "      <td>-0.009758</td>\n",
       "      <td>0.007867</td>\n",
       "      <td>-0.003810</td>\n",
       "      <td>-0.004507</td>\n",
       "      <td>-0.001974</td>\n",
       "      <td>-0.013644</td>\n",
       "      <td>0.013225</td>\n",
       "    </tr>\n",
       "    <tr>\n",
       "      <th>month</th>\n",
       "      <td>0.000578</td>\n",
       "      <td>-0.001437</td>\n",
       "      <td>0.255916</td>\n",
       "      <td>0.263176</td>\n",
       "      <td>0.198341</td>\n",
       "      <td>-0.147137</td>\n",
       "      <td>0.170355</td>\n",
       "      <td>0.004666</td>\n",
       "      <td>1.000000</td>\n",
       "      <td>-0.006015</td>\n",
       "      <td>0.006556</td>\n",
       "      <td>0.260740</td>\n",
       "      <td>0.247176</td>\n",
       "      <td>-0.748287</td>\n",
       "      <td>-0.258244</td>\n",
       "      <td>0.753895</td>\n",
       "      <td>-0.016683</td>\n",
       "      <td>-0.017220</td>\n",
       "      <td>0.001188</td>\n",
       "      <td>0.017673</td>\n",
       "    </tr>\n",
       "    <tr>\n",
       "      <th>time</th>\n",
       "      <td>0.003794</td>\n",
       "      <td>0.001717</td>\n",
       "      <td>0.146668</td>\n",
       "      <td>0.141578</td>\n",
       "      <td>-0.275681</td>\n",
       "      <td>0.132997</td>\n",
       "      <td>0.399947</td>\n",
       "      <td>0.006313</td>\n",
       "      <td>-0.006015</td>\n",
       "      <td>1.000000</td>\n",
       "      <td>0.005712</td>\n",
       "      <td>0.144593</td>\n",
       "      <td>-0.001430</td>\n",
       "      <td>0.008273</td>\n",
       "      <td>-0.006787</td>\n",
       "      <td>0.000020</td>\n",
       "      <td>0.041023</td>\n",
       "      <td>0.009984</td>\n",
       "      <td>0.012126</td>\n",
       "      <td>-0.051846</td>\n",
       "    </tr>\n",
       "    <tr>\n",
       "      <th>year</th>\n",
       "      <td>0.012039</td>\n",
       "      <td>-0.006705</td>\n",
       "      <td>0.066451</td>\n",
       "      <td>0.063042</td>\n",
       "      <td>-0.083208</td>\n",
       "      <td>-0.016614</td>\n",
       "      <td>0.266228</td>\n",
       "      <td>-0.001171</td>\n",
       "      <td>0.006556</td>\n",
       "      <td>0.005712</td>\n",
       "      <td>1.000000</td>\n",
       "      <td>0.064934</td>\n",
       "      <td>0.004335</td>\n",
       "      <td>-0.004291</td>\n",
       "      <td>-0.004682</td>\n",
       "      <td>0.004610</td>\n",
       "      <td>-0.004477</td>\n",
       "      <td>0.010607</td>\n",
       "      <td>-0.022719</td>\n",
       "      <td>0.018421</td>\n",
       "    </tr>\n",
       "    <tr>\n",
       "      <th>temperature</th>\n",
       "      <td>-0.002970</td>\n",
       "      <td>0.029168</td>\n",
       "      <td>0.995656</td>\n",
       "      <td>0.996331</td>\n",
       "      <td>-0.058869</td>\n",
       "      <td>-0.041167</td>\n",
       "      <td>0.396589</td>\n",
       "      <td>0.022502</td>\n",
       "      <td>0.260740</td>\n",
       "      <td>0.144593</td>\n",
       "      <td>0.064934</td>\n",
       "      <td>1.000000</td>\n",
       "      <td>0.624017</td>\n",
       "      <td>-0.569644</td>\n",
       "      <td>0.198424</td>\n",
       "      <td>-0.257810</td>\n",
       "      <td>0.058518</td>\n",
       "      <td>-0.016049</td>\n",
       "      <td>-0.029300</td>\n",
       "      <td>-0.044800</td>\n",
       "    </tr>\n",
       "    <tr>\n",
       "      <th>season_Fall</th>\n",
       "      <td>0.023328</td>\n",
       "      <td>-0.007472</td>\n",
       "      <td>0.637149</td>\n",
       "      <td>0.607166</td>\n",
       "      <td>0.063754</td>\n",
       "      <td>-0.096909</td>\n",
       "      <td>0.141524</td>\n",
       "      <td>0.005610</td>\n",
       "      <td>0.247176</td>\n",
       "      <td>-0.001430</td>\n",
       "      <td>0.004335</td>\n",
       "      <td>0.624017</td>\n",
       "      <td>1.000000</td>\n",
       "      <td>-0.330358</td>\n",
       "      <td>-0.336607</td>\n",
       "      <td>-0.335480</td>\n",
       "      <td>0.056368</td>\n",
       "      <td>-0.006210</td>\n",
       "      <td>-0.012284</td>\n",
       "      <td>-0.053101</td>\n",
       "    </tr>\n",
       "    <tr>\n",
       "      <th>season_Spring</th>\n",
       "      <td>-0.006149</td>\n",
       "      <td>-0.005785</td>\n",
       "      <td>-0.565047</td>\n",
       "      <td>-0.569505</td>\n",
       "      <td>-0.158647</td>\n",
       "      <td>0.121756</td>\n",
       "      <td>-0.238625</td>\n",
       "      <td>-0.009758</td>\n",
       "      <td>-0.748287</td>\n",
       "      <td>0.008273</td>\n",
       "      <td>-0.004291</td>\n",
       "      <td>-0.569644</td>\n",
       "      <td>-0.330358</td>\n",
       "      <td>1.000000</td>\n",
       "      <td>-0.331164</td>\n",
       "      <td>-0.330055</td>\n",
       "      <td>-0.006293</td>\n",
       "      <td>0.018798</td>\n",
       "      <td>-0.001303</td>\n",
       "      <td>0.007117</td>\n",
       "    </tr>\n",
       "    <tr>\n",
       "      <th>season_Summer</th>\n",
       "      <td>-0.039054</td>\n",
       "      <td>0.018932</td>\n",
       "      <td>0.190820</td>\n",
       "      <td>0.203892</td>\n",
       "      <td>-0.029516</td>\n",
       "      <td>0.053082</td>\n",
       "      <td>0.070649</td>\n",
       "      <td>0.007867</td>\n",
       "      <td>-0.258244</td>\n",
       "      <td>-0.006787</td>\n",
       "      <td>-0.004682</td>\n",
       "      <td>0.198424</td>\n",
       "      <td>-0.336607</td>\n",
       "      <td>-0.331164</td>\n",
       "      <td>1.000000</td>\n",
       "      <td>-0.336299</td>\n",
       "      <td>-0.003051</td>\n",
       "      <td>-0.006225</td>\n",
       "      <td>0.003891</td>\n",
       "      <td>0.001067</td>\n",
       "    </tr>\n",
       "    <tr>\n",
       "      <th>season_Winter</th>\n",
       "      <td>0.021882</td>\n",
       "      <td>-0.005749</td>\n",
       "      <td>-0.267893</td>\n",
       "      <td>-0.246567</td>\n",
       "      <td>0.123205</td>\n",
       "      <td>-0.077034</td>\n",
       "      <td>0.024428</td>\n",
       "      <td>-0.003810</td>\n",
       "      <td>0.753895</td>\n",
       "      <td>0.000020</td>\n",
       "      <td>0.004610</td>\n",
       "      <td>-0.257810</td>\n",
       "      <td>-0.335480</td>\n",
       "      <td>-0.330055</td>\n",
       "      <td>-0.336299</td>\n",
       "      <td>1.000000</td>\n",
       "      <td>-0.047094</td>\n",
       "      <td>-0.006204</td>\n",
       "      <td>0.009686</td>\n",
       "      <td>0.044995</td>\n",
       "    </tr>\n",
       "    <tr>\n",
       "      <th>weather_ Clear + Few clouds</th>\n",
       "      <td>-0.001229</td>\n",
       "      <td>-0.021183</td>\n",
       "      <td>0.059766</td>\n",
       "      <td>0.056922</td>\n",
       "      <td>-0.384558</td>\n",
       "      <td>0.022413</td>\n",
       "      <td>0.099981</td>\n",
       "      <td>-0.004507</td>\n",
       "      <td>-0.016683</td>\n",
       "      <td>0.041023</td>\n",
       "      <td>-0.004477</td>\n",
       "      <td>0.058518</td>\n",
       "      <td>0.056368</td>\n",
       "      <td>-0.006293</td>\n",
       "      <td>-0.003051</td>\n",
       "      <td>-0.047094</td>\n",
       "      <td>1.000000</td>\n",
       "      <td>-0.014953</td>\n",
       "      <td>-0.405439</td>\n",
       "      <td>-0.830007</td>\n",
       "    </tr>\n",
       "    <tr>\n",
       "      <th>weather_ Heavy Rain + Thunderstorm</th>\n",
       "      <td>-0.001835</td>\n",
       "      <td>0.007347</td>\n",
       "      <td>-0.016519</td>\n",
       "      <td>-0.015495</td>\n",
       "      <td>0.013669</td>\n",
       "      <td>-0.009074</td>\n",
       "      <td>-0.001712</td>\n",
       "      <td>-0.001974</td>\n",
       "      <td>-0.017220</td>\n",
       "      <td>0.009984</td>\n",
       "      <td>0.010607</td>\n",
       "      <td>-0.016049</td>\n",
       "      <td>-0.006210</td>\n",
       "      <td>0.018798</td>\n",
       "      <td>-0.006225</td>\n",
       "      <td>-0.006204</td>\n",
       "      <td>-0.014953</td>\n",
       "      <td>1.000000</td>\n",
       "      <td>-0.003114</td>\n",
       "      <td>-0.006375</td>\n",
       "    </tr>\n",
       "    <tr>\n",
       "      <th>weather_ Light Snow, Light Rain</th>\n",
       "      <td>-0.016256</td>\n",
       "      <td>0.036539</td>\n",
       "      <td>-0.025797</td>\n",
       "      <td>-0.032296</td>\n",
       "      <td>0.316089</td>\n",
       "      <td>0.036818</td>\n",
       "      <td>-0.119645</td>\n",
       "      <td>-0.013644</td>\n",
       "      <td>0.001188</td>\n",
       "      <td>0.012126</td>\n",
       "      <td>-0.022719</td>\n",
       "      <td>-0.029300</td>\n",
       "      <td>-0.012284</td>\n",
       "      <td>-0.001303</td>\n",
       "      <td>0.003891</td>\n",
       "      <td>0.009686</td>\n",
       "      <td>-0.405439</td>\n",
       "      <td>-0.003114</td>\n",
       "      <td>1.000000</td>\n",
       "      <td>-0.172850</td>\n",
       "    </tr>\n",
       "    <tr>\n",
       "      <th>weather_ Mist + Cloudy</th>\n",
       "      <td>0.011282</td>\n",
       "      <td>0.000365</td>\n",
       "      <td>-0.048270</td>\n",
       "      <td>-0.041268</td>\n",
       "      <td>0.221312</td>\n",
       "      <td>-0.046385</td>\n",
       "      <td>-0.034736</td>\n",
       "      <td>0.013225</td>\n",
       "      <td>0.017673</td>\n",
       "      <td>-0.051846</td>\n",
       "      <td>0.018421</td>\n",
       "      <td>-0.044800</td>\n",
       "      <td>-0.053101</td>\n",
       "      <td>0.007117</td>\n",
       "      <td>0.001067</td>\n",
       "      <td>0.044995</td>\n",
       "      <td>-0.830007</td>\n",
       "      <td>-0.006375</td>\n",
       "      <td>-0.172850</td>\n",
       "      <td>1.000000</td>\n",
       "    </tr>\n",
       "  </tbody>\n",
       "</table>\n",
       "</div>"
      ],
      "text/plain": [
       "                                      holiday  workingday      temp     atemp  \\\n",
       "holiday                              1.000000   -0.249755 -0.000165 -0.005526   \n",
       "workingday                          -0.249755    1.000000  0.032189  0.026168   \n",
       "temp                                -0.000165    0.032189  1.000000  0.984035   \n",
       "atemp                               -0.005526    0.026168  0.984035  1.000000   \n",
       "humidity                            -0.005765   -0.004783 -0.070518 -0.047711   \n",
       "windspeed                            0.011886    0.015633 -0.019887 -0.060410   \n",
       "Total_booking                       -0.004391    0.012285  0.397456  0.392754   \n",
       "day                                 -0.019824    0.016290  0.024511  0.020484   \n",
       "month                                0.000578   -0.001437  0.255916  0.263176   \n",
       "time                                 0.003794    0.001717  0.146668  0.141578   \n",
       "year                                 0.012039   -0.006705  0.066451  0.063042   \n",
       "temperature                         -0.002970    0.029168  0.995656  0.996331   \n",
       "season_Fall                          0.023328   -0.007472  0.637149  0.607166   \n",
       "season_Spring                       -0.006149   -0.005785 -0.565047 -0.569505   \n",
       "season_Summer                       -0.039054    0.018932  0.190820  0.203892   \n",
       "season_Winter                        0.021882   -0.005749 -0.267893 -0.246567   \n",
       "weather_ Clear + Few clouds         -0.001229   -0.021183  0.059766  0.056922   \n",
       "weather_ Heavy Rain + Thunderstorm  -0.001835    0.007347 -0.016519 -0.015495   \n",
       "weather_ Light Snow, Light Rain     -0.016256    0.036539 -0.025797 -0.032296   \n",
       "weather_ Mist + Cloudy               0.011282    0.000365 -0.048270 -0.041268   \n",
       "\n",
       "                                     humidity  windspeed  Total_booking  \\\n",
       "holiday                             -0.005765   0.011886      -0.004391   \n",
       "workingday                          -0.004783   0.015633       0.012285   \n",
       "temp                                -0.070518  -0.019887       0.397456   \n",
       "atemp                               -0.047711  -0.060410       0.392754   \n",
       "humidity                             1.000000  -0.314909      -0.317318   \n",
       "windspeed                           -0.314909   1.000000       0.099752   \n",
       "Total_booking                       -0.317318   0.099752       1.000000   \n",
       "day                                 -0.015140   0.029296       0.022549   \n",
       "month                                0.198341  -0.147137       0.170355   \n",
       "time                                -0.275681   0.132997       0.399947   \n",
       "year                                -0.083208  -0.016614       0.266228   \n",
       "temperature                         -0.058869  -0.041167       0.396589   \n",
       "season_Fall                          0.063754  -0.096909       0.141524   \n",
       "season_Spring                       -0.158647   0.121756      -0.238625   \n",
       "season_Summer                       -0.029516   0.053082       0.070649   \n",
       "season_Winter                        0.123205  -0.077034       0.024428   \n",
       "weather_ Clear + Few clouds         -0.384558   0.022413       0.099981   \n",
       "weather_ Heavy Rain + Thunderstorm   0.013669  -0.009074      -0.001712   \n",
       "weather_ Light Snow, Light Rain      0.316089   0.036818      -0.119645   \n",
       "weather_ Mist + Cloudy               0.221312  -0.046385      -0.034736   \n",
       "\n",
       "                                          day     month      time      year  \\\n",
       "holiday                             -0.019824  0.000578  0.003794  0.012039   \n",
       "workingday                           0.016290 -0.001437  0.001717 -0.006705   \n",
       "temp                                 0.024511  0.255916  0.146668  0.066451   \n",
       "atemp                                0.020484  0.263176  0.141578  0.063042   \n",
       "humidity                            -0.015140  0.198341 -0.275681 -0.083208   \n",
       "windspeed                            0.029296 -0.147137  0.132997 -0.016614   \n",
       "Total_booking                        0.022549  0.170355  0.399947  0.266228   \n",
       "day                                  1.000000  0.004666  0.006313 -0.001171   \n",
       "month                                0.004666  1.000000 -0.006015  0.006556   \n",
       "time                                 0.006313 -0.006015  1.000000  0.005712   \n",
       "year                                -0.001171  0.006556  0.005712  1.000000   \n",
       "temperature                          0.022502  0.260740  0.144593  0.064934   \n",
       "season_Fall                          0.005610  0.247176 -0.001430  0.004335   \n",
       "season_Spring                       -0.009758 -0.748287  0.008273 -0.004291   \n",
       "season_Summer                        0.007867 -0.258244 -0.006787 -0.004682   \n",
       "season_Winter                       -0.003810  0.753895  0.000020  0.004610   \n",
       "weather_ Clear + Few clouds         -0.004507 -0.016683  0.041023 -0.004477   \n",
       "weather_ Heavy Rain + Thunderstorm  -0.001974 -0.017220  0.009984  0.010607   \n",
       "weather_ Light Snow, Light Rain     -0.013644  0.001188  0.012126 -0.022719   \n",
       "weather_ Mist + Cloudy               0.013225  0.017673 -0.051846  0.018421   \n",
       "\n",
       "                                     temperature  season_Fall  season_Spring  \\\n",
       "holiday                                -0.002970     0.023328      -0.006149   \n",
       "workingday                              0.029168    -0.007472      -0.005785   \n",
       "temp                                    0.995656     0.637149      -0.565047   \n",
       "atemp                                   0.996331     0.607166      -0.569505   \n",
       "humidity                               -0.058869     0.063754      -0.158647   \n",
       "windspeed                              -0.041167    -0.096909       0.121756   \n",
       "Total_booking                           0.396589     0.141524      -0.238625   \n",
       "day                                     0.022502     0.005610      -0.009758   \n",
       "month                                   0.260740     0.247176      -0.748287   \n",
       "time                                    0.144593    -0.001430       0.008273   \n",
       "year                                    0.064934     0.004335      -0.004291   \n",
       "temperature                             1.000000     0.624017      -0.569644   \n",
       "season_Fall                             0.624017     1.000000      -0.330358   \n",
       "season_Spring                          -0.569644    -0.330358       1.000000   \n",
       "season_Summer                           0.198424    -0.336607      -0.331164   \n",
       "season_Winter                          -0.257810    -0.335480      -0.330055   \n",
       "weather_ Clear + Few clouds             0.058518     0.056368      -0.006293   \n",
       "weather_ Heavy Rain + Thunderstorm     -0.016049    -0.006210       0.018798   \n",
       "weather_ Light Snow, Light Rain        -0.029300    -0.012284      -0.001303   \n",
       "weather_ Mist + Cloudy                 -0.044800    -0.053101       0.007117   \n",
       "\n",
       "                                     season_Summer  season_Winter  \\\n",
       "holiday                                  -0.039054       0.021882   \n",
       "workingday                                0.018932      -0.005749   \n",
       "temp                                      0.190820      -0.267893   \n",
       "atemp                                     0.203892      -0.246567   \n",
       "humidity                                 -0.029516       0.123205   \n",
       "windspeed                                 0.053082      -0.077034   \n",
       "Total_booking                             0.070649       0.024428   \n",
       "day                                       0.007867      -0.003810   \n",
       "month                                    -0.258244       0.753895   \n",
       "time                                     -0.006787       0.000020   \n",
       "year                                     -0.004682       0.004610   \n",
       "temperature                               0.198424      -0.257810   \n",
       "season_Fall                              -0.336607      -0.335480   \n",
       "season_Spring                            -0.331164      -0.330055   \n",
       "season_Summer                             1.000000      -0.336299   \n",
       "season_Winter                            -0.336299       1.000000   \n",
       "weather_ Clear + Few clouds              -0.003051      -0.047094   \n",
       "weather_ Heavy Rain + Thunderstorm       -0.006225      -0.006204   \n",
       "weather_ Light Snow, Light Rain           0.003891       0.009686   \n",
       "weather_ Mist + Cloudy                    0.001067       0.044995   \n",
       "\n",
       "                                     weather_ Clear + Few clouds  \\\n",
       "holiday                                                -0.001229   \n",
       "workingday                                             -0.021183   \n",
       "temp                                                    0.059766   \n",
       "atemp                                                   0.056922   \n",
       "humidity                                               -0.384558   \n",
       "windspeed                                               0.022413   \n",
       "Total_booking                                           0.099981   \n",
       "day                                                    -0.004507   \n",
       "month                                                  -0.016683   \n",
       "time                                                    0.041023   \n",
       "year                                                   -0.004477   \n",
       "temperature                                             0.058518   \n",
       "season_Fall                                             0.056368   \n",
       "season_Spring                                          -0.006293   \n",
       "season_Summer                                          -0.003051   \n",
       "season_Winter                                          -0.047094   \n",
       "weather_ Clear + Few clouds                             1.000000   \n",
       "weather_ Heavy Rain + Thunderstorm                     -0.014953   \n",
       "weather_ Light Snow, Light Rain                        -0.405439   \n",
       "weather_ Mist + Cloudy                                 -0.830007   \n",
       "\n",
       "                                     weather_ Heavy Rain + Thunderstorm   \\\n",
       "holiday                                                        -0.001835   \n",
       "workingday                                                      0.007347   \n",
       "temp                                                           -0.016519   \n",
       "atemp                                                          -0.015495   \n",
       "humidity                                                        0.013669   \n",
       "windspeed                                                      -0.009074   \n",
       "Total_booking                                                  -0.001712   \n",
       "day                                                            -0.001974   \n",
       "month                                                          -0.017220   \n",
       "time                                                            0.009984   \n",
       "year                                                            0.010607   \n",
       "temperature                                                    -0.016049   \n",
       "season_Fall                                                    -0.006210   \n",
       "season_Spring                                                   0.018798   \n",
       "season_Summer                                                  -0.006225   \n",
       "season_Winter                                                  -0.006204   \n",
       "weather_ Clear + Few clouds                                    -0.014953   \n",
       "weather_ Heavy Rain + Thunderstorm                              1.000000   \n",
       "weather_ Light Snow, Light Rain                                -0.003114   \n",
       "weather_ Mist + Cloudy                                         -0.006375   \n",
       "\n",
       "                                     weather_ Light Snow, Light Rain  \\\n",
       "holiday                                                    -0.016256   \n",
       "workingday                                                  0.036539   \n",
       "temp                                                       -0.025797   \n",
       "atemp                                                      -0.032296   \n",
       "humidity                                                    0.316089   \n",
       "windspeed                                                   0.036818   \n",
       "Total_booking                                              -0.119645   \n",
       "day                                                        -0.013644   \n",
       "month                                                       0.001188   \n",
       "time                                                        0.012126   \n",
       "year                                                       -0.022719   \n",
       "temperature                                                -0.029300   \n",
       "season_Fall                                                -0.012284   \n",
       "season_Spring                                              -0.001303   \n",
       "season_Summer                                               0.003891   \n",
       "season_Winter                                               0.009686   \n",
       "weather_ Clear + Few clouds                                -0.405439   \n",
       "weather_ Heavy Rain + Thunderstorm                         -0.003114   \n",
       "weather_ Light Snow, Light Rain                             1.000000   \n",
       "weather_ Mist + Cloudy                                     -0.172850   \n",
       "\n",
       "                                     weather_ Mist + Cloudy   \n",
       "holiday                                             0.011282  \n",
       "workingday                                          0.000365  \n",
       "temp                                               -0.048270  \n",
       "atemp                                              -0.041268  \n",
       "humidity                                            0.221312  \n",
       "windspeed                                          -0.046385  \n",
       "Total_booking                                      -0.034736  \n",
       "day                                                 0.013225  \n",
       "month                                               0.017673  \n",
       "time                                               -0.051846  \n",
       "year                                                0.018421  \n",
       "temperature                                        -0.044800  \n",
       "season_Fall                                        -0.053101  \n",
       "season_Spring                                       0.007117  \n",
       "season_Summer                                       0.001067  \n",
       "season_Winter                                       0.044995  \n",
       "weather_ Clear + Few clouds                        -0.830007  \n",
       "weather_ Heavy Rain + Thunderstorm                 -0.006375  \n",
       "weather_ Light Snow, Light Rain                    -0.172850  \n",
       "weather_ Mist + Cloudy                              1.000000  "
      ]
     },
     "execution_count": 29,
     "metadata": {},
     "output_type": "execute_result"
    }
   ],
   "source": [
    "train.corr()"
   ]
  },
  {
   "cell_type": "markdown",
   "metadata": {},
   "source": [
    "#### From the newly created variables, temperature,time has high co-relation with target variable. "
   ]
  },
  {
   "cell_type": "markdown",
   "metadata": {},
   "source": [
    "## Modifying the Test Data"
   ]
  },
  {
   "cell_type": "code",
   "execution_count": 30,
   "metadata": {},
   "outputs": [],
   "source": [
    "test=pd.read_csv(r\"Dataset/test.csv\")\n",
    "test_target=pd.read_csv(r\"Dataset/test_label.csv\",header=None)\n",
    "test['Total_booking']=test_target\n",
    "test['date']=test.datetime.apply(lambda x:x.split()[0])\n",
    "test['day']=test.date.apply(lambda x:calendar.day_name[datetime.datetime.strptime(x, \"%m/%d/%Y\").weekday()])\n",
    "test['month']=test.date.apply(lambda x:calendar.month_name[datetime.datetime.strptime(x, \"%m/%d/%Y\").month])\n",
    "test['time']=test.datetime.apply(lambda x:x.split()[1].split(\":\")[0])\n",
    "test['year']=test.date.apply(lambda x:x.split(\"/\")[2])\n",
    "test['year']=test['year'].astype('str').astype('int')\n",
    "test['day']=test.datetime.apply(lambda x:x.split(' ')[0].split(\"/\")[1])\n",
    "test['day']=test['day'].astype('str').astype('int')\n",
    "test['month']=test.datetime.apply(lambda x:x.split(\" \")[0].split(\"/\")[0])\n",
    "test['month']=test['month'].astype('str').astype('int')\n",
    "test['time']=test['time'].astype('str').astype('int')\n",
    "test['datetime']=test['datetime'].apply(lambda x:datetime.datetime.strptime(x,'%m/%d/%Y %H:%M'))\n",
    "test.drop(['datetime','date'],axis=1,inplace=True)\n",
    "test.dtypes\n",
    "test['temperature']=(test['temp']+test['atemp'])/2\n"
   ]
  },
  {
   "cell_type": "code",
   "execution_count": 31,
   "metadata": {},
   "outputs": [
    {
     "name": "stdout",
     "output_type": "stream",
     "text": [
      "atemp column outliers : 0\n",
      "temp column outliers : 0\n",
      "humidity column outliers : 4\n",
      "windspeed column outliers : 22\n"
     ]
    }
   ],
   "source": [
    "outliers=[]\n",
    "\n",
    "def detect_outlier(data,column_name):\n",
    "    data_std = data[column_name].std()\n",
    "    data_mean = np.mean(data[column_name])\n",
    "    outliers_cut_off = data_std * 3\n",
    "    \n",
    "    lower_limit  = data_mean - outliers_cut_off \n",
    "    upper_limit = data_mean + outliers_cut_off \n",
    "    \n",
    "    \n",
    "    # Generate outliers\n",
    "    outliers=[]\n",
    "    index_outliers=[]\n",
    "    for outlier in data[column_name]:\n",
    "        if outlier > upper_limit or outlier < lower_limit:\n",
    "            outliers.append(outlier)\n",
    "    \n",
    "    return outliers\n",
    "\n",
    "print(\"atemp column outliers :\",len(detect_outlier(test,'atemp')))\n",
    "print(\"temp column outliers :\",len(detect_outlier(test,'temp')))\n",
    "print(\"humidity column outliers :\",len(detect_outlier(test,'humidity')))\n",
    "print(\"windspeed column outliers :\",len(detect_outlier(test,'windspeed')))\n",
    "\n"
   ]
  },
  {
   "cell_type": "code",
   "execution_count": 32,
   "metadata": {},
   "outputs": [],
   "source": [
    "humidity_mean=np.mean(test['humidity'])\n",
    "humidity_std = test['humidity'].std()\n",
    "outliers_cut_off=humidity_std * 3\n",
    "lower_limit  = humidity_mean - outliers_cut_off \n",
    "upper_limit = humidity_mean + outliers_cut_off\n",
    "\n",
    "test['humidity'] = test['humidity'].apply(lambda x : humidity_mean if x > upper_limit or x < lower_limit else x )\n",
    "\n",
    "windspeed_mean=np.mean(test['windspeed'])\n",
    "windspeed_std = test['windspeed'].std()\n",
    "outliers_cut_off=windspeed_std * 3\n",
    "lower_limit  = windspeed_mean - outliers_cut_off \n",
    "upper_limit = windspeed_mean + outliers_cut_off\n",
    "\n",
    "test['windspeed'] = test['windspeed'].apply(lambda x : windspeed_mean if x > upper_limit or x < lower_limit else x )\n"
   ]
  },
  {
   "cell_type": "code",
   "execution_count": 33,
   "metadata": {},
   "outputs": [
    {
     "data": {
      "text/html": [
       "<div>\n",
       "<style scoped>\n",
       "    .dataframe tbody tr th:only-of-type {\n",
       "        vertical-align: middle;\n",
       "    }\n",
       "\n",
       "    .dataframe tbody tr th {\n",
       "        vertical-align: top;\n",
       "    }\n",
       "\n",
       "    .dataframe thead th {\n",
       "        text-align: right;\n",
       "    }\n",
       "</style>\n",
       "<table border=\"1\" class=\"dataframe\">\n",
       "  <thead>\n",
       "    <tr style=\"text-align: right;\">\n",
       "      <th></th>\n",
       "      <th>holiday</th>\n",
       "      <th>workingday</th>\n",
       "      <th>temp</th>\n",
       "      <th>atemp</th>\n",
       "      <th>humidity</th>\n",
       "      <th>windspeed</th>\n",
       "      <th>Total_booking</th>\n",
       "      <th>day</th>\n",
       "      <th>month</th>\n",
       "      <th>time</th>\n",
       "      <th>year</th>\n",
       "      <th>temperature</th>\n",
       "      <th>season_Fall</th>\n",
       "      <th>season_Spring</th>\n",
       "      <th>season_Summer</th>\n",
       "      <th>season_Winter</th>\n",
       "      <th>weather_ Clear + Few clouds</th>\n",
       "      <th>weather_ Light Snow, Light Rain</th>\n",
       "      <th>weather_ Mist + Cloudy</th>\n",
       "    </tr>\n",
       "  </thead>\n",
       "  <tbody>\n",
       "    <tr>\n",
       "      <th>0</th>\n",
       "      <td>0</td>\n",
       "      <td>1</td>\n",
       "      <td>21.32</td>\n",
       "      <td>25.000</td>\n",
       "      <td>48.0</td>\n",
       "      <td>35.0008</td>\n",
       "      <td>256</td>\n",
       "      <td>10</td>\n",
       "      <td>5</td>\n",
       "      <td>11</td>\n",
       "      <td>2012</td>\n",
       "      <td>23.1600</td>\n",
       "      <td>0</td>\n",
       "      <td>0</td>\n",
       "      <td>1</td>\n",
       "      <td>0</td>\n",
       "      <td>1</td>\n",
       "      <td>0</td>\n",
       "      <td>0</td>\n",
       "    </tr>\n",
       "    <tr>\n",
       "      <th>1</th>\n",
       "      <td>0</td>\n",
       "      <td>0</td>\n",
       "      <td>23.78</td>\n",
       "      <td>27.275</td>\n",
       "      <td>64.0</td>\n",
       "      <td>7.0015</td>\n",
       "      <td>87</td>\n",
       "      <td>9</td>\n",
       "      <td>6</td>\n",
       "      <td>7</td>\n",
       "      <td>2012</td>\n",
       "      <td>25.5275</td>\n",
       "      <td>0</td>\n",
       "      <td>0</td>\n",
       "      <td>1</td>\n",
       "      <td>0</td>\n",
       "      <td>1</td>\n",
       "      <td>0</td>\n",
       "      <td>0</td>\n",
       "    </tr>\n",
       "    <tr>\n",
       "      <th>2</th>\n",
       "      <td>0</td>\n",
       "      <td>0</td>\n",
       "      <td>11.48</td>\n",
       "      <td>12.120</td>\n",
       "      <td>100.0</td>\n",
       "      <td>27.9993</td>\n",
       "      <td>11</td>\n",
       "      <td>6</td>\n",
       "      <td>3</td>\n",
       "      <td>20</td>\n",
       "      <td>2011</td>\n",
       "      <td>11.8000</td>\n",
       "      <td>0</td>\n",
       "      <td>1</td>\n",
       "      <td>0</td>\n",
       "      <td>0</td>\n",
       "      <td>0</td>\n",
       "      <td>1</td>\n",
       "      <td>0</td>\n",
       "    </tr>\n",
       "    <tr>\n",
       "      <th>3</th>\n",
       "      <td>0</td>\n",
       "      <td>1</td>\n",
       "      <td>25.42</td>\n",
       "      <td>28.790</td>\n",
       "      <td>83.0</td>\n",
       "      <td>0.0000</td>\n",
       "      <td>84</td>\n",
       "      <td>13</td>\n",
       "      <td>10</td>\n",
       "      <td>11</td>\n",
       "      <td>2011</td>\n",
       "      <td>27.1050</td>\n",
       "      <td>0</td>\n",
       "      <td>0</td>\n",
       "      <td>0</td>\n",
       "      <td>1</td>\n",
       "      <td>0</td>\n",
       "      <td>0</td>\n",
       "      <td>1</td>\n",
       "    </tr>\n",
       "    <tr>\n",
       "      <th>4</th>\n",
       "      <td>0</td>\n",
       "      <td>0</td>\n",
       "      <td>25.42</td>\n",
       "      <td>31.060</td>\n",
       "      <td>43.0</td>\n",
       "      <td>23.9994</td>\n",
       "      <td>668</td>\n",
       "      <td>2</td>\n",
       "      <td>6</td>\n",
       "      <td>12</td>\n",
       "      <td>2012</td>\n",
       "      <td>28.2400</td>\n",
       "      <td>0</td>\n",
       "      <td>0</td>\n",
       "      <td>1</td>\n",
       "      <td>0</td>\n",
       "      <td>1</td>\n",
       "      <td>0</td>\n",
       "      <td>0</td>\n",
       "    </tr>\n",
       "  </tbody>\n",
       "</table>\n",
       "</div>"
      ],
      "text/plain": [
       "   holiday  workingday   temp   atemp  humidity  windspeed  Total_booking  \\\n",
       "0        0           1  21.32  25.000      48.0    35.0008            256   \n",
       "1        0           0  23.78  27.275      64.0     7.0015             87   \n",
       "2        0           0  11.48  12.120     100.0    27.9993             11   \n",
       "3        0           1  25.42  28.790      83.0     0.0000             84   \n",
       "4        0           0  25.42  31.060      43.0    23.9994            668   \n",
       "\n",
       "   day  month  time  year  temperature  season_Fall  season_Spring  \\\n",
       "0   10      5    11  2012      23.1600            0              0   \n",
       "1    9      6     7  2012      25.5275            0              0   \n",
       "2    6      3    20  2011      11.8000            0              1   \n",
       "3   13     10    11  2011      27.1050            0              0   \n",
       "4    2      6    12  2012      28.2400            0              0   \n",
       "\n",
       "   season_Summer  season_Winter  weather_ Clear + Few clouds  \\\n",
       "0              1              0                            1   \n",
       "1              1              0                            1   \n",
       "2              0              0                            0   \n",
       "3              0              1                            0   \n",
       "4              1              0                            1   \n",
       "\n",
       "   weather_ Light Snow, Light Rain  weather_ Mist + Cloudy   \n",
       "0                                0                        0  \n",
       "1                                0                        0  \n",
       "2                                1                        0  \n",
       "3                                0                        1  \n",
       "4                                0                        0  "
      ]
     },
     "execution_count": 33,
     "metadata": {},
     "output_type": "execute_result"
    }
   ],
   "source": [
    "test=pd.get_dummies(test)\n",
    "test.head()"
   ]
  },
  {
   "cell_type": "code",
   "execution_count": 34,
   "metadata": {
    "scrolled": true
   },
   "outputs": [
    {
     "data": {
      "text/plain": [
       "(Index(['holiday', 'workingday', 'temp', 'atemp', 'humidity', 'windspeed',\n",
       "        'Total_booking', 'day', 'month', 'time', 'year', 'temperature',\n",
       "        'season_Fall', 'season_Spring', 'season_Summer', 'season_Winter',\n",
       "        'weather_ Clear + Few clouds', 'weather_ Heavy Rain + Thunderstorm ',\n",
       "        'weather_ Light Snow, Light Rain', 'weather_ Mist + Cloudy '],\n",
       "       dtype='object'),\n",
       " Index(['holiday', 'workingday', 'temp', 'atemp', 'humidity', 'windspeed',\n",
       "        'Total_booking', 'day', 'month', 'time', 'year', 'temperature',\n",
       "        'season_Fall', 'season_Spring', 'season_Summer', 'season_Winter',\n",
       "        'weather_ Clear + Few clouds', 'weather_ Light Snow, Light Rain',\n",
       "        'weather_ Mist + Cloudy '],\n",
       "       dtype='object'),\n",
       " (8708, 20),\n",
       " (2178, 19))"
      ]
     },
     "execution_count": 34,
     "metadata": {},
     "output_type": "execute_result"
    }
   ],
   "source": [
    "train.columns,test.columns,train.shape,test.shape"
   ]
  },
  {
   "cell_type": "markdown",
   "metadata": {},
   "source": [
    "## As the column \"weather_ Heavy Rain + Thunderstorm\" doesn't exist in test data, we can remove it from train data."
   ]
  },
  {
   "cell_type": "markdown",
   "metadata": {},
   "source": [
    "## Splitting the data into input and target variable"
   ]
  },
  {
   "cell_type": "code",
   "execution_count": 35,
   "metadata": {},
   "outputs": [],
   "source": [
    "X=train.drop(['Total_booking','atemp','temp','day','weather_ Heavy Rain + Thunderstorm '],axis=1)\n",
    "y=train[['Total_booking']]\n",
    "X_test=test.drop(['Total_booking','atemp','temp','day'],axis=1)\n",
    "y_test=test[['Total_booking']]"
   ]
  },
  {
   "cell_type": "code",
   "execution_count": 36,
   "metadata": {},
   "outputs": [
    {
     "data": {
      "text/plain": [
       "((8708, 15), (2178, 15), (8708, 1), (2178, 1))"
      ]
     },
     "execution_count": 36,
     "metadata": {},
     "output_type": "execute_result"
    }
   ],
   "source": [
    "X.shape,X_test.shape,y.shape,y_test.shape"
   ]
  },
  {
   "cell_type": "code",
   "execution_count": 37,
   "metadata": {},
   "outputs": [
    {
     "data": {
      "text/plain": [
       "(Index(['holiday', 'workingday', 'humidity', 'windspeed', 'month', 'time',\n",
       "        'year', 'temperature', 'season_Fall', 'season_Spring', 'season_Summer',\n",
       "        'season_Winter', 'weather_ Clear + Few clouds',\n",
       "        'weather_ Light Snow, Light Rain', 'weather_ Mist + Cloudy '],\n",
       "       dtype='object'),\n",
       " Index(['holiday', 'workingday', 'humidity', 'windspeed', 'month', 'time',\n",
       "        'year', 'temperature', 'season_Fall', 'season_Spring', 'season_Summer',\n",
       "        'season_Winter', 'weather_ Clear + Few clouds',\n",
       "        'weather_ Light Snow, Light Rain', 'weather_ Mist + Cloudy '],\n",
       "       dtype='object'))"
      ]
     },
     "execution_count": 37,
     "metadata": {},
     "output_type": "execute_result"
    }
   ],
   "source": [
    "X.columns,X_test.columns"
   ]
  },
  {
   "cell_type": "markdown",
   "metadata": {},
   "source": [
    "### Linear Regression"
   ]
  },
  {
   "cell_type": "markdown",
   "metadata": {},
   "source": [
    "### Ordinary Least Squares using statsmodels.api"
   ]
  },
  {
   "cell_type": "code",
   "execution_count": 38,
   "metadata": {},
   "outputs": [
    {
     "name": "stdout",
     "output_type": "stream",
     "text": [
      "                            OLS Regression Results                            \n",
      "==============================================================================\n",
      "Dep. Variable:          Total_booking   R-squared:                       0.398\n",
      "Model:                            OLS   Adj. R-squared:                  0.397\n",
      "Method:                 Least Squares   F-statistic:                     411.3\n",
      "Date:                Sat, 24 Aug 2019   Prob (F-statistic):               0.00\n",
      "Time:                        22:04:08   Log-Likelihood:                -55438.\n",
      "No. Observations:                8708   AIC:                         1.109e+05\n",
      "Df Residuals:                    8693   BIC:                         1.110e+05\n",
      "Df Model:                          14                                         \n",
      "Covariance Type:            nonrobust                                         \n",
      "===================================================================================================\n",
      "                                      coef    std err          t      P>|t|      [0.025      0.975]\n",
      "---------------------------------------------------------------------------------------------------\n",
      "const                           -1.305e+05   4912.702    -26.562      0.000    -1.4e+05   -1.21e+05\n",
      "holiday                            -5.9439      9.450     -0.629      0.529     -24.468      12.580\n",
      "workingday                          0.3724      3.351      0.111      0.912      -6.196       6.941\n",
      "humidity                           -1.9560      0.101    -19.413      0.000      -2.154      -1.759\n",
      "windspeed                           0.6866      0.206      3.333      0.001       0.283       1.090\n",
      "month                              10.9411      1.880      5.819      0.000       7.255      14.627\n",
      "time                                7.6435      0.235     32.569      0.000       7.183       8.104\n",
      "year                               81.1104      3.051     26.584      0.000      75.130      87.091\n",
      "temperature                         7.8475      0.315     24.883      0.000       7.229       8.466\n",
      "season_Fall                     -3.266e+04   1227.961    -26.596      0.000   -3.51e+04   -3.03e+04\n",
      "season_Spring                    -3.26e+04   1228.404    -26.537      0.000    -3.5e+04   -3.02e+04\n",
      "season_Summer                   -3.261e+04   1228.097    -26.552      0.000    -3.5e+04   -3.02e+04\n",
      "season_Winter                   -3.263e+04   1228.321    -26.563      0.000    -3.5e+04   -3.02e+04\n",
      "weather_ Clear + Few clouds       -64.7184    141.060     -0.459      0.646    -341.230     211.793\n",
      "weather_ Light Snow, Light Rain   -92.8460    141.111     -0.658      0.511    -369.456     183.764\n",
      "weather_ Mist + Cloudy            -55.0424    141.056     -0.390      0.696    -331.545     221.460\n",
      "==============================================================================\n",
      "Omnibus:                     1708.651   Durbin-Watson:                   2.003\n",
      "Prob(Omnibus):                  0.000   Jarque-Bera (JB):             3300.753\n",
      "Skew:                           1.197   Prob(JB):                         0.00\n",
      "Kurtosis:                       4.835   Cond. No.                     3.32e+18\n",
      "==============================================================================\n",
      "\n",
      "Warnings:\n",
      "[1] Standard Errors assume that the covariance matrix of the errors is correctly specified.\n",
      "[2] The smallest eigenvalue is 3.21e-27. This might indicate that there are\n",
      "strong multicollinearity problems or that the design matrix is singular.\n",
      "                            OLS Regression Results                            \n",
      "==============================================================================\n",
      "Dep. Variable:          Total_booking   R-squared:                       0.398\n",
      "Model:                            OLS   Adj. R-squared:                  0.397\n",
      "Method:                 Least Squares   F-statistic:                     411.3\n",
      "Date:                Sat, 24 Aug 2019   Prob (F-statistic):               0.00\n",
      "Time:                        22:04:08   Log-Likelihood:                -55438.\n",
      "No. Observations:                8708   AIC:                         1.109e+05\n",
      "Df Residuals:                    8693   BIC:                         1.110e+05\n",
      "Df Model:                          14                                         \n",
      "Covariance Type:            nonrobust                                         \n",
      "===================================================================================================\n",
      "                                      coef    std err          t      P>|t|      [0.025      0.975]\n",
      "---------------------------------------------------------------------------------------------------\n",
      "const                           -1.305e+05   4912.702    -26.562      0.000    -1.4e+05   -1.21e+05\n",
      "holiday                            -5.9439      9.450     -0.629      0.529     -24.468      12.580\n",
      "workingday                          0.3724      3.351      0.111      0.912      -6.196       6.941\n",
      "humidity                           -1.9560      0.101    -19.413      0.000      -2.154      -1.759\n",
      "windspeed                           0.6866      0.206      3.333      0.001       0.283       1.090\n",
      "month                              10.9411      1.880      5.819      0.000       7.255      14.627\n",
      "time                                7.6435      0.235     32.569      0.000       7.183       8.104\n",
      "year                               81.1104      3.051     26.584      0.000      75.130      87.091\n",
      "temperature                         7.8475      0.315     24.883      0.000       7.229       8.466\n",
      "season_Fall                     -3.266e+04   1227.961    -26.596      0.000   -3.51e+04   -3.03e+04\n",
      "season_Spring                    -3.26e+04   1228.404    -26.537      0.000    -3.5e+04   -3.02e+04\n",
      "season_Summer                   -3.261e+04   1228.097    -26.552      0.000    -3.5e+04   -3.02e+04\n",
      "season_Winter                   -3.263e+04   1228.321    -26.563      0.000    -3.5e+04   -3.02e+04\n",
      "weather_ Clear + Few clouds       -64.7184    141.060     -0.459      0.646    -341.230     211.793\n",
      "weather_ Light Snow, Light Rain   -92.8460    141.111     -0.658      0.511    -369.456     183.764\n",
      "weather_ Mist + Cloudy            -55.0424    141.056     -0.390      0.696    -331.545     221.460\n",
      "==============================================================================\n",
      "Omnibus:                     1708.651   Durbin-Watson:                   2.003\n",
      "Prob(Omnibus):                  0.000   Jarque-Bera (JB):             3300.753\n",
      "Skew:                           1.197   Prob(JB):                         0.00\n",
      "Kurtosis:                       4.835   Cond. No.                     3.32e+18\n",
      "==============================================================================\n",
      "\n",
      "Warnings:\n",
      "[1] Standard Errors assume that the covariance matrix of the errors is correctly specified.\n",
      "[2] The smallest eigenvalue is 3.21e-27. This might indicate that there are\n",
      "strong multicollinearity problems or that the design matrix is singular.\n"
     ]
    }
   ],
   "source": [
    "import statsmodels.api as sm\n",
    "X_ols = sm.add_constant(X) # adding a constant\n",
    "\n",
    "model = sm.OLS(y, X_ols).fit()\n",
    "predictions_train = model.predict(X_ols) \n",
    "\n",
    "print_model = model.summary()\n",
    "print(print_model)\n",
    "\n",
    "X_test_ols = sm.add_constant(X_test)\n",
    "predictions_test = model.predict(X_test_ols) \n",
    "\n",
    "print_model = model.summary()\n",
    "print(print_model)\n"
   ]
  },
  {
   "cell_type": "markdown",
   "metadata": {},
   "source": [
    "#### R square is also higher in this model. "
   ]
  },
  {
   "cell_type": "markdown",
   "metadata": {},
   "source": [
    "#### The p-value for column holiday and working day is greater than 0.05, so we accept the null hypothesis for these."
   ]
  },
  {
   "cell_type": "markdown",
   "metadata": {},
   "source": [
    "### Linear Regression using cross_val_score"
   ]
  },
  {
   "cell_type": "code",
   "execution_count": 39,
   "metadata": {},
   "outputs": [
    {
     "name": "stdout",
     "output_type": "stream",
     "text": [
      "training data score:  0.39417643732924307\n",
      "testing data score: 0.39538693576825173\n"
     ]
    }
   ],
   "source": [
    "lr = LinearRegression()\n",
    "kfold = model_selection.KFold(n_splits=5, random_state=162)\n",
    "cv_results = model_selection.cross_val_score(lr, X, y, cv=kfold, scoring='r2')\n",
    "print(\"training data score: \",cv_results.mean())\n",
    "\n",
    "lr = LinearRegression()\n",
    "kfold = model_selection.KFold(n_splits=5, random_state=162)\n",
    "cv_results = model_selection.cross_val_score(lr, X_test, y_test, cv=kfold, scoring='r2')\n",
    "print(\"testing data score:\" ,cv_results.mean())"
   ]
  },
  {
   "cell_type": "markdown",
   "metadata": {},
   "source": [
    "#### Rsquare is higher here than OLS model"
   ]
  },
  {
   "cell_type": "markdown",
   "metadata": {},
   "source": [
    "### Linear Regression with grid search"
   ]
  },
  {
   "cell_type": "code",
   "execution_count": 41,
   "metadata": {},
   "outputs": [
    {
     "name": "stdout",
     "output_type": "stream",
     "text": [
      "training data r2 / variance :  0.39441071574572667\n",
      "testing data r2 / variance :  0.39527729989826815\n"
     ]
    }
   ],
   "source": [
    "model = LinearRegression()\n",
    "parameters = {'fit_intercept':[True,False], 'normalize':[True,False], 'copy_X':[True, False]}\n",
    "grid = GridSearchCV(model,parameters, cv=4)\n",
    "grid.fit(X, y)\n",
    "print(\"training data r2 / variance : \", grid.best_score_)\n",
    "grid.fit(X_test, y_test)\n",
    "print(\"testing data r2 / variance : \", grid.best_score_)\n",
    "# print(\"Residual sum of squares: %.2f\",np.mean((grid.predict(X_test) - y_test) ** 2))"
   ]
  },
  {
   "cell_type": "markdown",
   "metadata": {},
   "source": [
    "#### Rsquare is lower here than cross_val_score model"
   ]
  },
  {
   "cell_type": "markdown",
   "metadata": {},
   "source": [
    "### Feature Importance using RandomForestClassifier"
   ]
  },
  {
   "cell_type": "code",
   "execution_count": 42,
   "metadata": {},
   "outputs": [
    {
     "name": "stdout",
     "output_type": "stream",
     "text": [
      "[0.0070712  0.02573765 0.19861013 0.18819834 0.06357031 0.23008709\n",
      " 0.02340738 0.20704179 0.00504077 0.00120924 0.00644958 0.00514123\n",
      " 0.01551861 0.0076336  0.01528308]\n"
     ]
    },
    {
     "data": {
      "image/png": "[encoded data removed]",
      "text/plain": [
       "<Figure size 432x288 with 1 Axes>"
      ]
     },
     "metadata": {
      "needs_background": "light"
     },
     "output_type": "display_data"
    }
   ],
   "source": [
    "from sklearn.ensemble import RandomForestClassifier\n",
    "model = RandomForestClassifier()\n",
    "model.fit(X,y)\n",
    "print(model.feature_importances_)\n",
    "feat_importances = pd.Series(model.feature_importances_, index=X.columns)\n",
    "feat_importances.nlargest(22).plot(kind='barh')\n",
    "plt.show()"
   ]
  },
  {
   "cell_type": "markdown",
   "metadata": {},
   "source": [
    "#### As all columns show certain importance over the target column, lets not eliminate any column yet."
   ]
  },
  {
   "cell_type": "markdown",
   "metadata": {},
   "source": [
    "## Recursive Feature Elimination"
   ]
  },
  {
   "cell_type": "code",
   "execution_count": 45,
   "metadata": {},
   "outputs": [
    {
     "name": "stdout",
     "output_type": "stream",
     "text": [
      "[False False False False False False  True  True  True False False  True\n",
      "  True  True False]\n",
      "Selected features: ['year' 'temperature' 'season_Fall' 'season_Winter'\n",
      " 'weather_ Clear + Few clouds' 'weather_ Light Snow, Light Rain']\n",
      "['holiday' 'workingday' 'humidity' 'windspeed' 'month' 'time'\n",
      " 'season_Spring' 'season_Summer' 'weather_ Mist + Cloudy ']\n",
      "Feature ranking [ 7 10  8  9  5  2  1  1  1  3  4  1  1  1  6]\n",
      "r2/variance :  0.23149987825275642\n",
      "Residual sum of squares: %.2f Total_booking    24731.145062\n",
      "dtype: float64\n"
     ]
    }
   ],
   "source": [
    "from sklearn.feature_selection import RFE\n",
    "a = np.array(list(X.columns))\n",
    "# create a base classifier used to evaluate a subset of attributes\n",
    "model = LinearRegression()\n",
    "\n",
    "# create the RFE model and select 3 attributes\n",
    "rfe = RFE(model, 6)\n",
    "rfe = rfe.fit(X, y)\n",
    "\n",
    "# summarize the selection of the attributes\n",
    "print(rfe.support_)\n",
    "print('Selected features:', a[rfe.support_])\n",
    "print(a[~rfe.support_])\n",
    "print('Feature ranking', rfe.ranking_)\n",
    "\n",
    "train_rfe=X[['season_Fall','season_Winter','weather_ Clear + Few clouds','year','temperature']]\n",
    "model.fit(train_rfe,y)\n",
    "\n",
    "X_testrfe=X_test[['season_Fall','season_Winter','weather_ Clear + Few clouds','year','temperature']]\n",
    "predictions = model.predict(X_testrfe)\n",
    "print (\"r2/variance : \", model.score(X_testrfe,y_test))\n",
    "print(\"Residual sum of squares: %.2f\", np.mean((model.predict(X_testrfe) - y_test) ** 2))"
   ]
  },
  {
   "cell_type": "markdown",
   "metadata": {},
   "source": [
    "### RFE doesn't give better rsquare"
   ]
  },
  {
   "cell_type": "code",
   "execution_count": 46,
   "metadata": {},
   "outputs": [
    {
     "data": {
      "text/plain": [
       "((8708, 15), (2178, 15), (8708, 1), (2178, 1))"
      ]
     },
     "execution_count": 46,
     "metadata": {},
     "output_type": "execute_result"
    }
   ],
   "source": [
    "X.shape,X_test.shape,y.shape,y_test.shape"
   ]
  },
  {
   "cell_type": "markdown",
   "metadata": {},
   "source": [
    "# Improving the SCORE using ensemble methods"
   ]
  },
  {
   "cell_type": "markdown",
   "metadata": {},
   "source": [
    "### GradientBoostingRegressor"
   ]
  },
  {
   "cell_type": "code",
   "execution_count": 47,
   "metadata": {},
   "outputs": [
    {
     "name": "stdout",
     "output_type": "stream",
     "text": [
      "r2 score : 0.8737746510697225\n",
      "RMSE of training data: 64.49854151002235\n",
      "RMSE of testing data: 65.91580302249068\n"
     ]
    }
   ],
   "source": [
    "from sklearn.ensemble import GradientBoostingRegressor\n",
    "from sklearn.metrics import mean_squared_error\n",
    "model=GradientBoostingRegressor(random_state=216)\n",
    "model.fit(X,y)\n",
    "print(\"r2 score :\",model.score(X,y))\n",
    "\n",
    "pred_train=model.predict(X)\n",
    "print(\"RMSE of training data:\",np.sqrt(mean_squared_error(y,pred_train)))\n",
    "\n",
    "pred_test=model.predict(X_test)\n",
    "print(\"RMSE of testing data:\",np.sqrt(mean_squared_error(y_test,pred_test)))"
   ]
  },
  {
   "cell_type": "markdown",
   "metadata": {},
   "source": [
    "#### The model looks good with very less difference between RMSE of training and testing data."
   ]
  },
  {
   "cell_type": "markdown",
   "metadata": {},
   "source": [
    "### XGBoost Regressor"
   ]
  },
  {
   "cell_type": "code",
   "execution_count": 48,
   "metadata": {},
   "outputs": [
    {
     "name": "stdout",
     "output_type": "stream",
     "text": [
      "[22:15:21] WARNING: C:/Jenkins/workspace/xgboost-win64_release_0.90/src/objective/regression_obj.cu:152: reg:linear is now deprecated in favor of reg:squarederror.\n",
      "r2 score : 0.8645343001337875\n",
      "RMSE of training data: 66.81766222302234\n",
      "RMSE of testing data: 69.45952106620152\n"
     ]
    }
   ],
   "source": [
    "import xgboost as xgb\n",
    "model=xgb.XGBRegressor(random_state=216)\n",
    "model.fit(X,y)\n",
    "print(\"r2 score :\",model.score(X,y))\n",
    "\n",
    "pred_train=model.predict(X)\n",
    "print(\"RMSE of training data:\",np.sqrt(mean_squared_error(y,pred_train)))\n",
    "\n",
    "pred_test=model.predict(X_test)\n",
    "print(\"RMSE of testing data:\",np.sqrt(mean_squared_error(y_test,pred_test)))"
   ]
  },
  {
   "cell_type": "markdown",
   "metadata": {},
   "source": [
    "#### The model looks good. "
   ]
  },
  {
   "cell_type": "markdown",
   "metadata": {},
   "source": [
    "### RandomForest Regressor"
   ]
  },
  {
   "cell_type": "code",
   "execution_count": 49,
   "metadata": {},
   "outputs": [
    {
     "name": "stdout",
     "output_type": "stream",
     "text": [
      "r2 score : 0.9877126312412203\n",
      "RMSE of training data: 20.12361733359932\n",
      "RMSE of testing data: 46.97955065075117\n"
     ]
    }
   ],
   "source": [
    "model=RandomForestRegressor(random_state=216)\n",
    "model.fit(X,y)\n",
    "print(\"r2 score :\",model.score(X,y))\n",
    "\n",
    "pred_train=model.predict(X)\n",
    "print(\"RMSE of training data:\",np.sqrt(mean_squared_error(y,pred_train)))\n",
    "\n",
    "pred_test=model.predict(X_test)\n",
    "print(\"RMSE of testing data:\",np.sqrt(mean_squared_error(y_test,pred_test)))"
   ]
  },
  {
   "cell_type": "markdown",
   "metadata": {},
   "source": [
    "#### The model maybe underfitting."
   ]
  },
  {
   "cell_type": "markdown",
   "metadata": {},
   "source": [
    "## Improving the ensemble models with parameter tuning with GridSearchCV"
   ]
  },
  {
   "cell_type": "markdown",
   "metadata": {},
   "source": [
    "#### GradientBoost"
   ]
  },
  {
   "cell_type": "code",
   "execution_count": 50,
   "metadata": {},
   "outputs": [
    {
     "name": "stdout",
     "output_type": "stream",
     "text": [
      "GSCV Gradient Boost best parameters {'learning_rate': 0.5, 'n_estimators': 300}\n",
      "-2532.124759931561\n",
      "Wall time: 31.3 s\n"
     ]
    }
   ],
   "source": [
    "%%time\n",
    "params={'n_estimators':[100,300],'learning_rate':[0.2,0.5]}\n",
    "model=GradientBoostingRegressor(random_state=216)\n",
    "gcv=GridSearchCV(estimator=model,param_grid=params,scoring='neg_mean_squared_error',n_jobs=1)\n",
    "gcv.fit(X,y)\n",
    "print(\"GSCV Gradient Boost best parameters\",gcv.best_params_)\n",
    "print(gcv.best_score_)"
   ]
  },
  {
   "cell_type": "code",
   "execution_count": 51,
   "metadata": {},
   "outputs": [
    {
     "name": "stdout",
     "output_type": "stream",
     "text": [
      "r2 score : 0.9522768691878888\n",
      "RMSE of training data: 39.658936855842505\n",
      "RMSE of testing data: 47.829805732874554\n"
     ]
    }
   ],
   "source": [
    "model=GradientBoostingRegressor(n_estimators= 300,learning_rate=0.5,random_state=216)\n",
    "model.fit(X,y)\n",
    "print(\"r2 score :\",model.score(X,y))\n",
    "\n",
    "pred_train=model.predict(X)\n",
    "print(\"RMSE of training data:\",np.sqrt(mean_squared_error(y,pred_train)))\n",
    "\n",
    "pred_test=model.predict(X_test)\n",
    "print(\"RMSE of testing data:\",np.sqrt(mean_squared_error(y_test,pred_test)))"
   ]
  },
  {
   "cell_type": "markdown",
   "metadata": {},
   "source": [
    "#### R square vale of testing data incrased from 0.85 to 0.95 with parameter tuning using grid search."
   ]
  },
  {
   "cell_type": "code",
   "execution_count": 52,
   "metadata": {},
   "outputs": [
    {
     "name": "stdout",
     "output_type": "stream",
     "text": [
      "[22:16:09] WARNING: C:/Jenkins/workspace/xgboost-win64_release_0.90/src/objective/regression_obj.cu:152: reg:linear is now deprecated in favor of reg:squarederror.\n",
      "[22:16:13] WARNING: C:/Jenkins/workspace/xgboost-win64_release_0.90/src/objective/regression_obj.cu:152: reg:linear is now deprecated in favor of reg:squarederror.\n",
      "[22:16:17] WARNING: C:/Jenkins/workspace/xgboost-win64_release_0.90/src/objective/regression_obj.cu:152: reg:linear is now deprecated in favor of reg:squarederror.\n",
      "[22:16:20] WARNING: C:/Jenkins/workspace/xgboost-win64_release_0.90/src/objective/regression_obj.cu:152: reg:linear is now deprecated in favor of reg:squarederror.\n",
      "[22:16:26] WARNING: C:/Jenkins/workspace/xgboost-win64_release_0.90/src/objective/regression_obj.cu:152: reg:linear is now deprecated in favor of reg:squarederror.\n",
      "[22:16:32] WARNING: C:/Jenkins/workspace/xgboost-win64_release_0.90/src/objective/regression_obj.cu:152: reg:linear is now deprecated in favor of reg:squarederror.\n",
      "[22:16:37] WARNING: C:/Jenkins/workspace/xgboost-win64_release_0.90/src/objective/regression_obj.cu:152: reg:linear is now deprecated in favor of reg:squarederror.\n",
      "[22:16:41] WARNING: C:/Jenkins/workspace/xgboost-win64_release_0.90/src/objective/regression_obj.cu:152: reg:linear is now deprecated in favor of reg:squarederror.\n",
      "[22:16:45] WARNING: C:/Jenkins/workspace/xgboost-win64_release_0.90/src/objective/regression_obj.cu:152: reg:linear is now deprecated in favor of reg:squarederror.\n",
      "[22:16:49] WARNING: C:/Jenkins/workspace/xgboost-win64_release_0.90/src/objective/regression_obj.cu:152: reg:linear is now deprecated in favor of reg:squarederror.\n",
      "[22:16:54] WARNING: C:/Jenkins/workspace/xgboost-win64_release_0.90/src/objective/regression_obj.cu:152: reg:linear is now deprecated in favor of reg:squarederror.\n",
      "[22:17:00] WARNING: C:/Jenkins/workspace/xgboost-win64_release_0.90/src/objective/regression_obj.cu:152: reg:linear is now deprecated in favor of reg:squarederror.\n",
      "[22:17:05] WARNING: C:/Jenkins/workspace/xgboost-win64_release_0.90/src/objective/regression_obj.cu:152: reg:linear is now deprecated in favor of reg:squarederror.\n",
      "GSCV Gradient Boost best parameters {'learning_rate': 0.5, 'n_estimators': 300}\n",
      "-2532.381347838376\n",
      "Wall time: 1min 4s\n"
     ]
    }
   ],
   "source": [
    "%%time\n",
    "params={'n_estimators':[200,300],'learning_rate':[0.2,0.5]}\n",
    "model=xgb.XGBRegressor(random_state=216)\n",
    "gcv=GridSearchCV(estimator=model,param_grid=params,scoring='neg_mean_squared_error',n_jobs=1)\n",
    "gcv.fit(X,y)\n",
    "print(\"GSCV Gradient Boost best parameters\",gcv.best_params_)\n",
    "print(gcv.best_score_)"
   ]
  },
  {
   "cell_type": "code",
   "execution_count": 53,
   "metadata": {},
   "outputs": [
    {
     "name": "stdout",
     "output_type": "stream",
     "text": [
      "[22:17:14] WARNING: C:/Jenkins/workspace/xgboost-win64_release_0.90/src/objective/regression_obj.cu:152: reg:linear is now deprecated in favor of reg:squarederror.\n",
      "r2 score : 0.9508141202067887\n",
      "RMSE of training data: 40.26213736581918\n",
      "RMSE of testing data: 48.281567421206326\n"
     ]
    }
   ],
   "source": [
    "model=xgb.XGBRegressor(n_estimators= 300,learning_rate=0.5,random_state=216)\n",
    "model.fit(X,y)\n",
    "print(\"r2 score :\",model.score(X,y))\n",
    "\n",
    "pred_train=model.predict(X)\n",
    "print(\"RMSE of training data:\",np.sqrt(mean_squared_error(y,pred_train)))\n",
    "\n",
    "pred_test=model.predict(X_test)\n",
    "print(\"RMSE of testing data:\",np.sqrt(mean_squared_error(y_test,pred_test)))"
   ]
  },
  {
   "cell_type": "markdown",
   "metadata": {},
   "source": [
    "#### R square vale of testing data incrased from 0.86 to 0.95 with parameter tuning using grid search. A significant increase due to grid search."
   ]
  },
  {
   "cell_type": "code",
   "execution_count": 54,
   "metadata": {},
   "outputs": [
    {
     "name": "stdout",
     "output_type": "stream",
     "text": [
      "GSCV Gradient Boost best parameters {'n_estimators': 300}\n",
      "-2115.327287216555\n",
      "Wall time: 2min 13s\n"
     ]
    }
   ],
   "source": [
    "%%time\n",
    "params={'n_estimators':[200,300]}\n",
    "model=RandomForestRegressor(random_state=216)\n",
    "gcv=GridSearchCV(estimator=model,param_grid=params,scoring='neg_mean_squared_error',n_jobs=1)\n",
    "gcv.fit(X,y)\n",
    "print(\"GSCV Gradient Boost best parameters\",gcv.best_params_)\n",
    "print(gcv.best_score_)"
   ]
  },
  {
   "cell_type": "code",
   "execution_count": 55,
   "metadata": {},
   "outputs": [
    {
     "name": "stdout",
     "output_type": "stream",
     "text": [
      "r2 score : 0.9916503691091998\n",
      "RMSE of training data: 16.58861939028858\n",
      "RMSE of testing data: 43.07201319055383\n"
     ]
    }
   ],
   "source": [
    "model=RandomForestRegressor(n_estimators= 300,random_state=216)\n",
    "model.fit(X,y)\n",
    "print(\"r2 score :\",model.score(X,y))\n",
    "\n",
    "pred_train=model.predict(X)\n",
    "print(\"RMSE of training data:\",np.sqrt(mean_squared_error(y,pred_train)))\n",
    "\n",
    "pred_test=model.predict(X_test)\n",
    "print(\"RMSE of testing data:\",np.sqrt(mean_squared_error(y_test,pred_test)))"
   ]
  },
  {
   "cell_type": "markdown",
   "metadata": {},
   "source": [
    "#### R square vale of testing data incrased from 0.98 to with parameter 0.99 tuning using grid search but with same RMSE of training and testing data. "
   ]
  },
  {
   "cell_type": "markdown",
   "metadata": {},
   "source": [
    "#### Finally, the RandomForestRegressor model performed well on our data with 0.99 explained variance.\n",
    "#### 16.58 root mean squared error on training data. \n",
    "#### 43.07 root mean squared error on testing data."
   ]
  }
 ],
 "metadata": {
  "kernelspec": {
   "display_name": "Python 3",
   "language": "python",
   "name": "python3"
  },
  "language_info": {
   "codemirror_mode": {
    "name": "ipython",
    "version": 3
   },
   "file_extension": ".py",
   "mimetype": "text/x-python",
   "name": "python",
   "nbconvert_exporter": "python",
   "pygments_lexer": "ipython3",
   "version": "3.7.3"
  }
 },
 "nbformat": 4,
 "nbformat_minor": 2
}
