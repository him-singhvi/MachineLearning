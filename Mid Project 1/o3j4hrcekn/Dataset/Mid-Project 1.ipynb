{
 "cells": [
  {
   "cell_type": "code",
   "execution_count": 2,
   "metadata": {},
   "outputs": [],
   "source": [
    "import pandas as pd\n",
    "import numpy as np\n",
    "import seaborn as sns\n",
    "import matplotlib.pyplot as plt\n",
    "%matplotlib inline\n",
    "\n",
    "import datetime as dt\n",
    "import calendar as cal\n",
    "\n",
    "from sklearn.preprocessing import LabelEncoder"
   ]
  },
  {
   "cell_type": "code",
   "execution_count": 3,
   "metadata": {},
   "outputs": [],
   "source": [
    "df_train = pd.read_csv('train.csv')\n",
    "df_train_label = pd.read_csv('train_label.csv', header=None)\n",
    "df_test = pd.read_csv('test.csv')\n",
    "df_test_label = pd.read_csv('test_label.csv', header=None)"
   ]
  },
  {
   "cell_type": "code",
   "execution_count": 4,
   "metadata": {},
   "outputs": [
    {
     "name": "stdout",
     "output_type": "stream",
     "text": [
      "(8708, 9)\n",
      "(8708, 1)\n",
      "(2178, 9)\n",
      "(2178, 1)\n"
     ]
    }
   ],
   "source": [
    "print(df_train.shape)\n",
    "print(df_train_label.shape)\n",
    "print(df_test.shape)\n",
    "print(df_test_label.shape)"
   ]
  },
  {
   "cell_type": "code",
   "execution_count": 5,
   "metadata": {},
   "outputs": [
    {
     "data": {
      "text/plain": [
       "datetime      8708\n",
       "season           4\n",
       "holiday          2\n",
       "workingday       2\n",
       "weather          4\n",
       "temp            49\n",
       "atemp           60\n",
       "humidity        88\n",
       "windspeed       28\n",
       "dtype: int64"
      ]
     },
     "execution_count": 5,
     "metadata": {},
     "output_type": "execute_result"
    }
   ],
   "source": [
    "df_train.nunique()"
   ]
  },
  {
   "cell_type": "code",
   "execution_count": 6,
   "metadata": {},
   "outputs": [],
   "source": [
    "trainDF = df_train.join(df_train_label)\n",
    "testDF = df_test.join(df_train_label)"
   ]
  },
  {
   "cell_type": "code",
   "execution_count": 7,
   "metadata": {},
   "outputs": [],
   "source": [
    "trainDF = trainDF.rename(columns={0:\"Bookings\"})\n",
    "testDF = testDF.rename(columns={0:\"Bookings\"})"
   ]
  },
  {
   "cell_type": "code",
   "execution_count": 8,
   "metadata": {},
   "outputs": [
    {
     "data": {
      "text/html": [
       "<div>\n",
       "<style scoped>\n",
       "    .dataframe tbody tr th:only-of-type {\n",
       "        vertical-align: middle;\n",
       "    }\n",
       "\n",
       "    .dataframe tbody tr th {\n",
       "        vertical-align: top;\n",
       "    }\n",
       "\n",
       "    .dataframe thead th {\n",
       "        text-align: right;\n",
       "    }\n",
       "</style>\n",
       "<table border=\"1\" class=\"dataframe\">\n",
       "  <thead>\n",
       "    <tr style=\"text-align: right;\">\n",
       "      <th></th>\n",
       "      <th>datetime</th>\n",
       "      <th>season</th>\n",
       "      <th>holiday</th>\n",
       "      <th>workingday</th>\n",
       "      <th>weather</th>\n",
       "      <th>temp</th>\n",
       "      <th>atemp</th>\n",
       "      <th>humidity</th>\n",
       "      <th>windspeed</th>\n",
       "      <th>Bookings</th>\n",
       "    </tr>\n",
       "  </thead>\n",
       "  <tbody>\n",
       "    <tr>\n",
       "      <th>0</th>\n",
       "      <td>5/2/2012 19:00</td>\n",
       "      <td>Summer</td>\n",
       "      <td>0</td>\n",
       "      <td>1</td>\n",
       "      <td>Clear + Few clouds</td>\n",
       "      <td>22.14</td>\n",
       "      <td>25.760</td>\n",
       "      <td>77</td>\n",
       "      <td>16.9979</td>\n",
       "      <td>504</td>\n",
       "    </tr>\n",
       "    <tr>\n",
       "      <th>1</th>\n",
       "      <td>9/5/2012 4:00</td>\n",
       "      <td>Fall</td>\n",
       "      <td>0</td>\n",
       "      <td>1</td>\n",
       "      <td>Clear + Few clouds</td>\n",
       "      <td>28.70</td>\n",
       "      <td>33.335</td>\n",
       "      <td>79</td>\n",
       "      <td>19.0012</td>\n",
       "      <td>5</td>\n",
       "    </tr>\n",
       "    <tr>\n",
       "      <th>2</th>\n",
       "      <td>1/13/2011 9:00</td>\n",
       "      <td>Spring</td>\n",
       "      <td>0</td>\n",
       "      <td>1</td>\n",
       "      <td>Clear + Few clouds</td>\n",
       "      <td>5.74</td>\n",
       "      <td>6.060</td>\n",
       "      <td>50</td>\n",
       "      <td>22.0028</td>\n",
       "      <td>139</td>\n",
       "    </tr>\n",
       "    <tr>\n",
       "      <th>3</th>\n",
       "      <td>11/18/2011 16:00</td>\n",
       "      <td>Winter</td>\n",
       "      <td>0</td>\n",
       "      <td>1</td>\n",
       "      <td>Clear + Few clouds</td>\n",
       "      <td>13.94</td>\n",
       "      <td>16.665</td>\n",
       "      <td>29</td>\n",
       "      <td>8.9981</td>\n",
       "      <td>209</td>\n",
       "    </tr>\n",
       "    <tr>\n",
       "      <th>4</th>\n",
       "      <td>9/13/2011 13:00</td>\n",
       "      <td>Fall</td>\n",
       "      <td>0</td>\n",
       "      <td>1</td>\n",
       "      <td>Clear + Few clouds</td>\n",
       "      <td>30.34</td>\n",
       "      <td>33.335</td>\n",
       "      <td>51</td>\n",
       "      <td>19.0012</td>\n",
       "      <td>184</td>\n",
       "    </tr>\n",
       "  </tbody>\n",
       "</table>\n",
       "</div>"
      ],
      "text/plain": [
       "           datetime  season  holiday  workingday              weather   temp  \\\n",
       "0    5/2/2012 19:00  Summer        0           1   Clear + Few clouds  22.14   \n",
       "1     9/5/2012 4:00    Fall        0           1   Clear + Few clouds  28.70   \n",
       "2    1/13/2011 9:00  Spring        0           1   Clear + Few clouds   5.74   \n",
       "3  11/18/2011 16:00  Winter        0           1   Clear + Few clouds  13.94   \n",
       "4   9/13/2011 13:00    Fall        0           1   Clear + Few clouds  30.34   \n",
       "\n",
       "    atemp  humidity  windspeed  Bookings  \n",
       "0  25.760        77    16.9979       504  \n",
       "1  33.335        79    19.0012         5  \n",
       "2   6.060        50    22.0028       139  \n",
       "3  16.665        29     8.9981       209  \n",
       "4  33.335        51    19.0012       184  "
      ]
     },
     "execution_count": 8,
     "metadata": {},
     "output_type": "execute_result"
    }
   ],
   "source": [
    "trainDF.head()"
   ]
  },
  {
   "cell_type": "code",
   "execution_count": 9,
   "metadata": {},
   "outputs": [
    {
     "data": {
      "text/plain": [
       "(8708, 10)"
      ]
     },
     "execution_count": 9,
     "metadata": {},
     "output_type": "execute_result"
    }
   ],
   "source": [
    "trainDF.shape"
   ]
  },
  {
   "cell_type": "markdown",
   "metadata": {},
   "source": [
    "## Missing Value Analysis"
   ]
  },
  {
   "cell_type": "code",
   "execution_count": 10,
   "metadata": {},
   "outputs": [
    {
     "data": {
      "text/plain": [
       "datetime      False\n",
       "season        False\n",
       "holiday       False\n",
       "workingday    False\n",
       "weather       False\n",
       "temp          False\n",
       "atemp         False\n",
       "humidity      False\n",
       "windspeed     False\n",
       "Bookings      False\n",
       "dtype: bool"
      ]
     },
     "execution_count": 10,
     "metadata": {},
     "output_type": "execute_result"
    }
   ],
   "source": [
    "trainDF.isna().any()"
   ]
  },
  {
   "cell_type": "markdown",
   "metadata": {},
   "source": [
    "There is no missing value in training set"
   ]
  },
  {
   "cell_type": "code",
   "execution_count": 11,
   "metadata": {},
   "outputs": [
    {
     "data": {
      "text/plain": [
       "datetime      2178\n",
       "season           4\n",
       "holiday          2\n",
       "workingday       2\n",
       "weather          3\n",
       "temp            44\n",
       "atemp           54\n",
       "humidity        80\n",
       "windspeed       24\n",
       "dtype: int64"
      ]
     },
     "execution_count": 11,
     "metadata": {},
     "output_type": "execute_result"
    }
   ],
   "source": [
    "test = df_test.nunique()\n",
    "test"
   ]
  },
  {
   "cell_type": "code",
   "execution_count": 12,
   "metadata": {},
   "outputs": [
    {
     "data": {
      "text/plain": [
       "['season', 'holiday', 'workingday', 'weather']"
      ]
     },
     "execution_count": 12,
     "metadata": {},
     "output_type": "execute_result"
    }
   ],
   "source": [
    "catColumns = []\n",
    "for k, v in enumerate(test):\n",
    "    if(v < 20):\n",
    "        catColumns.append(trainDF.columns[k])\n",
    "catColumns"
   ]
  },
  {
   "cell_type": "code",
   "execution_count": 13,
   "metadata": {},
   "outputs": [
    {
     "data": {
      "text/plain": [
       "<Figure size 432x288 with 0 Axes>"
      ]
     },
     "metadata": {},
     "output_type": "display_data"
    },
    {
     "data": {
      "image/png": "[encoded data removed]",
      "text/plain": [
       "<Figure size 504x504 with 1 Axes>"
      ]
     },
     "metadata": {
      "needs_background": "light"
     },
     "output_type": "display_data"
    },
    {
     "data": {
      "image/png": "[encoded data removed]",
      "text/plain": [
       "<Figure size 504x504 with 1 Axes>"
      ]
     },
     "metadata": {
      "needs_background": "light"
     },
     "output_type": "display_data"
    },
    {
     "data": {
      "image/png": "[encoded data removed]",
      "text/plain": [
       "<Figure size 504x504 with 1 Axes>"
      ]
     },
     "metadata": {
      "needs_background": "light"
     },
     "output_type": "display_data"
    },
    {
     "data": {
      "image/png": "[encoded data removed]",
      "text/plain": [
       "<Figure size 504x504 with 1 Axes>"
      ]
     },
     "metadata": {
      "needs_background": "light"
     },
     "output_type": "display_data"
    }
   ],
   "source": [
    "for i, item in enumerate(catColumns):\n",
    "    plt.figure(i)\n",
    "    #fig, ax =plt.subplots(1,2)\n",
    "    plt.figure(figsize=(7,7))\n",
    "    sns.barplot(x=trainDF[item], y='Bookings', data=trainDF, estimator=sum, ci=None)\n",
    "    #sns.catplot(x=item, y='Bookings', data=trainDF, jitter='0.45')"
   ]
  },
  {
   "cell_type": "code",
   "execution_count": 14,
   "metadata": {
    "scrolled": true
   },
   "outputs": [
    {
     "data": {
      "text/plain": [
       "<Figure size 432x288 with 0 Axes>"
      ]
     },
     "metadata": {},
     "output_type": "display_data"
    },
    {
     "data": {
      "text/plain": [
       "<Figure size 864x864 with 0 Axes>"
      ]
     },
     "metadata": {},
     "output_type": "display_data"
    },
    {
     "data": {
      "image/png": "[encoded data removed]",
      "text/plain": [
       "<Figure size 360x360 with 1 Axes>"
      ]
     },
     "metadata": {
      "needs_background": "light"
     },
     "output_type": "display_data"
    },
    {
     "data": {
      "text/plain": [
       "<Figure size 864x864 with 0 Axes>"
      ]
     },
     "metadata": {},
     "output_type": "display_data"
    },
    {
     "data": {
      "image/png": "[encoded data removed]",
      "text/plain": [
       "<Figure size 360x360 with 1 Axes>"
      ]
     },
     "metadata": {
      "needs_background": "light"
     },
     "output_type": "display_data"
    },
    {
     "data": {
      "text/plain": [
       "<Figure size 864x864 with 0 Axes>"
      ]
     },
     "metadata": {},
     "output_type": "display_data"
    },
    {
     "data": {
      "image/png": "[encoded data removed]",
      "text/plain": [
       "<Figure size 360x360 with 1 Axes>"
      ]
     },
     "metadata": {
      "needs_background": "light"
     },
     "output_type": "display_data"
    },
    {
     "data": {
      "text/plain": [
       "<Figure size 864x864 with 0 Axes>"
      ]
     },
     "metadata": {},
     "output_type": "display_data"
    },
    {
     "data": {
      "image/png": "[encoded data removed]",
      "text/plain": [
       "<Figure size 360x360 with 1 Axes>"
      ]
     },
     "metadata": {
      "needs_background": "light"
     },
     "output_type": "display_data"
    }
   ],
   "source": [
    "for i, item in enumerate(catColumns):\n",
    "    plt.figure(i)\n",
    "    #fig, ax =plt.subplots(1,2)\n",
    "    plt.figure(figsize=(12,12))\n",
    "    #sns.barplot(x=trainDF[item], y='Bookings', data=trainDF, estimator=sum, ci=None)\n",
    "    sns.catplot(x=item, y='Bookings', data=trainDF, jitter='0.45')"
   ]
  },
  {
   "cell_type": "markdown",
   "metadata": {},
   "source": [
    "\n",
    "# Outlier Analysis"
   ]
  },
  {
   "cell_type": "code",
   "execution_count": 15,
   "metadata": {},
   "outputs": [
    {
     "data": {
      "text/plain": [
       "count    8708.000000\n",
       "mean      193.007005\n",
       "std       181.552211\n",
       "min         1.000000\n",
       "25%        43.000000\n",
       "50%       148.000000\n",
       "75%       286.000000\n",
       "max       977.000000\n",
       "Name: Bookings, dtype: float64"
      ]
     },
     "execution_count": 15,
     "metadata": {},
     "output_type": "execute_result"
    }
   ],
   "source": [
    "trainDF.Bookings.describe()"
   ]
  },
  {
   "cell_type": "code",
   "execution_count": 16,
   "metadata": {},
   "outputs": [
    {
     "data": {
      "text/plain": [
       "<matplotlib.axes._subplots.AxesSubplot at 0x20ffab004a8>"
      ]
     },
     "execution_count": 16,
     "metadata": {},
     "output_type": "execute_result"
    },
    {
     "data": {
      "image/png": "[encoded data removed]",
      "text/plain": [
       "<Figure size 360x360 with 1 Axes>"
      ]
     },
     "metadata": {
      "needs_background": "light"
     },
     "output_type": "display_data"
    }
   ],
   "source": [
    "plt.figure(figsize=(5,5))\n",
    "sns.boxplot(y=trainDF.Bookings)"
   ]
  },
  {
   "cell_type": "code",
   "execution_count": 17,
   "metadata": {},
   "outputs": [
    {
     "name": "stdout",
     "output_type": "stream",
     "text": [
      "StdD:  181.54178620709257 \n",
      "Var:  32957.42013926171 \n",
      "meanDf:  193.00700505282498\n"
     ]
    }
   ],
   "source": [
    "stdDf = np.std(trainDF.Bookings)\n",
    "varDf = np.var(trainDF.Bookings)\n",
    "meanDf = np.mean(trainDF.Bookings)\n",
    "print('StdD: ', stdDf, '\\nVar: ', varDf, '\\nmeanDf: ', meanDf)"
   ]
  },
  {
   "cell_type": "code",
   "execution_count": 18,
   "metadata": {},
   "outputs": [
    {
     "name": "stdout",
     "output_type": "stream",
     "text": [
      "Range of values should be:  -351.6183535684527  to  737.6323636741026\n",
      "Actual Range of values should be:  0  to  738\n"
     ]
    }
   ],
   "source": [
    "upperRange = meanDf + 3*stdDf\n",
    "lowerRange = meanDf - 3*stdDf\n",
    "print('Range of values should be: ', lowerRange, ' to ', upperRange)\n",
    "print('Actual Range of values should be: ', 0, ' to ', int(np.round(upperRange,0)))"
   ]
  },
  {
   "cell_type": "code",
   "execution_count": 19,
   "metadata": {},
   "outputs": [
    {
     "data": {
      "text/plain": [
       "(8591, 10)"
      ]
     },
     "execution_count": 19,
     "metadata": {},
     "output_type": "execute_result"
    }
   ],
   "source": [
    "trainDF = trainDF[trainDF.Bookings < int(np.round(upperRange,0))]\n",
    "trainDF.shape"
   ]
  },
  {
   "cell_type": "markdown",
   "metadata": {},
   "source": [
    "# Feature Engineering"
   ]
  },
  {
   "cell_type": "code",
   "execution_count": 20,
   "metadata": {},
   "outputs": [
    {
     "name": "stdout",
     "output_type": "stream",
     "text": [
      "(8591, 10)\n",
      "(2178, 10)\n"
     ]
    }
   ],
   "source": [
    "print(trainDF.shape)\n",
    "print(testDF.shape)"
   ]
  },
  {
   "cell_type": "code",
   "execution_count": 21,
   "metadata": {},
   "outputs": [
    {
     "data": {
      "text/plain": [
       "(10769, 10)"
      ]
     },
     "execution_count": 21,
     "metadata": {},
     "output_type": "execute_result"
    }
   ],
   "source": [
    "merged = pd.concat([trainDF, testDF])\n",
    "merged.shape"
   ]
  },
  {
   "cell_type": "code",
   "execution_count": 22,
   "metadata": {},
   "outputs": [
    {
     "data": {
      "text/html": [
       "<div>\n",
       "<style scoped>\n",
       "    .dataframe tbody tr th:only-of-type {\n",
       "        vertical-align: middle;\n",
       "    }\n",
       "\n",
       "    .dataframe tbody tr th {\n",
       "        vertical-align: top;\n",
       "    }\n",
       "\n",
       "    .dataframe thead th {\n",
       "        text-align: right;\n",
       "    }\n",
       "</style>\n",
       "<table border=\"1\" class=\"dataframe\">\n",
       "  <thead>\n",
       "    <tr style=\"text-align: right;\">\n",
       "      <th></th>\n",
       "      <th>datetime</th>\n",
       "      <th>season</th>\n",
       "      <th>holiday</th>\n",
       "      <th>workingday</th>\n",
       "      <th>weather</th>\n",
       "      <th>temp</th>\n",
       "      <th>atemp</th>\n",
       "      <th>humidity</th>\n",
       "      <th>windspeed</th>\n",
       "      <th>Bookings</th>\n",
       "    </tr>\n",
       "  </thead>\n",
       "  <tbody>\n",
       "    <tr>\n",
       "      <th>0</th>\n",
       "      <td>5/2/2012 19:00</td>\n",
       "      <td>Summer</td>\n",
       "      <td>0</td>\n",
       "      <td>1</td>\n",
       "      <td>Clear + Few clouds</td>\n",
       "      <td>22.14</td>\n",
       "      <td>25.760</td>\n",
       "      <td>77</td>\n",
       "      <td>16.9979</td>\n",
       "      <td>504</td>\n",
       "    </tr>\n",
       "    <tr>\n",
       "      <th>1</th>\n",
       "      <td>9/5/2012 4:00</td>\n",
       "      <td>Fall</td>\n",
       "      <td>0</td>\n",
       "      <td>1</td>\n",
       "      <td>Clear + Few clouds</td>\n",
       "      <td>28.70</td>\n",
       "      <td>33.335</td>\n",
       "      <td>79</td>\n",
       "      <td>19.0012</td>\n",
       "      <td>5</td>\n",
       "    </tr>\n",
       "    <tr>\n",
       "      <th>2</th>\n",
       "      <td>1/13/2011 9:00</td>\n",
       "      <td>Spring</td>\n",
       "      <td>0</td>\n",
       "      <td>1</td>\n",
       "      <td>Clear + Few clouds</td>\n",
       "      <td>5.74</td>\n",
       "      <td>6.060</td>\n",
       "      <td>50</td>\n",
       "      <td>22.0028</td>\n",
       "      <td>139</td>\n",
       "    </tr>\n",
       "    <tr>\n",
       "      <th>3</th>\n",
       "      <td>11/18/2011 16:00</td>\n",
       "      <td>Winter</td>\n",
       "      <td>0</td>\n",
       "      <td>1</td>\n",
       "      <td>Clear + Few clouds</td>\n",
       "      <td>13.94</td>\n",
       "      <td>16.665</td>\n",
       "      <td>29</td>\n",
       "      <td>8.9981</td>\n",
       "      <td>209</td>\n",
       "    </tr>\n",
       "    <tr>\n",
       "      <th>4</th>\n",
       "      <td>9/13/2011 13:00</td>\n",
       "      <td>Fall</td>\n",
       "      <td>0</td>\n",
       "      <td>1</td>\n",
       "      <td>Clear + Few clouds</td>\n",
       "      <td>30.34</td>\n",
       "      <td>33.335</td>\n",
       "      <td>51</td>\n",
       "      <td>19.0012</td>\n",
       "      <td>184</td>\n",
       "    </tr>\n",
       "  </tbody>\n",
       "</table>\n",
       "</div>"
      ],
      "text/plain": [
       "           datetime  season  holiday  workingday              weather   temp  \\\n",
       "0    5/2/2012 19:00  Summer        0           1   Clear + Few clouds  22.14   \n",
       "1     9/5/2012 4:00    Fall        0           1   Clear + Few clouds  28.70   \n",
       "2    1/13/2011 9:00  Spring        0           1   Clear + Few clouds   5.74   \n",
       "3  11/18/2011 16:00  Winter        0           1   Clear + Few clouds  13.94   \n",
       "4   9/13/2011 13:00    Fall        0           1   Clear + Few clouds  30.34   \n",
       "\n",
       "    atemp  humidity  windspeed  Bookings  \n",
       "0  25.760        77    16.9979       504  \n",
       "1  33.335        79    19.0012         5  \n",
       "2   6.060        50    22.0028       139  \n",
       "3  16.665        29     8.9981       209  \n",
       "4  33.335        51    19.0012       184  "
      ]
     },
     "execution_count": 22,
     "metadata": {},
     "output_type": "execute_result"
    }
   ],
   "source": [
    "merged.head()"
   ]
  },
  {
   "cell_type": "code",
   "execution_count": 23,
   "metadata": {},
   "outputs": [],
   "source": [
    "merged['date'] = merged.datetime.apply(lambda x : x.split()[0])\n",
    "merged['hour'] = merged.datetime.apply(lambda x : x.split()[1].split(':')[0])"
   ]
  },
  {
   "cell_type": "code",
   "execution_count": 24,
   "metadata": {},
   "outputs": [],
   "source": [
    "merged['month'] = merged.date.apply(lambda x : cal.month_name[dt.datetime.strptime(x, '%m/%d/%Y').month])\n",
    "merged['weekday'] = merged.date.apply(lambda x : cal.day_name[dt.datetime.strptime(x, '%m/%d/%Y').weekday()])"
   ]
  },
  {
   "cell_type": "code",
   "execution_count": 25,
   "metadata": {},
   "outputs": [
    {
     "data": {
      "text/plain": [
       "datetime      10769\n",
       "season            4\n",
       "holiday           2\n",
       "workingday        2\n",
       "weather           4\n",
       "temp             49\n",
       "atemp            60\n",
       "humidity         89\n",
       "windspeed        28\n",
       "Bookings        734\n",
       "date            456\n",
       "hour             24\n",
       "month            12\n",
       "weekday           7\n",
       "dtype: int64"
      ]
     },
     "execution_count": 25,
     "metadata": {},
     "output_type": "execute_result"
    }
   ],
   "source": [
    "nuniques = merged.nunique()\n",
    "nuniques"
   ]
  },
  {
   "cell_type": "code",
   "execution_count": 26,
   "metadata": {},
   "outputs": [
    {
     "data": {
      "text/plain": [
       "['season', 'holiday', 'workingday', 'weather', 'weekday']"
      ]
     },
     "execution_count": 26,
     "metadata": {},
     "output_type": "execute_result"
    }
   ],
   "source": [
    "catColumns = []\n",
    "for k, v in enumerate(nuniques):\n",
    "    if(v < 10):\n",
    "        catColumns.append(merged.columns[k])\n",
    "        #merged[trainDF.columns[k]] = merged[trainDF.columns[k]].astype('category')\n",
    "catColumns"
   ]
  },
  {
   "cell_type": "code",
   "execution_count": 27,
   "metadata": {},
   "outputs": [],
   "source": [
    "for item in catColumns:\n",
    "    merged[item] = merged[item].astype('category')"
   ]
  },
  {
   "cell_type": "code",
   "execution_count": 28,
   "metadata": {},
   "outputs": [
    {
     "data": {
      "text/plain": [
       "<matplotlib.axes._subplots.AxesSubplot at 0x20ffc5c08d0>"
      ]
     },
     "execution_count": 28,
     "metadata": {},
     "output_type": "execute_result"
    },
    {
     "data": {
      "image/png": "[encoded data removed]",
      "text/plain": [
       "<Figure size 432x288 with 2 Axes>"
      ]
     },
     "metadata": {
      "needs_background": "light"
     },
     "output_type": "display_data"
    }
   ],
   "source": [
    "#plt.figure(figsize=(5,5))\n",
    "sns.heatmap(merged.corr(), cmap='RdBu_r')"
   ]
  },
  {
   "cell_type": "markdown",
   "metadata": {},
   "source": [
    "Since temp and atemp are highly correlated so we can drop either of the columns from our data"
   ]
  },
  {
   "cell_type": "code",
   "execution_count": 29,
   "metadata": {},
   "outputs": [
    {
     "data": {
      "text/plain": [
       "(10769, 12)"
      ]
     },
     "execution_count": 29,
     "metadata": {},
     "output_type": "execute_result"
    }
   ],
   "source": [
    "merged_drop=merged.drop(columns={'temp','datetime'})\n",
    "merged_drop.shape"
   ]
  },
  {
   "cell_type": "code",
   "execution_count": 30,
   "metadata": {
    "scrolled": true
   },
   "outputs": [
    {
     "data": {
      "text/plain": [
       "<matplotlib.axes._subplots.AxesSubplot at 0x20ffc826668>"
      ]
     },
     "execution_count": 30,
     "metadata": {},
     "output_type": "execute_result"
    },
    {
     "data": {
      "image/png": "[encoded data removed]",
      "text/plain": [
       "<Figure size 432x288 with 2 Axes>"
      ]
     },
     "metadata": {
      "needs_background": "light"
     },
     "output_type": "display_data"
    }
   ],
   "source": [
    "sns.heatmap(merged_drop.corr(),cmap='RdBu_r')"
   ]
  },
  {
   "cell_type": "markdown",
   "metadata": {},
   "source": [
    "## Let's do the label encoding for the categorical columns"
   ]
  },
  {
   "cell_type": "code",
   "execution_count": 31,
   "metadata": {},
   "outputs": [
    {
     "data": {
      "text/html": [
       "<div>\n",
       "<style scoped>\n",
       "    .dataframe tbody tr th:only-of-type {\n",
       "        vertical-align: middle;\n",
       "    }\n",
       "\n",
       "    .dataframe tbody tr th {\n",
       "        vertical-align: top;\n",
       "    }\n",
       "\n",
       "    .dataframe thead th {\n",
       "        text-align: right;\n",
       "    }\n",
       "</style>\n",
       "<table border=\"1\" class=\"dataframe\">\n",
       "  <thead>\n",
       "    <tr style=\"text-align: right;\">\n",
       "      <th></th>\n",
       "      <th>season</th>\n",
       "      <th>holiday</th>\n",
       "      <th>workingday</th>\n",
       "      <th>weather</th>\n",
       "      <th>atemp</th>\n",
       "      <th>humidity</th>\n",
       "      <th>windspeed</th>\n",
       "      <th>Bookings</th>\n",
       "      <th>date</th>\n",
       "      <th>hour</th>\n",
       "      <th>month</th>\n",
       "      <th>weekday</th>\n",
       "    </tr>\n",
       "  </thead>\n",
       "  <tbody>\n",
       "    <tr>\n",
       "      <th>0</th>\n",
       "      <td>Summer</td>\n",
       "      <td>0</td>\n",
       "      <td>1</td>\n",
       "      <td>Clear + Few clouds</td>\n",
       "      <td>25.760</td>\n",
       "      <td>77</td>\n",
       "      <td>16.9979</td>\n",
       "      <td>504</td>\n",
       "      <td>5/2/2012</td>\n",
       "      <td>19</td>\n",
       "      <td>May</td>\n",
       "      <td>Wednesday</td>\n",
       "    </tr>\n",
       "    <tr>\n",
       "      <th>1</th>\n",
       "      <td>Fall</td>\n",
       "      <td>0</td>\n",
       "      <td>1</td>\n",
       "      <td>Clear + Few clouds</td>\n",
       "      <td>33.335</td>\n",
       "      <td>79</td>\n",
       "      <td>19.0012</td>\n",
       "      <td>5</td>\n",
       "      <td>9/5/2012</td>\n",
       "      <td>4</td>\n",
       "      <td>September</td>\n",
       "      <td>Wednesday</td>\n",
       "    </tr>\n",
       "    <tr>\n",
       "      <th>2</th>\n",
       "      <td>Spring</td>\n",
       "      <td>0</td>\n",
       "      <td>1</td>\n",
       "      <td>Clear + Few clouds</td>\n",
       "      <td>6.060</td>\n",
       "      <td>50</td>\n",
       "      <td>22.0028</td>\n",
       "      <td>139</td>\n",
       "      <td>1/13/2011</td>\n",
       "      <td>9</td>\n",
       "      <td>January</td>\n",
       "      <td>Thursday</td>\n",
       "    </tr>\n",
       "    <tr>\n",
       "      <th>3</th>\n",
       "      <td>Winter</td>\n",
       "      <td>0</td>\n",
       "      <td>1</td>\n",
       "      <td>Clear + Few clouds</td>\n",
       "      <td>16.665</td>\n",
       "      <td>29</td>\n",
       "      <td>8.9981</td>\n",
       "      <td>209</td>\n",
       "      <td>11/18/2011</td>\n",
       "      <td>16</td>\n",
       "      <td>November</td>\n",
       "      <td>Friday</td>\n",
       "    </tr>\n",
       "    <tr>\n",
       "      <th>4</th>\n",
       "      <td>Fall</td>\n",
       "      <td>0</td>\n",
       "      <td>1</td>\n",
       "      <td>Clear + Few clouds</td>\n",
       "      <td>33.335</td>\n",
       "      <td>51</td>\n",
       "      <td>19.0012</td>\n",
       "      <td>184</td>\n",
       "      <td>9/13/2011</td>\n",
       "      <td>13</td>\n",
       "      <td>September</td>\n",
       "      <td>Tuesday</td>\n",
       "    </tr>\n",
       "  </tbody>\n",
       "</table>\n",
       "</div>"
      ],
      "text/plain": [
       "   season holiday workingday              weather   atemp  humidity  \\\n",
       "0  Summer       0          1   Clear + Few clouds  25.760        77   \n",
       "1    Fall       0          1   Clear + Few clouds  33.335        79   \n",
       "2  Spring       0          1   Clear + Few clouds   6.060        50   \n",
       "3  Winter       0          1   Clear + Few clouds  16.665        29   \n",
       "4    Fall       0          1   Clear + Few clouds  33.335        51   \n",
       "\n",
       "   windspeed  Bookings        date hour      month    weekday  \n",
       "0    16.9979       504    5/2/2012   19        May  Wednesday  \n",
       "1    19.0012         5    9/5/2012    4  September  Wednesday  \n",
       "2    22.0028       139   1/13/2011    9    January   Thursday  \n",
       "3     8.9981       209  11/18/2011   16   November     Friday  \n",
       "4    19.0012       184   9/13/2011   13  September    Tuesday  "
      ]
     },
     "execution_count": 31,
     "metadata": {},
     "output_type": "execute_result"
    }
   ],
   "source": [
    "merged_drop.head()"
   ]
  },
  {
   "cell_type": "code",
   "execution_count": 32,
   "metadata": {},
   "outputs": [],
   "source": [
    "#labelEnc = LabelEncoder()"
   ]
  },
  {
   "cell_type": "code",
   "execution_count": 33,
   "metadata": {},
   "outputs": [],
   "source": [
    "#merged_Dummy = merged_drop.apply(labelEnc.fit_transform)"
   ]
  },
  {
   "cell_type": "code",
   "execution_count": 34,
   "metadata": {},
   "outputs": [],
   "source": [
    "#merged_Dummy.head()"
   ]
  },
  {
   "cell_type": "code",
   "execution_count": 35,
   "metadata": {},
   "outputs": [],
   "source": [
    "#sns.heatmap(merged_drop_Encoded.corr(), cmap='RdBu_r')"
   ]
  },
  {
   "cell_type": "markdown",
   "metadata": {},
   "source": [
    "Since date and datetime are highly correlated so it would be better to drop either of the column"
   ]
  },
  {
   "cell_type": "code",
   "execution_count": 36,
   "metadata": {},
   "outputs": [
    {
     "data": {
      "text/plain": [
       "(10769, 12)"
      ]
     },
     "execution_count": 36,
     "metadata": {},
     "output_type": "execute_result"
    }
   ],
   "source": [
    "#merged_drop=merged_drop_Encoded.drop(columns='datetime')\n",
    "merged_drop.shape"
   ]
  },
  {
   "cell_type": "code",
   "execution_count": 37,
   "metadata": {},
   "outputs": [
    {
     "data": {
      "text/plain": [
       "season          4\n",
       "holiday         2\n",
       "workingday      2\n",
       "weather         4\n",
       "atemp          60\n",
       "humidity       89\n",
       "windspeed      28\n",
       "Bookings      734\n",
       "date          456\n",
       "hour           24\n",
       "month          12\n",
       "weekday         7\n",
       "dtype: int64"
      ]
     },
     "execution_count": 37,
     "metadata": {},
     "output_type": "execute_result"
    }
   ],
   "source": [
    "merged_drop.nunique()"
   ]
  },
  {
   "cell_type": "code",
   "execution_count": 38,
   "metadata": {},
   "outputs": [
    {
     "name": "stdout",
     "output_type": "stream",
     "text": [
      "<class 'pandas.core.frame.DataFrame'>\n",
      "Int64Index: 10769 entries, 0 to 2177\n",
      "Data columns (total 12 columns):\n",
      "season        10769 non-null category\n",
      "holiday       10769 non-null category\n",
      "workingday    10769 non-null category\n",
      "weather       10769 non-null category\n",
      "atemp         10769 non-null float64\n",
      "humidity      10769 non-null int64\n",
      "windspeed     10769 non-null float64\n",
      "Bookings      10769 non-null int64\n",
      "date          10769 non-null object\n",
      "hour          10769 non-null object\n",
      "month         10769 non-null object\n",
      "weekday       10769 non-null category\n",
      "dtypes: category(5), float64(2), int64(2), object(3)\n",
      "memory usage: 726.6+ KB\n"
     ]
    }
   ],
   "source": [
    "merged_drop.info()"
   ]
  },
  {
   "cell_type": "code",
   "execution_count": 39,
   "metadata": {},
   "outputs": [],
   "source": [
    "#merged_drop.datetime = merged_drop.datetime.astype('datetime64')\n",
    "#merged_drop.date = merged_drop.date.astype('datetime64')\n",
    "#merged_drop.hour = merged_drop.hour.astype('datetime64')\n",
    "#merged_drop.month = merged_drop.month.astype('datetime64')"
   ]
  },
  {
   "cell_type": "code",
   "execution_count": 40,
   "metadata": {
    "scrolled": true
   },
   "outputs": [
    {
     "name": "stdout",
     "output_type": "stream",
     "text": [
      "(10769, 31)\n"
     ]
    },
    {
     "data": {
      "text/html": [
       "<div>\n",
       "<style scoped>\n",
       "    .dataframe tbody tr th:only-of-type {\n",
       "        vertical-align: middle;\n",
       "    }\n",
       "\n",
       "    .dataframe tbody tr th {\n",
       "        vertical-align: top;\n",
       "    }\n",
       "\n",
       "    .dataframe thead th {\n",
       "        text-align: right;\n",
       "    }\n",
       "</style>\n",
       "<table border=\"1\" class=\"dataframe\">\n",
       "  <thead>\n",
       "    <tr style=\"text-align: right;\">\n",
       "      <th></th>\n",
       "      <th>atemp</th>\n",
       "      <th>humidity</th>\n",
       "      <th>windspeed</th>\n",
       "      <th>Bookings</th>\n",
       "      <th>date</th>\n",
       "      <th>hour</th>\n",
       "      <th>season_Spring</th>\n",
       "      <th>season_Summer</th>\n",
       "      <th>season_Winter</th>\n",
       "      <th>holiday_1</th>\n",
       "      <th>...</th>\n",
       "      <th>month_December</th>\n",
       "      <th>month_February</th>\n",
       "      <th>month_January</th>\n",
       "      <th>month_July</th>\n",
       "      <th>month_June</th>\n",
       "      <th>month_March</th>\n",
       "      <th>month_May</th>\n",
       "      <th>month_November</th>\n",
       "      <th>month_October</th>\n",
       "      <th>month_September</th>\n",
       "    </tr>\n",
       "  </thead>\n",
       "  <tbody>\n",
       "    <tr>\n",
       "      <th>0</th>\n",
       "      <td>25.760</td>\n",
       "      <td>77</td>\n",
       "      <td>16.9979</td>\n",
       "      <td>504</td>\n",
       "      <td>5/2/2012</td>\n",
       "      <td>19</td>\n",
       "      <td>0</td>\n",
       "      <td>1</td>\n",
       "      <td>0</td>\n",
       "      <td>0</td>\n",
       "      <td>...</td>\n",
       "      <td>0</td>\n",
       "      <td>0</td>\n",
       "      <td>0</td>\n",
       "      <td>0</td>\n",
       "      <td>0</td>\n",
       "      <td>0</td>\n",
       "      <td>1</td>\n",
       "      <td>0</td>\n",
       "      <td>0</td>\n",
       "      <td>0</td>\n",
       "    </tr>\n",
       "    <tr>\n",
       "      <th>1</th>\n",
       "      <td>33.335</td>\n",
       "      <td>79</td>\n",
       "      <td>19.0012</td>\n",
       "      <td>5</td>\n",
       "      <td>9/5/2012</td>\n",
       "      <td>4</td>\n",
       "      <td>0</td>\n",
       "      <td>0</td>\n",
       "      <td>0</td>\n",
       "      <td>0</td>\n",
       "      <td>...</td>\n",
       "      <td>0</td>\n",
       "      <td>0</td>\n",
       "      <td>0</td>\n",
       "      <td>0</td>\n",
       "      <td>0</td>\n",
       "      <td>0</td>\n",
       "      <td>0</td>\n",
       "      <td>0</td>\n",
       "      <td>0</td>\n",
       "      <td>1</td>\n",
       "    </tr>\n",
       "    <tr>\n",
       "      <th>2</th>\n",
       "      <td>6.060</td>\n",
       "      <td>50</td>\n",
       "      <td>22.0028</td>\n",
       "      <td>139</td>\n",
       "      <td>1/13/2011</td>\n",
       "      <td>9</td>\n",
       "      <td>1</td>\n",
       "      <td>0</td>\n",
       "      <td>0</td>\n",
       "      <td>0</td>\n",
       "      <td>...</td>\n",
       "      <td>0</td>\n",
       "      <td>0</td>\n",
       "      <td>1</td>\n",
       "      <td>0</td>\n",
       "      <td>0</td>\n",
       "      <td>0</td>\n",
       "      <td>0</td>\n",
       "      <td>0</td>\n",
       "      <td>0</td>\n",
       "      <td>0</td>\n",
       "    </tr>\n",
       "    <tr>\n",
       "      <th>3</th>\n",
       "      <td>16.665</td>\n",
       "      <td>29</td>\n",
       "      <td>8.9981</td>\n",
       "      <td>209</td>\n",
       "      <td>11/18/2011</td>\n",
       "      <td>16</td>\n",
       "      <td>0</td>\n",
       "      <td>0</td>\n",
       "      <td>1</td>\n",
       "      <td>0</td>\n",
       "      <td>...</td>\n",
       "      <td>0</td>\n",
       "      <td>0</td>\n",
       "      <td>0</td>\n",
       "      <td>0</td>\n",
       "      <td>0</td>\n",
       "      <td>0</td>\n",
       "      <td>0</td>\n",
       "      <td>1</td>\n",
       "      <td>0</td>\n",
       "      <td>0</td>\n",
       "    </tr>\n",
       "    <tr>\n",
       "      <th>4</th>\n",
       "      <td>33.335</td>\n",
       "      <td>51</td>\n",
       "      <td>19.0012</td>\n",
       "      <td>184</td>\n",
       "      <td>9/13/2011</td>\n",
       "      <td>13</td>\n",
       "      <td>0</td>\n",
       "      <td>0</td>\n",
       "      <td>0</td>\n",
       "      <td>0</td>\n",
       "      <td>...</td>\n",
       "      <td>0</td>\n",
       "      <td>0</td>\n",
       "      <td>0</td>\n",
       "      <td>0</td>\n",
       "      <td>0</td>\n",
       "      <td>0</td>\n",
       "      <td>0</td>\n",
       "      <td>0</td>\n",
       "      <td>0</td>\n",
       "      <td>1</td>\n",
       "    </tr>\n",
       "  </tbody>\n",
       "</table>\n",
       "<p>5 rows × 31 columns</p>\n",
       "</div>"
      ],
      "text/plain": [
       "    atemp  humidity  windspeed  Bookings        date hour  season_Spring  \\\n",
       "0  25.760        77    16.9979       504    5/2/2012   19              0   \n",
       "1  33.335        79    19.0012         5    9/5/2012    4              0   \n",
       "2   6.060        50    22.0028       139   1/13/2011    9              1   \n",
       "3  16.665        29     8.9981       209  11/18/2011   16              0   \n",
       "4  33.335        51    19.0012       184   9/13/2011   13              0   \n",
       "\n",
       "   season_Summer  season_Winter  holiday_1  ...  month_December  \\\n",
       "0              1              0          0  ...               0   \n",
       "1              0              0          0  ...               0   \n",
       "2              0              0          0  ...               0   \n",
       "3              0              1          0  ...               0   \n",
       "4              0              0          0  ...               0   \n",
       "\n",
       "   month_February  month_January  month_July  month_June  month_March  \\\n",
       "0               0              0           0           0            0   \n",
       "1               0              0           0           0            0   \n",
       "2               0              1           0           0            0   \n",
       "3               0              0           0           0            0   \n",
       "4               0              0           0           0            0   \n",
       "\n",
       "   month_May  month_November  month_October  month_September  \n",
       "0          1               0              0                0  \n",
       "1          0               0              0                1  \n",
       "2          0               0              0                0  \n",
       "3          0               1              0                0  \n",
       "4          0               0              0                1  \n",
       "\n",
       "[5 rows x 31 columns]"
      ]
     },
     "execution_count": 40,
     "metadata": {},
     "output_type": "execute_result"
    }
   ],
   "source": [
    "merged_Dummy = pd.get_dummies(data=merged_drop, columns=['season', 'holiday', 'workingday', 'weather', 'weekday', 'month'], drop_first=True)\n",
    "print(merged_Dummy.shape)\n",
    "merged_Dummy.head()\n",
    "#merged_drop.shape\n",
    "#,'holiday','workingday','weather'"
   ]
  },
  {
   "cell_type": "code",
   "execution_count": 41,
   "metadata": {},
   "outputs": [
    {
     "data": {
      "text/plain": [
       "Index(['atemp', 'humidity', 'windspeed', 'Bookings', 'date', 'hour',\n",
       "       'season_Spring', 'season_Summer', 'season_Winter', 'holiday_1',\n",
       "       'workingday_1', 'weather_ Heavy Rain + Thunderstorm ',\n",
       "       'weather_ Light Snow, Light Rain', 'weather_ Mist + Cloudy ',\n",
       "       'weekday_Monday', 'weekday_Saturday', 'weekday_Sunday',\n",
       "       'weekday_Thursday', 'weekday_Tuesday', 'weekday_Wednesday',\n",
       "       'month_August', 'month_December', 'month_February', 'month_January',\n",
       "       'month_July', 'month_June', 'month_March', 'month_May',\n",
       "       'month_November', 'month_October', 'month_September'],\n",
       "      dtype='object')"
      ]
     },
     "execution_count": 41,
     "metadata": {},
     "output_type": "execute_result"
    }
   ],
   "source": [
    "merged_Dummy.columns"
   ]
  },
  {
   "cell_type": "code",
   "execution_count": 42,
   "metadata": {},
   "outputs": [],
   "source": [
    "#merged_Dummy[merged_Dummy.holiday_1 == 1].shape\n",
    "#merged_Dummy[merged_Dummy['weather_ Heavy Rain + Thunderstorm '] == 1].shape"
   ]
  },
  {
   "cell_type": "markdown",
   "metadata": {},
   "source": [
    "Linear Regression does not work on date/datetime type so modifying it."
   ]
  },
  {
   "cell_type": "code",
   "execution_count": 43,
   "metadata": {},
   "outputs": [],
   "source": [
    "merged_Dummy.date = pd.to_datetime(merged_Dummy.date)\n",
    "merged_Dummy.date = merged_Dummy.date.map(dt.datetime.toordinal)\n",
    "merged_Dummy.hour = merged_Dummy.hour.astype('int64')\n",
    "merged_Dummy1 = merged_Dummy\n",
    "merged_Dummy = merged_Dummy.drop(columns='date')"
   ]
  },
  {
   "cell_type": "code",
   "execution_count": 44,
   "metadata": {},
   "outputs": [],
   "source": [
    "#labelEnc = LabelEncoder()"
   ]
  },
  {
   "cell_type": "code",
   "execution_count": 45,
   "metadata": {},
   "outputs": [],
   "source": [
    "test_df_modulated = merged_Dummy[8591:]"
   ]
  },
  {
   "cell_type": "code",
   "execution_count": 46,
   "metadata": {},
   "outputs": [],
   "source": [
    "train_df_modulated = merged_Dummy[:8591]"
   ]
  },
  {
   "cell_type": "code",
   "execution_count": 47,
   "metadata": {},
   "outputs": [
    {
     "name": "stdout",
     "output_type": "stream",
     "text": [
      "(8591, 30)\n",
      "(2178, 30)\n"
     ]
    }
   ],
   "source": [
    "print(train_df_modulated.shape)\n",
    "print(test_df_modulated.shape)"
   ]
  },
  {
   "cell_type": "code",
   "execution_count": 48,
   "metadata": {},
   "outputs": [
    {
     "name": "stdout",
     "output_type": "stream",
     "text": [
      "<class 'pandas.core.frame.DataFrame'>\n",
      "Int64Index: 8591 entries, 0 to 8707\n",
      "Data columns (total 30 columns):\n",
      "atemp                                  8591 non-null float64\n",
      "humidity                               8591 non-null int64\n",
      "windspeed                              8591 non-null float64\n",
      "Bookings                               8591 non-null int64\n",
      "hour                                   8591 non-null int64\n",
      "season_Spring                          8591 non-null uint8\n",
      "season_Summer                          8591 non-null uint8\n",
      "season_Winter                          8591 non-null uint8\n",
      "holiday_1                              8591 non-null uint8\n",
      "workingday_1                           8591 non-null uint8\n",
      "weather_ Heavy Rain + Thunderstorm     8591 non-null uint8\n",
      "weather_ Light Snow, Light Rain        8591 non-null uint8\n",
      "weather_ Mist + Cloudy                 8591 non-null uint8\n",
      "weekday_Monday                         8591 non-null uint8\n",
      "weekday_Saturday                       8591 non-null uint8\n",
      "weekday_Sunday                         8591 non-null uint8\n",
      "weekday_Thursday                       8591 non-null uint8\n",
      "weekday_Tuesday                        8591 non-null uint8\n",
      "weekday_Wednesday                      8591 non-null uint8\n",
      "month_August                           8591 non-null uint8\n",
      "month_December                         8591 non-null uint8\n",
      "month_February                         8591 non-null uint8\n",
      "month_January                          8591 non-null uint8\n",
      "month_July                             8591 non-null uint8\n",
      "month_June                             8591 non-null uint8\n",
      "month_March                            8591 non-null uint8\n",
      "month_May                              8591 non-null uint8\n",
      "month_November                         8591 non-null uint8\n",
      "month_October                          8591 non-null uint8\n",
      "month_September                        8591 non-null uint8\n",
      "dtypes: float64(2), int64(3), uint8(25)\n",
      "memory usage: 612.4 KB\n"
     ]
    }
   ],
   "source": [
    "train_df_modulated.info()"
   ]
  },
  {
   "cell_type": "code",
   "execution_count": 483,
   "metadata": {},
   "outputs": [
    {
     "data": {
      "text/plain": [
       "\"train_df_modulated = train_df_modulated[train_df_modulated.holiday_1 == 0]\\ntrain_df_modulated = train_df_modulated[train_df_modulated['weather_ Heavy Rain + Thunderstorm '] != 1]\\ntrain_df_modulated = train_df_modulated.drop(columns={'holiday_1', 'weather_ Heavy Rain + Thunderstorm '}, axis=1)\""
      ]
     },
     "execution_count": 483,
     "metadata": {},
     "output_type": "execute_result"
    }
   ],
   "source": [
    "'''train_df_modulated = train_df_modulated[train_df_modulated.holiday_1 == 0]\n",
    "train_df_modulated = train_df_modulated[train_df_modulated['weather_ Heavy Rain + Thunderstorm '] != 1]\n",
    "train_df_modulated = train_df_modulated.drop(columns={'holiday_1', 'weather_ Heavy Rain + Thunderstorm '}, axis=1)'''"
   ]
  },
  {
   "cell_type": "raw",
   "metadata": {},
   "source": []
  },
  {
   "cell_type": "markdown",
   "metadata": {},
   "source": [
    "# Regression Analysis"
   ]
  },
  {
   "cell_type": "code",
   "execution_count": 49,
   "metadata": {},
   "outputs": [],
   "source": [
    "from sklearn.model_selection import train_test_split\n",
    "from sklearn.model_selection import cross_val_score, cross_val_predict\n",
    "from sklearn import linear_model\n",
    "import statsmodels.api as sm\n",
    "from sklearn.model_selection import GridSearchCV\n",
    "import warnings\n",
    "warnings.simplefilter(action='ignore', category=FutureWarning)\n",
    "from sklearn.metrics import r2_score, mean_absolute_error, mean_squared_error\n",
    "#from ml_metrics import rmse"
   ]
  },
  {
   "cell_type": "code",
   "execution_count": 50,
   "metadata": {},
   "outputs": [],
   "source": [
    "y = train_df_modulated['Bookings']\n",
    "X = train_df_modulated.drop(columns='Bookings', axis=1)\n",
    "actual_y_test = test_df_modulated['Bookings']\n",
    "actual_X_test = test_df_modulated.drop(columns='Bookings', axis=1)"
   ]
  },
  {
   "cell_type": "code",
   "execution_count": 51,
   "metadata": {},
   "outputs": [],
   "source": [
    "X_train, X_test, y_train, y_test = train_test_split(X, y, test_size=0.2, random_state=6)"
   ]
  },
  {
   "cell_type": "code",
   "execution_count": 52,
   "metadata": {},
   "outputs": [
    {
     "name": "stdout",
     "output_type": "stream",
     "text": [
      "(6872, 29)\n",
      "(6872,)\n",
      "(1719, 29)\n",
      "(1719,)\n"
     ]
    }
   ],
   "source": [
    "print(X_train.shape)\n",
    "print(y_train.shape)\n",
    "print(X_test.shape)\n",
    "print(y_test.shape)"
   ]
  },
  {
   "cell_type": "code",
   "execution_count": 53,
   "metadata": {},
   "outputs": [],
   "source": [
    "linReg = linear_model.LinearRegression()"
   ]
  },
  {
   "cell_type": "code",
   "execution_count": 54,
   "metadata": {},
   "outputs": [
    {
     "data": {
      "text/plain": [
       "LinearRegression(copy_X=True, fit_intercept=True, n_jobs=None,\n",
       "         normalize=False)"
      ]
     },
     "execution_count": 54,
     "metadata": {},
     "output_type": "execute_result"
    }
   ],
   "source": [
    "linReg.fit(X_train,y_train)"
   ]
  },
  {
   "cell_type": "code",
   "execution_count": 55,
   "metadata": {},
   "outputs": [
    {
     "name": "stdout",
     "output_type": "stream",
     "text": [
      "Intercept: \n",
      " 27.61232642113893\n",
      "Coefficients: \n",
      " [  8.0256877   -1.99809824   0.53946989   6.71774392   0.41931836\n",
      "   1.38709898  44.93429337   2.42648249  -1.81593098 115.22749281\n",
      " -30.97583271  11.58839083 -14.92106106   9.16812565  -9.77867715\n",
      " -11.55780769 -13.43444193  -6.25696891 -25.29503429  30.4057915\n",
      "  -2.19258186  -6.05557368 -36.2507881   -7.25139507   8.6674739\n",
      "  33.48417287  10.36423712   4.16426475  14.80511168]\n"
     ]
    }
   ],
   "source": [
    "print('Intercept: \\n', linReg.intercept_)\n",
    "print('Coefficients: \\n', linReg.coef_)"
   ]
  },
  {
   "cell_type": "code",
   "execution_count": 56,
   "metadata": {},
   "outputs": [
    {
     "name": "stdout",
     "output_type": "stream",
     "text": [
      "                            OLS Regression Results                            \n",
      "==============================================================================\n",
      "Dep. Variable:               Bookings   R-squared:                       0.353\n",
      "Model:                            OLS   Adj. R-squared:                  0.351\n",
      "Method:                 Least Squares   F-statistic:                     149.6\n",
      "Date:                Sat, 24 Aug 2019   Prob (F-statistic):               0.00\n",
      "Time:                        20:26:21   Log-Likelihood:                -43379.\n",
      "No. Observations:                6872   AIC:                         8.681e+04\n",
      "Df Residuals:                    6846   BIC:                         8.699e+04\n",
      "Df Model:                          25                                         \n",
      "Covariance Type:            nonrobust                                         \n",
      "=======================================================================================================\n",
      "                                          coef    std err          t      P>|t|      [0.025      0.975]\n",
      "-------------------------------------------------------------------------------------------------------\n",
      "atemp                                   8.0257      0.386     20.804      0.000       7.269       8.782\n",
      "humidity                               -1.9981      0.108    -18.491      0.000      -2.210      -1.786\n",
      "windspeed                               0.5395      0.213      2.531      0.011       0.122       0.957\n",
      "hour                                    6.7177      0.251     26.738      0.000       6.225       7.210\n",
      "season_Spring                           9.1390      3.600      2.538      0.011       2.081      16.197\n",
      "season_Summer                          13.0133      6.769      1.922      0.055      -0.256      26.283\n",
      "season_Winter                          53.6540      4.149     12.932      0.000      45.521      61.787\n",
      "holiday_1                              18.4126     12.297      1.497      0.134      -5.693      42.518\n",
      "workingday_1                           14.1702      8.552      1.657      0.098      -2.594      30.934\n",
      "weather_ Heavy Rain + Thunderstorm    115.2275    133.931      0.860      0.390    -147.319     377.774\n",
      "weather_ Light Snow, Light Rain       -30.9758      6.675     -4.640      0.000     -44.061     -17.891\n",
      "weather_ Mist + Cloudy                 11.5884      3.921      2.956      0.003       3.902      19.274\n",
      "weekday_Monday                        -14.9211      6.216     -2.400      0.016     -27.107      -2.735\n",
      "weekday_Saturday                       25.1542      8.884      2.831      0.005       7.739      42.569\n",
      "weekday_Sunday                          6.2074      9.059      0.685      0.493     -11.551      23.966\n",
      "weekday_Thursday                      -11.5578      6.113     -1.891      0.059     -23.542       0.426\n",
      "weekday_Tuesday                       -13.4344      6.172     -2.177      0.030     -25.534      -1.335\n",
      "weekday_Wednesday                      -6.2570      6.108     -1.024      0.306     -18.231       5.717\n",
      "month_August                          -13.6688      9.569     -1.428      0.153     -32.428       5.090\n",
      "month_December                         33.3124      4.817      6.916      0.000      23.870      42.755\n",
      "month_February                          0.7140      4.696      0.152      0.879      -8.491       9.919\n",
      "month_January                          -3.1490      4.940     -0.637      0.524     -12.833       6.535\n",
      "month_July                            -24.6245      9.775     -2.519      0.012     -43.787      -5.462\n",
      "month_June                             -7.2514      8.662     -0.837      0.403     -24.232       9.730\n",
      "month_March                            11.5740      4.988      2.321      0.020       1.797      21.351\n",
      "month_May                              33.4842      8.167      4.100      0.000      17.475      49.494\n",
      "month_November                         13.2708      4.631      2.866      0.004       4.193      22.349\n",
      "month_October                           7.0708      5.444      1.299      0.194      -3.601      17.743\n",
      "month_September                        26.4314      8.872      2.979      0.003       9.040      43.822\n",
      "==============================================================================\n",
      "Omnibus:                     1384.656   Durbin-Watson:                   2.019\n",
      "Prob(Omnibus):                  0.000   Jarque-Bera (JB):             2661.129\n",
      "Skew:                           1.230   Prob(JB):                         0.00\n",
      "Kurtosis:                       4.801   Cond. No.                     1.17e+16\n",
      "==============================================================================\n",
      "\n",
      "Warnings:\n",
      "[1] Standard Errors assume that the covariance matrix of the errors is correctly specified.\n",
      "[2] The smallest eigenvalue is 2.49e-25. This might indicate that there are\n",
      "strong multicollinearity problems or that the design matrix is singular.\n"
     ]
    }
   ],
   "source": [
    "model = sm.OLS(y_train, X_train).fit()\n",
    "predictions = model.predict(X_train) \n",
    " \n",
    "print_model = model.summary()\n",
    "print(print_model)"
   ]
  },
  {
   "cell_type": "code",
   "execution_count": 57,
   "metadata": {},
   "outputs": [
    {
     "data": {
      "text/plain": [
       "0.35440578876474094"
      ]
     },
     "execution_count": 57,
     "metadata": {},
     "output_type": "execute_result"
    }
   ],
   "source": [
    "linReg.score(X_test, y_test)"
   ]
  },
  {
   "cell_type": "code",
   "execution_count": 58,
   "metadata": {},
   "outputs": [],
   "source": [
    "#linReg.score(pd.DataFrame(actual_X_test), pd.DataFrame(actual_y_test))"
   ]
  },
  {
   "cell_type": "code",
   "execution_count": 59,
   "metadata": {},
   "outputs": [],
   "source": [
    "#pred_y_test = linReg.predict(actual_X_test).astypeype('int64')"
   ]
  },
  {
   "cell_type": "code",
   "execution_count": 60,
   "metadata": {},
   "outputs": [],
   "source": [
    "#pred_y_test"
   ]
  },
  {
   "cell_type": "code",
   "execution_count": 61,
   "metadata": {},
   "outputs": [],
   "source": [
    "lm = linear_model.LinearRegression()"
   ]
  },
  {
   "cell_type": "code",
   "execution_count": 62,
   "metadata": {},
   "outputs": [],
   "source": [
    "scores = cross_val_score(lm, X_train, y_train, cv=5)"
   ]
  },
  {
   "cell_type": "code",
   "execution_count": 63,
   "metadata": {},
   "outputs": [
    {
     "name": "stdout",
     "output_type": "stream",
     "text": [
      "scores::  [0.34367464 0.32871544 0.37544586 0.36765382 0.32465789] \n",
      "mean::  0.34802952828845424 \n",
      "std :: 0.020371553671964727\n"
     ]
    }
   ],
   "source": [
    "print('scores:: ',scores, '\\nmean:: ',np.mean(scores), '\\nstd ::', np.std(scores))"
   ]
  },
  {
   "cell_type": "code",
   "execution_count": 66,
   "metadata": {
    "scrolled": false
   },
   "outputs": [
    {
     "data": {
      "text/plain": [
       "\"for i in range(2,21):\\n    grid = GridSearchCV(lm, parameters, cv=i)\\n    grid.fit(X, y)\\n    print('cv= ', i, 'with best score of ', grid.best_score_)\\n    print('Best params:: ', grid.best_params_)\""
      ]
     },
     "execution_count": 66,
     "metadata": {},
     "output_type": "execute_result"
    }
   ],
   "source": [
    "parameters = {'fit_intercept':[True,False], 'normalize':[True,False], 'copy_X':[True, False]}\n",
    "'''for i in range(2,21):\n",
    "    grid = GridSearchCV(lm, parameters, cv=i)\n",
    "    grid.fit(X, y)\n",
    "    print('cv= ', i, 'with best score of ', grid.best_score_)\n",
    "    print('Best params:: ', grid.best_params_)'''"
   ]
  },
  {
   "cell_type": "code",
   "execution_count": 67,
   "metadata": {},
   "outputs": [
    {
     "name": "stdout",
     "output_type": "stream",
     "text": [
      "cv=  3 with best score of  0.34860540168771975\n",
      "Best params::  {'copy_X': True, 'fit_intercept': True, 'normalize': False}\n"
     ]
    },
    {
     "name": "stderr",
     "output_type": "stream",
     "text": [
      "C:\\Users\\hsinghvi\\AppData\\Local\\Continuum\\anaconda3x\\lib\\site-packages\\sklearn\\model_selection\\_search.py:841: DeprecationWarning: The default of the `iid` parameter will change from True to False in version 0.22 and will be removed in 0.24. This will change numeric results when test-set sizes are unequal.\n",
      "  DeprecationWarning)\n"
     ]
    }
   ],
   "source": [
    "grid = GridSearchCV(lm, parameters, cv=3)\n",
    "grid.fit(X, y)\n",
    "print('cv= ', i, 'with best score of ', grid.best_score_)\n",
    "print('Best params:: ', grid.best_params_)"
   ]
  },
  {
   "cell_type": "code",
   "execution_count": 72,
   "metadata": {},
   "outputs": [],
   "source": [
    "y_test_pred = grid.predict(X_test)\n",
    "y_test_pred = pd.DataFrame(y_test_pred)"
   ]
  },
  {
   "cell_type": "code",
   "execution_count": 75,
   "metadata": {},
   "outputs": [],
   "source": [
    "#r2_score(actual_y_test,y_test_pred)"
   ]
  },
  {
   "cell_type": "code",
   "execution_count": 76,
   "metadata": {},
   "outputs": [
    {
     "name": "stdout",
     "output_type": "stream",
     "text": [
      "137.19228353665963\n"
     ]
    }
   ],
   "source": [
    "rmse_train = np.sqrt(mean_squared_error(y_test ,y_test_pred))\n",
    "print(rmse_train)"
   ]
  },
  {
   "cell_type": "code",
   "execution_count": 79,
   "metadata": {},
   "outputs": [
    {
     "name": "stdout",
     "output_type": "stream",
     "text": [
      "134.2230688756972\n"
     ]
    }
   ],
   "source": [
    "y1 = grid.predict(X)\n",
    "y1 = pd.DataFrame(y1)\n",
    "rmse_train1 = np.sqrt(mean_squared_error(y ,y1))\n",
    "print(rmse_train1)"
   ]
  },
  {
   "cell_type": "markdown",
   "metadata": {},
   "source": [
    "### Ensemble Learning"
   ]
  },
  {
   "cell_type": "code",
   "execution_count": 77,
   "metadata": {},
   "outputs": [],
   "source": [
    "from sklearn.ensemble import AdaBoostRegressor\n",
    "from sklearn.model_selection import KFold"
   ]
  },
  {
   "cell_type": "code",
   "execution_count": 78,
   "metadata": {},
   "outputs": [],
   "source": [
    "adaModel = AdaBoostRegressor(n_estimators=200, random_state=6)\n",
    "adaModel.fit(X,y)\n",
    "kfold = KFold(n_splits=2, random_state=6)\n",
    "adaResults = cross_val_score(adaModel, X, y, cv=kfold)"
   ]
  },
  {
   "cell_type": "code",
   "execution_count": 557,
   "metadata": {
    "scrolled": false
   },
   "outputs": [
    {
     "data": {
      "text/plain": [
       "\"for a in np.arange(10,200,10):\\n    adaModel = AdaBoostRegressor(n_estimators=a, random_state=6)\\n    for i in range(2, 30):\\n        kfold = KFold(n_splits=i, random_state=6)\\n        adaResults = cross_val_score(adaModel, X, y, cv=kfold)\\n        print('for n_estimator:: ', a)\\n        print('for i= ',i,' mean is:: ', adaResults.mean())\""
      ]
     },
     "execution_count": 557,
     "metadata": {},
     "output_type": "execute_result"
    }
   ],
   "source": [
    "'''for a in np.arange(10,200,10):\n",
    "    adaModel = AdaBoostRegressor(n_estimators=a, random_state=6)\n",
    "    for i in range(2, 30):\n",
    "        kfold = KFold(n_splits=i, random_state=6)\n",
    "        adaResults = cross_val_score(adaModel, X, y, cv=kfold)\n",
    "        print('for n_estimator:: ', a)\n",
    "        print('for i= ',i,' mean is:: ', adaResults.mean())'''"
   ]
  },
  {
   "cell_type": "code",
   "execution_count": 558,
   "metadata": {},
   "outputs": [
    {
     "name": "stdout",
     "output_type": "stream",
     "text": [
      "0.5444156309830313\n",
      "0.03608753551209182\n"
     ]
    }
   ],
   "source": [
    "print(adaResults.mean())\n",
    "print(adaResults.std())"
   ]
  },
  {
   "cell_type": "code",
   "execution_count": 80,
   "metadata": {},
   "outputs": [
    {
     "name": "stdout",
     "output_type": "stream",
     "text": [
      "126.93069296945633\n"
     ]
    }
   ],
   "source": [
    "y2 = adaModel.predict(X)\n",
    "y2 = pd.DataFrame(y2)\n",
    "rmse_y2 = np.sqrt(mean_squared_error(y ,y2))\n",
    "print(rmse_y2)"
   ]
  },
  {
   "cell_type": "code",
   "execution_count": 93,
   "metadata": {},
   "outputs": [
    {
     "name": "stdout",
     "output_type": "stream",
     "text": [
      "233.303598058546\n"
     ]
    }
   ],
   "source": [
    "y_pred_actual3 = adaModel.predict(actual_X_test)\n",
    "y_pred_actual3 = pd.DataFrame(y_pred_actual3)\n",
    "y_pred_actual3 = np.sqrt(mean_squared_error(actual_y_test ,y_pred_actual3))\n",
    "print(y_pred_actual3)"
   ]
  },
  {
   "cell_type": "code",
   "execution_count": 95,
   "metadata": {},
   "outputs": [
    {
     "name": "stdout",
     "output_type": "stream",
     "text": [
      "[0.31327583 0.28981288 0.27083096]\n"
     ]
    }
   ],
   "source": [
    "ada_boost = AdaBoostRegressor(base_estimator=linReg, n_estimators=500, learning_rate=0.1, random_state=6)\n",
    "score_ada_boost = cross_val_score(ada_boost, X, y, scoring='r2', n_jobs=1)\n",
    "print(score_ada_boost)"
   ]
  },
  {
   "cell_type": "code",
   "execution_count": 96,
   "metadata": {},
   "outputs": [
    {
     "ename": "NotFittedError",
     "evalue": "This AdaBoostRegressor instance is not fitted yet. Call 'fit' with appropriate arguments before using this method.",
     "output_type": "error",
     "traceback": [
      "\u001b[1;31m---------------------------------------------------------------------------\u001b[0m",
      "\u001b[1;31mNotFittedError\u001b[0m                            Traceback (most recent call last)",
      "\u001b[1;32m<ipython-input-96-3b797b508bdd>\u001b[0m in \u001b[0;36m<module>\u001b[1;34m\u001b[0m\n\u001b[1;32m----> 1\u001b[1;33m \u001b[0my_pred_actual31\u001b[0m \u001b[1;33m=\u001b[0m \u001b[0mada_boost\u001b[0m\u001b[1;33m.\u001b[0m\u001b[0mpredict\u001b[0m\u001b[1;33m(\u001b[0m\u001b[0mactual_X_test\u001b[0m\u001b[1;33m)\u001b[0m\u001b[1;33m\u001b[0m\u001b[1;33m\u001b[0m\u001b[0m\n\u001b[0m\u001b[0;32m      2\u001b[0m \u001b[0my_pred_actual31\u001b[0m \u001b[1;33m=\u001b[0m \u001b[0mpd\u001b[0m\u001b[1;33m.\u001b[0m\u001b[0mDataFrame\u001b[0m\u001b[1;33m(\u001b[0m\u001b[0my_pred_actual31\u001b[0m\u001b[1;33m)\u001b[0m\u001b[1;33m\u001b[0m\u001b[1;33m\u001b[0m\u001b[0m\n\u001b[0;32m      3\u001b[0m \u001b[0my_pred_actual31\u001b[0m \u001b[1;33m=\u001b[0m \u001b[0mnp\u001b[0m\u001b[1;33m.\u001b[0m\u001b[0msqrt\u001b[0m\u001b[1;33m(\u001b[0m\u001b[0mmean_squared_error\u001b[0m\u001b[1;33m(\u001b[0m\u001b[0mactual_y_test\u001b[0m \u001b[1;33m,\u001b[0m\u001b[0my_pred_actual31\u001b[0m\u001b[1;33m)\u001b[0m\u001b[1;33m)\u001b[0m\u001b[1;33m\u001b[0m\u001b[1;33m\u001b[0m\u001b[0m\n\u001b[0;32m      4\u001b[0m \u001b[0mprint\u001b[0m\u001b[1;33m(\u001b[0m\u001b[0my_pred_actual31\u001b[0m\u001b[1;33m)\u001b[0m\u001b[1;33m\u001b[0m\u001b[1;33m\u001b[0m\u001b[0m\n",
      "\u001b[1;32m~\\AppData\\Local\\Continuum\\anaconda3x\\lib\\site-packages\\sklearn\\ensemble\\weight_boosting.py\u001b[0m in \u001b[0;36mpredict\u001b[1;34m(self, X)\u001b[0m\n\u001b[0;32m   1091\u001b[0m             \u001b[0mThe\u001b[0m \u001b[0mpredicted\u001b[0m \u001b[0mregression\u001b[0m \u001b[0mvalues\u001b[0m\u001b[1;33m.\u001b[0m\u001b[1;33m\u001b[0m\u001b[1;33m\u001b[0m\u001b[0m\n\u001b[0;32m   1092\u001b[0m         \"\"\"\n\u001b[1;32m-> 1093\u001b[1;33m         \u001b[0mcheck_is_fitted\u001b[0m\u001b[1;33m(\u001b[0m\u001b[0mself\u001b[0m\u001b[1;33m,\u001b[0m \u001b[1;34m\"estimator_weights_\"\u001b[0m\u001b[1;33m)\u001b[0m\u001b[1;33m\u001b[0m\u001b[1;33m\u001b[0m\u001b[0m\n\u001b[0m\u001b[0;32m   1094\u001b[0m         \u001b[0mX\u001b[0m \u001b[1;33m=\u001b[0m \u001b[0mself\u001b[0m\u001b[1;33m.\u001b[0m\u001b[0m_validate_X_predict\u001b[0m\u001b[1;33m(\u001b[0m\u001b[0mX\u001b[0m\u001b[1;33m)\u001b[0m\u001b[1;33m\u001b[0m\u001b[1;33m\u001b[0m\u001b[0m\n\u001b[0;32m   1095\u001b[0m \u001b[1;33m\u001b[0m\u001b[0m\n",
      "\u001b[1;32m~\\AppData\\Local\\Continuum\\anaconda3x\\lib\\site-packages\\sklearn\\utils\\validation.py\u001b[0m in \u001b[0;36mcheck_is_fitted\u001b[1;34m(estimator, attributes, msg, all_or_any)\u001b[0m\n\u001b[0;32m    949\u001b[0m \u001b[1;33m\u001b[0m\u001b[0m\n\u001b[0;32m    950\u001b[0m     \u001b[1;32mif\u001b[0m \u001b[1;32mnot\u001b[0m \u001b[0mall_or_any\u001b[0m\u001b[1;33m(\u001b[0m\u001b[1;33m[\u001b[0m\u001b[0mhasattr\u001b[0m\u001b[1;33m(\u001b[0m\u001b[0mestimator\u001b[0m\u001b[1;33m,\u001b[0m \u001b[0mattr\u001b[0m\u001b[1;33m)\u001b[0m \u001b[1;32mfor\u001b[0m \u001b[0mattr\u001b[0m \u001b[1;32min\u001b[0m \u001b[0mattributes\u001b[0m\u001b[1;33m]\u001b[0m\u001b[1;33m)\u001b[0m\u001b[1;33m:\u001b[0m\u001b[1;33m\u001b[0m\u001b[1;33m\u001b[0m\u001b[0m\n\u001b[1;32m--> 951\u001b[1;33m         \u001b[1;32mraise\u001b[0m \u001b[0mNotFittedError\u001b[0m\u001b[1;33m(\u001b[0m\u001b[0mmsg\u001b[0m \u001b[1;33m%\u001b[0m \u001b[1;33m{\u001b[0m\u001b[1;34m'name'\u001b[0m\u001b[1;33m:\u001b[0m \u001b[0mtype\u001b[0m\u001b[1;33m(\u001b[0m\u001b[0mestimator\u001b[0m\u001b[1;33m)\u001b[0m\u001b[1;33m.\u001b[0m\u001b[0m__name__\u001b[0m\u001b[1;33m}\u001b[0m\u001b[1;33m)\u001b[0m\u001b[1;33m\u001b[0m\u001b[1;33m\u001b[0m\u001b[0m\n\u001b[0m\u001b[0;32m    952\u001b[0m \u001b[1;33m\u001b[0m\u001b[0m\n\u001b[0;32m    953\u001b[0m \u001b[1;33m\u001b[0m\u001b[0m\n",
      "\u001b[1;31mNotFittedError\u001b[0m: This AdaBoostRegressor instance is not fitted yet. Call 'fit' with appropriate arguments before using this method."
     ]
    }
   ],
   "source": [
    "y_pred_actual31 = ada_boost.predict(actual_X_test)\n",
    "y_pred_actual31 = pd.DataFrame(y_pred_actual31)\n",
    "y_pred_actual31 = np.sqrt(mean_squared_error(actual_y_test ,y_pred_actual31))\n",
    "print(y_pred_actual31)"
   ]
  },
  {
   "cell_type": "code",
   "execution_count": 530,
   "metadata": {},
   "outputs": [
    {
     "name": "stdout",
     "output_type": "stream",
     "text": [
      "Collecting xgboost\n",
      "  Downloading https://files.pythonhosted.org/packages/5e/49/b95c037b717b4ceadc76b6e164603471225c27052d1611d5a2e832757945/xgboost-0.90-py2.py3-none-win_amd64.whl (18.3MB)\n",
      "Requirement already satisfied: scipy in c:\\users\\hsinghvi\\appdata\\local\\continuum\\anaconda3x\\lib\\site-packages (from xgboost) (1.2.1)\n",
      "Requirement already satisfied: numpy in c:\\users\\hsinghvi\\appdata\\local\\continuum\\anaconda3x\\lib\\site-packages (from xgboost) (1.16.2)\n",
      "Installing collected packages: xgboost\n",
      "Successfully installed xgboost-0.90\n"
     ]
    }
   ],
   "source": [
    "#!pip install xgboost"
   ]
  },
  {
   "cell_type": "code",
   "execution_count": 81,
   "metadata": {},
   "outputs": [],
   "source": [
    "from xgboost import XGBRegressor\n",
    "from xgboost import plot_importance"
   ]
  },
  {
   "cell_type": "code",
   "execution_count": 86,
   "metadata": {},
   "outputs": [
    {
     "name": "stdout",
     "output_type": "stream",
     "text": [
      "[21:14:38] WARNING: C:/Jenkins/workspace/xgboost-win64_release_0.90/src/objective/regression_obj.cu:152: reg:linear is now deprecated in favor of reg:squarederror.\n",
      "[21:14:40] WARNING: C:/Jenkins/workspace/xgboost-win64_release_0.90/src/objective/regression_obj.cu:152: reg:linear is now deprecated in favor of reg:squarederror.\n",
      "[0]\tvalidation_0-rmse:232.138\n",
      "[1]\tvalidation_0-rmse:215.783\n",
      "[2]\tvalidation_0-rmse:201.278\n",
      "[3]\tvalidation_0-rmse:188.696\n",
      "[4]\tvalidation_0-rmse:177.836\n",
      "[5]\tvalidation_0-rmse:168.279\n",
      "[6]\tvalidation_0-rmse:160.211\n",
      "[7]\tvalidation_0-rmse:153.283\n",
      "[8]\tvalidation_0-rmse:147.357\n",
      "[9]\tvalidation_0-rmse:142.196\n",
      "[10]\tvalidation_0-rmse:137.719\n",
      "[11]\tvalidation_0-rmse:134.076\n",
      "[12]\tvalidation_0-rmse:130.02\n",
      "[13]\tvalidation_0-rmse:127.242\n",
      "[14]\tvalidation_0-rmse:123.774\n",
      "[15]\tvalidation_0-rmse:120.837\n",
      "[16]\tvalidation_0-rmse:118.93\n",
      "[17]\tvalidation_0-rmse:116.751\n",
      "[18]\tvalidation_0-rmse:114.869\n",
      "[19]\tvalidation_0-rmse:113.423\n",
      "[20]\tvalidation_0-rmse:111.997\n",
      "[21]\tvalidation_0-rmse:110.802\n",
      "[22]\tvalidation_0-rmse:109.973\n",
      "[23]\tvalidation_0-rmse:109.141\n",
      "[24]\tvalidation_0-rmse:106.522\n",
      "[25]\tvalidation_0-rmse:105.452\n",
      "[26]\tvalidation_0-rmse:104.758\n",
      "[27]\tvalidation_0-rmse:103.051\n",
      "[28]\tvalidation_0-rmse:102.323\n",
      "[29]\tvalidation_0-rmse:101.88\n",
      "[30]\tvalidation_0-rmse:99.9451\n",
      "[31]\tvalidation_0-rmse:99.3455\n",
      "[32]\tvalidation_0-rmse:98.9321\n",
      "[33]\tvalidation_0-rmse:98.3013\n",
      "[34]\tvalidation_0-rmse:97.7084\n",
      "[35]\tvalidation_0-rmse:97.0655\n",
      "[36]\tvalidation_0-rmse:96.7856\n",
      "[37]\tvalidation_0-rmse:96.4413\n",
      "[38]\tvalidation_0-rmse:95.9224\n",
      "[39]\tvalidation_0-rmse:95.7625\n",
      "[40]\tvalidation_0-rmse:95.5494\n",
      "[41]\tvalidation_0-rmse:95.133\n",
      "[42]\tvalidation_0-rmse:94.8998\n",
      "[43]\tvalidation_0-rmse:94.775\n",
      "[44]\tvalidation_0-rmse:94.2737\n",
      "[45]\tvalidation_0-rmse:94.1029\n",
      "[46]\tvalidation_0-rmse:93.8836\n",
      "[47]\tvalidation_0-rmse:93.7545\n",
      "[48]\tvalidation_0-rmse:93.6283\n",
      "[49]\tvalidation_0-rmse:93.2516\n",
      "[50]\tvalidation_0-rmse:93.0643\n",
      "[51]\tvalidation_0-rmse:92.9855\n",
      "[52]\tvalidation_0-rmse:92.6797\n",
      "[53]\tvalidation_0-rmse:92.5861\n",
      "[54]\tvalidation_0-rmse:91.914\n",
      "[55]\tvalidation_0-rmse:91.0978\n",
      "[56]\tvalidation_0-rmse:90.9211\n",
      "[57]\tvalidation_0-rmse:90.6633\n",
      "[58]\tvalidation_0-rmse:90.5616\n",
      "[59]\tvalidation_0-rmse:90.5051\n",
      "[60]\tvalidation_0-rmse:90.3996\n",
      "[61]\tvalidation_0-rmse:89.1685\n",
      "[62]\tvalidation_0-rmse:89.1186\n",
      "[63]\tvalidation_0-rmse:89.0702\n",
      "[64]\tvalidation_0-rmse:88.9805\n",
      "[65]\tvalidation_0-rmse:88.9516\n",
      "[66]\tvalidation_0-rmse:88.888\n",
      "[67]\tvalidation_0-rmse:88.8559\n",
      "[68]\tvalidation_0-rmse:88.6593\n",
      "[69]\tvalidation_0-rmse:88.4653\n",
      "[70]\tvalidation_0-rmse:88.3251\n",
      "[71]\tvalidation_0-rmse:87.2319\n",
      "[72]\tvalidation_0-rmse:86.9951\n",
      "[73]\tvalidation_0-rmse:86.9616\n",
      "[74]\tvalidation_0-rmse:86.8847\n",
      "[75]\tvalidation_0-rmse:86.7598\n",
      "[76]\tvalidation_0-rmse:86.658\n",
      "[77]\tvalidation_0-rmse:86.5874\n",
      "[78]\tvalidation_0-rmse:86.5449\n",
      "[79]\tvalidation_0-rmse:86.516\n",
      "[80]\tvalidation_0-rmse:86.3802\n",
      "[81]\tvalidation_0-rmse:85.4533\n",
      "[82]\tvalidation_0-rmse:85.3766\n",
      "[83]\tvalidation_0-rmse:85.3039\n",
      "[84]\tvalidation_0-rmse:84.5483\n",
      "[85]\tvalidation_0-rmse:84.4324\n",
      "[86]\tvalidation_0-rmse:84.1319\n",
      "[87]\tvalidation_0-rmse:84.0613\n",
      "[88]\tvalidation_0-rmse:84.0282\n",
      "[89]\tvalidation_0-rmse:83.9957\n",
      "[90]\tvalidation_0-rmse:83.9683\n",
      "[91]\tvalidation_0-rmse:83.905\n",
      "[92]\tvalidation_0-rmse:83.889\n",
      "[93]\tvalidation_0-rmse:83.8474\n",
      "[94]\tvalidation_0-rmse:83.7967\n",
      "[95]\tvalidation_0-rmse:83.7779\n",
      "[96]\tvalidation_0-rmse:83.6577\n",
      "[97]\tvalidation_0-rmse:83.6051\n",
      "[98]\tvalidation_0-rmse:83.5973\n",
      "[99]\tvalidation_0-rmse:83.3754\n"
     ]
    },
    {
     "data": {
      "image/png": "[encoded data removed]",
      "text/plain": [
       "<Figure size 432x288 with 1 Axes>"
      ]
     },
     "metadata": {
      "needs_background": "light"
     },
     "output_type": "display_data"
    }
   ],
   "source": [
    "model = XGBRegressor()\n",
    "model.fit(X, y)\n",
    "xlf = XGBRegressor(objective=\"reg:linear\", seed=6)\n",
    "xlf.fit(X_train, y_train, eval_metric='rmse', verbose = True, eval_set = [(X_test, y_test)])\n",
    "\n",
    "# plot feature importance\n",
    "plot_importance(model)\n",
    "plt.show()"
   ]
  },
  {
   "cell_type": "code",
   "execution_count": 83,
   "metadata": {},
   "outputs": [
    {
     "name": "stdout",
     "output_type": "stream",
     "text": [
      "[20:54:51] WARNING: C:/Jenkins/workspace/xgboost-win64_release_0.90/src/objective/regression_obj.cu:152: reg:linear is now deprecated in favor of reg:squarederror.\n",
      "[20:54:52] WARNING: C:/Jenkins/workspace/xgboost-win64_release_0.90/src/objective/regression_obj.cu:152: reg:linear is now deprecated in favor of reg:squarederror.\n",
      "0.7718951462883145\n"
     ]
    }
   ],
   "source": [
    "XGResults = cross_val_score(model, X, y, cv=kfold)\n",
    "print(XGResults.mean())"
   ]
  },
  {
   "cell_type": "code",
   "execution_count": 545,
   "metadata": {},
   "outputs": [
    {
     "data": {
      "text/plain": [
       "array([0.03881254, 0.03516148, 0.03430787, 0.06031831, 0.06272976,\n",
       "       0.03520602, 0.03696798, 0.03189195, 0.05469542, 0.        ,\n",
       "       0.03739713, 0.03472008, 0.03017539, 0.03203094, 0.03527758,\n",
       "       0.02896569, 0.03155602, 0.03137442, 0.03142311, 0.02981126,\n",
       "       0.03781365, 0.0438525 , 0.02938312, 0.0280071 , 0.03280002,\n",
       "       0.02755546, 0.02901969, 0.02894006, 0.02980543], dtype=float32)"
      ]
     },
     "execution_count": 545,
     "metadata": {},
     "output_type": "execute_result"
    }
   ],
   "source": [
    "model.feature_importances_"
   ]
  },
  {
   "cell_type": "code",
   "execution_count": 88,
   "metadata": {},
   "outputs": [
    {
     "name": "stdout",
     "output_type": "stream",
     "text": [
      "76.22192037707534\n"
     ]
    }
   ],
   "source": [
    "y3 = model.predict(X)\n",
    "y3 = pd.DataFrame(y3)\n",
    "rmse_y3 = np.sqrt(mean_squared_error(y ,y3))\n",
    "print(rmse_y3)"
   ]
  },
  {
   "cell_type": "code",
   "execution_count": 89,
   "metadata": {},
   "outputs": [
    {
     "name": "stdout",
     "output_type": "stream",
     "text": [
      "78.04646544709271\n"
     ]
    }
   ],
   "source": [
    "y4 = xlf.predict(X)\n",
    "y4 = pd.DataFrame(y4)\n",
    "rmse_y4 = np.sqrt(mean_squared_error(y ,y4))\n",
    "print(rmse_y4)"
   ]
  },
  {
   "cell_type": "code",
   "execution_count": 91,
   "metadata": {},
   "outputs": [
    {
     "name": "stdout",
     "output_type": "stream",
     "text": [
      "232.43504394816856\n"
     ]
    }
   ],
   "source": [
    "y_pred_actual = model.predict(actual_X_test)\n",
    "y_pred_actual = pd.DataFrame(y_pred_actual)\n",
    "y_pred_actual = np.sqrt(mean_squared_error(actual_y_test ,y_pred_actual))\n",
    "print(y_pred_actual)"
   ]
  },
  {
   "cell_type": "code",
   "execution_count": 92,
   "metadata": {},
   "outputs": [
    {
     "name": "stdout",
     "output_type": "stream",
     "text": [
      "232.05969532911982\n"
     ]
    }
   ],
   "source": [
    "y_pred_actual2 = xlf.predict(actual_X_test)\n",
    "y_pred_actual2 = pd.DataFrame(y_pred_actual2)\n",
    "y_pred_actual2 = np.sqrt(mean_squared_error(actual_y_test ,y_pred_actual2))\n",
    "print(y_pred_actual2)"
   ]
  },
  {
   "cell_type": "code",
   "execution_count": 94,
   "metadata": {},
   "outputs": [
    {
     "name": "stdout",
     "output_type": "stream",
     "text": [
      "61.26989472816156\n"
     ]
    }
   ],
   "source": [
    "print(np.sqrt(3754))"
   ]
  },
  {
   "cell_type": "code",
   "execution_count": 99,
   "metadata": {},
   "outputs": [],
   "source": [
    "from sklearn.ensemble import GradientBoostingRegressor"
   ]
  },
  {
   "cell_type": "code",
   "execution_count": 102,
   "metadata": {},
   "outputs": [],
   "source": [
    "gdbr = GradientBoostingRegressor(n_estimators=100)\n",
    "gdbr.fit(X_train, y_train)\n",
    "y_gdbr = gdbr.predict(X_test)\n",
    "y_gdbr = pd.DataFrame(y_gdbr)"
   ]
  },
  {
   "cell_type": "code",
   "execution_count": 104,
   "metadata": {},
   "outputs": [
    {
     "name": "stdout",
     "output_type": "stream",
     "text": [
      "80.29472891900376\n"
     ]
    }
   ],
   "source": [
    "rmse_gdbr = np.sqrt(mean_squared_error(y_test ,y_gdbr))\n",
    "print(rmse_gdbr)"
   ]
  },
  {
   "cell_type": "code",
   "execution_count": 219,
   "metadata": {},
   "outputs": [
    {
     "name": "stdout",
     "output_type": "stream",
     "text": [
      "29\n",
      "Index(['atemp', 'humidity', 'windspeed', 'hour', 'season_Spring',\n",
      "       'season_Summer', 'season_Winter', 'holiday_1', 'workingday_1',\n",
      "       'weather_ Heavy Rain + Thunderstorm ',\n",
      "       'weather_ Light Snow, Light Rain', 'weather_ Mist + Cloudy ',\n",
      "       'weekday_Monday', 'weekday_Saturday', 'weekday_Sunday',\n",
      "       'weekday_Thursday', 'weekday_Tuesday', 'weekday_Wednesday',\n",
      "       'month_August', 'month_December', 'month_February', 'month_January',\n",
      "       'month_July', 'month_June', 'month_March', 'month_May',\n",
      "       'month_November', 'month_October', 'month_September'],\n",
      "      dtype='object')\n",
      "Feature Importances::  [0.125 0.029 0.002 0.684 0.035 0.    0.01  0.    0.084 0.    0.018 0.\n",
      " 0.001 0.003 0.002 0.    0.    0.    0.001 0.    0.    0.001 0.    0.\n",
      " 0.001 0.    0.    0.001 0.002]\n",
      "Feature Importances::  [0.    0.    0.    0.    0.    0.    0.    0.    0.    0.    0.    0.\n",
      " 0.    0.001 0.001 0.001 0.001 0.001 0.002 0.002 0.002 0.003 0.01  0.018\n",
      " 0.029 0.035 0.084 0.125 0.684]\n"
     ]
    }
   ],
   "source": [
    "print(len(X_train.columns))\n",
    "print(X_train.columns)\n",
    "print('Feature Importances:: ', np.round(gdbr.feature_importances_,3))\n",
    "print('Feature Importances:: ', np.sort(np.round(gdbr.feature_importances_,3)))"
   ]
  },
  {
   "cell_type": "code",
   "execution_count": 112,
   "metadata": {},
   "outputs": [
    {
     "name": "stdout",
     "output_type": "stream",
     "text": [
      "R-squared for Train: 0.80\n",
      "R-squared for Test: 0.78\n"
     ]
    }
   ],
   "source": [
    "print(\"R-squared for Train: %.2f\" %gdbr.score(X_train, y_train))\n",
    "print(\"R-squared for Test: %.2f\" %gdbr.score(X_test, y_test))"
   ]
  },
  {
   "cell_type": "code",
   "execution_count": 148,
   "metadata": {},
   "outputs": [
    {
     "name": "stdout",
     "output_type": "stream",
     "text": [
      "Wall time: 0 ns\n"
     ]
    }
   ],
   "source": [
    "%%time\n",
    "#params = {'n_estimators'=np.arange(100,600,100), 'max_depth'=np.arange(1,10,1), 'learning_rate'=np.arange(.05,1,.05), 'min_samples_leaf'=np.arange(1,20,2), 'max_features'=np.arange(.1,1.2,.1)}\n",
    "##params = {'n_estimators':np.arange(50,200,50), 'max_depth':np.arange(1,5,1), 'learning_rate':np.arange(.1,1,.1), 'min_samples_leaf':np.arange(1,16,2), 'max_features':np.arange(2,10,1)}\n",
    "params = {'n_estimators':np.arange(50,200,50)}\n",
    "\n",
    "gdbr_grid = GridSearchCV(gdbr, params, scoring='r2', cv=3, n_jobs=3)"
   ]
  },
  {
   "cell_type": "code",
   "execution_count": 154,
   "metadata": {},
   "outputs": [
    {
     "data": {
      "text/html": [
       "<div>\n",
       "<style scoped>\n",
       "    .dataframe tbody tr th:only-of-type {\n",
       "        vertical-align: middle;\n",
       "    }\n",
       "\n",
       "    .dataframe tbody tr th {\n",
       "        vertical-align: top;\n",
       "    }\n",
       "\n",
       "    .dataframe thead th {\n",
       "        text-align: right;\n",
       "    }\n",
       "</style>\n",
       "<table border=\"1\" class=\"dataframe\">\n",
       "  <thead>\n",
       "    <tr style=\"text-align: right;\">\n",
       "      <th></th>\n",
       "      <th>0</th>\n",
       "    </tr>\n",
       "  </thead>\n",
       "  <tbody>\n",
       "    <tr>\n",
       "      <th>0</th>\n",
       "      <td>19.412213</td>\n",
       "    </tr>\n",
       "    <tr>\n",
       "      <th>1</th>\n",
       "      <td>370.857984</td>\n",
       "    </tr>\n",
       "    <tr>\n",
       "      <th>2</th>\n",
       "      <td>30.435710</td>\n",
       "    </tr>\n",
       "    <tr>\n",
       "      <th>3</th>\n",
       "      <td>42.653994</td>\n",
       "    </tr>\n",
       "    <tr>\n",
       "      <th>4</th>\n",
       "      <td>198.048580</td>\n",
       "    </tr>\n",
       "  </tbody>\n",
       "</table>\n",
       "</div>"
      ],
      "text/plain": [
       "            0\n",
       "0   19.412213\n",
       "1  370.857984\n",
       "2   30.435710\n",
       "3   42.653994\n",
       "4  198.048580"
      ]
     },
     "execution_count": 154,
     "metadata": {},
     "output_type": "execute_result"
    }
   ],
   "source": [
    "gdbr_GSCV = GradientBoostingRegressor(alpha=0.9, criterion='friedman_mse', init=None,\n",
    "             learning_rate=0.1, loss='ls', max_depth=3, max_features=None,\n",
    "             max_leaf_nodes=None, min_impurity_decrease=0.0,\n",
    "             min_impurity_split=None, min_samples_leaf=1,\n",
    "             min_samples_split=2, min_weight_fraction_leaf=0.0,\n",
    "             n_estimators=100, n_iter_no_change=None, presort='auto',\n",
    "             random_state=None, subsample=1.0, tol=0.0001,\n",
    "             validation_fraction=0.1, verbose=0, warm_start=False)\n",
    "gdbr_GSCV.fit(X_train, y_train)\n",
    "y_gdbr_GSCV = gdbr_GSCV.predict(X_test)\n",
    "y_gdbr_GSCV = pd.DataFrame(y_gdbr_GSCV)\n"
   ]
  },
  {
   "cell_type": "code",
   "execution_count": 158,
   "metadata": {},
   "outputs": [
    {
     "data": {
      "text/plain": [
       "4868      7\n",
       "7212    731\n",
       "1099     26\n",
       "1318     47\n",
       "4295    102\n",
       "Name: Bookings, dtype: int64"
      ]
     },
     "execution_count": 158,
     "metadata": {},
     "output_type": "execute_result"
    }
   ],
   "source": [
    "y_test.head()"
   ]
  },
  {
   "cell_type": "code",
   "execution_count": 160,
   "metadata": {},
   "outputs": [
    {
     "data": {
      "text/html": [
       "<div>\n",
       "<style scoped>\n",
       "    .dataframe tbody tr th:only-of-type {\n",
       "        vertical-align: middle;\n",
       "    }\n",
       "\n",
       "    .dataframe tbody tr th {\n",
       "        vertical-align: top;\n",
       "    }\n",
       "\n",
       "    .dataframe thead th {\n",
       "        text-align: right;\n",
       "    }\n",
       "</style>\n",
       "<table border=\"1\" class=\"dataframe\">\n",
       "  <thead>\n",
       "    <tr style=\"text-align: right;\">\n",
       "      <th></th>\n",
       "      <th>0</th>\n",
       "    </tr>\n",
       "  </thead>\n",
       "  <tbody>\n",
       "    <tr>\n",
       "      <th>0</th>\n",
       "      <td>19</td>\n",
       "    </tr>\n",
       "    <tr>\n",
       "      <th>1</th>\n",
       "      <td>370</td>\n",
       "    </tr>\n",
       "    <tr>\n",
       "      <th>2</th>\n",
       "      <td>30</td>\n",
       "    </tr>\n",
       "    <tr>\n",
       "      <th>3</th>\n",
       "      <td>42</td>\n",
       "    </tr>\n",
       "    <tr>\n",
       "      <th>4</th>\n",
       "      <td>198</td>\n",
       "    </tr>\n",
       "  </tbody>\n",
       "</table>\n",
       "</div>"
      ],
      "text/plain": [
       "     0\n",
       "0   19\n",
       "1  370\n",
       "2   30\n",
       "3   42\n",
       "4  198"
      ]
     },
     "execution_count": 160,
     "metadata": {},
     "output_type": "execute_result"
    }
   ],
   "source": [
    "y_gdbr_GSCV[0] = y_gdbr_GSCV[0].apply(lambda x: int(x))\n",
    "y_gdbr_GSCV.head()"
   ]
  },
  {
   "cell_type": "code",
   "execution_count": null,
   "metadata": {},
   "outputs": [],
   "source": []
  },
  {
   "cell_type": "code",
   "execution_count": 161,
   "metadata": {},
   "outputs": [
    {
     "name": "stdout",
     "output_type": "stream",
     "text": [
      "rmse_gdbr  80.3056479416745\n",
      "R-squared for Train: 0.80\n",
      "R-squared for Test: 0.78\n"
     ]
    }
   ],
   "source": [
    "rmse_gdbr = np.sqrt(mean_squared_error(y_test ,y_gdbr_GSCV))\n",
    "print('rmse_gdbr ', rmse_gdbr)\n",
    "print(\"R-squared for Train: %.2f\" %gdbr_GSCV.score(X_train, y_train))\n",
    "print(\"R-squared for Test: %.2f\" %gdbr_GSCV.score(X_test, y_test))"
   ]
  },
  {
   "cell_type": "code",
   "execution_count": 143,
   "metadata": {},
   "outputs": [
    {
     "name": "stdout",
     "output_type": "stream",
     "text": [
      "GradientBoostingRegressor(alpha=0.9, criterion='friedman_mse', init=None,\n",
      "             learning_rate=0.1, loss='ls', max_depth=3, max_features=None,\n",
      "             max_leaf_nodes=None, min_impurity_decrease=0.0,\n",
      "             min_impurity_split=None, min_samples_leaf=1,\n",
      "             min_samples_split=2, min_weight_fraction_leaf=0.0,\n",
      "             n_estimators=100, n_iter_no_change=None, presort='auto',\n",
      "             random_state=None, subsample=1.0, tol=0.0001,\n",
      "             validation_fraction=0.1, verbose=0, warm_start=False)\n"
     ]
    }
   ],
   "source": [
    "print(gdbr_grid.estimator)"
   ]
  },
  {
   "cell_type": "code",
   "execution_count": 139,
   "metadata": {},
   "outputs": [
    {
     "data": {
      "text/plain": [
       "<bound method BaseSearchCV.score of GridSearchCV(cv=3, error_score='raise-deprecating',\n",
       "       estimator=GradientBoostingRegressor(alpha=0.9, criterion='friedman_mse', init=None,\n",
       "             learning_rate=0.1, loss='ls', max_depth=3, max_features=None,\n",
       "             max_leaf_nodes=None, min_impurity_decrease=0.0,\n",
       "             min_impurity_split=None, min_samples_leaf=1,\n",
       "             min_sampl...=None, subsample=1.0, tol=0.0001,\n",
       "             validation_fraction=0.1, verbose=0, warm_start=False),\n",
       "       fit_params=None, iid='warn', n_jobs=None,\n",
       "       param_grid={'n_estimators': array([100, 200, 300, 400, 500]), 'max_depth': array([1, 2, 3, 4, 5, 6, 7, 8, 9]), 'learning_rate': array([0.05, 0.1 , 0.15, 0.2 , 0.25, 0.3 , 0.35, 0.4 , 0.45, 0.5 , 0.55,\n",
       "       0.6 , 0.65, 0.7 , 0.75, 0.8 , 0.85, 0.9 , 0.95]), 'min_samples_leaf': array([ 1,  3,  5,  7,  9, 11, 13, 15, 17, 19]), 'max_features': array([2, 3, 4, 5, 6, 7, 8, 9])},\n",
       "       pre_dispatch='2*n_jobs', refit=True, return_train_score='warn',\n",
       "       scoring='r2', verbose=0)>"
      ]
     },
     "execution_count": 139,
     "metadata": {},
     "output_type": "execute_result"
    }
   ],
   "source": [
    "gdbr_grid.score"
   ]
  },
  {
   "cell_type": "code",
   "execution_count": null,
   "metadata": {},
   "outputs": [],
   "source": []
  },
  {
   "cell_type": "code",
   "execution_count": null,
   "metadata": {},
   "outputs": [],
   "source": []
  },
  {
   "cell_type": "code",
   "execution_count": 215,
   "metadata": {},
   "outputs": [
    {
     "name": "stdout",
     "output_type": "stream",
     "text": [
      "Wall time: 0 ns\n"
     ]
    }
   ],
   "source": [
    "%%time\n",
    "#gdbr_grid.fit(X_train,y_train)\n",
    "#gdbr_test_pred = gdbr_grid.predict(X_test)"
   ]
  },
  {
   "cell_type": "code",
   "execution_count": 135,
   "metadata": {},
   "outputs": [
    {
     "name": "stdout",
     "output_type": "stream",
     "text": [
      "rmse_gdbr  80.29472891900376\n",
      "R-squared for Train: 0.80\n",
      "R-squared for Test: 0.78\n"
     ]
    }
   ],
   "source": []
  },
  {
   "cell_type": "code",
   "execution_count": null,
   "metadata": {},
   "outputs": [],
   "source": []
  },
  {
   "cell_type": "markdown",
   "metadata": {},
   "source": [
    "# Conclusions"
   ]
  },
  {
   "cell_type": "markdown",
   "metadata": {},
   "source": [
    "##### The time and atime columns are highly correlated, so it is better to drop that column for better modelling.\n",
    "##### The datetime column is divided into multiple columns, like date, day, weekday, month.\n",
    "##### "
   ]
  },
  {
   "cell_type": "code",
   "execution_count": 176,
   "metadata": {},
   "outputs": [
    {
     "data": {
      "text/plain": [
       "PCA(copy=True, iterated_power='auto', n_components=4, random_state=None,\n",
       "  svd_solver='auto', tol=0.0, whiten=False)"
      ]
     },
     "execution_count": 176,
     "metadata": {},
     "output_type": "execute_result"
    }
   ],
   "source": [
    "from sklearn.decomposition import PCA\n",
    "pca = PCA(n_components=4)\n",
    "pca.fit(X_train)"
   ]
  },
  {
   "cell_type": "code",
   "execution_count": 178,
   "metadata": {},
   "outputs": [
    {
     "data": {
      "text/plain": [
       "(6872, 4)"
      ]
     },
     "execution_count": 178,
     "metadata": {},
     "output_type": "execute_result"
    }
   ],
   "source": [
    "transF_pca_df_train = pca.fit_transform(X_train)\n",
    "transF_pca_df_train = pd.DataFrame(transF_pca_df_train)\n",
    "transF_pca_df_train.columns = ['PC1','PC2','PC3','PC4']\n",
    "transF_pca_df_train.shape"
   ]
  },
  {
   "cell_type": "code",
   "execution_count": 181,
   "metadata": {},
   "outputs": [
    {
     "name": "stdout",
     "output_type": "stream",
     "text": [
      "[0.681 0.136 0.104 0.074]\n",
      "0.9955539869001548\n"
     ]
    }
   ],
   "source": [
    "print(np.round(pca.explained_variance_ratio_,3))\n",
    "print(np.sum(pca.explained_variance_ratio_))"
   ]
  },
  {
   "cell_type": "code",
   "execution_count": 184,
   "metadata": {},
   "outputs": [
    {
     "data": {
      "text/plain": [
       "(10769, 2)"
      ]
     },
     "execution_count": 184,
     "metadata": {},
     "output_type": "execute_result"
    }
   ],
   "source": [
    "pca1 = PCA(n_components=2)\n",
    "pca1.fit(merged_Dummy)\n",
    "pca_merged = pca1.fit_transform(merged_Dummy)\n",
    "pca_merged = pd.DataFrame(pca_merged)\n",
    "pca_merged.shape"
   ]
  },
  {
   "cell_type": "code",
   "execution_count": 185,
   "metadata": {},
   "outputs": [
    {
     "name": "stdout",
     "output_type": "stream",
     "text": [
      "[0.982 0.012]\n",
      "0.994397721550745\n"
     ]
    }
   ],
   "source": [
    "print(np.round(pca1.explained_variance_ratio_,3))\n",
    "print(np.sum(pca1.explained_variance_ratio_))"
   ]
  },
  {
   "cell_type": "code",
   "execution_count": 188,
   "metadata": {},
   "outputs": [],
   "source": [
    "pca_train = pca_merged[:8591]\n",
    "pca_test = pca_merged[8591:]"
   ]
  },
  {
   "cell_type": "code",
   "execution_count": 190,
   "metadata": {},
   "outputs": [
    {
     "name": "stdout",
     "output_type": "stream",
     "text": [
      "(8591, 2)\n",
      "(2178, 2)\n",
      "(8591,)\n"
     ]
    }
   ],
   "source": [
    "print(pca_train.shape)\n",
    "print(pca_test.shape)\n",
    "print(y.shape)"
   ]
  },
  {
   "cell_type": "code",
   "execution_count": 191,
   "metadata": {},
   "outputs": [],
   "source": [
    "X_train_pca, X_test_pca, y_train_pca, y_test_pca = train_test_split(pca_train, y, test_size=0.2, random_state=6)"
   ]
  },
  {
   "cell_type": "code",
   "execution_count": 192,
   "metadata": {},
   "outputs": [],
   "source": [
    "GB_pca = GradientBoostingRegressor(n_estimators=100)"
   ]
  },
  {
   "cell_type": "code",
   "execution_count": 207,
   "metadata": {},
   "outputs": [
    {
     "data": {
      "text/html": [
       "<div>\n",
       "<style scoped>\n",
       "    .dataframe tbody tr th:only-of-type {\n",
       "        vertical-align: middle;\n",
       "    }\n",
       "\n",
       "    .dataframe tbody tr th {\n",
       "        vertical-align: top;\n",
       "    }\n",
       "\n",
       "    .dataframe thead th {\n",
       "        text-align: right;\n",
       "    }\n",
       "</style>\n",
       "<table border=\"1\" class=\"dataframe\">\n",
       "  <thead>\n",
       "    <tr style=\"text-align: right;\">\n",
       "      <th></th>\n",
       "      <th>0</th>\n",
       "    </tr>\n",
       "  </thead>\n",
       "  <tbody>\n",
       "    <tr>\n",
       "      <th>0</th>\n",
       "      <td>6.760863</td>\n",
       "    </tr>\n",
       "    <tr>\n",
       "      <th>1</th>\n",
       "      <td>728.554763</td>\n",
       "    </tr>\n",
       "    <tr>\n",
       "      <th>2</th>\n",
       "      <td>25.710192</td>\n",
       "    </tr>\n",
       "    <tr>\n",
       "      <th>3</th>\n",
       "      <td>46.961481</td>\n",
       "    </tr>\n",
       "    <tr>\n",
       "      <th>4</th>\n",
       "      <td>100.074906</td>\n",
       "    </tr>\n",
       "  </tbody>\n",
       "</table>\n",
       "</div>"
      ],
      "text/plain": [
       "            0\n",
       "0    6.760863\n",
       "1  728.554763\n",
       "2   25.710192\n",
       "3   46.961481\n",
       "4  100.074906"
      ]
     },
     "execution_count": 207,
     "metadata": {},
     "output_type": "execute_result"
    }
   ],
   "source": [
    "GB_pca.fit(X_train_pca, y_train_pca)\n",
    "y_gb_pca_pred = GB_pca.predict(X_test_pca)\n",
    "y_gb_pca_pred = pd.DataFrame(y_gb_pca_pred)\n",
    "y_gb_pca_pred.head()"
   ]
  },
  {
   "cell_type": "code",
   "execution_count": 208,
   "metadata": {},
   "outputs": [
    {
     "data": {
      "text/plain": [
       "4868      7\n",
       "7212    731\n",
       "1099     26\n",
       "1318     47\n",
       "4295    102\n",
       "Name: Bookings, dtype: int64"
      ]
     },
     "execution_count": 208,
     "metadata": {},
     "output_type": "execute_result"
    }
   ],
   "source": [
    "y_test_pca.head()"
   ]
  },
  {
   "cell_type": "code",
   "execution_count": 194,
   "metadata": {},
   "outputs": [
    {
     "name": "stdout",
     "output_type": "stream",
     "text": [
      "1.379926711241885\n"
     ]
    }
   ],
   "source": [
    "rmse_gd_PCA = np.sqrt(mean_squared_error(y_test_pca ,y_gb_pca_pred))\n",
    "print(rmse_gd_PCA)"
   ]
  },
  {
   "cell_type": "code",
   "execution_count": 199,
   "metadata": {},
   "outputs": [
    {
     "name": "stdout",
     "output_type": "stream",
     "text": [
      "R-squared for Train: 0.99994\n",
      "R-squared for Test: 0.99994\n"
     ]
    }
   ],
   "source": [
    "print(\"R-squared for Train: %.5f\" %GB_pca.score(X_train_pca, y_train_pca))\n",
    "print(\"R-squared for Test: %.5f\" %GB_pca.score(X_test_pca, y_test_pca))"
   ]
  },
  {
   "cell_type": "code",
   "execution_count": 204,
   "metadata": {},
   "outputs": [
    {
     "data": {
      "text/plain": [
       "(2178, 1)"
      ]
     },
     "execution_count": 204,
     "metadata": {},
     "output_type": "execute_result"
    }
   ],
   "source": [
    "df_test_label.shape"
   ]
  },
  {
   "cell_type": "code",
   "execution_count": 200,
   "metadata": {},
   "outputs": [],
   "source": [
    "actual_y_pca = GB_pca.predict(pca_test)\n",
    "actual_y_pca = pd.DataFrame(actual_y_pca)"
   ]
  },
  {
   "cell_type": "code",
   "execution_count": 205,
   "metadata": {},
   "outputs": [
    {
     "name": "stdout",
     "output_type": "stream",
     "text": [
      "256.22506505951225\n"
     ]
    }
   ],
   "source": [
    "rmse_gd_PCA = np.sqrt(mean_squared_error(df_test_label ,actual_y_pca))\n",
    "print(rmse_gd_PCA)"
   ]
  },
  {
   "cell_type": "code",
   "execution_count": 206,
   "metadata": {},
   "outputs": [
    {
     "name": "stdout",
     "output_type": "stream",
     "text": [
      "R-squared for Test: -1.04006\n"
     ]
    }
   ],
   "source": [
    "print(\"R-squared for Test: %.5f\" %GB_pca.score(pca_test, df_test_label))"
   ]
  },
  {
   "cell_type": "code",
   "execution_count": 212,
   "metadata": {},
   "outputs": [
    {
     "data": {
      "text/plain": [
       "(2178, 1)"
      ]
     },
     "execution_count": 212,
     "metadata": {},
     "output_type": "execute_result"
    }
   ],
   "source": [
    "actual_y_pca.shape"
   ]
  },
  {
   "cell_type": "code",
   "execution_count": 211,
   "metadata": {},
   "outputs": [
    {
     "data": {
      "text/plain": [
       "(2178, 1)"
      ]
     },
     "execution_count": 211,
     "metadata": {},
     "output_type": "execute_result"
    }
   ],
   "source": [
    "df_test_label.shape"
   ]
  },
  {
   "cell_type": "code",
   "execution_count": 217,
   "metadata": {},
   "outputs": [
    {
     "data": {
      "text/plain": [
       "5636"
      ]
     },
     "execution_count": 217,
     "metadata": {},
     "output_type": "execute_result"
    }
   ],
   "source": [
    "np.sum([2818,1568,1250])"
   ]
  },
  {
   "cell_type": "code",
   "execution_count": null,
   "metadata": {},
   "outputs": [],
   "source": []
  }
 ],
 "metadata": {
  "kernelspec": {
   "display_name": "Python 3",
   "language": "python",
   "name": "python3"
  },
  "language_info": {
   "codemirror_mode": {
    "name": "ipython",
    "version": 3
   },
   "file_extension": ".py",
   "mimetype": "text/x-python",
   "name": "python",
   "nbconvert_exporter": "python",
   "pygments_lexer": "ipython3",
   "version": "3.7.3"
  }
 },
 "nbformat": 4,
 "nbformat_minor": 2
}
