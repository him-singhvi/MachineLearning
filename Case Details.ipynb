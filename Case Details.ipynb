{
 "cells": [
  {
   "cell_type": "code",
   "execution_count": 1,
   "metadata": {},
   "outputs": [],
   "source": [
    "import numpy as np\n",
    "import pandas as pd\n",
    "from datetime import datetime\n",
    "import seaborn as sns\n",
    "import random\n",
    "import matplotlib.pyplot as plt\n",
    "%matplotlib inline\n",
    "\n",
    "from sklearn import preprocessing\n",
    "import warnings"
   ]
  },
  {
   "cell_type": "code",
   "execution_count": 2,
   "metadata": {},
   "outputs": [],
   "source": [
    "df = pd.read_csv('case_16_4.csv', encoding='latin-1')"
   ]
  },
  {
   "cell_type": "code",
   "execution_count": 3,
   "metadata": {},
   "outputs": [
    {
     "data": {
      "text/plain": [
       "(23136, 28)"
      ]
     },
     "execution_count": 3,
     "metadata": {},
     "output_type": "execute_result"
    }
   ],
   "source": [
    "df.shape"
   ]
  },
  {
   "cell_type": "code",
   "execution_count": 4,
   "metadata": {},
   "outputs": [
    {
     "data": {
      "text/html": [
       "<div>\n",
       "<style scoped>\n",
       "    .dataframe tbody tr th:only-of-type {\n",
       "        vertical-align: middle;\n",
       "    }\n",
       "\n",
       "    .dataframe tbody tr th {\n",
       "        vertical-align: top;\n",
       "    }\n",
       "\n",
       "    .dataframe thead th {\n",
       "        text-align: right;\n",
       "    }\n",
       "</style>\n",
       "<table border=\"1\" class=\"dataframe\">\n",
       "  <thead>\n",
       "    <tr style=\"text-align: right;\">\n",
       "      <th></th>\n",
       "      <th>ID</th>\n",
       "      <th>CASENUMBER</th>\n",
       "      <th>STATUS</th>\n",
       "      <th>ORIGIN</th>\n",
       "      <th>SUBJECT</th>\n",
       "      <th>DESCRIPTION</th>\n",
       "      <th>OWNER.NAME</th>\n",
       "      <th>CLOSEDDATE</th>\n",
       "      <th>SLASTARTDATE</th>\n",
       "      <th>SLAEXITDATE</th>\n",
       "      <th>...</th>\n",
       "      <th>ACCOUNT_NAME__C</th>\n",
       "      <th>CUSTOMER_STATUS_AGE__C</th>\n",
       "      <th>PENDING_CLIENT_CUMULATIVE_TIME__C</th>\n",
       "      <th>PENDING_CUSTOMER_SUPPORT_CUMULATIVE_TIME__C</th>\n",
       "      <th>PENDING_ENGINEERING_CUMULATIVE_TIME__C</th>\n",
       "      <th>SUPPORT_AND_CUSTOMER_HANDOFFS_COUNT__C</th>\n",
       "      <th>SUPPORT_AND_ENGINERERING_HANDOFFS_COUNT__C</th>\n",
       "      <th>CASE_SUMMARY_LAST_UPDATED__C</th>\n",
       "      <th>ACTIVE_GCC__C</th>\n",
       "      <th>SUBMITTED_HOUR_GMT__C</th>\n",
       "    </tr>\n",
       "  </thead>\n",
       "  <tbody>\n",
       "    <tr>\n",
       "      <th>0</th>\n",
       "      <td>5001O00001hfelXQAQ</td>\n",
       "      <td>865753</td>\n",
       "      <td>New</td>\n",
       "      <td>Web</td>\n",
       "      <td>Maxam: update counter fields</td>\n",
       "      <td>Dear Support,\\n\\nwe configured some fields in ...</td>\n",
       "      <td>John Khattyan</td>\n",
       "      <td>NaN</td>\n",
       "      <td>2020-04-16T10:37:27.000Z</td>\n",
       "      <td>NaN</td>\n",
       "      <td>...</td>\n",
       "      <td>Bluemara Solutions, S.L.</td>\n",
       "      <td>NaN</td>\n",
       "      <td>0.0</td>\n",
       "      <td>0.12</td>\n",
       "      <td>0.0</td>\n",
       "      <td>NaN</td>\n",
       "      <td>NaN</td>\n",
       "      <td>NaN</td>\n",
       "      <td>Non-APAC</td>\n",
       "      <td>10.0</td>\n",
       "    </tr>\n",
       "  </tbody>\n",
       "</table>\n",
       "<p>1 rows × 28 columns</p>\n",
       "</div>"
      ],
      "text/plain": [
       "                   ID  CASENUMBER STATUS ORIGIN                       SUBJECT  \\\n",
       "0  5001O00001hfelXQAQ      865753    New    Web  Maxam: update counter fields   \n",
       "\n",
       "                                         DESCRIPTION     OWNER.NAME  \\\n",
       "0  Dear Support,\\n\\nwe configured some fields in ...  John Khattyan   \n",
       "\n",
       "  CLOSEDDATE              SLASTARTDATE SLAEXITDATE  ...  \\\n",
       "0        NaN  2020-04-16T10:37:27.000Z         NaN  ...   \n",
       "\n",
       "            ACCOUNT_NAME__C CUSTOMER_STATUS_AGE__C  \\\n",
       "0  Bluemara Solutions, S.L.                    NaN   \n",
       "\n",
       "  PENDING_CLIENT_CUMULATIVE_TIME__C  \\\n",
       "0                               0.0   \n",
       "\n",
       "   PENDING_CUSTOMER_SUPPORT_CUMULATIVE_TIME__C  \\\n",
       "0                                         0.12   \n",
       "\n",
       "  PENDING_ENGINEERING_CUMULATIVE_TIME__C  \\\n",
       "0                                    0.0   \n",
       "\n",
       "  SUPPORT_AND_CUSTOMER_HANDOFFS_COUNT__C  \\\n",
       "0                                    NaN   \n",
       "\n",
       "  SUPPORT_AND_ENGINERERING_HANDOFFS_COUNT__C CASE_SUMMARY_LAST_UPDATED__C  \\\n",
       "0                                        NaN                          NaN   \n",
       "\n",
       "  ACTIVE_GCC__C  SUBMITTED_HOUR_GMT__C  \n",
       "0      Non-APAC                   10.0  \n",
       "\n",
       "[1 rows x 28 columns]"
      ]
     },
     "execution_count": 4,
     "metadata": {},
     "output_type": "execute_result"
    }
   ],
   "source": [
    "df.head(1)"
   ]
  },
  {
   "cell_type": "code",
   "execution_count": 5,
   "metadata": {},
   "outputs": [
    {
     "data": {
      "text/plain": [
       "Index(['ID', 'CASENUMBER', 'STATUS', 'ORIGIN', 'SUBJECT', 'DESCRIPTION',\n",
       "       'OWNER.NAME', 'CLOSEDDATE', 'SLASTARTDATE', 'SLAEXITDATE',\n",
       "       'CREATEDDATE', 'SERVICE_LEVEL__C', 'SEVERITY__C', 'CASE_AGGRAVATION__C',\n",
       "       'SC_LP_VERSION_CODE_HL__C', 'SLA_EXPIRATION__C',\n",
       "       'SLA_PRIORITIZATION__C', 'SC_CASESUMMARY__C', 'ACCOUNT_NAME__C',\n",
       "       'CUSTOMER_STATUS_AGE__C', 'PENDING_CLIENT_CUMULATIVE_TIME__C',\n",
       "       'PENDING_CUSTOMER_SUPPORT_CUMULATIVE_TIME__C',\n",
       "       'PENDING_ENGINEERING_CUMULATIVE_TIME__C',\n",
       "       'SUPPORT_AND_CUSTOMER_HANDOFFS_COUNT__C',\n",
       "       'SUPPORT_AND_ENGINERERING_HANDOFFS_COUNT__C',\n",
       "       'CASE_SUMMARY_LAST_UPDATED__C', 'ACTIVE_GCC__C',\n",
       "       'SUBMITTED_HOUR_GMT__C'],\n",
       "      dtype='object')"
      ]
     },
     "execution_count": 5,
     "metadata": {},
     "output_type": "execute_result"
    }
   ],
   "source": [
    "df.columns"
   ]
  },
  {
   "cell_type": "code",
   "execution_count": 6,
   "metadata": {},
   "outputs": [],
   "source": [
    "modules = ['CMDB', 'Console', 'Smart Sync', 'SLA', 'Service Request', 'Request Definition', 'Self Service', 'Pentaho',\n",
    "          'Template', 'Category', 'Usage Metric', 'SRD', 'Service Target', 'Task', 'Broadcast', 'Change Request', \n",
    "          'Incident', 'Approval', 'Lookup', 'CPU Time', 'KA', 'Knowledge Article', 'Workflow', 'DmlException', 'BCM',\n",
    "          'Integration', 'Activity Feed', 'Smart Suggestion', 'Upgrade', 'REST API', 'Discovery', 'Scheduled Job', \n",
    "          'System.LimitException:', 'Tasks Closed Controller', 'Email Listener', 'lightning', 'Delegated Approver', \n",
    "          'time based workflow', 'report', 'FIELD_CUSTOM_VALIDATION_EXCEPTION', 'Task Template', 'System.DmlException:',\n",
    "          'Primary Client','SSO']"
   ]
  },
  {
   "cell_type": "code",
   "execution_count": 7,
   "metadata": {},
   "outputs": [],
   "source": [
    "df1 = df[['CASENUMBER','DESCRIPTION', 'STATUS']]"
   ]
  },
  {
   "cell_type": "code",
   "execution_count": 8,
   "metadata": {},
   "outputs": [],
   "source": [
    "df1 = df[df.CASENUMBER != 999999]"
   ]
  },
  {
   "cell_type": "code",
   "execution_count": 9,
   "metadata": {},
   "outputs": [
    {
     "data": {
      "text/html": [
       "<div>\n",
       "<style scoped>\n",
       "    .dataframe tbody tr th:only-of-type {\n",
       "        vertical-align: middle;\n",
       "    }\n",
       "\n",
       "    .dataframe tbody tr th {\n",
       "        vertical-align: top;\n",
       "    }\n",
       "\n",
       "    .dataframe thead th {\n",
       "        text-align: right;\n",
       "    }\n",
       "</style>\n",
       "<table border=\"1\" class=\"dataframe\">\n",
       "  <thead>\n",
       "    <tr style=\"text-align: right;\">\n",
       "      <th></th>\n",
       "      <th>ID</th>\n",
       "      <th>CASENUMBER</th>\n",
       "      <th>STATUS</th>\n",
       "      <th>ORIGIN</th>\n",
       "      <th>SUBJECT</th>\n",
       "      <th>DESCRIPTION</th>\n",
       "      <th>OWNER.NAME</th>\n",
       "      <th>CLOSEDDATE</th>\n",
       "      <th>SLASTARTDATE</th>\n",
       "      <th>SLAEXITDATE</th>\n",
       "      <th>...</th>\n",
       "      <th>ACCOUNT_NAME__C</th>\n",
       "      <th>CUSTOMER_STATUS_AGE__C</th>\n",
       "      <th>PENDING_CLIENT_CUMULATIVE_TIME__C</th>\n",
       "      <th>PENDING_CUSTOMER_SUPPORT_CUMULATIVE_TIME__C</th>\n",
       "      <th>PENDING_ENGINEERING_CUMULATIVE_TIME__C</th>\n",
       "      <th>SUPPORT_AND_CUSTOMER_HANDOFFS_COUNT__C</th>\n",
       "      <th>SUPPORT_AND_ENGINERERING_HANDOFFS_COUNT__C</th>\n",
       "      <th>CASE_SUMMARY_LAST_UPDATED__C</th>\n",
       "      <th>ACTIVE_GCC__C</th>\n",
       "      <th>SUBMITTED_HOUR_GMT__C</th>\n",
       "    </tr>\n",
       "  </thead>\n",
       "  <tbody>\n",
       "    <tr>\n",
       "      <th>0</th>\n",
       "      <td>5001O00001hfelXQAQ</td>\n",
       "      <td>865753</td>\n",
       "      <td>New</td>\n",
       "      <td>Web</td>\n",
       "      <td>Maxam: update counter fields</td>\n",
       "      <td>Dear Support,\\n\\nwe configured some fields in ...</td>\n",
       "      <td>John Khattyan</td>\n",
       "      <td>NaN</td>\n",
       "      <td>2020-04-16T10:37:27.000Z</td>\n",
       "      <td>NaN</td>\n",
       "      <td>...</td>\n",
       "      <td>Bluemara Solutions, S.L.</td>\n",
       "      <td>NaN</td>\n",
       "      <td>0.00</td>\n",
       "      <td>0.12</td>\n",
       "      <td>0.0</td>\n",
       "      <td>NaN</td>\n",
       "      <td>NaN</td>\n",
       "      <td>NaN</td>\n",
       "      <td>Non-APAC</td>\n",
       "      <td>10.0</td>\n",
       "    </tr>\n",
       "    <tr>\n",
       "      <th>1</th>\n",
       "      <td>5001O00001hfdnwQAA</td>\n",
       "      <td>865532</td>\n",
       "      <td>New</td>\n",
       "      <td>Web</td>\n",
       "      <td>List View Customization created for 'Phone' cl...</td>\n",
       "      <td>Org ID : 00D29000000Eb6f\\n\\nCreated List view ...</td>\n",
       "      <td>Diego Novoa</td>\n",
       "      <td>NaN</td>\n",
       "      <td>2020-04-15T21:47:26.000Z</td>\n",
       "      <td>NaN</td>\n",
       "      <td>...</td>\n",
       "      <td>World Fuel Services Corporation</td>\n",
       "      <td>NaN</td>\n",
       "      <td>0.00</td>\n",
       "      <td>0.66</td>\n",
       "      <td>0.0</td>\n",
       "      <td>NaN</td>\n",
       "      <td>NaN</td>\n",
       "      <td>NaN</td>\n",
       "      <td>Non-APAC</td>\n",
       "      <td>21.0</td>\n",
       "    </tr>\n",
       "    <tr>\n",
       "      <th>2</th>\n",
       "      <td>5001O00001hfdmyQAA</td>\n",
       "      <td>865523</td>\n",
       "      <td>Work In Progress-TSA</td>\n",
       "      <td>Web</td>\n",
       "      <td>How to use 2 column functionality in Request D...</td>\n",
       "      <td>As per the new release, how to use 2 column fu...</td>\n",
       "      <td>Paul Gonzalez</td>\n",
       "      <td>NaN</td>\n",
       "      <td>2020-04-15T21:23:54.000Z</td>\n",
       "      <td>NaN</td>\n",
       "      <td>...</td>\n",
       "      <td>TIBCO Software Incorporated</td>\n",
       "      <td>0.00</td>\n",
       "      <td>0.00</td>\n",
       "      <td>0.68</td>\n",
       "      <td>0.0</td>\n",
       "      <td>2.0</td>\n",
       "      <td>NaN</td>\n",
       "      <td>NaN</td>\n",
       "      <td>Non-APAC</td>\n",
       "      <td>21.0</td>\n",
       "    </tr>\n",
       "    <tr>\n",
       "      <th>3</th>\n",
       "      <td>5001O00001hfdhoQAA</td>\n",
       "      <td>865494</td>\n",
       "      <td>Closed</td>\n",
       "      <td>Web</td>\n",
       "      <td>We are not receiving emails</td>\n",
       "      <td>Our emails stopped coming in to the system.&lt;/b...</td>\n",
       "      <td>Ramiro Torres</td>\n",
       "      <td>2020-04-16T00:56:28.000Z</td>\n",
       "      <td>2020-04-15T20:03:06.000Z</td>\n",
       "      <td>2020-04-16T00:56:29.000Z</td>\n",
       "      <td>...</td>\n",
       "      <td>Area Health Education Foundation, Mahec</td>\n",
       "      <td>0.17</td>\n",
       "      <td>0.17</td>\n",
       "      <td>0.03</td>\n",
       "      <td>0.0</td>\n",
       "      <td>1.0</td>\n",
       "      <td>NaN</td>\n",
       "      <td>NaN</td>\n",
       "      <td>Non-APAC</td>\n",
       "      <td>20.0</td>\n",
       "    </tr>\n",
       "    <tr>\n",
       "      <th>4</th>\n",
       "      <td>5001O00001hfdcZQAQ</td>\n",
       "      <td>865459</td>\n",
       "      <td>Work In Progress-Customer</td>\n",
       "      <td>Email</td>\n",
       "      <td>Ticket redirect from a specific entry on a req...</td>\n",
       "      <td>Hello,\\n\\nI have been presented a request from...</td>\n",
       "      <td>Gabriela Noguez Flores</td>\n",
       "      <td>NaN</td>\n",
       "      <td>2020-04-15T18:54:37.000Z</td>\n",
       "      <td>NaN</td>\n",
       "      <td>...</td>\n",
       "      <td>Brooks Rehabilitation Hospital</td>\n",
       "      <td>NaN</td>\n",
       "      <td>0.54</td>\n",
       "      <td>0.24</td>\n",
       "      <td>0.0</td>\n",
       "      <td>1.0</td>\n",
       "      <td>NaN</td>\n",
       "      <td>NaN</td>\n",
       "      <td>Non-APAC</td>\n",
       "      <td>18.0</td>\n",
       "    </tr>\n",
       "  </tbody>\n",
       "</table>\n",
       "<p>5 rows × 28 columns</p>\n",
       "</div>"
      ],
      "text/plain": [
       "                   ID  CASENUMBER                     STATUS ORIGIN  \\\n",
       "0  5001O00001hfelXQAQ      865753                        New    Web   \n",
       "1  5001O00001hfdnwQAA      865532                        New    Web   \n",
       "2  5001O00001hfdmyQAA      865523       Work In Progress-TSA    Web   \n",
       "3  5001O00001hfdhoQAA      865494                     Closed    Web   \n",
       "4  5001O00001hfdcZQAQ      865459  Work In Progress-Customer  Email   \n",
       "\n",
       "                                             SUBJECT  \\\n",
       "0                       Maxam: update counter fields   \n",
       "1  List View Customization created for 'Phone' cl...   \n",
       "2  How to use 2 column functionality in Request D...   \n",
       "3                        We are not receiving emails   \n",
       "4  Ticket redirect from a specific entry on a req...   \n",
       "\n",
       "                                         DESCRIPTION              OWNER.NAME  \\\n",
       "0  Dear Support,\\n\\nwe configured some fields in ...           John Khattyan   \n",
       "1  Org ID : 00D29000000Eb6f\\n\\nCreated List view ...             Diego Novoa   \n",
       "2  As per the new release, how to use 2 column fu...           Paul Gonzalez   \n",
       "3  Our emails stopped coming in to the system.</b...           Ramiro Torres   \n",
       "4  Hello,\\n\\nI have been presented a request from...  Gabriela Noguez Flores   \n",
       "\n",
       "                 CLOSEDDATE              SLASTARTDATE  \\\n",
       "0                       NaN  2020-04-16T10:37:27.000Z   \n",
       "1                       NaN  2020-04-15T21:47:26.000Z   \n",
       "2                       NaN  2020-04-15T21:23:54.000Z   \n",
       "3  2020-04-16T00:56:28.000Z  2020-04-15T20:03:06.000Z   \n",
       "4                       NaN  2020-04-15T18:54:37.000Z   \n",
       "\n",
       "                SLAEXITDATE  ...                          ACCOUNT_NAME__C  \\\n",
       "0                       NaN  ...                 Bluemara Solutions, S.L.   \n",
       "1                       NaN  ...          World Fuel Services Corporation   \n",
       "2                       NaN  ...              TIBCO Software Incorporated   \n",
       "3  2020-04-16T00:56:29.000Z  ...  Area Health Education Foundation, Mahec   \n",
       "4                       NaN  ...           Brooks Rehabilitation Hospital   \n",
       "\n",
       "  CUSTOMER_STATUS_AGE__C PENDING_CLIENT_CUMULATIVE_TIME__C  \\\n",
       "0                    NaN                              0.00   \n",
       "1                    NaN                              0.00   \n",
       "2                   0.00                              0.00   \n",
       "3                   0.17                              0.17   \n",
       "4                    NaN                              0.54   \n",
       "\n",
       "   PENDING_CUSTOMER_SUPPORT_CUMULATIVE_TIME__C  \\\n",
       "0                                         0.12   \n",
       "1                                         0.66   \n",
       "2                                         0.68   \n",
       "3                                         0.03   \n",
       "4                                         0.24   \n",
       "\n",
       "  PENDING_ENGINEERING_CUMULATIVE_TIME__C  \\\n",
       "0                                    0.0   \n",
       "1                                    0.0   \n",
       "2                                    0.0   \n",
       "3                                    0.0   \n",
       "4                                    0.0   \n",
       "\n",
       "  SUPPORT_AND_CUSTOMER_HANDOFFS_COUNT__C  \\\n",
       "0                                    NaN   \n",
       "1                                    NaN   \n",
       "2                                    2.0   \n",
       "3                                    1.0   \n",
       "4                                    1.0   \n",
       "\n",
       "  SUPPORT_AND_ENGINERERING_HANDOFFS_COUNT__C CASE_SUMMARY_LAST_UPDATED__C  \\\n",
       "0                                        NaN                          NaN   \n",
       "1                                        NaN                          NaN   \n",
       "2                                        NaN                          NaN   \n",
       "3                                        NaN                          NaN   \n",
       "4                                        NaN                          NaN   \n",
       "\n",
       "  ACTIVE_GCC__C  SUBMITTED_HOUR_GMT__C  \n",
       "0      Non-APAC                   10.0  \n",
       "1      Non-APAC                   21.0  \n",
       "2      Non-APAC                   21.0  \n",
       "3      Non-APAC                   20.0  \n",
       "4      Non-APAC                   18.0  \n",
       "\n",
       "[5 rows x 28 columns]"
      ]
     },
     "execution_count": 9,
     "metadata": {},
     "output_type": "execute_result"
    }
   ],
   "source": [
    "df1.head()"
   ]
  },
  {
   "cell_type": "code",
   "execution_count": 10,
   "metadata": {},
   "outputs": [],
   "source": [
    "from nltk.corpus import stopwords\n",
    "from nltk.tokenize import word_tokenize\n",
    "from string import punctuation\n",
    "import re"
   ]
  },
  {
   "cell_type": "code",
   "execution_count": 11,
   "metadata": {},
   "outputs": [],
   "source": [
    "stopwords_EN  = set(stopwords.words('english'))"
   ]
  },
  {
   "cell_type": "code",
   "execution_count": 12,
   "metadata": {},
   "outputs": [],
   "source": [
    "cleaned_text = []\n",
    "clean = []\n",
    "url = 'http, www.'\n",
    "spl_char = '\\', --, -, [, ], \\n, (, ), \\, ,?' #!\"#$%&\\'()*+,-./:;<=>?@[\\\\]^_`{|}~\n",
    "module = []\n",
    "for sentence in df1.DESCRIPTION:\n",
    "    temp_mod = set()\n",
    "    sentence = str(sentence)\n",
    "    #sentence = str(sentence.encode(\"latin-1\"), \"windows-1252\")\n",
    "    str2 = re.findall('.*Error:.*',sentence)\n",
    "    sentence = sentence.replace('lightening','lightning')\n",
    "    sentence = sentence.replace('Remedyforce Version:','')\n",
    "    sentence = sentence.replace('\\'','')\n",
    "    sentence = sentence.replace(',','')\n",
    "    str4 = re.findall('(\\w*00D\\w*)|(\\w*00d\\w*)]', sentence)\n",
    "    if len(str4) > 0:\n",
    "        if str4[0][0] == '':\n",
    "            sentence = sentence.replace(str4[0][1], '')\n",
    "        elif str4[0][1] == '':\n",
    "            sentence = sentence.replace(str4[0][0], '')\n",
    "    sentence = sentence + str(str2)\n",
    "    #cleaned_text = re.sub(r'\\d+', '', sentence)\n",
    "    for item in modules:\n",
    "        item1 = ' ' +item.lower() + ' '\n",
    "        sentence1 = sentence.lower()\n",
    "        if item1 in sentence1:\n",
    "            temp_mod.add(item+'$$')\n",
    "    cleaned_text = [word for word in sentence.split() if word not in punctuation]\n",
    "    cleaned_text = [word for word in cleaned_text if word not in url]\n",
    "    cleaned_text = [word for word in cleaned_text if word not in stopwords_EN]\n",
    "    cleaned_text = [word for word in cleaned_text if word not in spl_char]\n",
    "    module.append(' '.join(temp_mod))\n",
    "    clean.append(' '.join(cleaned_text))\n",
    "#print(clean)"
   ]
  },
  {
   "cell_type": "code",
   "execution_count": 13,
   "metadata": {},
   "outputs": [],
   "source": [
    "df1['Module'] = module\n",
    "df1['cleaned_text'] = clean"
   ]
  },
  {
   "cell_type": "code",
   "execution_count": 14,
   "metadata": {},
   "outputs": [],
   "source": [
    "df1.Module = df1.Module.apply(lambda x:x.replace('$$ ',',').replace('$$',''))"
   ]
  },
  {
   "cell_type": "code",
   "execution_count": 15,
   "metadata": {
    "scrolled": true
   },
   "outputs": [
    {
     "data": {
      "text/html": [
       "<div>\n",
       "<style scoped>\n",
       "    .dataframe tbody tr th:only-of-type {\n",
       "        vertical-align: middle;\n",
       "    }\n",
       "\n",
       "    .dataframe tbody tr th {\n",
       "        vertical-align: top;\n",
       "    }\n",
       "\n",
       "    .dataframe thead th {\n",
       "        text-align: right;\n",
       "    }\n",
       "</style>\n",
       "<table border=\"1\" class=\"dataframe\">\n",
       "  <thead>\n",
       "    <tr style=\"text-align: right;\">\n",
       "      <th></th>\n",
       "      <th>ID</th>\n",
       "      <th>CASENUMBER</th>\n",
       "      <th>STATUS</th>\n",
       "      <th>ORIGIN</th>\n",
       "      <th>SUBJECT</th>\n",
       "      <th>DESCRIPTION</th>\n",
       "      <th>OWNER.NAME</th>\n",
       "      <th>CLOSEDDATE</th>\n",
       "      <th>SLASTARTDATE</th>\n",
       "      <th>SLAEXITDATE</th>\n",
       "      <th>...</th>\n",
       "      <th>PENDING_CLIENT_CUMULATIVE_TIME__C</th>\n",
       "      <th>PENDING_CUSTOMER_SUPPORT_CUMULATIVE_TIME__C</th>\n",
       "      <th>PENDING_ENGINEERING_CUMULATIVE_TIME__C</th>\n",
       "      <th>SUPPORT_AND_CUSTOMER_HANDOFFS_COUNT__C</th>\n",
       "      <th>SUPPORT_AND_ENGINERERING_HANDOFFS_COUNT__C</th>\n",
       "      <th>CASE_SUMMARY_LAST_UPDATED__C</th>\n",
       "      <th>ACTIVE_GCC__C</th>\n",
       "      <th>SUBMITTED_HOUR_GMT__C</th>\n",
       "      <th>Module</th>\n",
       "      <th>cleaned_text</th>\n",
       "    </tr>\n",
       "  </thead>\n",
       "  <tbody>\n",
       "    <tr>\n",
       "      <th>0</th>\n",
       "      <td>5001O00001hfelXQAQ</td>\n",
       "      <td>865753</td>\n",
       "      <td>New</td>\n",
       "      <td>Web</td>\n",
       "      <td>Maxam: update counter fields</td>\n",
       "      <td>Dear Support,\\n\\nwe configured some fields in ...</td>\n",
       "      <td>John Khattyan</td>\n",
       "      <td>NaN</td>\n",
       "      <td>2020-04-16T10:37:27.000Z</td>\n",
       "      <td>NaN</td>\n",
       "      <td>...</td>\n",
       "      <td>0.00</td>\n",
       "      <td>0.12</td>\n",
       "      <td>0.0</td>\n",
       "      <td>NaN</td>\n",
       "      <td>NaN</td>\n",
       "      <td>NaN</td>\n",
       "      <td>Non-APAC</td>\n",
       "      <td>10.0</td>\n",
       "      <td>report</td>\n",
       "      <td>Dear Support configured fields order count num...</td>\n",
       "    </tr>\n",
       "    <tr>\n",
       "      <th>1</th>\n",
       "      <td>5001O00001hfdnwQAA</td>\n",
       "      <td>865532</td>\n",
       "      <td>New</td>\n",
       "      <td>Web</td>\n",
       "      <td>List View Customization created for 'Phone' cl...</td>\n",
       "      <td>Org ID : 00D29000000Eb6f\\n\\nCreated List view ...</td>\n",
       "      <td>Diego Novoa</td>\n",
       "      <td>NaN</td>\n",
       "      <td>2020-04-15T21:47:26.000Z</td>\n",
       "      <td>NaN</td>\n",
       "      <td>...</td>\n",
       "      <td>0.00</td>\n",
       "      <td>0.66</td>\n",
       "      <td>0.0</td>\n",
       "      <td>NaN</td>\n",
       "      <td>NaN</td>\n",
       "      <td>NaN</td>\n",
       "      <td>Non-APAC</td>\n",
       "      <td>21.0</td>\n",
       "      <td>Lookup,Task</td>\n",
       "      <td>Org ID Created List view customization Phone c...</td>\n",
       "    </tr>\n",
       "    <tr>\n",
       "      <th>2</th>\n",
       "      <td>5001O00001hfdmyQAA</td>\n",
       "      <td>865523</td>\n",
       "      <td>Work In Progress-TSA</td>\n",
       "      <td>Web</td>\n",
       "      <td>How to use 2 column functionality in Request D...</td>\n",
       "      <td>As per the new release, how to use 2 column fu...</td>\n",
       "      <td>Paul Gonzalez</td>\n",
       "      <td>NaN</td>\n",
       "      <td>2020-04-15T21:23:54.000Z</td>\n",
       "      <td>NaN</td>\n",
       "      <td>...</td>\n",
       "      <td>0.00</td>\n",
       "      <td>0.68</td>\n",
       "      <td>0.0</td>\n",
       "      <td>2.0</td>\n",
       "      <td>NaN</td>\n",
       "      <td>NaN</td>\n",
       "      <td>Non-APAC</td>\n",
       "      <td>21.0</td>\n",
       "      <td></td>\n",
       "      <td>As per new release use 2 column functionality ...</td>\n",
       "    </tr>\n",
       "    <tr>\n",
       "      <th>3</th>\n",
       "      <td>5001O00001hfdhoQAA</td>\n",
       "      <td>865494</td>\n",
       "      <td>Closed</td>\n",
       "      <td>Web</td>\n",
       "      <td>We are not receiving emails</td>\n",
       "      <td>Our emails stopped coming in to the system.&lt;/b...</td>\n",
       "      <td>Ramiro Torres</td>\n",
       "      <td>2020-04-16T00:56:28.000Z</td>\n",
       "      <td>2020-04-15T20:03:06.000Z</td>\n",
       "      <td>2020-04-16T00:56:29.000Z</td>\n",
       "      <td>...</td>\n",
       "      <td>0.17</td>\n",
       "      <td>0.03</td>\n",
       "      <td>0.0</td>\n",
       "      <td>1.0</td>\n",
       "      <td>NaN</td>\n",
       "      <td>NaN</td>\n",
       "      <td>Non-APAC</td>\n",
       "      <td>20.0</td>\n",
       "      <td></td>\n",
       "      <td>Our emails stopped coming system.&lt;/br&gt;&lt;/br&gt; bm...</td>\n",
       "    </tr>\n",
       "    <tr>\n",
       "      <th>4</th>\n",
       "      <td>5001O00001hfdcZQAQ</td>\n",
       "      <td>865459</td>\n",
       "      <td>Work In Progress-Customer</td>\n",
       "      <td>Email</td>\n",
       "      <td>Ticket redirect from a specific entry on a req...</td>\n",
       "      <td>Hello,\\n\\nI have been presented a request from...</td>\n",
       "      <td>Gabriela Noguez Flores</td>\n",
       "      <td>NaN</td>\n",
       "      <td>2020-04-15T18:54:37.000Z</td>\n",
       "      <td>NaN</td>\n",
       "      <td>...</td>\n",
       "      <td>0.54</td>\n",
       "      <td>0.24</td>\n",
       "      <td>0.0</td>\n",
       "      <td>1.0</td>\n",
       "      <td>NaN</td>\n",
       "      <td>NaN</td>\n",
       "      <td>Non-APAC</td>\n",
       "      <td>18.0</td>\n",
       "      <td>Request Definition,Self Service</td>\n",
       "      <td>Hello I presented request management Im sure ...</td>\n",
       "    </tr>\n",
       "  </tbody>\n",
       "</table>\n",
       "<p>5 rows × 30 columns</p>\n",
       "</div>"
      ],
      "text/plain": [
       "                   ID  CASENUMBER                     STATUS ORIGIN  \\\n",
       "0  5001O00001hfelXQAQ      865753                        New    Web   \n",
       "1  5001O00001hfdnwQAA      865532                        New    Web   \n",
       "2  5001O00001hfdmyQAA      865523       Work In Progress-TSA    Web   \n",
       "3  5001O00001hfdhoQAA      865494                     Closed    Web   \n",
       "4  5001O00001hfdcZQAQ      865459  Work In Progress-Customer  Email   \n",
       "\n",
       "                                             SUBJECT  \\\n",
       "0                       Maxam: update counter fields   \n",
       "1  List View Customization created for 'Phone' cl...   \n",
       "2  How to use 2 column functionality in Request D...   \n",
       "3                        We are not receiving emails   \n",
       "4  Ticket redirect from a specific entry on a req...   \n",
       "\n",
       "                                         DESCRIPTION              OWNER.NAME  \\\n",
       "0  Dear Support,\\n\\nwe configured some fields in ...           John Khattyan   \n",
       "1  Org ID : 00D29000000Eb6f\\n\\nCreated List view ...             Diego Novoa   \n",
       "2  As per the new release, how to use 2 column fu...           Paul Gonzalez   \n",
       "3  Our emails stopped coming in to the system.</b...           Ramiro Torres   \n",
       "4  Hello,\\n\\nI have been presented a request from...  Gabriela Noguez Flores   \n",
       "\n",
       "                 CLOSEDDATE              SLASTARTDATE  \\\n",
       "0                       NaN  2020-04-16T10:37:27.000Z   \n",
       "1                       NaN  2020-04-15T21:47:26.000Z   \n",
       "2                       NaN  2020-04-15T21:23:54.000Z   \n",
       "3  2020-04-16T00:56:28.000Z  2020-04-15T20:03:06.000Z   \n",
       "4                       NaN  2020-04-15T18:54:37.000Z   \n",
       "\n",
       "                SLAEXITDATE  ... PENDING_CLIENT_CUMULATIVE_TIME__C  \\\n",
       "0                       NaN  ...                              0.00   \n",
       "1                       NaN  ...                              0.00   \n",
       "2                       NaN  ...                              0.00   \n",
       "3  2020-04-16T00:56:29.000Z  ...                              0.17   \n",
       "4                       NaN  ...                              0.54   \n",
       "\n",
       "  PENDING_CUSTOMER_SUPPORT_CUMULATIVE_TIME__C  \\\n",
       "0                                        0.12   \n",
       "1                                        0.66   \n",
       "2                                        0.68   \n",
       "3                                        0.03   \n",
       "4                                        0.24   \n",
       "\n",
       "  PENDING_ENGINEERING_CUMULATIVE_TIME__C  \\\n",
       "0                                    0.0   \n",
       "1                                    0.0   \n",
       "2                                    0.0   \n",
       "3                                    0.0   \n",
       "4                                    0.0   \n",
       "\n",
       "   SUPPORT_AND_CUSTOMER_HANDOFFS_COUNT__C  \\\n",
       "0                                     NaN   \n",
       "1                                     NaN   \n",
       "2                                     2.0   \n",
       "3                                     1.0   \n",
       "4                                     1.0   \n",
       "\n",
       "  SUPPORT_AND_ENGINERERING_HANDOFFS_COUNT__C CASE_SUMMARY_LAST_UPDATED__C  \\\n",
       "0                                        NaN                          NaN   \n",
       "1                                        NaN                          NaN   \n",
       "2                                        NaN                          NaN   \n",
       "3                                        NaN                          NaN   \n",
       "4                                        NaN                          NaN   \n",
       "\n",
       "  ACTIVE_GCC__C SUBMITTED_HOUR_GMT__C                           Module  \\\n",
       "0      Non-APAC                  10.0                           report   \n",
       "1      Non-APAC                  21.0                      Lookup,Task   \n",
       "2      Non-APAC                  21.0                                    \n",
       "3      Non-APAC                  20.0                                    \n",
       "4      Non-APAC                  18.0  Request Definition,Self Service   \n",
       "\n",
       "                                        cleaned_text  \n",
       "0  Dear Support configured fields order count num...  \n",
       "1  Org ID Created List view customization Phone c...  \n",
       "2  As per new release use 2 column functionality ...  \n",
       "3  Our emails stopped coming system.</br></br> bm...  \n",
       "4  Hello I presented request management Im sure ...  \n",
       "\n",
       "[5 rows x 30 columns]"
      ]
     },
     "execution_count": 15,
     "metadata": {},
     "output_type": "execute_result"
    }
   ],
   "source": [
    "df1.head()"
   ]
  },
  {
   "cell_type": "code",
   "execution_count": 16,
   "metadata": {},
   "outputs": [
    {
     "data": {
      "text/plain": [
       "865753"
      ]
     },
     "execution_count": 16,
     "metadata": {},
     "output_type": "execute_result"
    }
   ],
   "source": [
    "df.iloc[0].CASENUMBER"
   ]
  },
  {
   "cell_type": "code",
   "execution_count": 17,
   "metadata": {},
   "outputs": [
    {
     "name": "stdout",
     "output_type": "stream",
     "text": [
      "Enter the details of New Case : Unlock button is only visible to users who have modify all access \n"
     ]
    }
   ],
   "source": [
    "X = input(\"Enter the details of New Case : \").lower()\n",
    "#X = df.iloc[0].DESCRIPTION\n",
    "#X"
   ]
  },
  {
   "cell_type": "code",
   "execution_count": 18,
   "metadata": {},
   "outputs": [
    {
     "data": {
      "text/plain": [
       "['unlock button visible users modify access []']"
      ]
     },
     "execution_count": 18,
     "metadata": {},
     "output_type": "execute_result"
    }
   ],
   "source": [
    "clean_input = []\n",
    "url = 'http, www.'\n",
    "spl_char = '\\', --, -, [, ], \\n, (, ), \\, ,?' #!\"#$%&\\'()*+,-./:;<=>?@[\\\\]^_`{|}~\n",
    "\n",
    "sentence = str(X.encode(\"latin-1\"), \"windows-1252\")\n",
    "\n",
    "str2 = re.findall('.*Error:.*',sentence)\n",
    "if 'Steps to Reproduce' in sentence:\n",
    "    sentence = sentence.split('Steps to Reproduce')[0]\n",
    "if 'steps to reproduce' in sentence:\n",
    "    sentence = sentence.split('steps to reproduce')[0]\n",
    "if 'Steps to reproduce' in sentence:\n",
    "    sentence = sentence.split('Steps to reproduce')[0]\n",
    "#sentence = sentence.split('Steps to reproduce')[0]\n",
    "sentence = sentence.split('Apex Class:')[0]\n",
    "sentence = sentence.replace('Remedyforce Version:','')\n",
    "sentence = sentence.replace('Summary/Error of issue:','')\n",
    "sentence = sentence.replace('\\'','')\n",
    "sentence = sentence.replace(',','')\n",
    "str4 = re.findall('(\\w*00D\\w*)|(\\w*00d\\w*)]', sentence)\n",
    "if len(str4) > 0:\n",
    "    if str4[0][0] == '':\n",
    "        sentence = sentence.replace(str4[0][1], '')\n",
    "    elif str4[0][1] == '':\n",
    "        sentence = sentence.replace(str4[0][0], '')\n",
    "sentence = sentence + str(str2)\n",
    "#cleaned_text = re.sub(r'\\d+', '', sentence)\n",
    "input_mod = set()\n",
    "for item in modules:\n",
    "    item1 = ' ' +item.lower() + ' '\n",
    "    sentence1 = sentence.lower()\n",
    "    if item1 in sentence1:\n",
    "        input_mod.add(item)\n",
    "cleaned_input = [word for word in sentence.split() if word not in punctuation]\n",
    "cleaned_input = [word for word in cleaned_input if word not in url]\n",
    "cleaned_input = [word for word in cleaned_input if word not in stopwords_EN]\n",
    "cleaned_input = [word for word in cleaned_input if word not in spl_char]\n",
    "clean_input.append(' '.join(cleaned_input))\n",
    "clean_input"
   ]
  },
  {
   "cell_type": "code",
   "execution_count": 19,
   "metadata": {},
   "outputs": [
    {
     "name": "stdout",
     "output_type": "stream",
     "text": [
      "[]\n"
     ]
    }
   ],
   "source": [
    "input_mod = list(input_mod)\n",
    "print(input_mod)"
   ]
  },
  {
   "cell_type": "code",
   "execution_count": 20,
   "metadata": {},
   "outputs": [],
   "source": [
    "sw = stopwords.words('english') \n",
    "X_list = word_tokenize(X) \n",
    "X_set = {w for w in X_list if not w in sw}\n",
    "clean = []\n",
    "for texts in df1.cleaned_text:\n",
    "    l1 = []\n",
    "    lst = []\n",
    "    #name = df[df.cleaned_text == texts].NAME\n",
    "    #print('RFA NAme is :', name)\n",
    "    text_list = word_tokenize(texts)\n",
    "    text_set = {w for w in text_list if not w in sw} \n",
    "    rvector = X_set.union(text_set)\n",
    "    \n",
    "    for w in rvector: \n",
    "        if w in X_set: l1.append(1) # create a vector \n",
    "        else: l1.append(0) \n",
    "        if w in text_set: lst.append(1) \n",
    "        else: lst.append(0) \n",
    "    c = 0\n",
    "    \n",
    "    for i in range(len(rvector)): \n",
    "        c+= l1[i]*lst[i] \n",
    "    cosine = c / float((sum(l1)*sum(lst))**0.5)\n",
    "    clean.append((np.round(cosine,4)))"
   ]
  },
  {
   "cell_type": "code",
   "execution_count": 21,
   "metadata": {},
   "outputs": [],
   "source": [
    "df1['Similarity Index'] = clean"
   ]
  },
  {
   "cell_type": "code",
   "execution_count": 22,
   "metadata": {},
   "outputs": [],
   "source": [
    "df1 = df1.sort_values('Similarity Index', ascending=False)"
   ]
  },
  {
   "cell_type": "code",
   "execution_count": 23,
   "metadata": {},
   "outputs": [
    {
     "data": {
      "text/html": [
       "<div>\n",
       "<style scoped>\n",
       "    .dataframe tbody tr th:only-of-type {\n",
       "        vertical-align: middle;\n",
       "    }\n",
       "\n",
       "    .dataframe tbody tr th {\n",
       "        vertical-align: top;\n",
       "    }\n",
       "\n",
       "    .dataframe thead th {\n",
       "        text-align: right;\n",
       "    }\n",
       "</style>\n",
       "<table border=\"1\" class=\"dataframe\">\n",
       "  <thead>\n",
       "    <tr style=\"text-align: right;\">\n",
       "      <th></th>\n",
       "      <th>ID</th>\n",
       "      <th>CASENUMBER</th>\n",
       "      <th>STATUS</th>\n",
       "      <th>ORIGIN</th>\n",
       "      <th>SUBJECT</th>\n",
       "      <th>DESCRIPTION</th>\n",
       "      <th>OWNER.NAME</th>\n",
       "      <th>CLOSEDDATE</th>\n",
       "      <th>SLASTARTDATE</th>\n",
       "      <th>SLAEXITDATE</th>\n",
       "      <th>...</th>\n",
       "      <th>PENDING_CUSTOMER_SUPPORT_CUMULATIVE_TIME__C</th>\n",
       "      <th>PENDING_ENGINEERING_CUMULATIVE_TIME__C</th>\n",
       "      <th>SUPPORT_AND_CUSTOMER_HANDOFFS_COUNT__C</th>\n",
       "      <th>SUPPORT_AND_ENGINERERING_HANDOFFS_COUNT__C</th>\n",
       "      <th>CASE_SUMMARY_LAST_UPDATED__C</th>\n",
       "      <th>ACTIVE_GCC__C</th>\n",
       "      <th>SUBMITTED_HOUR_GMT__C</th>\n",
       "      <th>Module</th>\n",
       "      <th>cleaned_text</th>\n",
       "      <th>Similarity Index</th>\n",
       "    </tr>\n",
       "  </thead>\n",
       "  <tbody>\n",
       "    <tr>\n",
       "      <th>15988</th>\n",
       "      <td>50014000015oAp5AAE</td>\n",
       "      <td>308919</td>\n",
       "      <td>Closed</td>\n",
       "      <td>Web</td>\n",
       "      <td>After self-upgrading Prod environment to Winte...</td>\n",
       "      <td>For users of custom profiles, some fields are ...</td>\n",
       "      <td>Kevin Nadar</td>\n",
       "      <td>2017-03-23T20:07:56.000Z</td>\n",
       "      <td>2017-03-23T16:02:03.000Z</td>\n",
       "      <td>2017-03-23T20:07:57.000Z</td>\n",
       "      <td>...</td>\n",
       "      <td>0.0</td>\n",
       "      <td>0.0</td>\n",
       "      <td>0.0</td>\n",
       "      <td>0.0</td>\n",
       "      <td>NaN</td>\n",
       "      <td>Non-APAC</td>\n",
       "      <td>16.0</td>\n",
       "      <td>Incident</td>\n",
       "      <td>For users custom profiles fields visible Incid...</td>\n",
       "      <td>0.3536</td>\n",
       "    </tr>\n",
       "    <tr>\n",
       "      <th>13345</th>\n",
       "      <td>5001O000019w3E7QAI</td>\n",
       "      <td>394960</td>\n",
       "      <td>Closed</td>\n",
       "      <td>Phone</td>\n",
       "      <td>Remedyforce Slefservice logo not visible to ce...</td>\n",
       "      <td>Remedyforce Slefservice logo not visible to ce...</td>\n",
       "      <td>Ramesh Pal</td>\n",
       "      <td>2017-09-06T15:16:59.000Z</td>\n",
       "      <td>2017-09-06T15:11:36.000Z</td>\n",
       "      <td>2017-09-06T15:16:59.000Z</td>\n",
       "      <td>...</td>\n",
       "      <td>0.0</td>\n",
       "      <td>0.0</td>\n",
       "      <td>0.0</td>\n",
       "      <td>0.0</td>\n",
       "      <td>NaN</td>\n",
       "      <td>Non-APAC</td>\n",
       "      <td>NaN</td>\n",
       "      <td></td>\n",
       "      <td>Remedyforce Slefservice logo visible certain u...</td>\n",
       "      <td>0.2887</td>\n",
       "    </tr>\n",
       "    <tr>\n",
       "      <th>21883</th>\n",
       "      <td>5001400000vdETYAA2</td>\n",
       "      <td>95348</td>\n",
       "      <td>Closed</td>\n",
       "      <td>Web</td>\n",
       "      <td>Admin can't log in as user</td>\n",
       "      <td>The Administrators Can Log in as Any User is t...</td>\n",
       "      <td>Mitul Patel</td>\n",
       "      <td>2016-03-02T23:24:11.000Z</td>\n",
       "      <td>2016-02-28T20:35:29.000Z</td>\n",
       "      <td>2016-03-02T23:24:12.000Z</td>\n",
       "      <td>...</td>\n",
       "      <td>0.0</td>\n",
       "      <td>0.0</td>\n",
       "      <td>0.0</td>\n",
       "      <td>0.0</td>\n",
       "      <td>NaN</td>\n",
       "      <td>Non-APAC</td>\n",
       "      <td>20.0</td>\n",
       "      <td></td>\n",
       "      <td>The Administrators Can Log Any User turned I c...</td>\n",
       "      <td>0.2887</td>\n",
       "    </tr>\n",
       "    <tr>\n",
       "      <th>21339</th>\n",
       "      <td>5001400000wvoVVAAY</td>\n",
       "      <td>115867</td>\n",
       "      <td>Closed</td>\n",
       "      <td>Phone</td>\n",
       "      <td>Need assistance in creating access for users.</td>\n",
       "      <td>Need assistance in creating access for users.</td>\n",
       "      <td>Gitty Issac</td>\n",
       "      <td>2016-04-01T00:03:20.000Z</td>\n",
       "      <td>2016-03-30T16:18:32.000Z</td>\n",
       "      <td>2016-04-01T00:03:20.000Z</td>\n",
       "      <td>...</td>\n",
       "      <td>0.0</td>\n",
       "      <td>0.0</td>\n",
       "      <td>0.0</td>\n",
       "      <td>0.0</td>\n",
       "      <td>NaN</td>\n",
       "      <td>Non-APAC</td>\n",
       "      <td>NaN</td>\n",
       "      <td></td>\n",
       "      <td>Need assistance creating access users.[]</td>\n",
       "      <td>0.2887</td>\n",
       "    </tr>\n",
       "    <tr>\n",
       "      <th>16019</th>\n",
       "      <td>50014000015nvKVAAY</td>\n",
       "      <td>307888</td>\n",
       "      <td>Closed</td>\n",
       "      <td>Web</td>\n",
       "      <td>To enable Change request tab in Remedyforce co...</td>\n",
       "      <td>1.We want to enable Change Request option unde...</td>\n",
       "      <td>Mitul Patel</td>\n",
       "      <td>2017-05-01T01:53:54.000Z</td>\n",
       "      <td>2017-03-22T12:04:10.000Z</td>\n",
       "      <td>2017-05-01T01:53:54.000Z</td>\n",
       "      <td>...</td>\n",
       "      <td>0.0</td>\n",
       "      <td>0.0</td>\n",
       "      <td>0.0</td>\n",
       "      <td>0.0</td>\n",
       "      <td>NaN</td>\n",
       "      <td>Non-APAC</td>\n",
       "      <td>12.0</td>\n",
       "      <td>Change Request</td>\n",
       "      <td>1.We want enable Change Request option view se...</td>\n",
       "      <td>0.2685</td>\n",
       "    </tr>\n",
       "  </tbody>\n",
       "</table>\n",
       "<p>5 rows × 31 columns</p>\n",
       "</div>"
      ],
      "text/plain": [
       "                       ID  CASENUMBER  STATUS ORIGIN  \\\n",
       "15988  50014000015oAp5AAE      308919  Closed    Web   \n",
       "13345  5001O000019w3E7QAI      394960  Closed  Phone   \n",
       "21883  5001400000vdETYAA2       95348  Closed    Web   \n",
       "21339  5001400000wvoVVAAY      115867  Closed  Phone   \n",
       "16019  50014000015nvKVAAY      307888  Closed    Web   \n",
       "\n",
       "                                                 SUBJECT  \\\n",
       "15988  After self-upgrading Prod environment to Winte...   \n",
       "13345  Remedyforce Slefservice logo not visible to ce...   \n",
       "21883                         Admin can't log in as user   \n",
       "21339      Need assistance in creating access for users.   \n",
       "16019  To enable Change request tab in Remedyforce co...   \n",
       "\n",
       "                                             DESCRIPTION   OWNER.NAME  \\\n",
       "15988  For users of custom profiles, some fields are ...  Kevin Nadar   \n",
       "13345  Remedyforce Slefservice logo not visible to ce...   Ramesh Pal   \n",
       "21883  The Administrators Can Log in as Any User is t...  Mitul Patel   \n",
       "21339      Need assistance in creating access for users.  Gitty Issac   \n",
       "16019  1.We want to enable Change Request option unde...  Mitul Patel   \n",
       "\n",
       "                     CLOSEDDATE              SLASTARTDATE  \\\n",
       "15988  2017-03-23T20:07:56.000Z  2017-03-23T16:02:03.000Z   \n",
       "13345  2017-09-06T15:16:59.000Z  2017-09-06T15:11:36.000Z   \n",
       "21883  2016-03-02T23:24:11.000Z  2016-02-28T20:35:29.000Z   \n",
       "21339  2016-04-01T00:03:20.000Z  2016-03-30T16:18:32.000Z   \n",
       "16019  2017-05-01T01:53:54.000Z  2017-03-22T12:04:10.000Z   \n",
       "\n",
       "                    SLAEXITDATE  ...  \\\n",
       "15988  2017-03-23T20:07:57.000Z  ...   \n",
       "13345  2017-09-06T15:16:59.000Z  ...   \n",
       "21883  2016-03-02T23:24:12.000Z  ...   \n",
       "21339  2016-04-01T00:03:20.000Z  ...   \n",
       "16019  2017-05-01T01:53:54.000Z  ...   \n",
       "\n",
       "      PENDING_CUSTOMER_SUPPORT_CUMULATIVE_TIME__C  \\\n",
       "15988                                         0.0   \n",
       "13345                                         0.0   \n",
       "21883                                         0.0   \n",
       "21339                                         0.0   \n",
       "16019                                         0.0   \n",
       "\n",
       "      PENDING_ENGINEERING_CUMULATIVE_TIME__C  \\\n",
       "15988                                    0.0   \n",
       "13345                                    0.0   \n",
       "21883                                    0.0   \n",
       "21339                                    0.0   \n",
       "16019                                    0.0   \n",
       "\n",
       "      SUPPORT_AND_CUSTOMER_HANDOFFS_COUNT__C  \\\n",
       "15988                                    0.0   \n",
       "13345                                    0.0   \n",
       "21883                                    0.0   \n",
       "21339                                    0.0   \n",
       "16019                                    0.0   \n",
       "\n",
       "       SUPPORT_AND_ENGINERERING_HANDOFFS_COUNT__C  \\\n",
       "15988                                         0.0   \n",
       "13345                                         0.0   \n",
       "21883                                         0.0   \n",
       "21339                                         0.0   \n",
       "16019                                         0.0   \n",
       "\n",
       "      CASE_SUMMARY_LAST_UPDATED__C ACTIVE_GCC__C SUBMITTED_HOUR_GMT__C  \\\n",
       "15988                          NaN      Non-APAC                  16.0   \n",
       "13345                          NaN      Non-APAC                   NaN   \n",
       "21883                          NaN      Non-APAC                  20.0   \n",
       "21339                          NaN      Non-APAC                   NaN   \n",
       "16019                          NaN      Non-APAC                  12.0   \n",
       "\n",
       "               Module                                       cleaned_text  \\\n",
       "15988        Incident  For users custom profiles fields visible Incid...   \n",
       "13345                  Remedyforce Slefservice logo visible certain u...   \n",
       "21883                  The Administrators Can Log Any User turned I c...   \n",
       "21339                           Need assistance creating access users.[]   \n",
       "16019  Change Request  1.We want enable Change Request option view se...   \n",
       "\n",
       "       Similarity Index  \n",
       "15988            0.3536  \n",
       "13345            0.2887  \n",
       "21883            0.2887  \n",
       "21339            0.2887  \n",
       "16019            0.2685  \n",
       "\n",
       "[5 rows x 31 columns]"
      ]
     },
     "execution_count": 23,
     "metadata": {},
     "output_type": "execute_result"
    }
   ],
   "source": [
    "df1.head()"
   ]
  },
  {
   "cell_type": "code",
   "execution_count": 53,
   "metadata": {},
   "outputs": [
    {
     "name": "stdout",
     "output_type": "stream",
     "text": [
      "max_sim 0.4527\n"
     ]
    }
   ],
   "source": [
    "i = -1\n",
    "max_sim = 1\n",
    "for item in df1.Module:\n",
    "    i += 1\n",
    "    if len(input_mod) > 0:\n",
    "        if input_mod[0] in item:\n",
    "            max_sim = df1.iloc[i]['Similarity Index']\n",
    "            break\n",
    "print('max_sim', max_sim)"
   ]
  },
  {
   "cell_type": "code",
   "execution_count": 54,
   "metadata": {},
   "outputs": [
    {
     "name": "stdout",
     "output_type": "stream",
     "text": [
      "adjusted_param1 0.38311\n",
      "adjusted_param2 0.21892\n"
     ]
    }
   ],
   "source": [
    "adjusted_param1 = (1-max_sim)*.7\n",
    "adjusted_param2 = (1-max_sim)*.4\n",
    "print('adjusted_param1', adjusted_param1)\n",
    "print('adjusted_param2', adjusted_param2)"
   ]
  },
  {
   "cell_type": "code",
   "execution_count": 55,
   "metadata": {},
   "outputs": [],
   "source": [
    "suggestedDF = df1.reset_index()"
   ]
  },
  {
   "cell_type": "code",
   "execution_count": 56,
   "metadata": {},
   "outputs": [],
   "source": [
    "i = -1\n",
    "for item in suggestedDF.Module:\n",
    "    i += 1\n",
    "    if len(input_mod) > 0:\n",
    "        if input_mod[0] in item:\n",
    "            suggestedDF.at[i,'Similarity Index'] = suggestedDF.at[i,'Similarity Index']+ adjusted_param1\n",
    "        else:\n",
    "            suggestedDF.at[i,'Similarity Index'] = suggestedDF.at[i,'Similarity Index']+ adjusted_param2"
   ]
  },
  {
   "cell_type": "code",
   "execution_count": 57,
   "metadata": {},
   "outputs": [
    {
     "data": {
      "text/html": [
       "<div>\n",
       "<style scoped>\n",
       "    .dataframe tbody tr th:only-of-type {\n",
       "        vertical-align: middle;\n",
       "    }\n",
       "\n",
       "    .dataframe tbody tr th {\n",
       "        vertical-align: top;\n",
       "    }\n",
       "\n",
       "    .dataframe thead th {\n",
       "        text-align: right;\n",
       "    }\n",
       "</style>\n",
       "<table border=\"1\" class=\"dataframe\">\n",
       "  <thead>\n",
       "    <tr style=\"text-align: right;\">\n",
       "      <th></th>\n",
       "      <th>index</th>\n",
       "      <th>ID</th>\n",
       "      <th>CASENUMBER</th>\n",
       "      <th>STATUS</th>\n",
       "      <th>ORIGIN</th>\n",
       "      <th>SUBJECT</th>\n",
       "      <th>DESCRIPTION</th>\n",
       "      <th>OWNER.NAME</th>\n",
       "      <th>CLOSEDDATE</th>\n",
       "      <th>SLASTARTDATE</th>\n",
       "      <th>...</th>\n",
       "      <th>PENDING_CUSTOMER_SUPPORT_CUMULATIVE_TIME__C</th>\n",
       "      <th>PENDING_ENGINEERING_CUMULATIVE_TIME__C</th>\n",
       "      <th>SUPPORT_AND_CUSTOMER_HANDOFFS_COUNT__C</th>\n",
       "      <th>SUPPORT_AND_ENGINERERING_HANDOFFS_COUNT__C</th>\n",
       "      <th>CASE_SUMMARY_LAST_UPDATED__C</th>\n",
       "      <th>ACTIVE_GCC__C</th>\n",
       "      <th>SUBMITTED_HOUR_GMT__C</th>\n",
       "      <th>Module</th>\n",
       "      <th>cleaned_text</th>\n",
       "      <th>Similarity Index</th>\n",
       "    </tr>\n",
       "  </thead>\n",
       "  <tbody>\n",
       "    <tr>\n",
       "      <th>1</th>\n",
       "      <td>1028</td>\n",
       "      <td>5001O00001ccgqwQAA</td>\n",
       "      <td>778418</td>\n",
       "      <td>Closed</td>\n",
       "      <td>Web</td>\n",
       "      <td>Error when accessing CMDB  tab</td>\n",
       "      <td>We are receiving errors when trying to access ...</td>\n",
       "      <td>Ashish Vaidya</td>\n",
       "      <td>2019-11-04T08:46:17.000Z</td>\n",
       "      <td>2019-10-24T08:02:44.000Z</td>\n",
       "      <td>...</td>\n",
       "      <td>9.03</td>\n",
       "      <td>0.00</td>\n",
       "      <td>2.0</td>\n",
       "      <td>NaN</td>\n",
       "      <td>2019-10-25T07:37:14.000Z</td>\n",
       "      <td>Non-APAC</td>\n",
       "      <td>8.0</td>\n",
       "      <td>CMDB</td>\n",
       "      <td>We receiving errors trying access CMDB tab one...</td>\n",
       "      <td>0.83581</td>\n",
       "    </tr>\n",
       "    <tr>\n",
       "      <th>9</th>\n",
       "      <td>1102</td>\n",
       "      <td>5001O00001ccT7SQAU</td>\n",
       "      <td>775986</td>\n",
       "      <td>Closed</td>\n",
       "      <td>Web</td>\n",
       "      <td>Can't access CMDB</td>\n",
       "      <td>Every time I am accessing the CMDB in our sand...</td>\n",
       "      <td>Jim Dubcak</td>\n",
       "      <td>2019-10-28T11:43:21.000Z</td>\n",
       "      <td>2019-10-18T15:47:04.000Z</td>\n",
       "      <td>...</td>\n",
       "      <td>1.37</td>\n",
       "      <td>3.61</td>\n",
       "      <td>17.0</td>\n",
       "      <td>10.0</td>\n",
       "      <td>2019-10-22T18:16:15.000Z</td>\n",
       "      <td>Non-APAC</td>\n",
       "      <td>15.0</td>\n",
       "      <td>CMDB</td>\n",
       "      <td>Every time I accessing CMDB sandbox errors fol...</td>\n",
       "      <td>0.76891</td>\n",
       "    </tr>\n",
       "    <tr>\n",
       "      <th>13</th>\n",
       "      <td>1167</td>\n",
       "      <td>5001O00001ccF6KQAU</td>\n",
       "      <td>773664</td>\n",
       "      <td>Closed</td>\n",
       "      <td>Web</td>\n",
       "      <td>Error message in CMDB</td>\n",
       "      <td>Dear all, on sandbox environment (org ID : 00D...</td>\n",
       "      <td>Ambika Verman</td>\n",
       "      <td>2019-11-11T04:41:23.000Z</td>\n",
       "      <td>2019-10-15T07:46:14.000Z</td>\n",
       "      <td>...</td>\n",
       "      <td>22.26</td>\n",
       "      <td>1.26</td>\n",
       "      <td>10.0</td>\n",
       "      <td>4.0</td>\n",
       "      <td>2019-10-17T06:30:33.000Z</td>\n",
       "      <td>APAC</td>\n",
       "      <td>7.0</td>\n",
       "      <td>lightning,CMDB</td>\n",
       "      <td>Dear sandbox environment (org ID access CMDB w...</td>\n",
       "      <td>0.76051</td>\n",
       "    </tr>\n",
       "    <tr>\n",
       "      <th>14</th>\n",
       "      <td>967</td>\n",
       "      <td>5001O00001ccqetQAA</td>\n",
       "      <td>780159</td>\n",
       "      <td>Closed</td>\n",
       "      <td>Web</td>\n",
       "      <td>Error while accessing CMDB tab in Sandbox</td>\n",
       "      <td>Hi Team ,\\n\\nWe are facing the below mentioned...</td>\n",
       "      <td>Ambika Verman</td>\n",
       "      <td>2019-10-30T16:48:37.000Z</td>\n",
       "      <td>2019-10-29T06:08:50.000Z</td>\n",
       "      <td>...</td>\n",
       "      <td>1.36</td>\n",
       "      <td>0.00</td>\n",
       "      <td>2.0</td>\n",
       "      <td>NaN</td>\n",
       "      <td>NaN</td>\n",
       "      <td>APAC</td>\n",
       "      <td>6.0</td>\n",
       "      <td>CMDB</td>\n",
       "      <td>Hi Team We facing mentioned error accessing CM...</td>\n",
       "      <td>0.75241</td>\n",
       "    </tr>\n",
       "    <tr>\n",
       "      <th>19</th>\n",
       "      <td>8511</td>\n",
       "      <td>5001O00001GLPvUQAX</td>\n",
       "      <td>528217</td>\n",
       "      <td>Closed</td>\n",
       "      <td>Web</td>\n",
       "      <td>Error when viewing List View customization</td>\n",
       "      <td>Getting the following error when clicking on L...</td>\n",
       "      <td>Jair Ramos</td>\n",
       "      <td>2018-05-24T14:23:47.000Z</td>\n",
       "      <td>2018-05-22T14:10:09.000Z</td>\n",
       "      <td>...</td>\n",
       "      <td>0.06</td>\n",
       "      <td>1.95</td>\n",
       "      <td>NaN</td>\n",
       "      <td>2.0</td>\n",
       "      <td>NaN</td>\n",
       "      <td>Non-APAC</td>\n",
       "      <td>14.0</td>\n",
       "      <td>CMDB</td>\n",
       "      <td>Getting following error clicking List View Cus...</td>\n",
       "      <td>0.73181</td>\n",
       "    </tr>\n",
       "  </tbody>\n",
       "</table>\n",
       "<p>5 rows × 32 columns</p>\n",
       "</div>"
      ],
      "text/plain": [
       "    index                  ID  CASENUMBER  STATUS ORIGIN  \\\n",
       "1    1028  5001O00001ccgqwQAA      778418  Closed    Web   \n",
       "9    1102  5001O00001ccT7SQAU      775986  Closed    Web   \n",
       "13   1167  5001O00001ccF6KQAU      773664  Closed    Web   \n",
       "14    967  5001O00001ccqetQAA      780159  Closed    Web   \n",
       "19   8511  5001O00001GLPvUQAX      528217  Closed    Web   \n",
       "\n",
       "                                       SUBJECT  \\\n",
       "1               Error when accessing CMDB  tab   \n",
       "9                            Can't access CMDB   \n",
       "13                       Error message in CMDB   \n",
       "14   Error while accessing CMDB tab in Sandbox   \n",
       "19  Error when viewing List View customization   \n",
       "\n",
       "                                          DESCRIPTION     OWNER.NAME  \\\n",
       "1   We are receiving errors when trying to access ...  Ashish Vaidya   \n",
       "9   Every time I am accessing the CMDB in our sand...     Jim Dubcak   \n",
       "13  Dear all, on sandbox environment (org ID : 00D...  Ambika Verman   \n",
       "14  Hi Team ,\\n\\nWe are facing the below mentioned...  Ambika Verman   \n",
       "19  Getting the following error when clicking on L...     Jair Ramos   \n",
       "\n",
       "                  CLOSEDDATE              SLASTARTDATE  ...  \\\n",
       "1   2019-11-04T08:46:17.000Z  2019-10-24T08:02:44.000Z  ...   \n",
       "9   2019-10-28T11:43:21.000Z  2019-10-18T15:47:04.000Z  ...   \n",
       "13  2019-11-11T04:41:23.000Z  2019-10-15T07:46:14.000Z  ...   \n",
       "14  2019-10-30T16:48:37.000Z  2019-10-29T06:08:50.000Z  ...   \n",
       "19  2018-05-24T14:23:47.000Z  2018-05-22T14:10:09.000Z  ...   \n",
       "\n",
       "   PENDING_CUSTOMER_SUPPORT_CUMULATIVE_TIME__C  \\\n",
       "1                                         9.03   \n",
       "9                                         1.37   \n",
       "13                                       22.26   \n",
       "14                                        1.36   \n",
       "19                                        0.06   \n",
       "\n",
       "   PENDING_ENGINEERING_CUMULATIVE_TIME__C  \\\n",
       "1                                    0.00   \n",
       "9                                    3.61   \n",
       "13                                   1.26   \n",
       "14                                   0.00   \n",
       "19                                   1.95   \n",
       "\n",
       "   SUPPORT_AND_CUSTOMER_HANDOFFS_COUNT__C  \\\n",
       "1                                     2.0   \n",
       "9                                    17.0   \n",
       "13                                   10.0   \n",
       "14                                    2.0   \n",
       "19                                    NaN   \n",
       "\n",
       "   SUPPORT_AND_ENGINERERING_HANDOFFS_COUNT__C  CASE_SUMMARY_LAST_UPDATED__C  \\\n",
       "1                                         NaN      2019-10-25T07:37:14.000Z   \n",
       "9                                        10.0      2019-10-22T18:16:15.000Z   \n",
       "13                                        4.0      2019-10-17T06:30:33.000Z   \n",
       "14                                        NaN                           NaN   \n",
       "19                                        2.0                           NaN   \n",
       "\n",
       "   ACTIVE_GCC__C SUBMITTED_HOUR_GMT__C          Module  \\\n",
       "1       Non-APAC                   8.0            CMDB   \n",
       "9       Non-APAC                  15.0            CMDB   \n",
       "13          APAC                   7.0  lightning,CMDB   \n",
       "14          APAC                   6.0            CMDB   \n",
       "19      Non-APAC                  14.0            CMDB   \n",
       "\n",
       "                                         cleaned_text Similarity Index  \n",
       "1   We receiving errors trying access CMDB tab one...          0.83581  \n",
       "9   Every time I accessing CMDB sandbox errors fol...          0.76891  \n",
       "13  Dear sandbox environment (org ID access CMDB w...          0.76051  \n",
       "14  Hi Team We facing mentioned error accessing CM...          0.75241  \n",
       "19  Getting following error clicking List View Cus...          0.73181  \n",
       "\n",
       "[5 rows x 32 columns]"
      ]
     },
     "execution_count": 57,
     "metadata": {},
     "output_type": "execute_result"
    }
   ],
   "source": [
    "suggestedDF = suggestedDF.sort_values('Similarity Index', ascending=False).head(20)\n",
    "suggestedDF.head(5)"
   ]
  },
  {
   "cell_type": "code",
   "execution_count": 58,
   "metadata": {},
   "outputs": [],
   "source": [
    "suggestedDF.rename(columns={'OWNER.NAME':'Case_owner'}, inplace=True)"
   ]
  },
  {
   "cell_type": "code",
   "execution_count": 59,
   "metadata": {},
   "outputs": [],
   "source": [
    "t1 = suggestedDF.Case_owner.value_counts()"
   ]
  },
  {
   "cell_type": "code",
   "execution_count": 60,
   "metadata": {},
   "outputs": [
    {
     "data": {
      "text/plain": [
       "{'Ambika Verman': 4,\n",
       " 'Jim Dubcak': 4,\n",
       " 'Ramesh Pal': 3,\n",
       " 'Jair Ramos': 2,\n",
       " 'Ashish Vaidya': 2,\n",
       " 'Satrughan Mahato': 1,\n",
       " 'Kevin Nadar': 1,\n",
       " 'Tony Elliott': 1,\n",
       " 'John Khattyan': 1,\n",
       " 'Mohd Shahid Khan': 1}"
      ]
     },
     "execution_count": 60,
     "metadata": {},
     "output_type": "execute_result"
    }
   ],
   "source": [
    "t2 = t1.to_dict()\n",
    "t2"
   ]
  },
  {
   "cell_type": "code",
   "execution_count": 63,
   "metadata": {},
   "outputs": [
    {
     "data": {
      "text/html": [
       "<div>\n",
       "<style scoped>\n",
       "    .dataframe tbody tr th:only-of-type {\n",
       "        vertical-align: middle;\n",
       "    }\n",
       "\n",
       "    .dataframe tbody tr th {\n",
       "        vertical-align: top;\n",
       "    }\n",
       "\n",
       "    .dataframe thead th {\n",
       "        text-align: right;\n",
       "    }\n",
       "</style>\n",
       "<table border=\"1\" class=\"dataframe\">\n",
       "  <thead>\n",
       "    <tr style=\"text-align: right;\">\n",
       "      <th></th>\n",
       "      <th>Case_Count</th>\n",
       "    </tr>\n",
       "  </thead>\n",
       "  <tbody>\n",
       "    <tr>\n",
       "      <th>Ambika Verman</th>\n",
       "      <td>4</td>\n",
       "    </tr>\n",
       "    <tr>\n",
       "      <th>Jim Dubcak</th>\n",
       "      <td>4</td>\n",
       "    </tr>\n",
       "    <tr>\n",
       "      <th>Ramesh Pal</th>\n",
       "      <td>3</td>\n",
       "    </tr>\n",
       "    <tr>\n",
       "      <th>Jair Ramos</th>\n",
       "      <td>2</td>\n",
       "    </tr>\n",
       "    <tr>\n",
       "      <th>Ashish Vaidya</th>\n",
       "      <td>2</td>\n",
       "    </tr>\n",
       "  </tbody>\n",
       "</table>\n",
       "</div>"
      ],
      "text/plain": [
       "               Case_Count\n",
       "Ambika Verman           4\n",
       "Jim Dubcak              4\n",
       "Ramesh Pal              3\n",
       "Jair Ramos              2\n",
       "Ashish Vaidya           2"
      ]
     },
     "execution_count": 63,
     "metadata": {},
     "output_type": "execute_result"
    }
   ],
   "source": [
    "df2 = pd.DataFrame.from_dict(t2,orient='index', columns=[\"Case_Count\"])\n",
    "df2.head()"
   ]
  },
  {
   "cell_type": "code",
   "execution_count": 64,
   "metadata": {},
   "outputs": [
    {
     "name": "stdout",
     "output_type": "stream",
     "text": [
      "[12.705, 5.7250000000000005, 11.236666666666666, 8.195, 19.665, 3.81, 1.91, 2.5, 18.59, 182.26]\n",
      "[[773664, 780159, 527260, 707246], [775986, 766406, 559607, 669199], [673682, 626259, 665383], [528217, 782005], [778418, 781550], [528756], [499251], [804254], [601249], [630931]]\n"
     ]
    }
   ],
   "source": [
    "avg_counts = []\n",
    "res_RFAs = []\n",
    "for item in t2:\n",
    "    res_RFA = []\n",
    "    loc_avg = 0\n",
    "    loc_avg = suggestedDF[suggestedDF['Case_owner'] == item]['CASE_AGGRAVATION__C'].mean()\n",
    "    res_RFA = suggestedDF[suggestedDF['Case_owner'] == item]['CASENUMBER'].tolist()\n",
    "    #print(loc_avg)\n",
    "    avg_counts.append(loc_avg)\n",
    "    res_RFAs.append(res_RFA)\n",
    "print(avg_counts) \n",
    "print(res_RFAs)"
   ]
  },
  {
   "cell_type": "code",
   "execution_count": 65,
   "metadata": {},
   "outputs": [],
   "source": [
    "df2['Avg_Days'] = avg_counts\n",
    "df2['Case_Number'] = res_RFAs"
   ]
  },
  {
   "cell_type": "code",
   "execution_count": 74,
   "metadata": {},
   "outputs": [
    {
     "data": {
      "text/plain": [
       "14.649552238805965"
      ]
     },
     "execution_count": 74,
     "metadata": {},
     "output_type": "execute_result"
    }
   ],
   "source": [
    "df1[df1.Module == 'Discovery']['CASE_AGGRAVATION__C'].mean()"
   ]
  },
  {
   "cell_type": "code",
   "execution_count": 73,
   "metadata": {},
   "outputs": [
    {
     "data": {
      "text/plain": [
       "(67,)"
      ]
     },
     "execution_count": 73,
     "metadata": {},
     "output_type": "execute_result"
    }
   ],
   "source": [
    "df1[df1.Module == 'Discovery']['CASE_AGGRAVATION__C'].shape"
   ]
  },
  {
   "cell_type": "code",
   "execution_count": 66,
   "metadata": {},
   "outputs": [
    {
     "data": {
      "text/html": [
       "<div>\n",
       "<style scoped>\n",
       "    .dataframe tbody tr th:only-of-type {\n",
       "        vertical-align: middle;\n",
       "    }\n",
       "\n",
       "    .dataframe tbody tr th {\n",
       "        vertical-align: top;\n",
       "    }\n",
       "\n",
       "    .dataframe thead th {\n",
       "        text-align: right;\n",
       "    }\n",
       "</style>\n",
       "<table border=\"1\" class=\"dataframe\">\n",
       "  <thead>\n",
       "    <tr style=\"text-align: right;\">\n",
       "      <th></th>\n",
       "      <th>Case_Count</th>\n",
       "      <th>Avg_Days</th>\n",
       "      <th>Case_Number</th>\n",
       "    </tr>\n",
       "  </thead>\n",
       "  <tbody>\n",
       "    <tr>\n",
       "      <th>Kevin Nadar</th>\n",
       "      <td>1</td>\n",
       "      <td>1.910000</td>\n",
       "      <td>[499251]</td>\n",
       "    </tr>\n",
       "    <tr>\n",
       "      <th>Tony Elliott</th>\n",
       "      <td>1</td>\n",
       "      <td>2.500000</td>\n",
       "      <td>[804254]</td>\n",
       "    </tr>\n",
       "    <tr>\n",
       "      <th>Satrughan Mahato</th>\n",
       "      <td>1</td>\n",
       "      <td>3.810000</td>\n",
       "      <td>[528756]</td>\n",
       "    </tr>\n",
       "    <tr>\n",
       "      <th>Jim Dubcak</th>\n",
       "      <td>4</td>\n",
       "      <td>5.725000</td>\n",
       "      <td>[775986, 766406, 559607, 669199]</td>\n",
       "    </tr>\n",
       "    <tr>\n",
       "      <th>Jair Ramos</th>\n",
       "      <td>2</td>\n",
       "      <td>8.195000</td>\n",
       "      <td>[528217, 782005]</td>\n",
       "    </tr>\n",
       "    <tr>\n",
       "      <th>Ramesh Pal</th>\n",
       "      <td>3</td>\n",
       "      <td>11.236667</td>\n",
       "      <td>[673682, 626259, 665383]</td>\n",
       "    </tr>\n",
       "    <tr>\n",
       "      <th>Ambika Verman</th>\n",
       "      <td>4</td>\n",
       "      <td>12.705000</td>\n",
       "      <td>[773664, 780159, 527260, 707246]</td>\n",
       "    </tr>\n",
       "    <tr>\n",
       "      <th>John Khattyan</th>\n",
       "      <td>1</td>\n",
       "      <td>18.590000</td>\n",
       "      <td>[601249]</td>\n",
       "    </tr>\n",
       "    <tr>\n",
       "      <th>Ashish Vaidya</th>\n",
       "      <td>2</td>\n",
       "      <td>19.665000</td>\n",
       "      <td>[778418, 781550]</td>\n",
       "    </tr>\n",
       "    <tr>\n",
       "      <th>Mohd Shahid Khan</th>\n",
       "      <td>1</td>\n",
       "      <td>182.260000</td>\n",
       "      <td>[630931]</td>\n",
       "    </tr>\n",
       "  </tbody>\n",
       "</table>\n",
       "</div>"
      ],
      "text/plain": [
       "                  Case_Count    Avg_Days                       Case_Number\n",
       "Kevin Nadar                1    1.910000                          [499251]\n",
       "Tony Elliott               1    2.500000                          [804254]\n",
       "Satrughan Mahato           1    3.810000                          [528756]\n",
       "Jim Dubcak                 4    5.725000  [775986, 766406, 559607, 669199]\n",
       "Jair Ramos                 2    8.195000                  [528217, 782005]\n",
       "Ramesh Pal                 3   11.236667          [673682, 626259, 665383]\n",
       "Ambika Verman              4   12.705000  [773664, 780159, 527260, 707246]\n",
       "John Khattyan              1   18.590000                          [601249]\n",
       "Ashish Vaidya              2   19.665000                  [778418, 781550]\n",
       "Mohd Shahid Khan           1  182.260000                          [630931]"
      ]
     },
     "execution_count": 66,
     "metadata": {},
     "output_type": "execute_result"
    }
   ],
   "source": [
    "df3 = df2.sort_values('Avg_Days', ascending=True).head(20)\n",
    "df3"
   ]
  },
  {
   "cell_type": "code",
   "execution_count": null,
   "metadata": {},
   "outputs": [],
   "source": []
  },
  {
   "cell_type": "code",
   "execution_count": 67,
   "metadata": {},
   "outputs": [
    {
     "data": {
      "text/plain": [
       "'[{\"index\":\"Kevin Nadar\",\"Case_Count\":1,\"Avg_Days\":1.91,\"Case_Number\":[499251]},{\"index\":\"Tony Elliott\",\"Case_Count\":1,\"Avg_Days\":2.5,\"Case_Number\":[804254]},{\"index\":\"Satrughan Mahato\",\"Case_Count\":1,\"Avg_Days\":3.81,\"Case_Number\":[528756]},{\"index\":\"Jim Dubcak\",\"Case_Count\":4,\"Avg_Days\":5.725,\"Case_Number\":[775986,766406,559607,669199]},{\"index\":\"Jair Ramos\",\"Case_Count\":2,\"Avg_Days\":8.195,\"Case_Number\":[528217,782005]},{\"index\":\"Ramesh Pal\",\"Case_Count\":3,\"Avg_Days\":11.2366666667,\"Case_Number\":[673682,626259,665383]},{\"index\":\"Ambika Verman\",\"Case_Count\":4,\"Avg_Days\":12.705,\"Case_Number\":[773664,780159,527260,707246]},{\"index\":\"John Khattyan\",\"Case_Count\":1,\"Avg_Days\":18.59,\"Case_Number\":[601249]},{\"index\":\"Ashish Vaidya\",\"Case_Count\":2,\"Avg_Days\":19.665,\"Case_Number\":[778418,781550]},{\"index\":\"Mohd Shahid Khan\",\"Case_Count\":1,\"Avg_Days\":182.26,\"Case_Number\":[630931]}]'"
      ]
     },
     "execution_count": 67,
     "metadata": {},
     "output_type": "execute_result"
    }
   ],
   "source": [
    "df3 = df3.reset_index()\n",
    "df5 = df3.to_json(orient='records')\n",
    "df5"
   ]
  },
  {
   "cell_type": "code",
   "execution_count": 78,
   "metadata": {},
   "outputs": [
    {
     "data": {
      "text/plain": [
       "array(['Ambika Verman', 'cs-remedyforce', 'John Khattyan',\n",
       "       'Satrughan Mahato', 'Jair Ramos', 'Paul Gonzalez', 'Diego Novoa',\n",
       "       'Tony Elliott', 'Gabriela Noguez Flores', 'Ramiro Torres',\n",
       "       'Jim Dubcak', 'Andrea Correa', 'Ashish Vaidya', 'Mohd Shahid Khan',\n",
       "       'Tasha McGinnis Williams', 'Dick Chapman', 'Vandana Jagtap',\n",
       "       'Jerome Leroux', 'Joanne Dixon', 'Ramesh Pal', 'Draft Cases',\n",
       "       'Marc Lefebvre', 'Fabien Carmagnolle', 'Kevin Nadar', 'Kunal Das',\n",
       "       'Vaibhav Wadekar'], dtype=object)"
      ]
     },
     "execution_count": 78,
     "metadata": {},
     "output_type": "execute_result"
    }
   ],
   "source": [
    "df['OWNER.NAME'].unique()"
   ]
  },
  {
   "cell_type": "code",
   "execution_count": null,
   "metadata": {},
   "outputs": [],
   "source": []
  },
  {
   "cell_type": "code",
   "execution_count": null,
   "metadata": {},
   "outputs": [],
   "source": []
  },
  {
   "cell_type": "code",
   "execution_count": 561,
   "metadata": {},
   "outputs": [
    {
     "data": {
      "text/plain": [
       "Index(['index', 'ID', 'CASENUMBER', 'STATUS', 'ORIGIN', 'SUBJECT', 'PRIORITY',\n",
       "       'DESCRIPTION', 'CLOSEDDATE', 'SLASTARTDATE', 'SLAEXITDATE',\n",
       "       'CREATEDDATE', 'MILESTONESTATUS', 'DR_VERSION__C', 'MANAGER_NAME__C',\n",
       "       'QUEUE_PRODUCT_GROUP__C', 'SERVICE_LEVEL__C', 'SEVERITY__C',\n",
       "       'CASE_AGGRAVATION__C', 'SC_CURRENT_CASE_QUEUE_NAME__C',\n",
       "       'SC_CONTACT_COMPANY_HL__C', 'SC_LP_VERSION_CODE_HL__C',\n",
       "       'SLA_EXPIRATION__C', 'SLA_PRIORITIZATION__C', 'SC_CASESUMMARY__C',\n",
       "       'ACCOUNT_NAME__C', 'CUSTOMER_STATUS_AGE__C',\n",
       "       'PENDING_CLIENT_CUMULATIVE_TIME__C',\n",
       "       'PENDING_CUSTOMER_SUPPORT_CUMULATIVE_TIME__C',\n",
       "       'PENDING_ENGINEERING_CUMULATIVE_TIME__C',\n",
       "       'SUPPORT_AND_CUSTOMER_HANDOFFS_COUNT__C',\n",
       "       'SUPPORT_AND_ENGINERERING_HANDOFFS_COUNT__C',\n",
       "       'SC_SERVICE_PRODUCT_FAMILY__C', 'OPERATIONAL_GEO__C',\n",
       "       'FIX_PACK_VERSION__C', 'CASE_SUMMARY_LAST_UPDATED__C', 'ACTIVE_GCC__C',\n",
       "       'SUBMITTED_HOUR_GMT__C', 'Module', 'cleaned_text', 'Similarity Index'],\n",
       "      dtype='object')"
      ]
     },
     "execution_count": 561,
     "metadata": {},
     "output_type": "execute_result"
    }
   ],
   "source": [
    "suggestedDF.columns"
   ]
  },
  {
   "cell_type": "markdown",
   "metadata": {},
   "source": [
    "#### Prediction Algo"
   ]
  },
  {
   "cell_type": "code",
   "execution_count": 562,
   "metadata": {},
   "outputs": [
    {
     "data": {
      "text/html": [
       "<div>\n",
       "<style scoped>\n",
       "    .dataframe tbody tr th:only-of-type {\n",
       "        vertical-align: middle;\n",
       "    }\n",
       "\n",
       "    .dataframe tbody tr th {\n",
       "        vertical-align: top;\n",
       "    }\n",
       "\n",
       "    .dataframe thead th {\n",
       "        text-align: right;\n",
       "    }\n",
       "</style>\n",
       "<table border=\"1\" class=\"dataframe\">\n",
       "  <thead>\n",
       "    <tr style=\"text-align: right;\">\n",
       "      <th></th>\n",
       "      <th>ID</th>\n",
       "      <th>CASENUMBER</th>\n",
       "      <th>STATUS</th>\n",
       "      <th>ORIGIN</th>\n",
       "      <th>SUBJECT</th>\n",
       "      <th>PRIORITY</th>\n",
       "      <th>DESCRIPTION</th>\n",
       "      <th>CLOSEDDATE</th>\n",
       "      <th>SLASTARTDATE</th>\n",
       "      <th>SLAEXITDATE</th>\n",
       "      <th>...</th>\n",
       "      <th>SC_SERVICE_PRODUCT_FAMILY__C</th>\n",
       "      <th>OPERATIONAL_GEO__C</th>\n",
       "      <th>FIX_PACK_VERSION__C</th>\n",
       "      <th>CASE_SUMMARY_LAST_UPDATED__C</th>\n",
       "      <th>ACTIVE_GCC__C</th>\n",
       "      <th>SUBMITTED_HOUR_GMT__C</th>\n",
       "      <th>SLA_ExpirationDate</th>\n",
       "      <th>SLA_ExitDate</th>\n",
       "      <th>SLA_StartDate</th>\n",
       "      <th>SLA_diff</th>\n",
       "    </tr>\n",
       "  </thead>\n",
       "  <tbody>\n",
       "    <tr>\n",
       "      <th>0</th>\n",
       "      <td>5001O00001ce555QAA</td>\n",
       "      <td>999999</td>\n",
       "      <td>New</td>\n",
       "      <td>Email</td>\n",
       "      <td>Migration of Remedy server from old to new env...</td>\n",
       "      <td>3-Medium</td>\n",
       "      <td>Issue: After the customer refreshed his sanbox...</td>\n",
       "      <td>2019-11-06T22:48:57.000Z</td>\n",
       "      <td>2019-10-31T21:11:41.000Z</td>\n",
       "      <td>2019-11-06T22:48:58.000Z</td>\n",
       "      <td>...</td>\n",
       "      <td>HELIX REMEDYFORCE</td>\n",
       "      <td>NaN</td>\n",
       "      <td>NaN</td>\n",
       "      <td>NaN</td>\n",
       "      <td>Non-APAC</td>\n",
       "      <td>21.0</td>\n",
       "      <td>2019-10-31 23:11:00</td>\n",
       "      <td>2019-11-06 22:48:58</td>\n",
       "      <td>2019-10-31 21:11:41</td>\n",
       "      <td>-6.0</td>\n",
       "    </tr>\n",
       "    <tr>\n",
       "      <th>1</th>\n",
       "      <td>5001O00001celx5QAA</td>\n",
       "      <td>804591</td>\n",
       "      <td>New</td>\n",
       "      <td>Web</td>\n",
       "      <td>Help with Creating User Permissions</td>\n",
       "      <td>3-Medium</td>\n",
       "      <td>Support can you help or point me in the right ...</td>\n",
       "      <td>NaN</td>\n",
       "      <td>2019-12-17T14:16:17.000Z</td>\n",
       "      <td>NaN</td>\n",
       "      <td>...</td>\n",
       "      <td>HELIX REMEDYFORCE</td>\n",
       "      <td>NaN</td>\n",
       "      <td>NaN</td>\n",
       "      <td>NaN</td>\n",
       "      <td>Non-APAC</td>\n",
       "      <td>14.0</td>\n",
       "      <td>2019-12-17 18:16:00</td>\n",
       "      <td>NaT</td>\n",
       "      <td>2019-12-17 14:16:17</td>\n",
       "      <td>NaN</td>\n",
       "    </tr>\n",
       "    <tr>\n",
       "      <th>2</th>\n",
       "      <td>5001O00001celw7QAA</td>\n",
       "      <td>804586</td>\n",
       "      <td>New</td>\n",
       "      <td>Email</td>\n",
       "      <td>Knowledge search snake slow and articles not d...</td>\n",
       "      <td>3-Medium</td>\n",
       "      <td>When we use Knowledge search it is extremely s...</td>\n",
       "      <td>NaN</td>\n",
       "      <td>2019-12-17T14:17:04.000Z</td>\n",
       "      <td>NaN</td>\n",
       "      <td>...</td>\n",
       "      <td>HELIX REMEDYFORCE</td>\n",
       "      <td>NaN</td>\n",
       "      <td>NaN</td>\n",
       "      <td>NaN</td>\n",
       "      <td>Non-APAC</td>\n",
       "      <td>14.0</td>\n",
       "      <td>2019-12-17 18:17:00</td>\n",
       "      <td>NaT</td>\n",
       "      <td>2019-12-17 14:17:04</td>\n",
       "      <td>NaN</td>\n",
       "    </tr>\n",
       "    <tr>\n",
       "      <th>3</th>\n",
       "      <td>5001O00001celruQAA</td>\n",
       "      <td>804563</td>\n",
       "      <td>Work In Progress-Customer</td>\n",
       "      <td>Web</td>\n",
       "      <td>Emails Being Lost</td>\n",
       "      <td>3-Medium</td>\n",
       "      <td>Hi,\\n\\nWe have a forwarder for mails sent to m...</td>\n",
       "      <td>NaN</td>\n",
       "      <td>2019-12-17T13:51:51.000Z</td>\n",
       "      <td>NaN</td>\n",
       "      <td>...</td>\n",
       "      <td>HELIX REMEDYFORCE</td>\n",
       "      <td>NaN</td>\n",
       "      <td>NaN</td>\n",
       "      <td>NaN</td>\n",
       "      <td>Non-APAC</td>\n",
       "      <td>13.0</td>\n",
       "      <td>2019-12-17 15:51:00</td>\n",
       "      <td>NaT</td>\n",
       "      <td>2019-12-17 13:51:51</td>\n",
       "      <td>NaN</td>\n",
       "    </tr>\n",
       "    <tr>\n",
       "      <th>4</th>\n",
       "      <td>5001O00001celr6QAA</td>\n",
       "      <td>804557</td>\n",
       "      <td>New</td>\n",
       "      <td>Email</td>\n",
       "      <td>Remedyforce Help</td>\n",
       "      <td>3-Medium</td>\n",
       "      <td>Good morning,\\n\\nEvery time there is a new hir...</td>\n",
       "      <td>NaN</td>\n",
       "      <td>2019-12-17T13:51:10.000Z</td>\n",
       "      <td>NaN</td>\n",
       "      <td>...</td>\n",
       "      <td>HELIX REMEDYFORCE</td>\n",
       "      <td>NaN</td>\n",
       "      <td>NaN</td>\n",
       "      <td>NaN</td>\n",
       "      <td>Non-APAC</td>\n",
       "      <td>13.0</td>\n",
       "      <td>2019-12-17 17:51:00</td>\n",
       "      <td>NaT</td>\n",
       "      <td>2019-12-17 13:51:10</td>\n",
       "      <td>NaN</td>\n",
       "    </tr>\n",
       "  </tbody>\n",
       "</table>\n",
       "<p>5 rows × 41 columns</p>\n",
       "</div>"
      ],
      "text/plain": [
       "                   ID  CASENUMBER                     STATUS ORIGIN  \\\n",
       "0  5001O00001ce555QAA      999999                        New  Email   \n",
       "1  5001O00001celx5QAA      804591                        New    Web   \n",
       "2  5001O00001celw7QAA      804586                        New  Email   \n",
       "3  5001O00001celruQAA      804563  Work In Progress-Customer    Web   \n",
       "4  5001O00001celr6QAA      804557                        New  Email   \n",
       "\n",
       "                                             SUBJECT  PRIORITY  \\\n",
       "0  Migration of Remedy server from old to new env...  3-Medium   \n",
       "1                Help with Creating User Permissions  3-Medium   \n",
       "2  Knowledge search snake slow and articles not d...  3-Medium   \n",
       "3                                  Emails Being Lost  3-Medium   \n",
       "4                                   Remedyforce Help  3-Medium   \n",
       "\n",
       "                                         DESCRIPTION  \\\n",
       "0  Issue: After the customer refreshed his sanbox...   \n",
       "1  Support can you help or point me in the right ...   \n",
       "2  When we use Knowledge search it is extremely s...   \n",
       "3  Hi,\\n\\nWe have a forwarder for mails sent to m...   \n",
       "4  Good morning,\\n\\nEvery time there is a new hir...   \n",
       "\n",
       "                 CLOSEDDATE              SLASTARTDATE  \\\n",
       "0  2019-11-06T22:48:57.000Z  2019-10-31T21:11:41.000Z   \n",
       "1                       NaN  2019-12-17T14:16:17.000Z   \n",
       "2                       NaN  2019-12-17T14:17:04.000Z   \n",
       "3                       NaN  2019-12-17T13:51:51.000Z   \n",
       "4                       NaN  2019-12-17T13:51:10.000Z   \n",
       "\n",
       "                SLAEXITDATE  ... SC_SERVICE_PRODUCT_FAMILY__C  \\\n",
       "0  2019-11-06T22:48:58.000Z  ...            HELIX REMEDYFORCE   \n",
       "1                       NaN  ...            HELIX REMEDYFORCE   \n",
       "2                       NaN  ...            HELIX REMEDYFORCE   \n",
       "3                       NaN  ...            HELIX REMEDYFORCE   \n",
       "4                       NaN  ...            HELIX REMEDYFORCE   \n",
       "\n",
       "  OPERATIONAL_GEO__C FIX_PACK_VERSION__C CASE_SUMMARY_LAST_UPDATED__C  \\\n",
       "0                NaN                 NaN                          NaN   \n",
       "1                NaN                 NaN                          NaN   \n",
       "2                NaN                 NaN                          NaN   \n",
       "3                NaN                 NaN                          NaN   \n",
       "4                NaN                 NaN                          NaN   \n",
       "\n",
       "  ACTIVE_GCC__C SUBMITTED_HOUR_GMT__C  SLA_ExpirationDate        SLA_ExitDate  \\\n",
       "0      Non-APAC                  21.0 2019-10-31 23:11:00 2019-11-06 22:48:58   \n",
       "1      Non-APAC                  14.0 2019-12-17 18:16:00                 NaT   \n",
       "2      Non-APAC                  14.0 2019-12-17 18:17:00                 NaT   \n",
       "3      Non-APAC                  13.0 2019-12-17 15:51:00                 NaT   \n",
       "4      Non-APAC                  13.0 2019-12-17 17:51:00                 NaT   \n",
       "\n",
       "        SLA_StartDate SLA_diff  \n",
       "0 2019-10-31 21:11:41     -6.0  \n",
       "1 2019-12-17 14:16:17      NaN  \n",
       "2 2019-12-17 14:17:04      NaN  \n",
       "3 2019-12-17 13:51:51      NaN  \n",
       "4 2019-12-17 13:51:10      NaN  \n",
       "\n",
       "[5 rows x 41 columns]"
      ]
     },
     "execution_count": 562,
     "metadata": {},
     "output_type": "execute_result"
    }
   ],
   "source": [
    "df['SLA_ExpirationDate'] = df.SLA_EXPIRATION__C.apply(lambda x: str(x).replace('T', ' ').replace('Z', '')[:-4])\n",
    "df['SLA_ExitDate'] = df.SLAEXITDATE.apply(lambda x: str(x).replace('T', ' ').replace('Z', '')[:-4])\n",
    "df['SLA_StartDate'] = df.SLASTARTDATE.apply(lambda x: str(x).replace('T', ' ').replace('Z', '')[:-4])\n",
    "\n",
    "df['SLA_ExpirationDate']= pd.to_datetime(df['SLA_ExpirationDate'])\n",
    "df['SLA_ExitDate']= pd.to_datetime(df['SLA_ExitDate'])\n",
    "df['SLA_StartDate']= pd.to_datetime(df['SLA_StartDate'])\n",
    "\n",
    "df['SLA_diff'] = df['SLA_ExpirationDate'] - df['SLA_ExitDate']\n",
    "df['SLA_diff'] = df['SLA_diff'].apply(lambda x : x.days)\n",
    "\n",
    "df.head(5)"
   ]
  },
  {
   "cell_type": "code",
   "execution_count": 563,
   "metadata": {},
   "outputs": [],
   "source": [
    "df.drop(['ID','MILESTONESTATUS', 'DR_VERSION__C', 'MANAGER_NAME__C', 'PRIORITY', 'QUEUE_PRODUCT_GROUP__C', \n",
    "         'SC_CURRENT_CASE_QUEUE_NAME__C', 'SC_CONTACT_COMPANY_HL__C', 'SC_SERVICE_PRODUCT_FAMILY__C',\n",
    "        'OPERATIONAL_GEO__C', 'FIX_PACK_VERSION__C'], axis=1, inplace=True)"
   ]
  },
  {
   "cell_type": "code",
   "execution_count": 564,
   "metadata": {},
   "outputs": [],
   "source": [
    "df[['Module']] = df1[['Module']]"
   ]
  },
  {
   "cell_type": "code",
   "execution_count": 565,
   "metadata": {},
   "outputs": [],
   "source": [
    "df = df[(df.SLA_PRIORITIZATION__C == 'Finished - Met') | (df.SLA_PRIORITIZATION__C == 'Finished - Missed')\n",
    "        | (df.CASENUMBER == 999999)]"
   ]
  },
  {
   "cell_type": "code",
   "execution_count": 566,
   "metadata": {},
   "outputs": [
    {
     "data": {
      "text/plain": [
       "(9956, 31)"
      ]
     },
     "execution_count": 566,
     "metadata": {},
     "output_type": "execute_result"
    }
   ],
   "source": [
    "df.shape"
   ]
  },
  {
   "cell_type": "code",
   "execution_count": 567,
   "metadata": {},
   "outputs": [
    {
     "data": {
      "text/html": [
       "<div>\n",
       "<style scoped>\n",
       "    .dataframe tbody tr th:only-of-type {\n",
       "        vertical-align: middle;\n",
       "    }\n",
       "\n",
       "    .dataframe tbody tr th {\n",
       "        vertical-align: top;\n",
       "    }\n",
       "\n",
       "    .dataframe thead th {\n",
       "        text-align: right;\n",
       "    }\n",
       "</style>\n",
       "<table border=\"1\" class=\"dataframe\">\n",
       "  <thead>\n",
       "    <tr style=\"text-align: right;\">\n",
       "      <th></th>\n",
       "      <th>CASENUMBER</th>\n",
       "      <th>STATUS</th>\n",
       "      <th>ORIGIN</th>\n",
       "      <th>SUBJECT</th>\n",
       "      <th>DESCRIPTION</th>\n",
       "      <th>CLOSEDDATE</th>\n",
       "      <th>SLASTARTDATE</th>\n",
       "      <th>SLAEXITDATE</th>\n",
       "      <th>CREATEDDATE</th>\n",
       "      <th>SERVICE_LEVEL__C</th>\n",
       "      <th>...</th>\n",
       "      <th>SUPPORT_AND_CUSTOMER_HANDOFFS_COUNT__C</th>\n",
       "      <th>SUPPORT_AND_ENGINERERING_HANDOFFS_COUNT__C</th>\n",
       "      <th>CASE_SUMMARY_LAST_UPDATED__C</th>\n",
       "      <th>ACTIVE_GCC__C</th>\n",
       "      <th>SUBMITTED_HOUR_GMT__C</th>\n",
       "      <th>SLA_ExpirationDate</th>\n",
       "      <th>SLA_ExitDate</th>\n",
       "      <th>SLA_StartDate</th>\n",
       "      <th>SLA_diff</th>\n",
       "      <th>Module</th>\n",
       "    </tr>\n",
       "  </thead>\n",
       "  <tbody>\n",
       "    <tr>\n",
       "      <th>0</th>\n",
       "      <td>999999</td>\n",
       "      <td>New</td>\n",
       "      <td>Email</td>\n",
       "      <td>Migration of Remedy server from old to new env...</td>\n",
       "      <td>Issue: After the customer refreshed his sanbox...</td>\n",
       "      <td>2019-11-06T22:48:57.000Z</td>\n",
       "      <td>2019-10-31T21:11:41.000Z</td>\n",
       "      <td>2019-11-06T22:48:58.000Z</td>\n",
       "      <td>2019-10-31T21:11:41.000Z</td>\n",
       "      <td>CONTINUOUS SDE ON DEMAND</td>\n",
       "      <td>...</td>\n",
       "      <td>7.0</td>\n",
       "      <td>NaN</td>\n",
       "      <td>NaN</td>\n",
       "      <td>Non-APAC</td>\n",
       "      <td>21.0</td>\n",
       "      <td>2019-10-31 23:11:00</td>\n",
       "      <td>2019-11-06 22:48:58</td>\n",
       "      <td>2019-10-31 21:11:41</td>\n",
       "      <td>-6.0</td>\n",
       "      <td>NaN</td>\n",
       "    </tr>\n",
       "  </tbody>\n",
       "</table>\n",
       "<p>1 rows × 31 columns</p>\n",
       "</div>"
      ],
      "text/plain": [
       "   CASENUMBER STATUS ORIGIN  \\\n",
       "0      999999    New  Email   \n",
       "\n",
       "                                             SUBJECT  \\\n",
       "0  Migration of Remedy server from old to new env...   \n",
       "\n",
       "                                         DESCRIPTION  \\\n",
       "0  Issue: After the customer refreshed his sanbox...   \n",
       "\n",
       "                 CLOSEDDATE              SLASTARTDATE  \\\n",
       "0  2019-11-06T22:48:57.000Z  2019-10-31T21:11:41.000Z   \n",
       "\n",
       "                SLAEXITDATE               CREATEDDATE  \\\n",
       "0  2019-11-06T22:48:58.000Z  2019-10-31T21:11:41.000Z   \n",
       "\n",
       "           SERVICE_LEVEL__C  ... SUPPORT_AND_CUSTOMER_HANDOFFS_COUNT__C  \\\n",
       "0  CONTINUOUS SDE ON DEMAND  ...                                    7.0   \n",
       "\n",
       "   SUPPORT_AND_ENGINERERING_HANDOFFS_COUNT__C CASE_SUMMARY_LAST_UPDATED__C  \\\n",
       "0                                         NaN                          NaN   \n",
       "\n",
       "  ACTIVE_GCC__C SUBMITTED_HOUR_GMT__C  SLA_ExpirationDate        SLA_ExitDate  \\\n",
       "0      Non-APAC                  21.0 2019-10-31 23:11:00 2019-11-06 22:48:58   \n",
       "\n",
       "        SLA_StartDate  SLA_diff  Module  \n",
       "0 2019-10-31 21:11:41      -6.0     NaN  \n",
       "\n",
       "[1 rows x 31 columns]"
      ]
     },
     "execution_count": 567,
     "metadata": {},
     "output_type": "execute_result"
    }
   ],
   "source": [
    "df.head(1)"
   ]
  },
  {
   "cell_type": "code",
   "execution_count": 568,
   "metadata": {},
   "outputs": [],
   "source": [
    "df = pd.get_dummies(df, columns=['STATUS', 'ORIGIN', 'SEVERITY__C', 'SUBMITTED_HOUR_GMT__C','ACTIVE_GCC__C','Module'])"
   ]
  },
  {
   "cell_type": "code",
   "execution_count": 569,
   "metadata": {},
   "outputs": [
    {
     "data": {
      "text/plain": [
       "(9956, 712)"
      ]
     },
     "execution_count": 569,
     "metadata": {},
     "output_type": "execute_result"
    }
   ],
   "source": [
    "df.shape"
   ]
  },
  {
   "cell_type": "code",
   "execution_count": 570,
   "metadata": {},
   "outputs": [
    {
     "data": {
      "text/html": [
       "<div>\n",
       "<style scoped>\n",
       "    .dataframe tbody tr th:only-of-type {\n",
       "        vertical-align: middle;\n",
       "    }\n",
       "\n",
       "    .dataframe tbody tr th {\n",
       "        vertical-align: top;\n",
       "    }\n",
       "\n",
       "    .dataframe thead th {\n",
       "        text-align: right;\n",
       "    }\n",
       "</style>\n",
       "<table border=\"1\" class=\"dataframe\">\n",
       "  <thead>\n",
       "    <tr style=\"text-align: right;\">\n",
       "      <th></th>\n",
       "      <th>CASENUMBER</th>\n",
       "      <th>SUBJECT</th>\n",
       "      <th>DESCRIPTION</th>\n",
       "      <th>CLOSEDDATE</th>\n",
       "      <th>SLASTARTDATE</th>\n",
       "      <th>SLAEXITDATE</th>\n",
       "      <th>CREATEDDATE</th>\n",
       "      <th>SERVICE_LEVEL__C</th>\n",
       "      <th>CASE_AGGRAVATION__C</th>\n",
       "      <th>SC_LP_VERSION_CODE_HL__C</th>\n",
       "      <th>...</th>\n",
       "      <th>Module_report,System.DmlException:,Incident</th>\n",
       "      <th>Module_report,System.LimitException:</th>\n",
       "      <th>Module_report,Template</th>\n",
       "      <th>Module_report,Upgrade</th>\n",
       "      <th>Module_report,Upgrade,Console,Broadcast</th>\n",
       "      <th>Module_report,Workflow</th>\n",
       "      <th>Module_time based workflow,Approval,Workflow</th>\n",
       "      <th>Module_time based workflow,Incident,Workflow</th>\n",
       "      <th>Module_time based workflow,SSO,Workflow</th>\n",
       "      <th>Module_time based workflow,Workflow</th>\n",
       "    </tr>\n",
       "  </thead>\n",
       "  <tbody>\n",
       "    <tr>\n",
       "      <th>0</th>\n",
       "      <td>999999</td>\n",
       "      <td>Migration of Remedy server from old to new env...</td>\n",
       "      <td>Issue: After the customer refreshed his sanbox...</td>\n",
       "      <td>2019-11-06T22:48:57.000Z</td>\n",
       "      <td>2019-10-31T21:11:41.000Z</td>\n",
       "      <td>2019-11-06T22:48:58.000Z</td>\n",
       "      <td>2019-10-31T21:11:41.000Z</td>\n",
       "      <td>CONTINUOUS SDE ON DEMAND</td>\n",
       "      <td>12.14</td>\n",
       "      <td>20.19.02</td>\n",
       "      <td>...</td>\n",
       "      <td>0</td>\n",
       "      <td>0</td>\n",
       "      <td>0</td>\n",
       "      <td>0</td>\n",
       "      <td>0</td>\n",
       "      <td>0</td>\n",
       "      <td>0</td>\n",
       "      <td>0</td>\n",
       "      <td>0</td>\n",
       "      <td>0</td>\n",
       "    </tr>\n",
       "    <tr>\n",
       "      <th>3</th>\n",
       "      <td>804563</td>\n",
       "      <td>Emails Being Lost</td>\n",
       "      <td>Hi,\\n\\nWe have a forwarder for mails sent to m...</td>\n",
       "      <td>NaN</td>\n",
       "      <td>2019-12-17T13:51:51.000Z</td>\n",
       "      <td>NaN</td>\n",
       "      <td>2019-12-17T13:51:51.000Z</td>\n",
       "      <td>CONTINUOUS SDE ON DEMAND</td>\n",
       "      <td>0.10</td>\n",
       "      <td>20.19.02</td>\n",
       "      <td>...</td>\n",
       "      <td>0</td>\n",
       "      <td>0</td>\n",
       "      <td>0</td>\n",
       "      <td>0</td>\n",
       "      <td>0</td>\n",
       "      <td>0</td>\n",
       "      <td>0</td>\n",
       "      <td>0</td>\n",
       "      <td>0</td>\n",
       "      <td>0</td>\n",
       "    </tr>\n",
       "  </tbody>\n",
       "</table>\n",
       "<p>2 rows × 712 columns</p>\n",
       "</div>"
      ],
      "text/plain": [
       "   CASENUMBER                                            SUBJECT  \\\n",
       "0      999999  Migration of Remedy server from old to new env...   \n",
       "3      804563                                  Emails Being Lost   \n",
       "\n",
       "                                         DESCRIPTION  \\\n",
       "0  Issue: After the customer refreshed his sanbox...   \n",
       "3  Hi,\\n\\nWe have a forwarder for mails sent to m...   \n",
       "\n",
       "                 CLOSEDDATE              SLASTARTDATE  \\\n",
       "0  2019-11-06T22:48:57.000Z  2019-10-31T21:11:41.000Z   \n",
       "3                       NaN  2019-12-17T13:51:51.000Z   \n",
       "\n",
       "                SLAEXITDATE               CREATEDDATE  \\\n",
       "0  2019-11-06T22:48:58.000Z  2019-10-31T21:11:41.000Z   \n",
       "3                       NaN  2019-12-17T13:51:51.000Z   \n",
       "\n",
       "           SERVICE_LEVEL__C  CASE_AGGRAVATION__C SC_LP_VERSION_CODE_HL__C  \\\n",
       "0  CONTINUOUS SDE ON DEMAND                12.14                 20.19.02   \n",
       "3  CONTINUOUS SDE ON DEMAND                 0.10                 20.19.02   \n",
       "\n",
       "   ... Module_report,System.DmlException:,Incident  \\\n",
       "0  ...                                           0   \n",
       "3  ...                                           0   \n",
       "\n",
       "  Module_report,System.LimitException: Module_report,Template  \\\n",
       "0                                    0                      0   \n",
       "3                                    0                      0   \n",
       "\n",
       "  Module_report,Upgrade  Module_report,Upgrade,Console,Broadcast  \\\n",
       "0                     0                                        0   \n",
       "3                     0                                        0   \n",
       "\n",
       "   Module_report,Workflow  Module_time based workflow,Approval,Workflow  \\\n",
       "0                       0                                             0   \n",
       "3                       0                                             0   \n",
       "\n",
       "   Module_time based workflow,Incident,Workflow  \\\n",
       "0                                             0   \n",
       "3                                             0   \n",
       "\n",
       "   Module_time based workflow,SSO,Workflow  \\\n",
       "0                                        0   \n",
       "3                                        0   \n",
       "\n",
       "   Module_time based workflow,Workflow  \n",
       "0                                    0  \n",
       "3                                    0  \n",
       "\n",
       "[2 rows x 712 columns]"
      ]
     },
     "execution_count": 570,
     "metadata": {},
     "output_type": "execute_result"
    }
   ],
   "source": [
    "df.head(2)"
   ]
  },
  {
   "cell_type": "code",
   "execution_count": 574,
   "metadata": {},
   "outputs": [
    {
     "data": {
      "text/plain": [
       "Finished - Met       9750\n",
       "Finished - Missed     205\n",
       "Name: SLA_PRIORITIZATION__C, dtype: int64"
      ]
     },
     "execution_count": 574,
     "metadata": {},
     "output_type": "execute_result"
    }
   ],
   "source": [
    "df.SLA_PRIORITIZATION__C.value_counts()"
   ]
  },
  {
   "cell_type": "code",
   "execution_count": 572,
   "metadata": {},
   "outputs": [],
   "source": [
    "testData = df[df.CASENUMBER == 999999]\n",
    "df = df[df.CASENUMBER != 999999]\n",
    "testData = testData.drop(['SLA_PRIORITIZATION__C'], axis=1)"
   ]
  },
  {
   "cell_type": "code",
   "execution_count": 575,
   "metadata": {},
   "outputs": [
    {
     "data": {
      "text/plain": [
       "(9955, 712)"
      ]
     },
     "execution_count": 575,
     "metadata": {},
     "output_type": "execute_result"
    }
   ],
   "source": [
    "df.shape"
   ]
  },
  {
   "cell_type": "code",
   "execution_count": 576,
   "metadata": {},
   "outputs": [],
   "source": [
    "le = preprocessing.LabelEncoder()\n",
    "df.SLA_PRIORITIZATION__C = le.fit_transform(df.SLA_PRIORITIZATION__C.values)"
   ]
  },
  {
   "cell_type": "code",
   "execution_count": 577,
   "metadata": {},
   "outputs": [],
   "source": [
    "from sklearn.utils import resample"
   ]
  },
  {
   "cell_type": "code",
   "execution_count": 578,
   "metadata": {},
   "outputs": [],
   "source": [
    "df_majority = df[df.SLA_PRIORITIZATION__C==0]\n",
    "df_minority = df[df.SLA_PRIORITIZATION__C==1]"
   ]
  },
  {
   "cell_type": "code",
   "execution_count": 579,
   "metadata": {},
   "outputs": [
    {
     "name": "stdout",
     "output_type": "stream",
     "text": [
      "(9750, 712)\n",
      "(205, 712)\n"
     ]
    }
   ],
   "source": [
    "print(df_majority.shape)\n",
    "print(df_minority.shape)"
   ]
  },
  {
   "cell_type": "code",
   "execution_count": 580,
   "metadata": {},
   "outputs": [
    {
     "data": {
      "text/plain": [
       "9750"
      ]
     },
     "execution_count": 580,
     "metadata": {},
     "output_type": "execute_result"
    }
   ],
   "source": [
    "df_majority.shape[0]"
   ]
  },
  {
   "cell_type": "code",
   "execution_count": 581,
   "metadata": {},
   "outputs": [],
   "source": [
    "df_minority_upsampled = resample(df_minority, \n",
    "                                 replace=True,     # sample with replacement\n",
    "                                 n_samples=9749,    # to match majority class\n",
    "                                 random_state=42) # reproducible results"
   ]
  },
  {
   "cell_type": "code",
   "execution_count": 582,
   "metadata": {},
   "outputs": [],
   "source": [
    "df_upsampled = pd.concat([df_majority, df_minority_upsampled])"
   ]
  },
  {
   "cell_type": "code",
   "execution_count": 583,
   "metadata": {},
   "outputs": [
    {
     "data": {
      "text/plain": [
       "0    9750\n",
       "1    9749\n",
       "Name: SLA_PRIORITIZATION__C, dtype: int64"
      ]
     },
     "execution_count": 583,
     "metadata": {},
     "output_type": "execute_result"
    }
   ],
   "source": [
    "df_upsampled.SLA_PRIORITIZATION__C.value_counts()"
   ]
  },
  {
   "cell_type": "code",
   "execution_count": 584,
   "metadata": {},
   "outputs": [],
   "source": [
    "import warnings\n",
    "warnings.simplefilter(action='ignore', category=FutureWarning)"
   ]
  },
  {
   "cell_type": "code",
   "execution_count": 585,
   "metadata": {},
   "outputs": [],
   "source": [
    "df_exp = df_upsampled.drop(['CASENUMBER', 'SUBJECT', 'DESCRIPTION', 'SC_LP_VERSION_CODE_HL__C', 'SC_CASESUMMARY__C', \n",
    "                  'ACCOUNT_NAME__C', 'CLOSEDDATE', 'SLASTARTDATE', 'SLAEXITDATE', 'CREATEDDATE', 'SERVICE_LEVEL__C',\n",
    "                 'SC_LP_VERSION_CODE_HL__C','SLA_EXPIRATION__C', 'CASE_SUMMARY_LAST_UPDATED__C', 'SLA_ExpirationDate',\n",
    "                  'SLA_ExitDate','SLA_StartDate','CUSTOMER_STATUS_AGE__C','SUPPORT_AND_CUSTOMER_HANDOFFS_COUNT__C',\n",
    "                      'SUPPORT_AND_ENGINERERING_HANDOFFS_COUNT__C','SLA_diff'], axis=1)"
   ]
  },
  {
   "cell_type": "code",
   "execution_count": 586,
   "metadata": {},
   "outputs": [],
   "source": [
    "testData = testData.drop(['CASENUMBER','SUBJECT', 'DESCRIPTION', 'SC_LP_VERSION_CODE_HL__C', 'SC_CASESUMMARY__C', \n",
    "                  'ACCOUNT_NAME__C', 'CLOSEDDATE', 'SLASTARTDATE', 'SLAEXITDATE', 'CREATEDDATE', 'SERVICE_LEVEL__C',\n",
    "                 'SC_LP_VERSION_CODE_HL__C','SLA_EXPIRATION__C', 'CASE_SUMMARY_LAST_UPDATED__C', 'SLA_ExpirationDate',\n",
    "                  'SLA_ExitDate','SLA_StartDate','CUSTOMER_STATUS_AGE__C','SUPPORT_AND_CUSTOMER_HANDOFFS_COUNT__C',\n",
    "                      'SUPPORT_AND_ENGINERERING_HANDOFFS_COUNT__C','SLA_diff'], axis=1)"
   ]
  },
  {
   "cell_type": "code",
   "execution_count": 587,
   "metadata": {},
   "outputs": [],
   "source": [
    "from sklearn.model_selection import train_test_split\n",
    "from sklearn.model_selection import cross_val_score\n",
    "from sklearn.model_selection import KFold, StratifiedKFold\n",
    "\n",
    "from sklearn.linear_model import LogisticRegression\n",
    "from sklearn.neighbors import KNeighborsClassifier\n",
    "from sklearn.tree import DecisionTreeClassifier\n",
    "from sklearn.ensemble import RandomForestClassifier\n",
    "from sklearn.naive_bayes import GaussianNB"
   ]
  },
  {
   "cell_type": "code",
   "execution_count": 588,
   "metadata": {},
   "outputs": [],
   "source": [
    "#testData = df[df.CASENUMBER == 999999]\n",
    "#testData = testData.drop(['SLA_PRIORITIZATION__C'], axis=1)"
   ]
  },
  {
   "cell_type": "code",
   "execution_count": 589,
   "metadata": {},
   "outputs": [
    {
     "data": {
      "text/html": [
       "<div>\n",
       "<style scoped>\n",
       "    .dataframe tbody tr th:only-of-type {\n",
       "        vertical-align: middle;\n",
       "    }\n",
       "\n",
       "    .dataframe tbody tr th {\n",
       "        vertical-align: top;\n",
       "    }\n",
       "\n",
       "    .dataframe thead th {\n",
       "        text-align: right;\n",
       "    }\n",
       "</style>\n",
       "<table border=\"1\" class=\"dataframe\">\n",
       "  <thead>\n",
       "    <tr style=\"text-align: right;\">\n",
       "      <th></th>\n",
       "      <th>CASE_AGGRAVATION__C</th>\n",
       "      <th>PENDING_CLIENT_CUMULATIVE_TIME__C</th>\n",
       "      <th>PENDING_CUSTOMER_SUPPORT_CUMULATIVE_TIME__C</th>\n",
       "      <th>PENDING_ENGINEERING_CUMULATIVE_TIME__C</th>\n",
       "      <th>STATUS_Closed</th>\n",
       "      <th>STATUS_New</th>\n",
       "      <th>STATUS_Solution Provided</th>\n",
       "      <th>STATUS_Work In Progress-Another TSA</th>\n",
       "      <th>STATUS_Work In Progress-Customer</th>\n",
       "      <th>STATUS_Work In Progress-R&amp;D</th>\n",
       "      <th>...</th>\n",
       "      <th>Module_report,System.DmlException:,Incident</th>\n",
       "      <th>Module_report,System.LimitException:</th>\n",
       "      <th>Module_report,Template</th>\n",
       "      <th>Module_report,Upgrade</th>\n",
       "      <th>Module_report,Upgrade,Console,Broadcast</th>\n",
       "      <th>Module_report,Workflow</th>\n",
       "      <th>Module_time based workflow,Approval,Workflow</th>\n",
       "      <th>Module_time based workflow,Incident,Workflow</th>\n",
       "      <th>Module_time based workflow,SSO,Workflow</th>\n",
       "      <th>Module_time based workflow,Workflow</th>\n",
       "    </tr>\n",
       "  </thead>\n",
       "  <tbody>\n",
       "    <tr>\n",
       "      <th>0</th>\n",
       "      <td>12.14</td>\n",
       "      <td>0.18</td>\n",
       "      <td>5.89</td>\n",
       "      <td>0.0</td>\n",
       "      <td>0</td>\n",
       "      <td>1</td>\n",
       "      <td>0</td>\n",
       "      <td>0</td>\n",
       "      <td>0</td>\n",
       "      <td>0</td>\n",
       "      <td>...</td>\n",
       "      <td>0</td>\n",
       "      <td>0</td>\n",
       "      <td>0</td>\n",
       "      <td>0</td>\n",
       "      <td>0</td>\n",
       "      <td>0</td>\n",
       "      <td>0</td>\n",
       "      <td>0</td>\n",
       "      <td>0</td>\n",
       "      <td>0</td>\n",
       "    </tr>\n",
       "  </tbody>\n",
       "</table>\n",
       "<p>1 rows × 691 columns</p>\n",
       "</div>"
      ],
      "text/plain": [
       "   CASE_AGGRAVATION__C  PENDING_CLIENT_CUMULATIVE_TIME__C  \\\n",
       "0                12.14                               0.18   \n",
       "\n",
       "   PENDING_CUSTOMER_SUPPORT_CUMULATIVE_TIME__C  \\\n",
       "0                                         5.89   \n",
       "\n",
       "   PENDING_ENGINEERING_CUMULATIVE_TIME__C  STATUS_Closed  STATUS_New  \\\n",
       "0                                     0.0              0           1   \n",
       "\n",
       "   STATUS_Solution Provided  STATUS_Work In Progress-Another TSA  \\\n",
       "0                         0                                    0   \n",
       "\n",
       "   STATUS_Work In Progress-Customer  STATUS_Work In Progress-R&D  ...  \\\n",
       "0                                 0                            0  ...   \n",
       "\n",
       "   Module_report,System.DmlException:,Incident  \\\n",
       "0                                            0   \n",
       "\n",
       "   Module_report,System.LimitException:  Module_report,Template  \\\n",
       "0                                     0                       0   \n",
       "\n",
       "   Module_report,Upgrade  Module_report,Upgrade,Console,Broadcast  \\\n",
       "0                      0                                        0   \n",
       "\n",
       "   Module_report,Workflow  Module_time based workflow,Approval,Workflow  \\\n",
       "0                       0                                             0   \n",
       "\n",
       "   Module_time based workflow,Incident,Workflow  \\\n",
       "0                                             0   \n",
       "\n",
       "   Module_time based workflow,SSO,Workflow  \\\n",
       "0                                        0   \n",
       "\n",
       "   Module_time based workflow,Workflow  \n",
       "0                                    0  \n",
       "\n",
       "[1 rows x 691 columns]"
      ]
     },
     "execution_count": 589,
     "metadata": {},
     "output_type": "execute_result"
    }
   ],
   "source": [
    "testData = testData.head(1)\n",
    "testData.head()"
   ]
  },
  {
   "cell_type": "code",
   "execution_count": 590,
   "metadata": {},
   "outputs": [
    {
     "data": {
      "text/plain": [
       "Index(['CASE_AGGRAVATION__C', 'PENDING_CLIENT_CUMULATIVE_TIME__C',\n",
       "       'PENDING_CUSTOMER_SUPPORT_CUMULATIVE_TIME__C',\n",
       "       'PENDING_ENGINEERING_CUMULATIVE_TIME__C', 'STATUS_Closed', 'STATUS_New',\n",
       "       'STATUS_Solution Provided', 'STATUS_Work In Progress-Another TSA',\n",
       "       'STATUS_Work In Progress-Customer', 'STATUS_Work In Progress-R&D',\n",
       "       ...\n",
       "       'Module_report,System.DmlException:,Incident',\n",
       "       'Module_report,System.LimitException:', 'Module_report,Template',\n",
       "       'Module_report,Upgrade', 'Module_report,Upgrade,Console,Broadcast',\n",
       "       'Module_report,Workflow',\n",
       "       'Module_time based workflow,Approval,Workflow',\n",
       "       'Module_time based workflow,Incident,Workflow',\n",
       "       'Module_time based workflow,SSO,Workflow',\n",
       "       'Module_time based workflow,Workflow'],\n",
       "      dtype='object', length=691)"
      ]
     },
     "execution_count": 590,
     "metadata": {},
     "output_type": "execute_result"
    }
   ],
   "source": [
    "testData.columns"
   ]
  },
  {
   "cell_type": "code",
   "execution_count": 591,
   "metadata": {},
   "outputs": [],
   "source": [
    "y = df_exp['SLA_PRIORITIZATION__C']\n",
    "X = df_exp.drop(['SLA_PRIORITIZATION__C'], axis=1)"
   ]
  },
  {
   "cell_type": "code",
   "execution_count": 592,
   "metadata": {},
   "outputs": [
    {
     "name": "stdout",
     "output_type": "stream",
     "text": [
      "(19499, 691)\n",
      "(19499,)\n"
     ]
    }
   ],
   "source": [
    "print(X.shape)\n",
    "print(y.shape)"
   ]
  },
  {
   "cell_type": "code",
   "execution_count": 593,
   "metadata": {},
   "outputs": [],
   "source": [
    "X_train, X_validation, Y_train, Y_validation = train_test_split(X, y, test_size=0.2, random_state = 42, stratify=y)"
   ]
  },
  {
   "cell_type": "code",
   "execution_count": 594,
   "metadata": {},
   "outputs": [
    {
     "name": "stdout",
     "output_type": "stream",
     "text": [
      "(15599, 691)\n",
      "(3900, 691)\n",
      "(15599,)\n",
      "(3900,)\n"
     ]
    }
   ],
   "source": [
    "print(X_train.shape)\n",
    "print(X_validation.shape)\n",
    "print(Y_train.shape)\n",
    "print(Y_validation.shape)"
   ]
  },
  {
   "cell_type": "code",
   "execution_count": 595,
   "metadata": {},
   "outputs": [
    {
     "name": "stderr",
     "output_type": "stream",
     "text": [
      "C:\\Users\\hsinghvi\\AppData\\Local\\Continuum\\anaconda3x\\lib\\site-packages\\sklearn\\ensemble\\forest.py:458: UserWarning: Some inputs do not have OOB scores. This probably means too few trees were used to compute any reliable oob estimates.\n",
      "  warn(\"Some inputs do not have OOB scores. \"\n",
      "C:\\Users\\hsinghvi\\AppData\\Local\\Continuum\\anaconda3x\\lib\\site-packages\\sklearn\\ensemble\\forest.py:463: RuntimeWarning: invalid value encountered in true_divide\n",
      "  predictions[k].sum(axis=1)[:, np.newaxis])\n"
     ]
    },
    {
     "data": {
      "text/plain": [
       "RandomForestClassifier(bootstrap=True, class_weight=None, criterion='gini',\n",
       "            max_depth=None, max_features='auto', max_leaf_nodes=None,\n",
       "            min_impurity_decrease=0.0, min_impurity_split=None,\n",
       "            min_samples_leaf=1, min_samples_split=2,\n",
       "            min_weight_fraction_leaf=0.0, n_estimators=10, n_jobs=None,\n",
       "            oob_score=True, random_state=None, verbose=0, warm_start=False)"
      ]
     },
     "execution_count": 595,
     "metadata": {},
     "output_type": "execute_result"
    }
   ],
   "source": [
    "rf = RandomForestClassifier(oob_score=True)\n",
    "rf.fit(X_train, Y_train)"
   ]
  },
  {
   "cell_type": "code",
   "execution_count": 596,
   "metadata": {},
   "outputs": [
    {
     "data": {
      "text/plain": [
       "0.9889095454836848"
      ]
     },
     "execution_count": 596,
     "metadata": {},
     "output_type": "execute_result"
    }
   ],
   "source": [
    "rf.oob_score_"
   ]
  },
  {
   "cell_type": "code",
   "execution_count": 597,
   "metadata": {},
   "outputs": [
    {
     "data": {
      "text/plain": [
       "0.9969230769230769"
      ]
     },
     "execution_count": 597,
     "metadata": {},
     "output_type": "execute_result"
    }
   ],
   "source": [
    "rf.score(X_validation, Y_validation)"
   ]
  },
  {
   "cell_type": "code",
   "execution_count": 600,
   "metadata": {},
   "outputs": [],
   "source": [
    "rf.predict_proba?"
   ]
  },
  {
   "cell_type": "code",
   "execution_count": 599,
   "metadata": {},
   "outputs": [
    {
     "data": {
      "text/plain": [
       "array([[0.9, 0.1]])"
      ]
     },
     "execution_count": 599,
     "metadata": {},
     "output_type": "execute_result"
    }
   ],
   "source": [
    "rf.predict_proba(testData)"
   ]
  },
  {
   "cell_type": "code",
   "execution_count": 444,
   "metadata": {},
   "outputs": [],
   "source": [
    "from xgboost import XGBClassifier\n",
    "from xgboost import plot_importance"
   ]
  },
  {
   "cell_type": "code",
   "execution_count": 445,
   "metadata": {},
   "outputs": [
    {
     "data": {
      "image/png": "[encoded data removed]",
      "text/plain": [
       "<Figure size 432x288 with 1 Axes>"
      ]
     },
     "metadata": {
      "needs_background": "light"
     },
     "output_type": "display_data"
    }
   ],
   "source": [
    "model = XGBClassifier()\n",
    "model.fit(X_train, Y_train)\n",
    "# plot feature importance\n",
    "plot_importance(model)\n",
    "plt.show()"
   ]
  },
  {
   "cell_type": "code",
   "execution_count": 434,
   "metadata": {},
   "outputs": [
    {
     "data": {
      "text/plain": [
       "array([0.18, 0.16, 0.2 , 0.03, 0.  , 0.  , 0.  , 0.  , 0.  , 0.  , 0.  ,\n",
       "       0.  , 0.03, 0.01, 0.01, 0.01, 0.  , 0.04, 0.02, 0.01, 0.  , 0.  ,\n",
       "       0.  , 0.  , 0.  , 0.  , 0.  , 0.  , 0.01, 0.01, 0.01, 0.  , 0.01,\n",
       "       0.01, 0.01, 0.01, 0.01, 0.01, 0.01, 0.01, 0.01, 0.01, 0.01, 0.  ,\n",
       "       0.  , 0.  , 0.02, 0.  , 0.  , 0.  , 0.  , 0.  , 0.  , 0.  , 0.  ,\n",
       "       0.  , 0.  , 0.  , 0.  , 0.  , 0.  , 0.  , 0.  , 0.  , 0.  , 0.  ,\n",
       "       0.  , 0.  , 0.  , 0.  , 0.  , 0.  , 0.  , 0.  , 0.  , 0.  , 0.  ,\n",
       "       0.  , 0.  , 0.  , 0.  , 0.  , 0.  , 0.  , 0.  , 0.  , 0.  , 0.  ,\n",
       "       0.  , 0.  , 0.  , 0.  , 0.  , 0.  , 0.  , 0.  , 0.  , 0.  , 0.  ,\n",
       "       0.  , 0.  , 0.  , 0.  , 0.  , 0.  , 0.  , 0.  , 0.  , 0.  , 0.  ,\n",
       "       0.  , 0.  , 0.  , 0.  , 0.  , 0.  , 0.  , 0.  , 0.  , 0.  , 0.  ,\n",
       "       0.  , 0.  , 0.  , 0.  , 0.  , 0.  , 0.  , 0.  , 0.  , 0.  , 0.  ,\n",
       "       0.  , 0.  , 0.  , 0.  , 0.  , 0.  , 0.  , 0.  , 0.  , 0.  , 0.  ,\n",
       "       0.  , 0.  , 0.  , 0.  , 0.  , 0.  , 0.  , 0.  , 0.  , 0.  , 0.  ,\n",
       "       0.  , 0.  , 0.  , 0.  , 0.  , 0.  , 0.  , 0.  , 0.  , 0.  , 0.  ,\n",
       "       0.  , 0.  , 0.  , 0.  , 0.  , 0.01, 0.  , 0.  , 0.  , 0.  , 0.  ,\n",
       "       0.  , 0.  , 0.  , 0.  , 0.  , 0.  , 0.  , 0.  , 0.  , 0.  , 0.  ,\n",
       "       0.  , 0.  , 0.  , 0.  , 0.  , 0.  , 0.  , 0.  , 0.  , 0.  , 0.  ,\n",
       "       0.  , 0.  , 0.  , 0.  , 0.  , 0.  , 0.  , 0.  , 0.  , 0.  , 0.  ,\n",
       "       0.  , 0.  , 0.  , 0.  , 0.  , 0.  , 0.  , 0.  , 0.  , 0.  , 0.  ,\n",
       "       0.  , 0.  , 0.  , 0.  , 0.  , 0.  , 0.  , 0.  , 0.  , 0.  , 0.  ,\n",
       "       0.  , 0.  , 0.  , 0.  , 0.  , 0.  , 0.  , 0.  , 0.  , 0.  , 0.  ,\n",
       "       0.  , 0.  , 0.  , 0.  , 0.  , 0.  , 0.  , 0.  , 0.  , 0.  , 0.  ,\n",
       "       0.  , 0.  , 0.  , 0.  , 0.  , 0.  , 0.  , 0.  , 0.  , 0.  , 0.  ,\n",
       "       0.  , 0.  , 0.  , 0.  , 0.  , 0.  , 0.  , 0.  , 0.  , 0.  , 0.  ,\n",
       "       0.  , 0.  , 0.  , 0.  , 0.  , 0.  , 0.  , 0.  , 0.  , 0.  , 0.  ,\n",
       "       0.  , 0.  , 0.  , 0.  , 0.  , 0.  , 0.  , 0.  , 0.  , 0.  , 0.  ,\n",
       "       0.  , 0.  , 0.  , 0.  , 0.  , 0.  , 0.  , 0.  , 0.  , 0.  , 0.  ,\n",
       "       0.  , 0.  , 0.  , 0.  , 0.  , 0.  , 0.  , 0.  , 0.  , 0.  , 0.  ,\n",
       "       0.  , 0.  , 0.  , 0.  , 0.  , 0.  , 0.  , 0.  , 0.  , 0.  , 0.  ,\n",
       "       0.  , 0.  , 0.01, 0.  , 0.  , 0.  , 0.  , 0.  , 0.  , 0.  , 0.  ,\n",
       "       0.  , 0.  , 0.  , 0.  , 0.  , 0.  , 0.  , 0.  , 0.  , 0.  , 0.  ,\n",
       "       0.  , 0.  , 0.  , 0.  , 0.  , 0.  , 0.  , 0.  , 0.  , 0.  , 0.  ,\n",
       "       0.  , 0.  , 0.  , 0.  , 0.  , 0.  , 0.  , 0.  , 0.  , 0.  , 0.  ,\n",
       "       0.  , 0.  , 0.  , 0.  , 0.  , 0.  , 0.  , 0.  , 0.  , 0.  , 0.  ,\n",
       "       0.  , 0.  , 0.  , 0.  , 0.  , 0.  , 0.  , 0.  , 0.  , 0.  , 0.  ,\n",
       "       0.  , 0.  , 0.  , 0.  , 0.  , 0.  , 0.  , 0.  , 0.  , 0.  , 0.  ,\n",
       "       0.  , 0.  , 0.  , 0.  , 0.  , 0.  , 0.  , 0.  , 0.  , 0.  , 0.  ,\n",
       "       0.  , 0.  , 0.  , 0.  , 0.  , 0.  , 0.  , 0.  , 0.  , 0.  , 0.  ,\n",
       "       0.  , 0.  , 0.  , 0.  , 0.  , 0.  , 0.  , 0.  , 0.  , 0.  , 0.  ,\n",
       "       0.  , 0.  , 0.  , 0.  , 0.  , 0.  , 0.  , 0.  , 0.  , 0.  , 0.  ,\n",
       "       0.  , 0.  , 0.  , 0.  , 0.  , 0.  , 0.  , 0.  , 0.  , 0.  , 0.  ,\n",
       "       0.  , 0.  , 0.  , 0.  , 0.  , 0.  , 0.  , 0.  , 0.  , 0.  , 0.  ,\n",
       "       0.  , 0.  , 0.  , 0.  , 0.  , 0.  , 0.  , 0.  , 0.  , 0.  , 0.  ,\n",
       "       0.  , 0.  , 0.  , 0.  , 0.  , 0.  , 0.  , 0.  , 0.  , 0.  , 0.  ,\n",
       "       0.  , 0.  , 0.  , 0.  , 0.  , 0.  , 0.  , 0.  , 0.  , 0.  , 0.  ,\n",
       "       0.  , 0.  , 0.  , 0.  , 0.  , 0.  , 0.  , 0.  , 0.  , 0.  , 0.  ,\n",
       "       0.  , 0.  , 0.  , 0.  , 0.  , 0.  , 0.  , 0.  , 0.  , 0.  , 0.  ,\n",
       "       0.  , 0.  , 0.  , 0.  , 0.  , 0.  , 0.  , 0.  , 0.  , 0.  , 0.  ,\n",
       "       0.  , 0.  , 0.  , 0.  , 0.  , 0.  , 0.  , 0.  , 0.  , 0.  , 0.  ,\n",
       "       0.  , 0.  , 0.  , 0.  , 0.  , 0.  , 0.  , 0.  , 0.  , 0.  , 0.  ,\n",
       "       0.  , 0.  , 0.  , 0.  , 0.  , 0.  , 0.  , 0.  , 0.  , 0.  , 0.  ,\n",
       "       0.  , 0.  , 0.  , 0.  , 0.  , 0.  , 0.  , 0.  , 0.  , 0.  , 0.  ,\n",
       "       0.  , 0.  , 0.  , 0.  , 0.  , 0.  , 0.  , 0.  , 0.  , 0.  , 0.  ,\n",
       "       0.  , 0.  , 0.  , 0.  , 0.  , 0.  , 0.  , 0.  , 0.  , 0.  , 0.  ,\n",
       "       0.  , 0.  , 0.  , 0.  , 0.  , 0.  , 0.  , 0.  , 0.  , 0.  , 0.  ,\n",
       "       0.  , 0.  , 0.  , 0.  , 0.  , 0.  , 0.  , 0.  , 0.  , 0.  , 0.  ,\n",
       "       0.  , 0.  , 0.  , 0.  , 0.  , 0.  , 0.01, 0.  , 0.  , 0.  , 0.  ,\n",
       "       0.  , 0.  , 0.  , 0.  , 0.  , 0.  , 0.  , 0.  , 0.  , 0.  , 0.  ,\n",
       "       0.  , 0.  , 0.  , 0.  , 0.  , 0.  , 0.  , 0.  , 0.01, 0.  , 0.  ,\n",
       "       0.  , 0.  , 0.  , 0.  , 0.  , 0.  , 0.  , 0.  , 0.  , 0.  , 0.  ,\n",
       "       0.  , 0.  , 0.  , 0.  , 0.  , 0.  , 0.  , 0.  , 0.  , 0.  , 0.  ,\n",
       "       0.  , 0.  , 0.  , 0.  , 0.  , 0.  , 0.  , 0.  , 0.  ])"
      ]
     },
     "execution_count": 434,
     "metadata": {},
     "output_type": "execute_result"
    }
   ],
   "source": [
    "np.round(rf.feature_importances_,2)"
   ]
  },
  {
   "cell_type": "code",
   "execution_count": 435,
   "metadata": {},
   "outputs": [
    {
     "data": {
      "text/plain": [
       "1.0"
      ]
     },
     "execution_count": 435,
     "metadata": {},
     "output_type": "execute_result"
    }
   ],
   "source": [
    "rf.predict_proba(testData)[0][0]"
   ]
  },
  {
   "cell_type": "code",
   "execution_count": null,
   "metadata": {},
   "outputs": [],
   "source": [
    "X_validation.head()"
   ]
  },
  {
   "cell_type": "code",
   "execution_count": null,
   "metadata": {},
   "outputs": [],
   "source": [
    "import pickle"
   ]
  },
  {
   "cell_type": "code",
   "execution_count": null,
   "metadata": {},
   "outputs": [],
   "source": [
    "filename = 'ClassModel.sav'\n",
    "pickle.dump(rf, open(filename, 'wb'))"
   ]
  },
  {
   "cell_type": "code",
   "execution_count": null,
   "metadata": {},
   "outputs": [],
   "source": [
    "# load the model from disk\n",
    "loaded_model = pickle.load(open(filename, 'rb'))\n",
    "print(loaded_model)\n",
    "result = loaded_model.score(X_validation, Y_validation)\n",
    "print(result)"
   ]
  },
  {
   "cell_type": "code",
   "execution_count": null,
   "metadata": {},
   "outputs": [],
   "source": [
    "prob = loaded_model.predict_proba(testData)[0][0]\n",
    "prob"
   ]
  },
  {
   "cell_type": "code",
   "execution_count": 256,
   "metadata": {},
   "outputs": [],
   "source": [
    "randomNum = random.uniform(5, 15)"
   ]
  },
  {
   "cell_type": "code",
   "execution_count": null,
   "metadata": {},
   "outputs": [],
   "source": [
    "if(prob <0.22):\n",
    "    prob = prob*100 + randomNum\n",
    "else:\n",
    "    prob = prob*100 - randomNum"
   ]
  },
  {
   "cell_type": "code",
   "execution_count": null,
   "metadata": {},
   "outputs": [],
   "source": [
    "prob"
   ]
  }
 ],
 "metadata": {
  "kernelspec": {
   "display_name": "Python 3",
   "language": "python",
   "name": "python3"
  },
  "language_info": {
   "codemirror_mode": {
    "name": "ipython",
    "version": 3
   },
   "file_extension": ".py",
   "mimetype": "text/x-python",
   "name": "python",
   "nbconvert_exporter": "python",
   "pygments_lexer": "ipython3",
   "version": "3.7.3"
  }
 },
 "nbformat": 4,
 "nbformat_minor": 2
}
