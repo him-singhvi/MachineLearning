{
 "cells": [
  {
   "cell_type": "markdown",
   "metadata": {},
   "source": [
    "# Importing Libraries"
   ]
  },
  {
   "cell_type": "code",
   "execution_count": null,
   "metadata": {},
   "outputs": [],
   "source": [
    "import pandas as pd\n",
    "import numpy as np\n",
    "import seaborn as sns\n",
    "import matplotlib.pyplot as plt\n",
    "#from sklearn.preprocessing import Imputer\n",
    "from sklearn.impute import SimpleImputer\n",
    "from sklearn.feature_selection import VarianceThreshold\n",
    "from collections import Counter\n",
    "%matplotlib inline\n",
    "\n",
    "from sklearn.linear_model import LogisticRegression\n",
    "from sklearn.model_selection import train_test_split\n",
    "from sklearn.utils import resample\n",
    "from sklearn.preprocessing import StandardScaler\n",
    "from sklearn.linear_model import LogisticRegression\n",
    "from sklearn.metrics import classification_report, confusion_matrix\n",
    "from sklearn.metrics import f1_score\n",
    "from sklearn.ensemble import RandomForestClassifier\n",
    "from sklearn.svm import LinearSVC\n",
    "from xgboost import XGBClassifier\n",
    "\n",
    "import warnings\n",
    "warnings.filterwarnings('ignore')"
   ]
  },
  {
   "cell_type": "markdown",
   "metadata": {},
   "source": [
    "# Useful user defined functions"
   ]
  },
  {
   "cell_type": "code",
   "execution_count": null,
   "metadata": {},
   "outputs": [],
   "source": [
    "# This function gives the percentage of null values in every column if null values exists \n",
    "# and also returns a list of columns which has null values\n",
    "\n",
    "def null_value_check(train):\n",
    "    missing = []\n",
    "\n",
    "    for columns in train.columns:\n",
    "        missing_count = train[train[columns] == -1][columns].count()\n",
    "        if missing_count > 0:\n",
    "            missing.append(columns)\n",
    "            missings_perc = missing_count*100/train.shape[0]\n",
    "\n",
    "            print('Variable %s has %i missing with %f percentage'%(columns, missing_count, missings_perc))\n",
    "\n",
    "    print('\\nIn total, there are {} variables with missing values'.format(len(missing)))\n",
    "    return missing"
   ]
  },
  {
   "cell_type": "code",
   "execution_count": null,
   "metadata": {},
   "outputs": [],
   "source": [
    "# This function gives the number of outliers in the columns \n",
    "# and also returns the columns with outliers\n",
    "\n",
    "def detect_outlier(df):\n",
    "    features = df.columns\n",
    "    outliers  = []\n",
    "    for i, feature in enumerate(features):\n",
    "        if df[feature].dtype == 'float64':\n",
    "            # Calculate Q1 (25th percentile of the data) for the given feature\n",
    "            Q1 = np.percentile(df[feature], 25)\n",
    "            # Calculate Q3 (75th percentile of the data) for the given feature\n",
    "            Q3 = np.percentile(df[feature], 75)\n",
    "            # Use the interquartile range to calculate an outlier step\n",
    "            step = 1.5 * (Q3 - Q1)\n",
    "            feature_outliers = df[~((df[feature] >= Q1 - step) & (df[feature] <= Q3 + step))]\n",
    "            outliers.extend(list(feature_outliers.index.values))\n",
    "            print('Feature: {}, outliers: {}\\n'.format(feature, len(feature_outliers.index)))\n",
    "    \n",
    "    multi_feature_outliers = (Counter(outliers) - Counter(set(outliers))).keys()\n",
    "    return multi_feature_outliers"
   ]
  },
  {
   "cell_type": "code",
   "execution_count": null,
   "metadata": {},
   "outputs": [],
   "source": [
    "# This function is used to handle imbalanced dataset. It upsamples the minority class and downsamples the majority classz\n",
    "\n",
    "def up_and_down_sampling(df_train_temp,minority_class_percent):\n",
    "    #Downsampling\n",
    "    \n",
    "    df_majority = df_train_temp[df_train_temp.target==0]\n",
    "    df_minority = df_train_temp[df_train_temp.target==1]\n",
    "    df_rows = df_train_temp.shape[0]\n",
    "    n_samples=int(df_rows*((100 - minority_class_percent)/100))\n",
    "    # Downsample majority class\n",
    "    df_majority_undersampled = resample(df_majority, \n",
    "                                     replace=True,     # sample with replacement\n",
    "                                     n_samples=n_samples,  # number of samples we want for majority variable\n",
    "                                     random_state=123) # reproducible results\n",
    "\n",
    "    # Combine minority class with Downsampled df\n",
    "    df_undersampled = pd.concat([df_majority_undersampled, df_minority])\n",
    "\n",
    "    # Display new class counts\n",
    "    print(\"Target value counts after downsampling: \\n\" , df_undersampled.target.value_counts())\n",
    "    \n",
    "\n",
    "    #Upsampling\n",
    "\n",
    "    df_majority = df_undersampled[df_undersampled.target==0]\n",
    "    df_rows = df_train_temp.shape[0]\n",
    "    n_samples=int(df_rows*(minority_class_percent/100))\n",
    "    # Upsample minority class\n",
    "    df_minority_upsampled = resample(df_minority, \n",
    "                                     replace=True,     # sample with replacement\n",
    "                                     n_samples=n_samples, # number of samples we want for minority variable\n",
    "                                     random_state=123) # reproducible results\n",
    "\n",
    "    # Combine majority values with upsampled minority df\n",
    "    df_upsampled = pd.concat([df_majority, df_minority_upsampled])\n",
    "\n",
    "    # Display new class counts\n",
    "    print(\"\\nTarget value counts after upsampling: \\n\" , df_upsampled.target.value_counts())\n",
    "    \n",
    "    \n",
    "    return df_upsampled"
   ]
  },
  {
   "cell_type": "markdown",
   "metadata": {},
   "source": [
    "# Loading the dataset from train.CSV file"
   ]
  },
  {
   "cell_type": "code",
   "execution_count": null,
   "metadata": {},
   "outputs": [],
   "source": [
    "train = pd.read_csv('train(1).csv')"
   ]
  },
  {
   "cell_type": "markdown",
   "metadata": {},
   "source": [
    "# Data Summary"
   ]
  },
  {
   "cell_type": "markdown",
   "metadata": {},
   "source": [
    "### 1.\tWrite at least 3 important inferences from the data above "
   ]
  },
  {
   "cell_type": "markdown",
   "metadata": {},
   "source": [
    "•\tTarget column is imbalanced\n",
    "\n",
    "•\t4 types of columns\n",
    "\n",
    "•\tOutliers\n",
    "\n",
    "•\tNull values\n",
    "\n",
    "•\t6 variables have too low variance."
   ]
  },
  {
   "cell_type": "code",
   "execution_count": null,
   "metadata": {},
   "outputs": [],
   "source": [
    "print(\"• The dataset has \" + str(train.shape[0]) + \" rows and \" + str(train.shape[1]) + \" columns\")"
   ]
  },
  {
   "cell_type": "markdown",
   "metadata": {},
   "source": [
    "## MetaData DataFrame for Reference"
   ]
  },
  {
   "cell_type": "code",
   "execution_count": null,
   "metadata": {},
   "outputs": [],
   "source": [
    "#Creating Metadata DataFrame so that it will be easy to handle and manipulate data during data exploration steps\n",
    "\n",
    "#role: input, ID, target\n",
    "#level: nominal, interval, ordinal, binary\n",
    "#keep: True or False\n",
    "#dtype: int, float, str\n",
    "\n",
    "MetaData = pd.DataFrame(columns=['variable','role', 'level', 'keep', 'dtype'])\n",
    "data =[]\n",
    "for columns in train.columns:\n",
    "    \n",
    "    #Defining Role\n",
    "    \n",
    "    if columns == 'id':\n",
    "        role = 'id'\n",
    "    elif columns == 'target':\n",
    "        role = 'target'\n",
    "    else:\n",
    "        role = 'input'\n",
    "        \n",
    "    #Defining DataTypes\n",
    "    \n",
    "    dtype = train[columns].dtype\n",
    "    \n",
    "    #Defining keep\n",
    "    \n",
    "    keep = True\n",
    "    \n",
    "    #Defining Level\n",
    "    \n",
    "    if columns[-3:] == 'bin' or columns == 'target':\n",
    "        level = 'binary'\n",
    "    elif columns[-3:] == 'cat' or columns == 'id':\n",
    "        level = 'categorical' \n",
    "    elif train[columns].dtype == float:\n",
    "        level = 'interval'\n",
    "    elif train[columns].dtype == np.int64:\n",
    "        level = 'ordinal'\n",
    "        \n",
    "        \n",
    "    f_dict = {\n",
    "        'variable' : columns,\n",
    "        'role': role,\n",
    "        'level': level,\n",
    "        'keep': keep,\n",
    "        'dtype': dtype\n",
    "    }\n",
    "    \n",
    "    data.append(f_dict)\n",
    "\n",
    "MetaData = MetaData.append(data)"
   ]
  },
  {
   "cell_type": "markdown",
   "metadata": {},
   "source": [
    "### 2.\tIs the data balanced? Meaning are targets 0 and 1 in the right proportion? "
   ]
  },
  {
   "cell_type": "code",
   "execution_count": null,
   "metadata": {},
   "outputs": [],
   "source": [
    "#Count of target variable.\n",
    "\n",
    "sns.countplot(train.target)\n",
    "train.groupby('target')['target'].count()"
   ]
  },
  {
   "attachments": {
    "image.png": {
     "image/png": "[encoded data removed]"
    }
   },
   "cell_type": "markdown",
   "metadata": {},
   "source": [
    "![image.png](attachment:image.png)\n",
    "\n",
    "Data is highly imbalance with only ~3% of data belongs to minority (which is 1 in target) class. Need to do upscaling/down sampling after train-test split of data to get the desired results\n"
   ]
  },
  {
   "cell_type": "code",
   "execution_count": null,
   "metadata": {},
   "outputs": [],
   "source": [
    "#Checking the Distribution of variables across levels\n",
    "\n",
    "MetaData.groupby('level')[['variable']].count()"
   ]
  },
  {
   "cell_type": "markdown",
   "metadata": {},
   "source": [
    "### 3.\tHow many categorical features are there? "
   ]
  },
  {
   "cell_type": "markdown",
   "metadata": {},
   "source": [
    "15 Categorical features are there."
   ]
  },
  {
   "cell_type": "markdown",
   "metadata": {},
   "source": [
    "### 4.\tHow many binary features are there? "
   ]
  },
  {
   "cell_type": "markdown",
   "metadata": {},
   "source": [
    "18 Binary features are there."
   ]
  },
  {
   "cell_type": "markdown",
   "metadata": {},
   "source": [
    "## Missing Values"
   ]
  },
  {
   "cell_type": "code",
   "execution_count": null,
   "metadata": {},
   "outputs": [],
   "source": [
    "missing = null_value_check(train)"
   ]
  },
  {
   "cell_type": "markdown",
   "metadata": {},
   "source": [
    "### 11.\tWhich are the top two features in terms of missing values? "
   ]
  },
  {
   "cell_type": "markdown",
   "metadata": {},
   "source": [
    "ps_car_03_cat, ps_car_05_cat have high percentage of missing values."
   ]
  },
  {
   "cell_type": "markdown",
   "metadata": {},
   "source": [
    "### 12.\tIn total, how many features have missing values? "
   ]
  },
  {
   "cell_type": "markdown",
   "metadata": {},
   "source": [
    "In total, there are 12 variables with missing values"
   ]
  },
  {
   "cell_type": "code",
   "execution_count": null,
   "metadata": {},
   "outputs": [],
   "source": [
    "MetaData.loc[MetaData['variable'] == 'ps_car_03_cat', 'keep'] = False\n",
    "MetaData.loc[MetaData['variable'] == 'ps_car_05_cat', 'keep'] = False"
   ]
  },
  {
   "cell_type": "code",
   "execution_count": null,
   "metadata": {},
   "outputs": [],
   "source": [
    "#Removing variables that has high missing value count i.e ps_car_03_cat and ps_car_05_cat\n",
    "\n",
    "train1 = train.drop(['ps_car_03_cat', 'ps_car_05_cat'], axis = 1)"
   ]
  },
  {
   "cell_type": "code",
   "execution_count": null,
   "metadata": {},
   "outputs": [],
   "source": [
    "vars_to_drop = ['ps_car_03_cat', 'ps_car_05_cat']\n",
    "\n",
    "# Imputing with the mean for non categorical variables\n",
    "\n",
    "mean_imp = SimpleImputer(missing_values=-1, strategy='mean')\n",
    "mode_imp = SimpleImputer(missing_values=-1, strategy='most_frequent')\n",
    "train1['ps_reg_03'] = mean_imp.fit_transform(train1[['ps_reg_03']]).ravel()\n",
    "train1['ps_car_12'] = mode_imp.fit_transform(train1[['ps_car_12']]).ravel()\n",
    "train1['ps_car_14'] = mean_imp.fit_transform(train1[['ps_car_14']]).ravel()\n",
    "train1['ps_car_11'] = mode_imp.fit_transform(train1[['ps_car_11']]).ravel()\n",
    "\n",
    "#Imputing missing values in categorical variables by their Mode\n",
    "\n",
    "filtered_missing = [ i for i in missing if not i in vars_to_drop]\n",
    "\n",
    "for columns in filtered_missing:\n",
    "    train1.loc[train1[columns] == -1, columns] = train1[columns].mode()[0]"
   ]
  },
  {
   "cell_type": "markdown",
   "metadata": {},
   "source": [
    "### 13.\tWhat steps should be taken to handle the missing data? "
   ]
  },
  {
   "cell_type": "markdown",
   "metadata": {},
   "source": [
    "We can remove variable ps_car_03_cat, ps_car_05_cat as they have high percentage of missing values. For other variables, we can do missing value treatment by substituting mean and mode.\n",
    "Missing values in Categorical variables can be replaced by the mode value in that variable."
   ]
  },
  {
   "cell_type": "code",
   "execution_count": null,
   "metadata": {},
   "outputs": [],
   "source": [
    "#Checking missing values in the data, if any.\n",
    "null_value_check(train1)"
   ]
  },
  {
   "cell_type": "code",
   "execution_count": null,
   "metadata": {},
   "outputs": [],
   "source": [
    "print(\"Shape of before null values check: \", train.shape)\n",
    "print('\\nShape of after null values check: ', train1.shape)"
   ]
  },
  {
   "cell_type": "markdown",
   "metadata": {},
   "source": [
    "## Correlation"
   ]
  },
  {
   "cell_type": "code",
   "execution_count": null,
   "metadata": {
    "scrolled": false
   },
   "outputs": [],
   "source": [
    "#Correlation between different types of variables\n",
    "#Creating list of interval, categorical, binary and ordinal variables\n",
    "\n",
    "for variable in MetaData.variable:\n",
    "    IntervalVar = MetaData[MetaData.level=='interval']['variable']\n",
    "    CategoricalVar = MetaData[MetaData.level=='categorical']['variable']\n",
    "    BinaryVar = MetaData[MetaData.level=='binary']['variable']\n",
    "    OrdinalVar = MetaData[MetaData.level=='ordinal']['variable']\n",
    "    \n",
    "all_variables = [IntervalVar, CategoricalVar, BinaryVar, OrdinalVar]\n",
    "\n",
    "for x in all_variables:\n",
    "    fig, ax = plt.subplots(figsize=(20,10))\n",
    "    sns.heatmap(train[x].corr(), annot=True)"
   ]
  },
  {
   "cell_type": "markdown",
   "metadata": {},
   "source": [
    "### 14.\tWhich interval variables have strong correlation? "
   ]
  },
  {
   "cell_type": "markdown",
   "metadata": {},
   "source": [
    "Interval Variables: We can see the following variables are highly correlated \n",
    "ps_reg_01\n",
    "ps_reg_02\n",
    "ps_reg_03\n",
    "ps_reg_12\n",
    "ps_reg_13\n",
    "ps_reg_15"
   ]
  },
  {
   "cell_type": "markdown",
   "metadata": {},
   "source": [
    "### 15.\tWhat's the level of correlation among ordinal features? "
   ]
  },
  {
   "cell_type": "markdown",
   "metadata": {},
   "source": [
    "Ordinal Variables: Very few are correlated to each other(negligible)"
   ]
  },
  {
   "cell_type": "code",
   "execution_count": null,
   "metadata": {},
   "outputs": [],
   "source": [
    "# Now working for correlation in \"IND\"\n",
    "\n",
    "ind_col = [w for w in train1.columns if 'ind' in w]\n",
    "\n",
    "fig, ax = plt.subplots(figsize=(15,10))  \n",
    "sns.heatmap(train1[ind_col].corr(), annot= True)"
   ]
  },
  {
   "cell_type": "code",
   "execution_count": null,
   "metadata": {},
   "outputs": [],
   "source": [
    "# PS_ind_06_bin and PS_ind_07_bin high correlation - so we drop PS_ind_06_bin\n",
    "# ps_ind_16_bin corr with ps_ind_17_bin and ps_ind_18_bin so we drop ps_ind_16_bin\n",
    "train2 = train1.drop([\"ps_ind_06_bin\", \"ps_ind_16_bin\"], axis = 1)"
   ]
  },
  {
   "cell_type": "code",
   "execution_count": null,
   "metadata": {},
   "outputs": [],
   "source": [
    "#Checking correlation of 'car' variables\n",
    "car_col = [w for w in train2.columns if 'car' in w]\n",
    "fig, ax = plt.subplots(figsize=(15,10))  \n",
    "sns.heatmap(train2[car_col].corr() > 0.5, annot= True)"
   ]
  },
  {
   "cell_type": "code",
   "execution_count": null,
   "metadata": {},
   "outputs": [],
   "source": [
    "#Droping variable 'ps_car_15' as it is highly correlated with the variable 'ps_car_13' and checking the shape of resulting\n",
    "#dataframe\n",
    "\n",
    "train3 = train2.drop([\"ps_car_15\"], axis = 1)"
   ]
  },
  {
   "cell_type": "code",
   "execution_count": null,
   "metadata": {},
   "outputs": [],
   "source": [
    "#Removing calculated variables since there correlation with target variable is non significant\n",
    "\n",
    "column_excluding_calc  = [w for w in train3.columns if \"calc\" not in w]\n",
    "train4 = train3[column_excluding_calc]"
   ]
  },
  {
   "cell_type": "code",
   "execution_count": null,
   "metadata": {},
   "outputs": [],
   "source": [
    "#checking correlation of \"REG\" variables\n",
    "\n",
    "reg_col = [w for w in train4.columns if 'reg' in w]\n",
    "fig, ax = plt.subplots(figsize=(8,5))  \n",
    "sns.heatmap(train4[reg_col].corr(), annot= True)\n",
    "\n",
    "#Reg variable seems to somewhat related\n",
    "#Creating interaction variables for 'reg' variables since they are highly correlated\n",
    "#Taking sum of ps_reg_01,ps_reg_03 and ps_reg_02\n",
    "#Droping variables 'ps_reg_01 and ps_reg02"
   ]
  },
  {
   "cell_type": "code",
   "execution_count": null,
   "metadata": {},
   "outputs": [],
   "source": [
    "print(\"Number of columns before correlation check: \", train1.shape[1])\n",
    "print('\\nNumber of columns after correlation check: ', train4.shape[1])"
   ]
  },
  {
   "cell_type": "markdown",
   "metadata": {},
   "source": [
    "## Outliers"
   ]
  },
  {
   "cell_type": "code",
   "execution_count": null,
   "metadata": {},
   "outputs": [],
   "source": [
    "outliers  = detect_outlier(train4.drop(['id', 'target'], axis = 1))"
   ]
  },
  {
   "cell_type": "code",
   "execution_count": null,
   "metadata": {},
   "outputs": [],
   "source": [
    "#Removing outliers from the dataframe\n",
    "\n",
    "train5 = train4.drop(train4.index[list(outliers)]).reset_index(drop = True)\n",
    "\n",
    "print('Number of outliers in more than one feature: {}'.format(len(outliers)))\n",
    "print('Shape of old data: {}'.format(train4.shape))\n",
    "print('Shape of new data: {}'.format(train5.shape))"
   ]
  },
  {
   "cell_type": "markdown",
   "metadata": {},
   "source": [
    "## Variance"
   ]
  },
  {
   "cell_type": "code",
   "execution_count": null,
   "metadata": {},
   "outputs": [],
   "source": [
    "#Removing low variance variables from the dataframe\n",
    "\n",
    "#Checking the number of low variance variables in the data using VarianceThreshold from sklearn feature_selection \n",
    "\n",
    "\n",
    "selector = VarianceThreshold(threshold=.01)\n",
    "selector.fit(train5.drop(['id', 'target'], axis=1)) # Fit to train without id and target variables\n",
    "\n",
    "f = np.vectorize(lambda x : not x) # Function to toggle boolean array elements\n",
    "\n",
    "v = train5.drop(['id', 'target'], axis=1).columns[f(selector.get_support())]\n",
    "print('{} variables have too low variance.'.format(len(v)))\n",
    "print('\\nThese variables are {}'.format(list(v)))"
   ]
  },
  {
   "cell_type": "markdown",
   "metadata": {},
   "source": [
    "## Feature engineering"
   ]
  },
  {
   "cell_type": "code",
   "execution_count": null,
   "metadata": {},
   "outputs": [],
   "source": [
    "#Dropping the low variance variables from the data and checking the shape of the final dataframe\n",
    "\n",
    "train6 = train5.drop(list(v), axis = 1)\n",
    "print('\\nShape of df before removal of low variance rows: ',train5.shape)\n",
    "print('Shape of df after removal of low variance rows: ',train6.shape)"
   ]
  },
  {
   "cell_type": "code",
   "execution_count": null,
   "metadata": {},
   "outputs": [],
   "source": [
    "#Creating interaction variables for 'reg' variables since they are highly correlated\n",
    "#Taking sum of reg variable\n",
    "\n",
    "train6[\"sum_reg\"] = train6[\"ps_reg_01\"] + train6[\"ps_reg_02\"] + train6[\"ps_reg_03\"]\n",
    "\n",
    "#Droping variables 'ps_reg_01 and ps_reg02\n",
    "\n",
    "train7 = train6.drop([\"ps_reg_01\", \"ps_reg_02\"], axis = 1)"
   ]
  },
  {
   "cell_type": "markdown",
   "metadata": {},
   "source": [
    "### 5.\tWrite inferences from data on interval variables. "
   ]
  },
  {
   "cell_type": "markdown",
   "metadata": {},
   "source": [
    "•\tVariable “ps_reg_03” has 107772 missing values with 18.106490 percentage.\n",
    "\n",
    "•\tWe can see some of the variables are highly correlated like - ps_reg_01, ps_reg_02, ps_reg_03\n",
    "\n",
    "•\t“ps_car_12” has very low variance.\n",
    "\n",
    "•\tFeatures ps_reg_02, ps_reg_03, ps_car_12, ps_car_13, ps_car_14 and ps_car_15 have outliers."
   ]
  },
  {
   "cell_type": "markdown",
   "metadata": {},
   "source": [
    "### 6.\tWrite inferences from data on ordinal variables. "
   ]
  },
  {
   "cell_type": "markdown",
   "metadata": {},
   "source": [
    "•\tNo null values in ordinal variables.\n",
    "\n",
    "•\tVery few are correlated to each other(negligible)"
   ]
  },
  {
   "cell_type": "markdown",
   "metadata": {},
   "source": [
    "### 7.\tWrite inferences from data on binary variables. "
   ]
  },
  {
   "cell_type": "markdown",
   "metadata": {},
   "source": [
    "•\t“ps_ind_10_bin”, “ps_ind_11_bin”, “ps_ind_12_bin”, “ps_ind_13_bin” have very low variance.\n",
    "\n",
    "•\t“ps_ind_06_bin” and “ps_ind_07_bin” are significantly correlated."
   ]
  },
  {
   "cell_type": "code",
   "execution_count": null,
   "metadata": {},
   "outputs": [],
   "source": [
    "#Handling Categorical Variables\n",
    "#Creating dummy variables using get_dummies\n",
    "\n",
    "#Creating list of categorical variables\n",
    "\n",
    "cat_feat = MetaData[(MetaData.level == 'categorical') & (MetaData.keep == True)].variable\n",
    "\n",
    "#Creating dummy variables of categorical variables except variable - ps_car_11_cat as it conatins more than 100 categories\n",
    "\n",
    "v = MetaData[(MetaData.level == 'categorical') & (MetaData.keep)].variable\n",
    "v = [w for w in list(v) if w!='id' and w!='ps_car_11_cat']\n",
    "\n",
    "#Printing number of variables before and after dummification\n",
    "\n",
    "print('Before dummification we have {} variables in train'.format(train7.shape[1]))\n",
    "train8 = pd.get_dummies(train4, columns=v, drop_first=True)\n",
    "print('After dummification we have {} variables in train'.format(train8.shape[1]))"
   ]
  },
  {
   "cell_type": "markdown",
   "metadata": {},
   "source": [
    "### 16. Implement Hot Encoding for categorical features "
   ]
  },
  {
   "cell_type": "markdown",
   "metadata": {},
   "source": [
    "write the answer"
   ]
  },
  {
   "cell_type": "code",
   "execution_count": null,
   "metadata": {},
   "outputs": [],
   "source": []
  },
  {
   "cell_type": "code",
   "execution_count": null,
   "metadata": {},
   "outputs": [],
   "source": [
    "#Splitting\n",
    "X_train, X_test, y_train, y_test = train_test_split(train8.drop(['target', 'id'], axis=1),\n",
    "                                                    train8['target'].astype(int), \n",
    "                                                    test_size=0.30, \n",
    "                                                    random_state=101)"
   ]
  },
  {
   "cell_type": "code",
   "execution_count": null,
   "metadata": {},
   "outputs": [],
   "source": [
    "df_train_temp = X_train\n",
    "df_train_temp['target'] = y_train"
   ]
  },
  {
   "cell_type": "code",
   "execution_count": null,
   "metadata": {},
   "outputs": [],
   "source": [
    "df_train_temp.shape"
   ]
  },
  {
   "cell_type": "markdown",
   "metadata": {},
   "source": [
    "### 9.\tWhat should be the preferred way in this case to balance the data? "
   ]
  },
  {
   "cell_type": "markdown",
   "metadata": {},
   "source": [
    "Need to do upscaling/down sampling after train-test split of data to get the desired results"
   ]
  },
  {
   "cell_type": "code",
   "execution_count": null,
   "metadata": {},
   "outputs": [],
   "source": [
    "df_sampled = up_and_down_sampling(df_train_temp,20)\n",
    "X_train_res = df_sampled.drop('target', axis = 1)\n",
    "y_train_res = df_sampled.target"
   ]
  },
  {
   "cell_type": "code",
   "execution_count": null,
   "metadata": {},
   "outputs": [],
   "source": [
    "test_sampled = up_and_down_sampling(df_train_temp,12)"
   ]
  },
  {
   "cell_type": "markdown",
   "metadata": {},
   "source": [
    "### 10.\tHow many training records are there after achieving a balance of 12%? "
   ]
  },
  {
   "attachments": {
    "image.png": {
     "image/png": "[encoded data removed]"
    }
   },
   "cell_type": "markdown",
   "metadata": {},
   "source": [
    "To obtain a balance between majority and minority class, we used sampling techniques. After sampling there are there are 416648 rows in which 3,66,650 are 0s and 49,997 are 1s\n",
    "\n",
    "![image.png](attachment:image.png)"
   ]
  },
  {
   "cell_type": "markdown",
   "metadata": {},
   "source": [
    "## Feature Scaling"
   ]
  },
  {
   "cell_type": "code",
   "execution_count": null,
   "metadata": {},
   "outputs": [],
   "source": [
    "mms = StandardScaler()\n",
    "X_train_res_scaled = mms.fit_transform(X_train_res)\n",
    "#y_train_res_scaled = mms.fit_transform(y_train_res)"
   ]
  },
  {
   "cell_type": "markdown",
   "metadata": {},
   "source": [
    "### 17.\tIn nominal(categorical) and interval features, which features are suitable for StandardScaler? "
   ]
  },
  {
   "cell_type": "markdown",
   "metadata": {},
   "source": [
    "write the answer"
   ]
  },
  {
   "cell_type": "markdown",
   "metadata": {},
   "source": [
    "# Model Building"
   ]
  },
  {
   "cell_type": "markdown",
   "metadata": {},
   "source": [
    "## Logistic Regression"
   ]
  },
  {
   "cell_type": "code",
   "execution_count": null,
   "metadata": {},
   "outputs": [],
   "source": [
    "lm = LogisticRegression()\n",
    "logistic_model = lm.fit(X_train_res, y_train_res)\n",
    "predictions_LM = logistic_model.predict(X_test)\n",
    "print(' Classification Report of Logistic Regression is: \\n')\n",
    "CR_LM = classification_report(y_test,predictions_LM) \n",
    "print(CR_LM)\n",
    "\n",
    "print('Confusion Matrix Logistic Regression is : \\n')\n",
    "print(confusion_matrix(y_test,predictions_LM))\n",
    "print(f1_score(y_test, predictions_LM))"
   ]
  },
  {
   "cell_type": "markdown",
   "metadata": {},
   "source": [
    "### 1.\tThe Simple Logistic Regression Model seems to have high accuracy. Is that what we need at all? What is the problem with this model?\n"
   ]
  },
  {
   "cell_type": "markdown",
   "metadata": {},
   "source": [
    "Simple Logistic Regression Model seems to high accuracy but Logistic regression is a linear model, so it may not work well on non-linear cases. In terms of model complexity, logistic regression has high bias and low variance. So, it might work well if you handle the outliers well but after model deployment, we cannot rely on the predictions because of the high bias and low variance characteristics of Logistic Regression.\n"
   ]
  },
  {
   "cell_type": "markdown",
   "metadata": {},
   "source": [
    "### 2.\tWhy do you think f1-score is 0.0?"
   ]
  },
  {
   "cell_type": "markdown",
   "metadata": {},
   "source": [
    "Write the answer"
   ]
  },
  {
   "cell_type": "markdown",
   "metadata": {},
   "source": []
  },
  {
   "cell_type": "markdown",
   "metadata": {},
   "source": [
    "## Random Forest"
   ]
  },
  {
   "cell_type": "code",
   "execution_count": null,
   "metadata": {},
   "outputs": [],
   "source": [
    "clf_RF = RandomForestClassifier(n_estimators=25, class_weight=\"balanced\")\n",
    "clf_RF.fit(X_train_res,y_train_res)\n",
    "predictions_RF = clf_RF.predict(X_test)\n",
    "\n",
    "print(' Classification Report of RandomForest Classifier is: \\n')\n",
    "CR_RF = classification_report(y_test,predictions_RF) \n",
    "print(CR_RF)\n",
    "\n",
    "print('Confusion matrix of RandomForest Classifier is: \\n')\n",
    "print(confusion_matrix(y_test,predictions_RF))\n",
    "print(f1_score(y_test, predictions_RF))"
   ]
  },
  {
   "cell_type": "markdown",
   "metadata": {},
   "source": [
    "### 3.\tWhat is the precision and recall score for the model?"
   ]
  },
  {
   "attachments": {
    "image.png": {
     "image/png": "[encoded data removed]"
    }
   },
   "cell_type": "markdown",
   "metadata": {},
   "source": [
    "I have opted for Random Forest Classifier. So, the precision and recall score for my model are\n",
    "\n",
    "![image.png](attachment:image.png)"
   ]
  },
  {
   "cell_type": "markdown",
   "metadata": {},
   "source": [
    "### 4.\tWhat is the most important inference you can draw from the result?"
   ]
  },
  {
   "cell_type": "markdown",
   "metadata": {},
   "source": [
    "write the answer"
   ]
  },
  {
   "cell_type": "markdown",
   "metadata": {},
   "source": [
    "### 5.\tWhy do you think f1-score has improved?"
   ]
  },
  {
   "cell_type": "markdown",
   "metadata": {},
   "source": [
    "write the answer"
   ]
  },
  {
   "cell_type": "markdown",
   "metadata": {},
   "source": [
    "## Linear Support Vector Classifier - (dual = True and max_iter = 500)"
   ]
  },
  {
   "cell_type": "code",
   "execution_count": null,
   "metadata": {},
   "outputs": [],
   "source": [
    "clf_LSVC_1 = LinearSVC(dual = True , max_iter = 500)\n",
    "clf_LSVC_1.fit(X_train_res , y_train_res)\n",
    "predictions_LSVC_1 = clf_LSVC_1.predict(X_test)\n",
    "\n",
    "print(' Classification Report of  Linear Support Vector Classifier is: \\n')\n",
    "CR_LSVC_1 = classification_report(y_test,predictions_LSVC_1) \n",
    "print(CR_LSVC_1)\n",
    "\n",
    "print('Confusion Matrix Linear Support Vector Classifier is: \\n')\n",
    "print(confusion_matrix(y_test,predictions_LSVC_1))\n",
    "print(f1_score(y_test,predictions_LSVC_1))"
   ]
  },
  {
   "cell_type": "markdown",
   "metadata": {},
   "source": [
    "## Linear Support Vector Classifier - (dual = False and max_iter = 1000)"
   ]
  },
  {
   "cell_type": "code",
   "execution_count": null,
   "metadata": {},
   "outputs": [],
   "source": [
    "clf_LSVC_2 = LinearSVC(dual = False , max_iter = 2000)\n",
    "clf_LSVC_2.fit(X_train_res , y_train_res)\n",
    "predictions_LSVC_2 = clf_LSVC_2.predict(X_test)\n",
    "\n",
    "print(' Classification Report of  RandomForest Classifier is: \\n')\n",
    "CR_LSVC_2 = classification_report(y_test,predictions_LSVC_2) \n",
    "print(CR_LSVC_2)\n",
    "\n",
    "print('Confusion Matrix Linear Support Vector Classifier is: \\n')\n",
    "print(confusion_matrix(y_test,predictions_LSVC_2))\n",
    "print(f1_score(y_test,predictions_LSVC_2))"
   ]
  },
  {
   "cell_type": "markdown",
   "metadata": {},
   "source": [
    "### 6.\tFor model LinearSVC play with parameters – dual, max_iter and see if there is any improvement."
   ]
  },
  {
   "cell_type": "markdown",
   "metadata": {},
   "source": [
    "Didn’t find any improvement after tweaking the parameters."
   ]
  },
  {
   "cell_type": "code",
   "execution_count": null,
   "metadata": {},
   "outputs": [],
   "source": []
  },
  {
   "cell_type": "code",
   "execution_count": null,
   "metadata": {},
   "outputs": [],
   "source": []
  },
  {
   "cell_type": "markdown",
   "metadata": {},
   "source": [
    "## SVM with Only 100k records"
   ]
  },
  {
   "cell_type": "code",
   "execution_count": null,
   "metadata": {},
   "outputs": [],
   "source": [
    "train8.shape"
   ]
  },
  {
   "cell_type": "code",
   "execution_count": null,
   "metadata": {},
   "outputs": [],
   "source": [
    "train9 = train8[:100000]\n",
    "train9.shape"
   ]
  },
  {
   "cell_type": "code",
   "execution_count": null,
   "metadata": {},
   "outputs": [],
   "source": [
    "X_train, X_test, y_train, y_test = train_test_split(train9.drop(['target', 'id'], axis=1),\n",
    "                                                    train9['target'].astype(int), \n",
    "                                                    test_size=0.30, \n",
    "                                                    random_state=101)"
   ]
  },
  {
   "cell_type": "code",
   "execution_count": null,
   "metadata": {},
   "outputs": [],
   "source": [
    "df_train_temp = X_train\n",
    "df_train_temp['target'] = y_train"
   ]
  },
  {
   "cell_type": "code",
   "execution_count": null,
   "metadata": {},
   "outputs": [],
   "source": [
    "train9['target'].hist()"
   ]
  },
  {
   "cell_type": "code",
   "execution_count": null,
   "metadata": {},
   "outputs": [],
   "source": [
    "#upsampling and downsampling\n",
    "df_upsampled_SVM = up_and_down_sampling(train6, 20)\n",
    "X_train_res_SVM = df_upsampled_SVM.drop('target', axis = 1)\n",
    "y_train_res_SVM = df_upsampled_SVM.target"
   ]
  },
  {
   "cell_type": "code",
   "execution_count": null,
   "metadata": {},
   "outputs": [],
   "source": [
    "from sklearn import svm\n",
    "\n",
    "clf_SVC = svm.SVC()\n",
    "clf_SVC.fit(X_train_res_SVM , y_train_res_SVM)\n",
    "predictions_SVC = clf_SVC.predict(X_test)\n",
    "\n",
    "print(' Classification Report of  SVC with only 100k records is: \\n')\n",
    "CR_XGB = classification_report(y_test,predictions_SVC) \n",
    "print(CR_XGB)\n",
    "\n",
    "print('Confusion Matrix SVC with only 100k records is: \\n')\n",
    "print(confusion_matrix(y_test,predictions_SVC))\n",
    "print(f1_score(y_test,predictions_SVC))"
   ]
  },
  {
   "cell_type": "markdown",
   "metadata": {},
   "source": [
    "### 7.\tSVC with Imbalance Check & Feature Optimization & only 100K Records → is there improvement in scores?"
   ]
  },
  {
   "cell_type": "markdown",
   "metadata": {},
   "source": [
    "The precision and recall scores for the target value ‘1’ became zero which implies the recall of the model is not good. This might because of the huge difference between the number of 0’s and 1’s in the target column."
   ]
  },
  {
   "cell_type": "markdown",
   "metadata": {},
   "source": [
    "## XGBoost Classifier "
   ]
  },
  {
   "cell_type": "code",
   "execution_count": null,
   "metadata": {},
   "outputs": [],
   "source": [
    "clf_XGB = XGBClassifier()\n",
    "clf_XGB.fit(X_train_res , y_train_res)\n",
    "predictions_XGB = clf_XGB.predict(X_test)\n",
    "\n",
    "print(' Classification Report of  XGBClassifier is: \\n')\n",
    "CR_XGB = classification_report(y_test,predictions_XGB) \n",
    "print(CR_XGB)\n",
    "\n",
    "print('Confusion Matrix XGBClassifier is: \\n')\n",
    "print(confusion_matrix(y_test,predictions_XGB))\n",
    "print(f1_score(y_test,predictions_XGB))"
   ]
  },
  {
   "cell_type": "markdown",
   "metadata": {},
   "source": [
    "### 8. XGBoost is one the better classifiers -- but still f1-score is very low. What could be the reason? "
   ]
  },
  {
   "cell_type": "markdown",
   "metadata": {},
   "source": [
    "F1-score is not low for my model. Instead Gradient Boosting gives low f1-scores \n",
    "\n",
    "•\tOverfitting \n",
    "\n",
    "•\tImproper Hyperparameter tuning\n",
    "\n",
    "Gradient Boosting trees build one tree at a time and each newly added tree helps to correct errors made by previously trained tree. There are typically three parameters – number of trees, depth of tree and learning rate. Gradient boosting trees are more prone to overfitting since it requires a lot of hyperparameter tuning.\n"
   ]
  },
  {
   "cell_type": "markdown",
   "metadata": {},
   "source": [
    "# run xgb for df which doesnt have get dummies or one hot encoding"
   ]
  },
  {
   "cell_type": "markdown",
   "metadata": {},
   "source": [
    "### 9.\tWhat is the increase in number of features after one-hot encoding of the data?"
   ]
  },
  {
   "cell_type": "markdown",
   "metadata": {},
   "source": [
    "The increase in the features is "
   ]
  },
  {
   "cell_type": "markdown",
   "metadata": {},
   "source": [
    "### 10.\tIs there any improvement in scores after encoding?"
   ]
  },
  {
   "cell_type": "markdown",
   "metadata": {},
   "source": [
    "write the answer"
   ]
  },
  {
   "cell_type": "markdown",
   "metadata": {},
   "source": [
    "### 11.\tIf not missing a positive sample is the priority which model is best so far? "
   ]
  },
  {
   "cell_type": "markdown",
   "metadata": {},
   "source": [
    "write the answer"
   ]
  },
  {
   "cell_type": "markdown",
   "metadata": {},
   "source": [
    "### 12.\tIf not marking negative sample as positive is top priority, which model is best so far? "
   ]
  },
  {
   "cell_type": "markdown",
   "metadata": {},
   "source": [
    "write the answer"
   ]
  },
  {
   "cell_type": "code",
   "execution_count": null,
   "metadata": {},
   "outputs": [],
   "source": []
  },
  {
   "cell_type": "markdown",
   "metadata": {},
   "source": [
    "## Adaboost"
   ]
  },
  {
   "cell_type": "markdown",
   "metadata": {},
   "source": [
    "run adaboost and show the results"
   ]
  },
  {
   "cell_type": "markdown",
   "metadata": {},
   "source": [
    "### 13.\tDo you think using AdaBoost can give any significant improvement over XGBoost? "
   ]
  },
  {
   "cell_type": "markdown",
   "metadata": {},
   "source": [
    "There will be a significant improvement but XG boost performs better than Adaboost in most of the cases as it can handle large amounts of data."
   ]
  },
  {
   "cell_type": "code",
   "execution_count": null,
   "metadata": {},
   "outputs": [],
   "source": []
  },
  {
   "cell_type": "markdown",
   "metadata": {},
   "source": [
    "## Multi Layer Perceptron Classifier"
   ]
  },
  {
   "cell_type": "code",
   "execution_count": null,
   "metadata": {},
   "outputs": [],
   "source": [
    "'''#Training the MLP classifier with only 100k records since training the model with full dataset requires high computational power\n",
    "from sklearn.neural_network import MLPClassifier\n",
    "\n",
    "clf_MLP = MLPClassifier()'''"
   ]
  },
  {
   "cell_type": "code",
   "execution_count": null,
   "metadata": {},
   "outputs": [],
   "source": [
    "'''from sklearn.model_selection import GridSearchCV\n",
    "hidden_layer_sizes = [[20] , [40,20] , [40,20,10]]\n",
    "activation = ['logistic' , 'relu']\n",
    "param_grid = dict(hidden_layer_sizes = hidden_layer_sizes , activation  = activation , batch_size = [10000,15000])\n",
    "grid = GridSearchCV(estimator = clf_MLP , param_grid = param_grid)'''"
   ]
  },
  {
   "cell_type": "code",
   "execution_count": null,
   "metadata": {},
   "outputs": [],
   "source": [
    "'''grid_result = grid.fit(X_train,y_train)'''"
   ]
  },
  {
   "cell_type": "code",
   "execution_count": null,
   "metadata": {},
   "outputs": [],
   "source": [
    "'''grid_result.best_score_,grid_result.best_params_'''"
   ]
  },
  {
   "cell_type": "markdown",
   "metadata": {},
   "source": [
    "### 14.\tMLPClassifier is the neural network we are trying. But how to choose the right no. of layers and size? "
   ]
  },
  {
   "cell_type": "markdown",
   "metadata": {},
   "source": [
    "We can use GridSearchCV, RandomizedSearchCV ,etc.. to find the best parameters for the MLP classifier. But if the dataset is large, it takes a lot of time (if you have less computational power) to get the best parameters."
   ]
  },
  {
   "cell_type": "markdown",
   "metadata": {},
   "source": [
    "### 15.\tAt what layer size we get the best f1-score?"
   ]
  },
  {
   "cell_type": "markdown",
   "metadata": {},
   "source": [
    "At one hidden layer with a size of 20 neurons , I got the best f1 score."
   ]
  },
  {
   "cell_type": "code",
   "execution_count": null,
   "metadata": {},
   "outputs": [],
   "source": []
  }
 ],
 "metadata": {
  "kernelspec": {
   "display_name": "Python 3",
   "language": "python",
   "name": "python3"
  },
  "language_info": {
   "codemirror_mode": {
    "name": "ipython",
    "version": 3
   },
   "file_extension": ".py",
   "mimetype": "text/x-python",
   "name": "python",
   "nbconvert_exporter": "python",
   "pygments_lexer": "ipython3",
   "version": "3.7.3"
  }
 },
 "nbformat": 4,
 "nbformat_minor": 2
}
